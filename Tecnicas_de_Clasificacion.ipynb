{
  "nbformat": 4,
  "nbformat_minor": 0,
  "metadata": {
    "colab": {
      "provenance": [],
      "include_colab_link": true
    },
    "kernelspec": {
      "name": "python3",
      "display_name": "Python 3"
    },
    "language_info": {
      "name": "python"
    }
  },
  "cells": [
    {
      "cell_type": "markdown",
      "metadata": {
        "id": "view-in-github",
        "colab_type": "text"
      },
      "source": [
        "<a href=\"https://colab.research.google.com/github/AdrianCPC/Bases_clasificacion_ML/blob/main/Tecnicas_de_Clasificacion.ipynb\" target=\"_parent\"><img src=\"https://colab.research.google.com/assets/colab-badge.svg\" alt=\"Open In Colab\"/></a>"
      ]
    },
    {
      "cell_type": "markdown",
      "source": [
        "# **Machine Learning: Clasificación entre Bastidores**\n",
        "\n",
        "En este notebook estaremos desarrollando varias técnicas de clasificación para un conjunto de datos de una empresa de telecomunicaciones.\n",
        "\n",
        "En caso de que desees consultar el dataset original, este se encuentra en el siguiente enlace:\n",
        "https://www.kaggle.com/datasets/mnassrib/telecom-churn-datasets?select=churn-bigml-20.csv"
      ],
      "metadata": {
        "id": "hvMNh3RDG2zs"
      }
    },
    {
      "cell_type": "markdown",
      "source": [
        "## Aula 1"
      ],
      "metadata": {
        "id": "YJ89h20BIKmV"
      }
    },
    {
      "cell_type": "markdown",
      "source": [
        "### 1.2 Importando los datos"
      ],
      "metadata": {
        "id": "H1J-9b_OIN1M"
      }
    },
    {
      "cell_type": "code",
      "source": [
        "from google.colab import drive\n",
        "drive.mount('/content/drive')"
      ],
      "metadata": {
        "id": "lKEO4Uw7Ghng",
        "colab": {
          "base_uri": "https://localhost:8080/"
        },
        "outputId": "c454af17-ed98-4c3f-9e33-12f63b62143b"
      },
      "execution_count": 2,
      "outputs": [
        {
          "output_type": "stream",
          "name": "stdout",
          "text": [
            "Drive already mounted at /content/drive; to attempt to forcibly remount, call drive.mount(\"/content/drive\", force_remount=True).\n"
          ]
        }
      ]
    },
    {
      "cell_type": "code",
      "source": [
        "import pandas as pd\n",
        "\n",
        "\n",
        "datos = pd.read_csv('/content/drive/MyDrive/customer_churn.csv')\n",
        "datos.head()\n"
      ],
      "metadata": {
        "id": "9igD3FTOGhqI",
        "colab": {
          "base_uri": "https://localhost:8080/",
          "height": 270
        },
        "outputId": "9a81d06a-8847-4a32-b7f3-143b95badc31"
      },
      "execution_count": 3,
      "outputs": [
        {
          "output_type": "execute_result",
          "data": {
            "text/plain": [
              "   Mayor65Anos Conyuge Dependientes  MesesDeContrato TelefonoFijo  \\\n",
              "0            0      Si           No                1           No   \n",
              "1            0      No           No               34           Si   \n",
              "2            0      No           No                2           Si   \n",
              "3            0      No           No               45           No   \n",
              "4            0      No           No                2           Si   \n",
              "\n",
              "  VariasLineasTelefonicas ServicioDeInternet SeguridadOnline BackupOnline  \\\n",
              "0   SinServicioTelefonico                DSL              No           Si   \n",
              "1                      No                DSL              Si           No   \n",
              "2                      No                DSL              Si           Si   \n",
              "3   SinServicioTelefonico                DSL              Si           No   \n",
              "4                      No        FibraOptica              No           No   \n",
              "\n",
              "  SeguroEnDispositivo SoporteTecnico TVaCable StreamingDePeliculas  \\\n",
              "0                  No             No       No                   No   \n",
              "1                  Si             No       No                   No   \n",
              "2                  No             No       No                   No   \n",
              "3                  Si             Si       No                   No   \n",
              "4                  No             No       No                   No   \n",
              "\n",
              "  TipoDeContrato PagoOnline       FormaDePago  CuentaMensual Churn  \n",
              "0        Mensual         Si     ChequeDigital          29.85    No  \n",
              "1          Anual         No       ChequePapel          56.95    No  \n",
              "2        Mensual         Si       ChequePapel          53.85    Si  \n",
              "3          Anual         No  DebitoAutomatico          42.30    No  \n",
              "4        Mensual         Si     ChequeDigital          70.70    Si  "
            ],
            "text/html": [
              "\n",
              "\n",
              "  <div id=\"df-97149213-1111-4cd5-8e83-8bf473271bba\">\n",
              "    <div class=\"colab-df-container\">\n",
              "      <div>\n",
              "<style scoped>\n",
              "    .dataframe tbody tr th:only-of-type {\n",
              "        vertical-align: middle;\n",
              "    }\n",
              "\n",
              "    .dataframe tbody tr th {\n",
              "        vertical-align: top;\n",
              "    }\n",
              "\n",
              "    .dataframe thead th {\n",
              "        text-align: right;\n",
              "    }\n",
              "</style>\n",
              "<table border=\"1\" class=\"dataframe\">\n",
              "  <thead>\n",
              "    <tr style=\"text-align: right;\">\n",
              "      <th></th>\n",
              "      <th>Mayor65Anos</th>\n",
              "      <th>Conyuge</th>\n",
              "      <th>Dependientes</th>\n",
              "      <th>MesesDeContrato</th>\n",
              "      <th>TelefonoFijo</th>\n",
              "      <th>VariasLineasTelefonicas</th>\n",
              "      <th>ServicioDeInternet</th>\n",
              "      <th>SeguridadOnline</th>\n",
              "      <th>BackupOnline</th>\n",
              "      <th>SeguroEnDispositivo</th>\n",
              "      <th>SoporteTecnico</th>\n",
              "      <th>TVaCable</th>\n",
              "      <th>StreamingDePeliculas</th>\n",
              "      <th>TipoDeContrato</th>\n",
              "      <th>PagoOnline</th>\n",
              "      <th>FormaDePago</th>\n",
              "      <th>CuentaMensual</th>\n",
              "      <th>Churn</th>\n",
              "    </tr>\n",
              "  </thead>\n",
              "  <tbody>\n",
              "    <tr>\n",
              "      <th>0</th>\n",
              "      <td>0</td>\n",
              "      <td>Si</td>\n",
              "      <td>No</td>\n",
              "      <td>1</td>\n",
              "      <td>No</td>\n",
              "      <td>SinServicioTelefonico</td>\n",
              "      <td>DSL</td>\n",
              "      <td>No</td>\n",
              "      <td>Si</td>\n",
              "      <td>No</td>\n",
              "      <td>No</td>\n",
              "      <td>No</td>\n",
              "      <td>No</td>\n",
              "      <td>Mensual</td>\n",
              "      <td>Si</td>\n",
              "      <td>ChequeDigital</td>\n",
              "      <td>29.85</td>\n",
              "      <td>No</td>\n",
              "    </tr>\n",
              "    <tr>\n",
              "      <th>1</th>\n",
              "      <td>0</td>\n",
              "      <td>No</td>\n",
              "      <td>No</td>\n",
              "      <td>34</td>\n",
              "      <td>Si</td>\n",
              "      <td>No</td>\n",
              "      <td>DSL</td>\n",
              "      <td>Si</td>\n",
              "      <td>No</td>\n",
              "      <td>Si</td>\n",
              "      <td>No</td>\n",
              "      <td>No</td>\n",
              "      <td>No</td>\n",
              "      <td>Anual</td>\n",
              "      <td>No</td>\n",
              "      <td>ChequePapel</td>\n",
              "      <td>56.95</td>\n",
              "      <td>No</td>\n",
              "    </tr>\n",
              "    <tr>\n",
              "      <th>2</th>\n",
              "      <td>0</td>\n",
              "      <td>No</td>\n",
              "      <td>No</td>\n",
              "      <td>2</td>\n",
              "      <td>Si</td>\n",
              "      <td>No</td>\n",
              "      <td>DSL</td>\n",
              "      <td>Si</td>\n",
              "      <td>Si</td>\n",
              "      <td>No</td>\n",
              "      <td>No</td>\n",
              "      <td>No</td>\n",
              "      <td>No</td>\n",
              "      <td>Mensual</td>\n",
              "      <td>Si</td>\n",
              "      <td>ChequePapel</td>\n",
              "      <td>53.85</td>\n",
              "      <td>Si</td>\n",
              "    </tr>\n",
              "    <tr>\n",
              "      <th>3</th>\n",
              "      <td>0</td>\n",
              "      <td>No</td>\n",
              "      <td>No</td>\n",
              "      <td>45</td>\n",
              "      <td>No</td>\n",
              "      <td>SinServicioTelefonico</td>\n",
              "      <td>DSL</td>\n",
              "      <td>Si</td>\n",
              "      <td>No</td>\n",
              "      <td>Si</td>\n",
              "      <td>Si</td>\n",
              "      <td>No</td>\n",
              "      <td>No</td>\n",
              "      <td>Anual</td>\n",
              "      <td>No</td>\n",
              "      <td>DebitoAutomatico</td>\n",
              "      <td>42.30</td>\n",
              "      <td>No</td>\n",
              "    </tr>\n",
              "    <tr>\n",
              "      <th>4</th>\n",
              "      <td>0</td>\n",
              "      <td>No</td>\n",
              "      <td>No</td>\n",
              "      <td>2</td>\n",
              "      <td>Si</td>\n",
              "      <td>No</td>\n",
              "      <td>FibraOptica</td>\n",
              "      <td>No</td>\n",
              "      <td>No</td>\n",
              "      <td>No</td>\n",
              "      <td>No</td>\n",
              "      <td>No</td>\n",
              "      <td>No</td>\n",
              "      <td>Mensual</td>\n",
              "      <td>Si</td>\n",
              "      <td>ChequeDigital</td>\n",
              "      <td>70.70</td>\n",
              "      <td>Si</td>\n",
              "    </tr>\n",
              "  </tbody>\n",
              "</table>\n",
              "</div>\n",
              "      <button class=\"colab-df-convert\" onclick=\"convertToInteractive('df-97149213-1111-4cd5-8e83-8bf473271bba')\"\n",
              "              title=\"Convert this dataframe to an interactive table.\"\n",
              "              style=\"display:none;\">\n",
              "\n",
              "  <svg xmlns=\"http://www.w3.org/2000/svg\" height=\"24px\"viewBox=\"0 0 24 24\"\n",
              "       width=\"24px\">\n",
              "    <path d=\"M0 0h24v24H0V0z\" fill=\"none\"/>\n",
              "    <path d=\"M18.56 5.44l.94 2.06.94-2.06 2.06-.94-2.06-.94-.94-2.06-.94 2.06-2.06.94zm-11 1L8.5 8.5l.94-2.06 2.06-.94-2.06-.94L8.5 2.5l-.94 2.06-2.06.94zm10 10l.94 2.06.94-2.06 2.06-.94-2.06-.94-.94-2.06-.94 2.06-2.06.94z\"/><path d=\"M17.41 7.96l-1.37-1.37c-.4-.4-.92-.59-1.43-.59-.52 0-1.04.2-1.43.59L10.3 9.45l-7.72 7.72c-.78.78-.78 2.05 0 2.83L4 21.41c.39.39.9.59 1.41.59.51 0 1.02-.2 1.41-.59l7.78-7.78 2.81-2.81c.8-.78.8-2.07 0-2.86zM5.41 20L4 18.59l7.72-7.72 1.47 1.35L5.41 20z\"/>\n",
              "  </svg>\n",
              "      </button>\n",
              "\n",
              "\n",
              "\n",
              "    <div id=\"df-c99c8abe-fa60-4b6f-89f4-26748d5e819f\">\n",
              "      <button class=\"colab-df-quickchart\" onclick=\"quickchart('df-c99c8abe-fa60-4b6f-89f4-26748d5e819f')\"\n",
              "              title=\"Suggest charts.\"\n",
              "              style=\"display:none;\">\n",
              "\n",
              "<svg xmlns=\"http://www.w3.org/2000/svg\" height=\"24px\"viewBox=\"0 0 24 24\"\n",
              "     width=\"24px\">\n",
              "    <g>\n",
              "        <path d=\"M19 3H5c-1.1 0-2 .9-2 2v14c0 1.1.9 2 2 2h14c1.1 0 2-.9 2-2V5c0-1.1-.9-2-2-2zM9 17H7v-7h2v7zm4 0h-2V7h2v10zm4 0h-2v-4h2v4z\"/>\n",
              "    </g>\n",
              "</svg>\n",
              "      </button>\n",
              "    </div>\n",
              "\n",
              "<style>\n",
              "  .colab-df-quickchart {\n",
              "    background-color: #E8F0FE;\n",
              "    border: none;\n",
              "    border-radius: 50%;\n",
              "    cursor: pointer;\n",
              "    display: none;\n",
              "    fill: #1967D2;\n",
              "    height: 32px;\n",
              "    padding: 0 0 0 0;\n",
              "    width: 32px;\n",
              "  }\n",
              "\n",
              "  .colab-df-quickchart:hover {\n",
              "    background-color: #E2EBFA;\n",
              "    box-shadow: 0px 1px 2px rgba(60, 64, 67, 0.3), 0px 1px 3px 1px rgba(60, 64, 67, 0.15);\n",
              "    fill: #174EA6;\n",
              "  }\n",
              "\n",
              "  [theme=dark] .colab-df-quickchart {\n",
              "    background-color: #3B4455;\n",
              "    fill: #D2E3FC;\n",
              "  }\n",
              "\n",
              "  [theme=dark] .colab-df-quickchart:hover {\n",
              "    background-color: #434B5C;\n",
              "    box-shadow: 0px 1px 3px 1px rgba(0, 0, 0, 0.15);\n",
              "    filter: drop-shadow(0px 1px 2px rgba(0, 0, 0, 0.3));\n",
              "    fill: #FFFFFF;\n",
              "  }\n",
              "</style>\n",
              "\n",
              "    <script>\n",
              "      async function quickchart(key) {\n",
              "        const containerElement = document.querySelector('#' + key);\n",
              "        const charts = await google.colab.kernel.invokeFunction(\n",
              "            'suggestCharts', [key], {});\n",
              "      }\n",
              "    </script>\n",
              "\n",
              "      <script>\n",
              "\n",
              "function displayQuickchartButton(domScope) {\n",
              "  let quickchartButtonEl =\n",
              "    domScope.querySelector('#df-c99c8abe-fa60-4b6f-89f4-26748d5e819f button.colab-df-quickchart');\n",
              "  quickchartButtonEl.style.display =\n",
              "    google.colab.kernel.accessAllowed ? 'block' : 'none';\n",
              "}\n",
              "\n",
              "        displayQuickchartButton(document);\n",
              "      </script>\n",
              "      <style>\n",
              "    .colab-df-container {\n",
              "      display:flex;\n",
              "      flex-wrap:wrap;\n",
              "      gap: 12px;\n",
              "    }\n",
              "\n",
              "    .colab-df-convert {\n",
              "      background-color: #E8F0FE;\n",
              "      border: none;\n",
              "      border-radius: 50%;\n",
              "      cursor: pointer;\n",
              "      display: none;\n",
              "      fill: #1967D2;\n",
              "      height: 32px;\n",
              "      padding: 0 0 0 0;\n",
              "      width: 32px;\n",
              "    }\n",
              "\n",
              "    .colab-df-convert:hover {\n",
              "      background-color: #E2EBFA;\n",
              "      box-shadow: 0px 1px 2px rgba(60, 64, 67, 0.3), 0px 1px 3px 1px rgba(60, 64, 67, 0.15);\n",
              "      fill: #174EA6;\n",
              "    }\n",
              "\n",
              "    [theme=dark] .colab-df-convert {\n",
              "      background-color: #3B4455;\n",
              "      fill: #D2E3FC;\n",
              "    }\n",
              "\n",
              "    [theme=dark] .colab-df-convert:hover {\n",
              "      background-color: #434B5C;\n",
              "      box-shadow: 0px 1px 3px 1px rgba(0, 0, 0, 0.15);\n",
              "      filter: drop-shadow(0px 1px 2px rgba(0, 0, 0, 0.3));\n",
              "      fill: #FFFFFF;\n",
              "    }\n",
              "  </style>\n",
              "\n",
              "      <script>\n",
              "        const buttonEl =\n",
              "          document.querySelector('#df-97149213-1111-4cd5-8e83-8bf473271bba button.colab-df-convert');\n",
              "        buttonEl.style.display =\n",
              "          google.colab.kernel.accessAllowed ? 'block' : 'none';\n",
              "\n",
              "        async function convertToInteractive(key) {\n",
              "          const element = document.querySelector('#df-97149213-1111-4cd5-8e83-8bf473271bba');\n",
              "          const dataTable =\n",
              "            await google.colab.kernel.invokeFunction('convertToInteractive',\n",
              "                                                     [key], {});\n",
              "          if (!dataTable) return;\n",
              "\n",
              "          const docLinkHtml = 'Like what you see? Visit the ' +\n",
              "            '<a target=\"_blank\" href=https://colab.research.google.com/notebooks/data_table.ipynb>data table notebook</a>'\n",
              "            + ' to learn more about interactive tables.';\n",
              "          element.innerHTML = '';\n",
              "          dataTable['output_type'] = 'display_data';\n",
              "          await google.colab.output.renderOutput(dataTable, element);\n",
              "          const docLink = document.createElement('div');\n",
              "          docLink.innerHTML = docLinkHtml;\n",
              "          element.appendChild(docLink);\n",
              "        }\n",
              "      </script>\n",
              "    </div>\n",
              "  </div>\n"
            ]
          },
          "metadata": {},
          "execution_count": 3
        }
      ]
    },
    {
      "cell_type": "code",
      "source": [
        "datos.shape"
      ],
      "metadata": {
        "id": "PoMdzkcuGiJE",
        "colab": {
          "base_uri": "https://localhost:8080/"
        },
        "outputId": "e83bdfd5-874e-4f0d-cc85-3012e1b277fd"
      },
      "execution_count": 4,
      "outputs": [
        {
          "output_type": "execute_result",
          "data": {
            "text/plain": [
              "(7043, 18)"
            ]
          },
          "metadata": {},
          "execution_count": 4
        }
      ]
    },
    {
      "cell_type": "markdown",
      "source": [
        "### 1.3 Tipos de variables"
      ],
      "metadata": {
        "id": "zc-qSI8yIVc7"
      }
    },
    {
      "cell_type": "code",
      "source": [
        "datos.head()"
      ],
      "metadata": {
        "id": "pcs68A9pGj3M",
        "colab": {
          "base_uri": "https://localhost:8080/",
          "height": 270
        },
        "outputId": "d3a34577-23bc-4882-9f06-7748e39f180a"
      },
      "execution_count": 5,
      "outputs": [
        {
          "output_type": "execute_result",
          "data": {
            "text/plain": [
              "   Mayor65Anos Conyuge Dependientes  MesesDeContrato TelefonoFijo  \\\n",
              "0            0      Si           No                1           No   \n",
              "1            0      No           No               34           Si   \n",
              "2            0      No           No                2           Si   \n",
              "3            0      No           No               45           No   \n",
              "4            0      No           No                2           Si   \n",
              "\n",
              "  VariasLineasTelefonicas ServicioDeInternet SeguridadOnline BackupOnline  \\\n",
              "0   SinServicioTelefonico                DSL              No           Si   \n",
              "1                      No                DSL              Si           No   \n",
              "2                      No                DSL              Si           Si   \n",
              "3   SinServicioTelefonico                DSL              Si           No   \n",
              "4                      No        FibraOptica              No           No   \n",
              "\n",
              "  SeguroEnDispositivo SoporteTecnico TVaCable StreamingDePeliculas  \\\n",
              "0                  No             No       No                   No   \n",
              "1                  Si             No       No                   No   \n",
              "2                  No             No       No                   No   \n",
              "3                  Si             Si       No                   No   \n",
              "4                  No             No       No                   No   \n",
              "\n",
              "  TipoDeContrato PagoOnline       FormaDePago  CuentaMensual Churn  \n",
              "0        Mensual         Si     ChequeDigital          29.85    No  \n",
              "1          Anual         No       ChequePapel          56.95    No  \n",
              "2        Mensual         Si       ChequePapel          53.85    Si  \n",
              "3          Anual         No  DebitoAutomatico          42.30    No  \n",
              "4        Mensual         Si     ChequeDigital          70.70    Si  "
            ],
            "text/html": [
              "\n",
              "\n",
              "  <div id=\"df-449ca1c6-8207-4b88-81a1-dccd497ce61c\">\n",
              "    <div class=\"colab-df-container\">\n",
              "      <div>\n",
              "<style scoped>\n",
              "    .dataframe tbody tr th:only-of-type {\n",
              "        vertical-align: middle;\n",
              "    }\n",
              "\n",
              "    .dataframe tbody tr th {\n",
              "        vertical-align: top;\n",
              "    }\n",
              "\n",
              "    .dataframe thead th {\n",
              "        text-align: right;\n",
              "    }\n",
              "</style>\n",
              "<table border=\"1\" class=\"dataframe\">\n",
              "  <thead>\n",
              "    <tr style=\"text-align: right;\">\n",
              "      <th></th>\n",
              "      <th>Mayor65Anos</th>\n",
              "      <th>Conyuge</th>\n",
              "      <th>Dependientes</th>\n",
              "      <th>MesesDeContrato</th>\n",
              "      <th>TelefonoFijo</th>\n",
              "      <th>VariasLineasTelefonicas</th>\n",
              "      <th>ServicioDeInternet</th>\n",
              "      <th>SeguridadOnline</th>\n",
              "      <th>BackupOnline</th>\n",
              "      <th>SeguroEnDispositivo</th>\n",
              "      <th>SoporteTecnico</th>\n",
              "      <th>TVaCable</th>\n",
              "      <th>StreamingDePeliculas</th>\n",
              "      <th>TipoDeContrato</th>\n",
              "      <th>PagoOnline</th>\n",
              "      <th>FormaDePago</th>\n",
              "      <th>CuentaMensual</th>\n",
              "      <th>Churn</th>\n",
              "    </tr>\n",
              "  </thead>\n",
              "  <tbody>\n",
              "    <tr>\n",
              "      <th>0</th>\n",
              "      <td>0</td>\n",
              "      <td>Si</td>\n",
              "      <td>No</td>\n",
              "      <td>1</td>\n",
              "      <td>No</td>\n",
              "      <td>SinServicioTelefonico</td>\n",
              "      <td>DSL</td>\n",
              "      <td>No</td>\n",
              "      <td>Si</td>\n",
              "      <td>No</td>\n",
              "      <td>No</td>\n",
              "      <td>No</td>\n",
              "      <td>No</td>\n",
              "      <td>Mensual</td>\n",
              "      <td>Si</td>\n",
              "      <td>ChequeDigital</td>\n",
              "      <td>29.85</td>\n",
              "      <td>No</td>\n",
              "    </tr>\n",
              "    <tr>\n",
              "      <th>1</th>\n",
              "      <td>0</td>\n",
              "      <td>No</td>\n",
              "      <td>No</td>\n",
              "      <td>34</td>\n",
              "      <td>Si</td>\n",
              "      <td>No</td>\n",
              "      <td>DSL</td>\n",
              "      <td>Si</td>\n",
              "      <td>No</td>\n",
              "      <td>Si</td>\n",
              "      <td>No</td>\n",
              "      <td>No</td>\n",
              "      <td>No</td>\n",
              "      <td>Anual</td>\n",
              "      <td>No</td>\n",
              "      <td>ChequePapel</td>\n",
              "      <td>56.95</td>\n",
              "      <td>No</td>\n",
              "    </tr>\n",
              "    <tr>\n",
              "      <th>2</th>\n",
              "      <td>0</td>\n",
              "      <td>No</td>\n",
              "      <td>No</td>\n",
              "      <td>2</td>\n",
              "      <td>Si</td>\n",
              "      <td>No</td>\n",
              "      <td>DSL</td>\n",
              "      <td>Si</td>\n",
              "      <td>Si</td>\n",
              "      <td>No</td>\n",
              "      <td>No</td>\n",
              "      <td>No</td>\n",
              "      <td>No</td>\n",
              "      <td>Mensual</td>\n",
              "      <td>Si</td>\n",
              "      <td>ChequePapel</td>\n",
              "      <td>53.85</td>\n",
              "      <td>Si</td>\n",
              "    </tr>\n",
              "    <tr>\n",
              "      <th>3</th>\n",
              "      <td>0</td>\n",
              "      <td>No</td>\n",
              "      <td>No</td>\n",
              "      <td>45</td>\n",
              "      <td>No</td>\n",
              "      <td>SinServicioTelefonico</td>\n",
              "      <td>DSL</td>\n",
              "      <td>Si</td>\n",
              "      <td>No</td>\n",
              "      <td>Si</td>\n",
              "      <td>Si</td>\n",
              "      <td>No</td>\n",
              "      <td>No</td>\n",
              "      <td>Anual</td>\n",
              "      <td>No</td>\n",
              "      <td>DebitoAutomatico</td>\n",
              "      <td>42.30</td>\n",
              "      <td>No</td>\n",
              "    </tr>\n",
              "    <tr>\n",
              "      <th>4</th>\n",
              "      <td>0</td>\n",
              "      <td>No</td>\n",
              "      <td>No</td>\n",
              "      <td>2</td>\n",
              "      <td>Si</td>\n",
              "      <td>No</td>\n",
              "      <td>FibraOptica</td>\n",
              "      <td>No</td>\n",
              "      <td>No</td>\n",
              "      <td>No</td>\n",
              "      <td>No</td>\n",
              "      <td>No</td>\n",
              "      <td>No</td>\n",
              "      <td>Mensual</td>\n",
              "      <td>Si</td>\n",
              "      <td>ChequeDigital</td>\n",
              "      <td>70.70</td>\n",
              "      <td>Si</td>\n",
              "    </tr>\n",
              "  </tbody>\n",
              "</table>\n",
              "</div>\n",
              "      <button class=\"colab-df-convert\" onclick=\"convertToInteractive('df-449ca1c6-8207-4b88-81a1-dccd497ce61c')\"\n",
              "              title=\"Convert this dataframe to an interactive table.\"\n",
              "              style=\"display:none;\">\n",
              "\n",
              "  <svg xmlns=\"http://www.w3.org/2000/svg\" height=\"24px\"viewBox=\"0 0 24 24\"\n",
              "       width=\"24px\">\n",
              "    <path d=\"M0 0h24v24H0V0z\" fill=\"none\"/>\n",
              "    <path d=\"M18.56 5.44l.94 2.06.94-2.06 2.06-.94-2.06-.94-.94-2.06-.94 2.06-2.06.94zm-11 1L8.5 8.5l.94-2.06 2.06-.94-2.06-.94L8.5 2.5l-.94 2.06-2.06.94zm10 10l.94 2.06.94-2.06 2.06-.94-2.06-.94-.94-2.06-.94 2.06-2.06.94z\"/><path d=\"M17.41 7.96l-1.37-1.37c-.4-.4-.92-.59-1.43-.59-.52 0-1.04.2-1.43.59L10.3 9.45l-7.72 7.72c-.78.78-.78 2.05 0 2.83L4 21.41c.39.39.9.59 1.41.59.51 0 1.02-.2 1.41-.59l7.78-7.78 2.81-2.81c.8-.78.8-2.07 0-2.86zM5.41 20L4 18.59l7.72-7.72 1.47 1.35L5.41 20z\"/>\n",
              "  </svg>\n",
              "      </button>\n",
              "\n",
              "\n",
              "\n",
              "    <div id=\"df-805a1ed7-456b-49f4-8ace-28ed661e39a4\">\n",
              "      <button class=\"colab-df-quickchart\" onclick=\"quickchart('df-805a1ed7-456b-49f4-8ace-28ed661e39a4')\"\n",
              "              title=\"Suggest charts.\"\n",
              "              style=\"display:none;\">\n",
              "\n",
              "<svg xmlns=\"http://www.w3.org/2000/svg\" height=\"24px\"viewBox=\"0 0 24 24\"\n",
              "     width=\"24px\">\n",
              "    <g>\n",
              "        <path d=\"M19 3H5c-1.1 0-2 .9-2 2v14c0 1.1.9 2 2 2h14c1.1 0 2-.9 2-2V5c0-1.1-.9-2-2-2zM9 17H7v-7h2v7zm4 0h-2V7h2v10zm4 0h-2v-4h2v4z\"/>\n",
              "    </g>\n",
              "</svg>\n",
              "      </button>\n",
              "    </div>\n",
              "\n",
              "<style>\n",
              "  .colab-df-quickchart {\n",
              "    background-color: #E8F0FE;\n",
              "    border: none;\n",
              "    border-radius: 50%;\n",
              "    cursor: pointer;\n",
              "    display: none;\n",
              "    fill: #1967D2;\n",
              "    height: 32px;\n",
              "    padding: 0 0 0 0;\n",
              "    width: 32px;\n",
              "  }\n",
              "\n",
              "  .colab-df-quickchart:hover {\n",
              "    background-color: #E2EBFA;\n",
              "    box-shadow: 0px 1px 2px rgba(60, 64, 67, 0.3), 0px 1px 3px 1px rgba(60, 64, 67, 0.15);\n",
              "    fill: #174EA6;\n",
              "  }\n",
              "\n",
              "  [theme=dark] .colab-df-quickchart {\n",
              "    background-color: #3B4455;\n",
              "    fill: #D2E3FC;\n",
              "  }\n",
              "\n",
              "  [theme=dark] .colab-df-quickchart:hover {\n",
              "    background-color: #434B5C;\n",
              "    box-shadow: 0px 1px 3px 1px rgba(0, 0, 0, 0.15);\n",
              "    filter: drop-shadow(0px 1px 2px rgba(0, 0, 0, 0.3));\n",
              "    fill: #FFFFFF;\n",
              "  }\n",
              "</style>\n",
              "\n",
              "    <script>\n",
              "      async function quickchart(key) {\n",
              "        const containerElement = document.querySelector('#' + key);\n",
              "        const charts = await google.colab.kernel.invokeFunction(\n",
              "            'suggestCharts', [key], {});\n",
              "      }\n",
              "    </script>\n",
              "\n",
              "      <script>\n",
              "\n",
              "function displayQuickchartButton(domScope) {\n",
              "  let quickchartButtonEl =\n",
              "    domScope.querySelector('#df-805a1ed7-456b-49f4-8ace-28ed661e39a4 button.colab-df-quickchart');\n",
              "  quickchartButtonEl.style.display =\n",
              "    google.colab.kernel.accessAllowed ? 'block' : 'none';\n",
              "}\n",
              "\n",
              "        displayQuickchartButton(document);\n",
              "      </script>\n",
              "      <style>\n",
              "    .colab-df-container {\n",
              "      display:flex;\n",
              "      flex-wrap:wrap;\n",
              "      gap: 12px;\n",
              "    }\n",
              "\n",
              "    .colab-df-convert {\n",
              "      background-color: #E8F0FE;\n",
              "      border: none;\n",
              "      border-radius: 50%;\n",
              "      cursor: pointer;\n",
              "      display: none;\n",
              "      fill: #1967D2;\n",
              "      height: 32px;\n",
              "      padding: 0 0 0 0;\n",
              "      width: 32px;\n",
              "    }\n",
              "\n",
              "    .colab-df-convert:hover {\n",
              "      background-color: #E2EBFA;\n",
              "      box-shadow: 0px 1px 2px rgba(60, 64, 67, 0.3), 0px 1px 3px 1px rgba(60, 64, 67, 0.15);\n",
              "      fill: #174EA6;\n",
              "    }\n",
              "\n",
              "    [theme=dark] .colab-df-convert {\n",
              "      background-color: #3B4455;\n",
              "      fill: #D2E3FC;\n",
              "    }\n",
              "\n",
              "    [theme=dark] .colab-df-convert:hover {\n",
              "      background-color: #434B5C;\n",
              "      box-shadow: 0px 1px 3px 1px rgba(0, 0, 0, 0.15);\n",
              "      filter: drop-shadow(0px 1px 2px rgba(0, 0, 0, 0.3));\n",
              "      fill: #FFFFFF;\n",
              "    }\n",
              "  </style>\n",
              "\n",
              "      <script>\n",
              "        const buttonEl =\n",
              "          document.querySelector('#df-449ca1c6-8207-4b88-81a1-dccd497ce61c button.colab-df-convert');\n",
              "        buttonEl.style.display =\n",
              "          google.colab.kernel.accessAllowed ? 'block' : 'none';\n",
              "\n",
              "        async function convertToInteractive(key) {\n",
              "          const element = document.querySelector('#df-449ca1c6-8207-4b88-81a1-dccd497ce61c');\n",
              "          const dataTable =\n",
              "            await google.colab.kernel.invokeFunction('convertToInteractive',\n",
              "                                                     [key], {});\n",
              "          if (!dataTable) return;\n",
              "\n",
              "          const docLinkHtml = 'Like what you see? Visit the ' +\n",
              "            '<a target=\"_blank\" href=https://colab.research.google.com/notebooks/data_table.ipynb>data table notebook</a>'\n",
              "            + ' to learn more about interactive tables.';\n",
              "          element.innerHTML = '';\n",
              "          dataTable['output_type'] = 'display_data';\n",
              "          await google.colab.output.renderOutput(dataTable, element);\n",
              "          const docLink = document.createElement('div');\n",
              "          docLink.innerHTML = docLinkHtml;\n",
              "          element.appendChild(docLink);\n",
              "        }\n",
              "      </script>\n",
              "    </div>\n",
              "  </div>\n"
            ]
          },
          "metadata": {},
          "execution_count": 5
        }
      ]
    },
    {
      "cell_type": "code",
      "source": [
        "traduccion = {\n",
        "    'Si':1,\n",
        "    'No':0\n",
        "}\n",
        "\n",
        "datos_modificados = datos[['Conyuge', 'Dependientes','TelefonoFijo','PagoOnline','Churn']].replace(traduccion)\n",
        "\n",
        "\n",
        "datos_modificados.head()"
      ],
      "metadata": {
        "id": "6wUdz4auGj52",
        "colab": {
          "base_uri": "https://localhost:8080/",
          "height": 206
        },
        "outputId": "2f5dae22-49f8-4a39-cc3d-9c4a0e116a6e"
      },
      "execution_count": 6,
      "outputs": [
        {
          "output_type": "execute_result",
          "data": {
            "text/plain": [
              "   Conyuge  Dependientes  TelefonoFijo  PagoOnline  Churn\n",
              "0        1             0             0           1      0\n",
              "1        0             0             1           0      0\n",
              "2        0             0             1           1      1\n",
              "3        0             0             0           0      0\n",
              "4        0             0             1           1      1"
            ],
            "text/html": [
              "\n",
              "\n",
              "  <div id=\"df-8fabd6c6-6219-4837-b22d-87e69aa7c1ec\">\n",
              "    <div class=\"colab-df-container\">\n",
              "      <div>\n",
              "<style scoped>\n",
              "    .dataframe tbody tr th:only-of-type {\n",
              "        vertical-align: middle;\n",
              "    }\n",
              "\n",
              "    .dataframe tbody tr th {\n",
              "        vertical-align: top;\n",
              "    }\n",
              "\n",
              "    .dataframe thead th {\n",
              "        text-align: right;\n",
              "    }\n",
              "</style>\n",
              "<table border=\"1\" class=\"dataframe\">\n",
              "  <thead>\n",
              "    <tr style=\"text-align: right;\">\n",
              "      <th></th>\n",
              "      <th>Conyuge</th>\n",
              "      <th>Dependientes</th>\n",
              "      <th>TelefonoFijo</th>\n",
              "      <th>PagoOnline</th>\n",
              "      <th>Churn</th>\n",
              "    </tr>\n",
              "  </thead>\n",
              "  <tbody>\n",
              "    <tr>\n",
              "      <th>0</th>\n",
              "      <td>1</td>\n",
              "      <td>0</td>\n",
              "      <td>0</td>\n",
              "      <td>1</td>\n",
              "      <td>0</td>\n",
              "    </tr>\n",
              "    <tr>\n",
              "      <th>1</th>\n",
              "      <td>0</td>\n",
              "      <td>0</td>\n",
              "      <td>1</td>\n",
              "      <td>0</td>\n",
              "      <td>0</td>\n",
              "    </tr>\n",
              "    <tr>\n",
              "      <th>2</th>\n",
              "      <td>0</td>\n",
              "      <td>0</td>\n",
              "      <td>1</td>\n",
              "      <td>1</td>\n",
              "      <td>1</td>\n",
              "    </tr>\n",
              "    <tr>\n",
              "      <th>3</th>\n",
              "      <td>0</td>\n",
              "      <td>0</td>\n",
              "      <td>0</td>\n",
              "      <td>0</td>\n",
              "      <td>0</td>\n",
              "    </tr>\n",
              "    <tr>\n",
              "      <th>4</th>\n",
              "      <td>0</td>\n",
              "      <td>0</td>\n",
              "      <td>1</td>\n",
              "      <td>1</td>\n",
              "      <td>1</td>\n",
              "    </tr>\n",
              "  </tbody>\n",
              "</table>\n",
              "</div>\n",
              "      <button class=\"colab-df-convert\" onclick=\"convertToInteractive('df-8fabd6c6-6219-4837-b22d-87e69aa7c1ec')\"\n",
              "              title=\"Convert this dataframe to an interactive table.\"\n",
              "              style=\"display:none;\">\n",
              "\n",
              "  <svg xmlns=\"http://www.w3.org/2000/svg\" height=\"24px\"viewBox=\"0 0 24 24\"\n",
              "       width=\"24px\">\n",
              "    <path d=\"M0 0h24v24H0V0z\" fill=\"none\"/>\n",
              "    <path d=\"M18.56 5.44l.94 2.06.94-2.06 2.06-.94-2.06-.94-.94-2.06-.94 2.06-2.06.94zm-11 1L8.5 8.5l.94-2.06 2.06-.94-2.06-.94L8.5 2.5l-.94 2.06-2.06.94zm10 10l.94 2.06.94-2.06 2.06-.94-2.06-.94-.94-2.06-.94 2.06-2.06.94z\"/><path d=\"M17.41 7.96l-1.37-1.37c-.4-.4-.92-.59-1.43-.59-.52 0-1.04.2-1.43.59L10.3 9.45l-7.72 7.72c-.78.78-.78 2.05 0 2.83L4 21.41c.39.39.9.59 1.41.59.51 0 1.02-.2 1.41-.59l7.78-7.78 2.81-2.81c.8-.78.8-2.07 0-2.86zM5.41 20L4 18.59l7.72-7.72 1.47 1.35L5.41 20z\"/>\n",
              "  </svg>\n",
              "      </button>\n",
              "\n",
              "\n",
              "\n",
              "    <div id=\"df-52dce18b-ed6b-4f22-bc1b-82acf2a30630\">\n",
              "      <button class=\"colab-df-quickchart\" onclick=\"quickchart('df-52dce18b-ed6b-4f22-bc1b-82acf2a30630')\"\n",
              "              title=\"Suggest charts.\"\n",
              "              style=\"display:none;\">\n",
              "\n",
              "<svg xmlns=\"http://www.w3.org/2000/svg\" height=\"24px\"viewBox=\"0 0 24 24\"\n",
              "     width=\"24px\">\n",
              "    <g>\n",
              "        <path d=\"M19 3H5c-1.1 0-2 .9-2 2v14c0 1.1.9 2 2 2h14c1.1 0 2-.9 2-2V5c0-1.1-.9-2-2-2zM9 17H7v-7h2v7zm4 0h-2V7h2v10zm4 0h-2v-4h2v4z\"/>\n",
              "    </g>\n",
              "</svg>\n",
              "      </button>\n",
              "    </div>\n",
              "\n",
              "<style>\n",
              "  .colab-df-quickchart {\n",
              "    background-color: #E8F0FE;\n",
              "    border: none;\n",
              "    border-radius: 50%;\n",
              "    cursor: pointer;\n",
              "    display: none;\n",
              "    fill: #1967D2;\n",
              "    height: 32px;\n",
              "    padding: 0 0 0 0;\n",
              "    width: 32px;\n",
              "  }\n",
              "\n",
              "  .colab-df-quickchart:hover {\n",
              "    background-color: #E2EBFA;\n",
              "    box-shadow: 0px 1px 2px rgba(60, 64, 67, 0.3), 0px 1px 3px 1px rgba(60, 64, 67, 0.15);\n",
              "    fill: #174EA6;\n",
              "  }\n",
              "\n",
              "  [theme=dark] .colab-df-quickchart {\n",
              "    background-color: #3B4455;\n",
              "    fill: #D2E3FC;\n",
              "  }\n",
              "\n",
              "  [theme=dark] .colab-df-quickchart:hover {\n",
              "    background-color: #434B5C;\n",
              "    box-shadow: 0px 1px 3px 1px rgba(0, 0, 0, 0.15);\n",
              "    filter: drop-shadow(0px 1px 2px rgba(0, 0, 0, 0.3));\n",
              "    fill: #FFFFFF;\n",
              "  }\n",
              "</style>\n",
              "\n",
              "    <script>\n",
              "      async function quickchart(key) {\n",
              "        const containerElement = document.querySelector('#' + key);\n",
              "        const charts = await google.colab.kernel.invokeFunction(\n",
              "            'suggestCharts', [key], {});\n",
              "      }\n",
              "    </script>\n",
              "\n",
              "      <script>\n",
              "\n",
              "function displayQuickchartButton(domScope) {\n",
              "  let quickchartButtonEl =\n",
              "    domScope.querySelector('#df-52dce18b-ed6b-4f22-bc1b-82acf2a30630 button.colab-df-quickchart');\n",
              "  quickchartButtonEl.style.display =\n",
              "    google.colab.kernel.accessAllowed ? 'block' : 'none';\n",
              "}\n",
              "\n",
              "        displayQuickchartButton(document);\n",
              "      </script>\n",
              "      <style>\n",
              "    .colab-df-container {\n",
              "      display:flex;\n",
              "      flex-wrap:wrap;\n",
              "      gap: 12px;\n",
              "    }\n",
              "\n",
              "    .colab-df-convert {\n",
              "      background-color: #E8F0FE;\n",
              "      border: none;\n",
              "      border-radius: 50%;\n",
              "      cursor: pointer;\n",
              "      display: none;\n",
              "      fill: #1967D2;\n",
              "      height: 32px;\n",
              "      padding: 0 0 0 0;\n",
              "      width: 32px;\n",
              "    }\n",
              "\n",
              "    .colab-df-convert:hover {\n",
              "      background-color: #E2EBFA;\n",
              "      box-shadow: 0px 1px 2px rgba(60, 64, 67, 0.3), 0px 1px 3px 1px rgba(60, 64, 67, 0.15);\n",
              "      fill: #174EA6;\n",
              "    }\n",
              "\n",
              "    [theme=dark] .colab-df-convert {\n",
              "      background-color: #3B4455;\n",
              "      fill: #D2E3FC;\n",
              "    }\n",
              "\n",
              "    [theme=dark] .colab-df-convert:hover {\n",
              "      background-color: #434B5C;\n",
              "      box-shadow: 0px 1px 3px 1px rgba(0, 0, 0, 0.15);\n",
              "      filter: drop-shadow(0px 1px 2px rgba(0, 0, 0, 0.3));\n",
              "      fill: #FFFFFF;\n",
              "    }\n",
              "  </style>\n",
              "\n",
              "      <script>\n",
              "        const buttonEl =\n",
              "          document.querySelector('#df-8fabd6c6-6219-4837-b22d-87e69aa7c1ec button.colab-df-convert');\n",
              "        buttonEl.style.display =\n",
              "          google.colab.kernel.accessAllowed ? 'block' : 'none';\n",
              "\n",
              "        async function convertToInteractive(key) {\n",
              "          const element = document.querySelector('#df-8fabd6c6-6219-4837-b22d-87e69aa7c1ec');\n",
              "          const dataTable =\n",
              "            await google.colab.kernel.invokeFunction('convertToInteractive',\n",
              "                                                     [key], {});\n",
              "          if (!dataTable) return;\n",
              "\n",
              "          const docLinkHtml = 'Like what you see? Visit the ' +\n",
              "            '<a target=\"_blank\" href=https://colab.research.google.com/notebooks/data_table.ipynb>data table notebook</a>'\n",
              "            + ' to learn more about interactive tables.';\n",
              "          element.innerHTML = '';\n",
              "          dataTable['output_type'] = 'display_data';\n",
              "          await google.colab.output.renderOutput(dataTable, element);\n",
              "          const docLink = document.createElement('div');\n",
              "          docLink.innerHTML = docLinkHtml;\n",
              "          element.appendChild(docLink);\n",
              "        }\n",
              "      </script>\n",
              "    </div>\n",
              "  </div>\n"
            ]
          },
          "metadata": {},
          "execution_count": 6
        }
      ]
    },
    {
      "cell_type": "code",
      "source": [
        "datos_dummy = pd.get_dummies(datos.drop(columns=['Conyuge', 'Dependientes','TelefonoFijo','PagoOnline','Churn'],axis=1))"
      ],
      "metadata": {
        "id": "hlhoZOt6Gj9K"
      },
      "execution_count": 7,
      "outputs": []
    },
    {
      "cell_type": "code",
      "source": [
        "datos_final = pd.concat([datos_modificados,datos_dummy],axis=1)\n",
        "datos_final.head()"
      ],
      "metadata": {
        "colab": {
          "base_uri": "https://localhost:8080/",
          "height": 299
        },
        "id": "Oskns1eCuIMo",
        "outputId": "ebd48c8c-a23e-46c9-b983-08d3c5df98ad"
      },
      "execution_count": 8,
      "outputs": [
        {
          "output_type": "execute_result",
          "data": {
            "text/plain": [
              "   Conyuge  Dependientes  TelefonoFijo  PagoOnline  Churn  Mayor65Anos  \\\n",
              "0        1             0             0           1      0            0   \n",
              "1        0             0             1           0      0            0   \n",
              "2        0             0             1           1      1            0   \n",
              "3        0             0             0           0      0            0   \n",
              "4        0             0             1           1      1            0   \n",
              "\n",
              "   MesesDeContrato  CuentaMensual  VariasLineasTelefonicas_No  \\\n",
              "0                1          29.85                           0   \n",
              "1               34          56.95                           1   \n",
              "2                2          53.85                           1   \n",
              "3               45          42.30                           0   \n",
              "4                2          70.70                           1   \n",
              "\n",
              "   VariasLineasTelefonicas_Si  ...  StreamingDePeliculas_No  \\\n",
              "0                           0  ...                        1   \n",
              "1                           0  ...                        1   \n",
              "2                           0  ...                        1   \n",
              "3                           0  ...                        1   \n",
              "4                           0  ...                        1   \n",
              "\n",
              "   StreamingDePeliculas_Si  StreamingDePeliculas_SinServicioDeInternet  \\\n",
              "0                        0                                           0   \n",
              "1                        0                                           0   \n",
              "2                        0                                           0   \n",
              "3                        0                                           0   \n",
              "4                        0                                           0   \n",
              "\n",
              "   TipoDeContrato_Anual  TipoDeContrato_Bienal  TipoDeContrato_Mensual  \\\n",
              "0                     0                      0                       1   \n",
              "1                     1                      0                       0   \n",
              "2                     0                      0                       1   \n",
              "3                     1                      0                       0   \n",
              "4                     0                      0                       1   \n",
              "\n",
              "   FormaDePago_ChequeDigital  FormaDePago_ChequePapel  \\\n",
              "0                          1                        0   \n",
              "1                          0                        1   \n",
              "2                          0                        1   \n",
              "3                          0                        0   \n",
              "4                          1                        0   \n",
              "\n",
              "   FormaDePago_DebitoAutomatico  FormaDePago_TarjetaDeCredito  \n",
              "0                             0                             0  \n",
              "1                             0                             0  \n",
              "2                             0                             0  \n",
              "3                             1                             0  \n",
              "4                             0                             0  \n",
              "\n",
              "[5 rows x 39 columns]"
            ],
            "text/html": [
              "\n",
              "\n",
              "  <div id=\"df-29cca612-28c4-449f-a0fc-26282d82de74\">\n",
              "    <div class=\"colab-df-container\">\n",
              "      <div>\n",
              "<style scoped>\n",
              "    .dataframe tbody tr th:only-of-type {\n",
              "        vertical-align: middle;\n",
              "    }\n",
              "\n",
              "    .dataframe tbody tr th {\n",
              "        vertical-align: top;\n",
              "    }\n",
              "\n",
              "    .dataframe thead th {\n",
              "        text-align: right;\n",
              "    }\n",
              "</style>\n",
              "<table border=\"1\" class=\"dataframe\">\n",
              "  <thead>\n",
              "    <tr style=\"text-align: right;\">\n",
              "      <th></th>\n",
              "      <th>Conyuge</th>\n",
              "      <th>Dependientes</th>\n",
              "      <th>TelefonoFijo</th>\n",
              "      <th>PagoOnline</th>\n",
              "      <th>Churn</th>\n",
              "      <th>Mayor65Anos</th>\n",
              "      <th>MesesDeContrato</th>\n",
              "      <th>CuentaMensual</th>\n",
              "      <th>VariasLineasTelefonicas_No</th>\n",
              "      <th>VariasLineasTelefonicas_Si</th>\n",
              "      <th>...</th>\n",
              "      <th>StreamingDePeliculas_No</th>\n",
              "      <th>StreamingDePeliculas_Si</th>\n",
              "      <th>StreamingDePeliculas_SinServicioDeInternet</th>\n",
              "      <th>TipoDeContrato_Anual</th>\n",
              "      <th>TipoDeContrato_Bienal</th>\n",
              "      <th>TipoDeContrato_Mensual</th>\n",
              "      <th>FormaDePago_ChequeDigital</th>\n",
              "      <th>FormaDePago_ChequePapel</th>\n",
              "      <th>FormaDePago_DebitoAutomatico</th>\n",
              "      <th>FormaDePago_TarjetaDeCredito</th>\n",
              "    </tr>\n",
              "  </thead>\n",
              "  <tbody>\n",
              "    <tr>\n",
              "      <th>0</th>\n",
              "      <td>1</td>\n",
              "      <td>0</td>\n",
              "      <td>0</td>\n",
              "      <td>1</td>\n",
              "      <td>0</td>\n",
              "      <td>0</td>\n",
              "      <td>1</td>\n",
              "      <td>29.85</td>\n",
              "      <td>0</td>\n",
              "      <td>0</td>\n",
              "      <td>...</td>\n",
              "      <td>1</td>\n",
              "      <td>0</td>\n",
              "      <td>0</td>\n",
              "      <td>0</td>\n",
              "      <td>0</td>\n",
              "      <td>1</td>\n",
              "      <td>1</td>\n",
              "      <td>0</td>\n",
              "      <td>0</td>\n",
              "      <td>0</td>\n",
              "    </tr>\n",
              "    <tr>\n",
              "      <th>1</th>\n",
              "      <td>0</td>\n",
              "      <td>0</td>\n",
              "      <td>1</td>\n",
              "      <td>0</td>\n",
              "      <td>0</td>\n",
              "      <td>0</td>\n",
              "      <td>34</td>\n",
              "      <td>56.95</td>\n",
              "      <td>1</td>\n",
              "      <td>0</td>\n",
              "      <td>...</td>\n",
              "      <td>1</td>\n",
              "      <td>0</td>\n",
              "      <td>0</td>\n",
              "      <td>1</td>\n",
              "      <td>0</td>\n",
              "      <td>0</td>\n",
              "      <td>0</td>\n",
              "      <td>1</td>\n",
              "      <td>0</td>\n",
              "      <td>0</td>\n",
              "    </tr>\n",
              "    <tr>\n",
              "      <th>2</th>\n",
              "      <td>0</td>\n",
              "      <td>0</td>\n",
              "      <td>1</td>\n",
              "      <td>1</td>\n",
              "      <td>1</td>\n",
              "      <td>0</td>\n",
              "      <td>2</td>\n",
              "      <td>53.85</td>\n",
              "      <td>1</td>\n",
              "      <td>0</td>\n",
              "      <td>...</td>\n",
              "      <td>1</td>\n",
              "      <td>0</td>\n",
              "      <td>0</td>\n",
              "      <td>0</td>\n",
              "      <td>0</td>\n",
              "      <td>1</td>\n",
              "      <td>0</td>\n",
              "      <td>1</td>\n",
              "      <td>0</td>\n",
              "      <td>0</td>\n",
              "    </tr>\n",
              "    <tr>\n",
              "      <th>3</th>\n",
              "      <td>0</td>\n",
              "      <td>0</td>\n",
              "      <td>0</td>\n",
              "      <td>0</td>\n",
              "      <td>0</td>\n",
              "      <td>0</td>\n",
              "      <td>45</td>\n",
              "      <td>42.30</td>\n",
              "      <td>0</td>\n",
              "      <td>0</td>\n",
              "      <td>...</td>\n",
              "      <td>1</td>\n",
              "      <td>0</td>\n",
              "      <td>0</td>\n",
              "      <td>1</td>\n",
              "      <td>0</td>\n",
              "      <td>0</td>\n",
              "      <td>0</td>\n",
              "      <td>0</td>\n",
              "      <td>1</td>\n",
              "      <td>0</td>\n",
              "    </tr>\n",
              "    <tr>\n",
              "      <th>4</th>\n",
              "      <td>0</td>\n",
              "      <td>0</td>\n",
              "      <td>1</td>\n",
              "      <td>1</td>\n",
              "      <td>1</td>\n",
              "      <td>0</td>\n",
              "      <td>2</td>\n",
              "      <td>70.70</td>\n",
              "      <td>1</td>\n",
              "      <td>0</td>\n",
              "      <td>...</td>\n",
              "      <td>1</td>\n",
              "      <td>0</td>\n",
              "      <td>0</td>\n",
              "      <td>0</td>\n",
              "      <td>0</td>\n",
              "      <td>1</td>\n",
              "      <td>1</td>\n",
              "      <td>0</td>\n",
              "      <td>0</td>\n",
              "      <td>0</td>\n",
              "    </tr>\n",
              "  </tbody>\n",
              "</table>\n",
              "<p>5 rows × 39 columns</p>\n",
              "</div>\n",
              "      <button class=\"colab-df-convert\" onclick=\"convertToInteractive('df-29cca612-28c4-449f-a0fc-26282d82de74')\"\n",
              "              title=\"Convert this dataframe to an interactive table.\"\n",
              "              style=\"display:none;\">\n",
              "\n",
              "  <svg xmlns=\"http://www.w3.org/2000/svg\" height=\"24px\"viewBox=\"0 0 24 24\"\n",
              "       width=\"24px\">\n",
              "    <path d=\"M0 0h24v24H0V0z\" fill=\"none\"/>\n",
              "    <path d=\"M18.56 5.44l.94 2.06.94-2.06 2.06-.94-2.06-.94-.94-2.06-.94 2.06-2.06.94zm-11 1L8.5 8.5l.94-2.06 2.06-.94-2.06-.94L8.5 2.5l-.94 2.06-2.06.94zm10 10l.94 2.06.94-2.06 2.06-.94-2.06-.94-.94-2.06-.94 2.06-2.06.94z\"/><path d=\"M17.41 7.96l-1.37-1.37c-.4-.4-.92-.59-1.43-.59-.52 0-1.04.2-1.43.59L10.3 9.45l-7.72 7.72c-.78.78-.78 2.05 0 2.83L4 21.41c.39.39.9.59 1.41.59.51 0 1.02-.2 1.41-.59l7.78-7.78 2.81-2.81c.8-.78.8-2.07 0-2.86zM5.41 20L4 18.59l7.72-7.72 1.47 1.35L5.41 20z\"/>\n",
              "  </svg>\n",
              "      </button>\n",
              "\n",
              "\n",
              "\n",
              "    <div id=\"df-3e6e0d3d-3a55-44d4-bf29-194c5ce19314\">\n",
              "      <button class=\"colab-df-quickchart\" onclick=\"quickchart('df-3e6e0d3d-3a55-44d4-bf29-194c5ce19314')\"\n",
              "              title=\"Suggest charts.\"\n",
              "              style=\"display:none;\">\n",
              "\n",
              "<svg xmlns=\"http://www.w3.org/2000/svg\" height=\"24px\"viewBox=\"0 0 24 24\"\n",
              "     width=\"24px\">\n",
              "    <g>\n",
              "        <path d=\"M19 3H5c-1.1 0-2 .9-2 2v14c0 1.1.9 2 2 2h14c1.1 0 2-.9 2-2V5c0-1.1-.9-2-2-2zM9 17H7v-7h2v7zm4 0h-2V7h2v10zm4 0h-2v-4h2v4z\"/>\n",
              "    </g>\n",
              "</svg>\n",
              "      </button>\n",
              "    </div>\n",
              "\n",
              "<style>\n",
              "  .colab-df-quickchart {\n",
              "    background-color: #E8F0FE;\n",
              "    border: none;\n",
              "    border-radius: 50%;\n",
              "    cursor: pointer;\n",
              "    display: none;\n",
              "    fill: #1967D2;\n",
              "    height: 32px;\n",
              "    padding: 0 0 0 0;\n",
              "    width: 32px;\n",
              "  }\n",
              "\n",
              "  .colab-df-quickchart:hover {\n",
              "    background-color: #E2EBFA;\n",
              "    box-shadow: 0px 1px 2px rgba(60, 64, 67, 0.3), 0px 1px 3px 1px rgba(60, 64, 67, 0.15);\n",
              "    fill: #174EA6;\n",
              "  }\n",
              "\n",
              "  [theme=dark] .colab-df-quickchart {\n",
              "    background-color: #3B4455;\n",
              "    fill: #D2E3FC;\n",
              "  }\n",
              "\n",
              "  [theme=dark] .colab-df-quickchart:hover {\n",
              "    background-color: #434B5C;\n",
              "    box-shadow: 0px 1px 3px 1px rgba(0, 0, 0, 0.15);\n",
              "    filter: drop-shadow(0px 1px 2px rgba(0, 0, 0, 0.3));\n",
              "    fill: #FFFFFF;\n",
              "  }\n",
              "</style>\n",
              "\n",
              "    <script>\n",
              "      async function quickchart(key) {\n",
              "        const containerElement = document.querySelector('#' + key);\n",
              "        const charts = await google.colab.kernel.invokeFunction(\n",
              "            'suggestCharts', [key], {});\n",
              "      }\n",
              "    </script>\n",
              "\n",
              "      <script>\n",
              "\n",
              "function displayQuickchartButton(domScope) {\n",
              "  let quickchartButtonEl =\n",
              "    domScope.querySelector('#df-3e6e0d3d-3a55-44d4-bf29-194c5ce19314 button.colab-df-quickchart');\n",
              "  quickchartButtonEl.style.display =\n",
              "    google.colab.kernel.accessAllowed ? 'block' : 'none';\n",
              "}\n",
              "\n",
              "        displayQuickchartButton(document);\n",
              "      </script>\n",
              "      <style>\n",
              "    .colab-df-container {\n",
              "      display:flex;\n",
              "      flex-wrap:wrap;\n",
              "      gap: 12px;\n",
              "    }\n",
              "\n",
              "    .colab-df-convert {\n",
              "      background-color: #E8F0FE;\n",
              "      border: none;\n",
              "      border-radius: 50%;\n",
              "      cursor: pointer;\n",
              "      display: none;\n",
              "      fill: #1967D2;\n",
              "      height: 32px;\n",
              "      padding: 0 0 0 0;\n",
              "      width: 32px;\n",
              "    }\n",
              "\n",
              "    .colab-df-convert:hover {\n",
              "      background-color: #E2EBFA;\n",
              "      box-shadow: 0px 1px 2px rgba(60, 64, 67, 0.3), 0px 1px 3px 1px rgba(60, 64, 67, 0.15);\n",
              "      fill: #174EA6;\n",
              "    }\n",
              "\n",
              "    [theme=dark] .colab-df-convert {\n",
              "      background-color: #3B4455;\n",
              "      fill: #D2E3FC;\n",
              "    }\n",
              "\n",
              "    [theme=dark] .colab-df-convert:hover {\n",
              "      background-color: #434B5C;\n",
              "      box-shadow: 0px 1px 3px 1px rgba(0, 0, 0, 0.15);\n",
              "      filter: drop-shadow(0px 1px 2px rgba(0, 0, 0, 0.3));\n",
              "      fill: #FFFFFF;\n",
              "    }\n",
              "  </style>\n",
              "\n",
              "      <script>\n",
              "        const buttonEl =\n",
              "          document.querySelector('#df-29cca612-28c4-449f-a0fc-26282d82de74 button.colab-df-convert');\n",
              "        buttonEl.style.display =\n",
              "          google.colab.kernel.accessAllowed ? 'block' : 'none';\n",
              "\n",
              "        async function convertToInteractive(key) {\n",
              "          const element = document.querySelector('#df-29cca612-28c4-449f-a0fc-26282d82de74');\n",
              "          const dataTable =\n",
              "            await google.colab.kernel.invokeFunction('convertToInteractive',\n",
              "                                                     [key], {});\n",
              "          if (!dataTable) return;\n",
              "\n",
              "          const docLinkHtml = 'Like what you see? Visit the ' +\n",
              "            '<a target=\"_blank\" href=https://colab.research.google.com/notebooks/data_table.ipynb>data table notebook</a>'\n",
              "            + ' to learn more about interactive tables.';\n",
              "          element.innerHTML = '';\n",
              "          dataTable['output_type'] = 'display_data';\n",
              "          await google.colab.output.renderOutput(dataTable, element);\n",
              "          const docLink = document.createElement('div');\n",
              "          docLink.innerHTML = docLinkHtml;\n",
              "          element.appendChild(docLink);\n",
              "        }\n",
              "      </script>\n",
              "    </div>\n",
              "  </div>\n"
            ]
          },
          "metadata": {},
          "execution_count": 8
        }
      ]
    },
    {
      "cell_type": "markdown",
      "source": [
        "### 1.5 Definición Formal"
      ],
      "metadata": {
        "id": "k9eqcKpTIdWH"
      }
    },
    {
      "cell_type": "markdown",
      "source": [
        "Información para la clasificación:\n",
        "\n",
        "$X$ = inputs (datos de entrada)\n",
        "\n",
        "$y$ = outputs (datos de saída)"
      ],
      "metadata": {
        "id": "t75SWNigZ8SJ"
      }
    },
    {
      "cell_type": "code",
      "source": [
        "pd.set_option('display.max_columns',39)"
      ],
      "metadata": {
        "id": "S0j_09KFGl3H"
      },
      "execution_count": 9,
      "outputs": []
    },
    {
      "cell_type": "code",
      "source": [
        "datos_final.head()"
      ],
      "metadata": {
        "id": "9f17JhBsGl5s",
        "colab": {
          "base_uri": "https://localhost:8080/",
          "height": 270
        },
        "outputId": "7b63eeff-c305-4ab7-a1ca-a1f5e272beed"
      },
      "execution_count": 10,
      "outputs": [
        {
          "output_type": "execute_result",
          "data": {
            "text/plain": [
              "   Conyuge  Dependientes  TelefonoFijo  PagoOnline  Churn  Mayor65Anos  \\\n",
              "0        1             0             0           1      0            0   \n",
              "1        0             0             1           0      0            0   \n",
              "2        0             0             1           1      1            0   \n",
              "3        0             0             0           0      0            0   \n",
              "4        0             0             1           1      1            0   \n",
              "\n",
              "   MesesDeContrato  CuentaMensual  VariasLineasTelefonicas_No  \\\n",
              "0                1          29.85                           0   \n",
              "1               34          56.95                           1   \n",
              "2                2          53.85                           1   \n",
              "3               45          42.30                           0   \n",
              "4                2          70.70                           1   \n",
              "\n",
              "   VariasLineasTelefonicas_Si  VariasLineasTelefonicas_SinServicioTelefonico  \\\n",
              "0                           0                                              1   \n",
              "1                           0                                              0   \n",
              "2                           0                                              0   \n",
              "3                           0                                              1   \n",
              "4                           0                                              0   \n",
              "\n",
              "   ServicioDeInternet_DSL  ServicioDeInternet_FibraOptica  \\\n",
              "0                       1                               0   \n",
              "1                       1                               0   \n",
              "2                       1                               0   \n",
              "3                       1                               0   \n",
              "4                       0                               1   \n",
              "\n",
              "   ServicioDeInternet_No  SeguridadOnline_No  SeguridadOnline_Si  \\\n",
              "0                      0                   1                   0   \n",
              "1                      0                   0                   1   \n",
              "2                      0                   0                   1   \n",
              "3                      0                   0                   1   \n",
              "4                      0                   1                   0   \n",
              "\n",
              "   SeguridadOnline_SinServicioDeInternet  BackupOnline_No  BackupOnline_Si  \\\n",
              "0                                      0                0                1   \n",
              "1                                      0                1                0   \n",
              "2                                      0                0                1   \n",
              "3                                      0                1                0   \n",
              "4                                      0                1                0   \n",
              "\n",
              "   BackupOnline_SinServicioDeInternet  SeguroEnDispositivo_No  \\\n",
              "0                                   0                       1   \n",
              "1                                   0                       0   \n",
              "2                                   0                       1   \n",
              "3                                   0                       0   \n",
              "4                                   0                       1   \n",
              "\n",
              "   SeguroEnDispositivo_Si  SeguroEnDispositivo_SinServicioDeInternet  \\\n",
              "0                       0                                          0   \n",
              "1                       1                                          0   \n",
              "2                       0                                          0   \n",
              "3                       1                                          0   \n",
              "4                       0                                          0   \n",
              "\n",
              "   SoporteTecnico_No  SoporteTecnico_Si  SoporteTecnico_SinServicioDeInternet  \\\n",
              "0                  1                  0                                     0   \n",
              "1                  1                  0                                     0   \n",
              "2                  1                  0                                     0   \n",
              "3                  0                  1                                     0   \n",
              "4                  1                  0                                     0   \n",
              "\n",
              "   TVaCable_No  TVaCable_Si  TVaCable_SinServicioDeInternet  \\\n",
              "0            1            0                               0   \n",
              "1            1            0                               0   \n",
              "2            1            0                               0   \n",
              "3            1            0                               0   \n",
              "4            1            0                               0   \n",
              "\n",
              "   StreamingDePeliculas_No  StreamingDePeliculas_Si  \\\n",
              "0                        1                        0   \n",
              "1                        1                        0   \n",
              "2                        1                        0   \n",
              "3                        1                        0   \n",
              "4                        1                        0   \n",
              "\n",
              "   StreamingDePeliculas_SinServicioDeInternet  TipoDeContrato_Anual  \\\n",
              "0                                           0                     0   \n",
              "1                                           0                     1   \n",
              "2                                           0                     0   \n",
              "3                                           0                     1   \n",
              "4                                           0                     0   \n",
              "\n",
              "   TipoDeContrato_Bienal  TipoDeContrato_Mensual  FormaDePago_ChequeDigital  \\\n",
              "0                      0                       1                          1   \n",
              "1                      0                       0                          0   \n",
              "2                      0                       1                          0   \n",
              "3                      0                       0                          0   \n",
              "4                      0                       1                          1   \n",
              "\n",
              "   FormaDePago_ChequePapel  FormaDePago_DebitoAutomatico  \\\n",
              "0                        0                             0   \n",
              "1                        1                             0   \n",
              "2                        1                             0   \n",
              "3                        0                             1   \n",
              "4                        0                             0   \n",
              "\n",
              "   FormaDePago_TarjetaDeCredito  \n",
              "0                             0  \n",
              "1                             0  \n",
              "2                             0  \n",
              "3                             0  \n",
              "4                             0  "
            ],
            "text/html": [
              "\n",
              "\n",
              "  <div id=\"df-18f6b6ad-02f1-449d-ad7b-96a6ba459648\">\n",
              "    <div class=\"colab-df-container\">\n",
              "      <div>\n",
              "<style scoped>\n",
              "    .dataframe tbody tr th:only-of-type {\n",
              "        vertical-align: middle;\n",
              "    }\n",
              "\n",
              "    .dataframe tbody tr th {\n",
              "        vertical-align: top;\n",
              "    }\n",
              "\n",
              "    .dataframe thead th {\n",
              "        text-align: right;\n",
              "    }\n",
              "</style>\n",
              "<table border=\"1\" class=\"dataframe\">\n",
              "  <thead>\n",
              "    <tr style=\"text-align: right;\">\n",
              "      <th></th>\n",
              "      <th>Conyuge</th>\n",
              "      <th>Dependientes</th>\n",
              "      <th>TelefonoFijo</th>\n",
              "      <th>PagoOnline</th>\n",
              "      <th>Churn</th>\n",
              "      <th>Mayor65Anos</th>\n",
              "      <th>MesesDeContrato</th>\n",
              "      <th>CuentaMensual</th>\n",
              "      <th>VariasLineasTelefonicas_No</th>\n",
              "      <th>VariasLineasTelefonicas_Si</th>\n",
              "      <th>VariasLineasTelefonicas_SinServicioTelefonico</th>\n",
              "      <th>ServicioDeInternet_DSL</th>\n",
              "      <th>ServicioDeInternet_FibraOptica</th>\n",
              "      <th>ServicioDeInternet_No</th>\n",
              "      <th>SeguridadOnline_No</th>\n",
              "      <th>SeguridadOnline_Si</th>\n",
              "      <th>SeguridadOnline_SinServicioDeInternet</th>\n",
              "      <th>BackupOnline_No</th>\n",
              "      <th>BackupOnline_Si</th>\n",
              "      <th>BackupOnline_SinServicioDeInternet</th>\n",
              "      <th>SeguroEnDispositivo_No</th>\n",
              "      <th>SeguroEnDispositivo_Si</th>\n",
              "      <th>SeguroEnDispositivo_SinServicioDeInternet</th>\n",
              "      <th>SoporteTecnico_No</th>\n",
              "      <th>SoporteTecnico_Si</th>\n",
              "      <th>SoporteTecnico_SinServicioDeInternet</th>\n",
              "      <th>TVaCable_No</th>\n",
              "      <th>TVaCable_Si</th>\n",
              "      <th>TVaCable_SinServicioDeInternet</th>\n",
              "      <th>StreamingDePeliculas_No</th>\n",
              "      <th>StreamingDePeliculas_Si</th>\n",
              "      <th>StreamingDePeliculas_SinServicioDeInternet</th>\n",
              "      <th>TipoDeContrato_Anual</th>\n",
              "      <th>TipoDeContrato_Bienal</th>\n",
              "      <th>TipoDeContrato_Mensual</th>\n",
              "      <th>FormaDePago_ChequeDigital</th>\n",
              "      <th>FormaDePago_ChequePapel</th>\n",
              "      <th>FormaDePago_DebitoAutomatico</th>\n",
              "      <th>FormaDePago_TarjetaDeCredito</th>\n",
              "    </tr>\n",
              "  </thead>\n",
              "  <tbody>\n",
              "    <tr>\n",
              "      <th>0</th>\n",
              "      <td>1</td>\n",
              "      <td>0</td>\n",
              "      <td>0</td>\n",
              "      <td>1</td>\n",
              "      <td>0</td>\n",
              "      <td>0</td>\n",
              "      <td>1</td>\n",
              "      <td>29.85</td>\n",
              "      <td>0</td>\n",
              "      <td>0</td>\n",
              "      <td>1</td>\n",
              "      <td>1</td>\n",
              "      <td>0</td>\n",
              "      <td>0</td>\n",
              "      <td>1</td>\n",
              "      <td>0</td>\n",
              "      <td>0</td>\n",
              "      <td>0</td>\n",
              "      <td>1</td>\n",
              "      <td>0</td>\n",
              "      <td>1</td>\n",
              "      <td>0</td>\n",
              "      <td>0</td>\n",
              "      <td>1</td>\n",
              "      <td>0</td>\n",
              "      <td>0</td>\n",
              "      <td>1</td>\n",
              "      <td>0</td>\n",
              "      <td>0</td>\n",
              "      <td>1</td>\n",
              "      <td>0</td>\n",
              "      <td>0</td>\n",
              "      <td>0</td>\n",
              "      <td>0</td>\n",
              "      <td>1</td>\n",
              "      <td>1</td>\n",
              "      <td>0</td>\n",
              "      <td>0</td>\n",
              "      <td>0</td>\n",
              "    </tr>\n",
              "    <tr>\n",
              "      <th>1</th>\n",
              "      <td>0</td>\n",
              "      <td>0</td>\n",
              "      <td>1</td>\n",
              "      <td>0</td>\n",
              "      <td>0</td>\n",
              "      <td>0</td>\n",
              "      <td>34</td>\n",
              "      <td>56.95</td>\n",
              "      <td>1</td>\n",
              "      <td>0</td>\n",
              "      <td>0</td>\n",
              "      <td>1</td>\n",
              "      <td>0</td>\n",
              "      <td>0</td>\n",
              "      <td>0</td>\n",
              "      <td>1</td>\n",
              "      <td>0</td>\n",
              "      <td>1</td>\n",
              "      <td>0</td>\n",
              "      <td>0</td>\n",
              "      <td>0</td>\n",
              "      <td>1</td>\n",
              "      <td>0</td>\n",
              "      <td>1</td>\n",
              "      <td>0</td>\n",
              "      <td>0</td>\n",
              "      <td>1</td>\n",
              "      <td>0</td>\n",
              "      <td>0</td>\n",
              "      <td>1</td>\n",
              "      <td>0</td>\n",
              "      <td>0</td>\n",
              "      <td>1</td>\n",
              "      <td>0</td>\n",
              "      <td>0</td>\n",
              "      <td>0</td>\n",
              "      <td>1</td>\n",
              "      <td>0</td>\n",
              "      <td>0</td>\n",
              "    </tr>\n",
              "    <tr>\n",
              "      <th>2</th>\n",
              "      <td>0</td>\n",
              "      <td>0</td>\n",
              "      <td>1</td>\n",
              "      <td>1</td>\n",
              "      <td>1</td>\n",
              "      <td>0</td>\n",
              "      <td>2</td>\n",
              "      <td>53.85</td>\n",
              "      <td>1</td>\n",
              "      <td>0</td>\n",
              "      <td>0</td>\n",
              "      <td>1</td>\n",
              "      <td>0</td>\n",
              "      <td>0</td>\n",
              "      <td>0</td>\n",
              "      <td>1</td>\n",
              "      <td>0</td>\n",
              "      <td>0</td>\n",
              "      <td>1</td>\n",
              "      <td>0</td>\n",
              "      <td>1</td>\n",
              "      <td>0</td>\n",
              "      <td>0</td>\n",
              "      <td>1</td>\n",
              "      <td>0</td>\n",
              "      <td>0</td>\n",
              "      <td>1</td>\n",
              "      <td>0</td>\n",
              "      <td>0</td>\n",
              "      <td>1</td>\n",
              "      <td>0</td>\n",
              "      <td>0</td>\n",
              "      <td>0</td>\n",
              "      <td>0</td>\n",
              "      <td>1</td>\n",
              "      <td>0</td>\n",
              "      <td>1</td>\n",
              "      <td>0</td>\n",
              "      <td>0</td>\n",
              "    </tr>\n",
              "    <tr>\n",
              "      <th>3</th>\n",
              "      <td>0</td>\n",
              "      <td>0</td>\n",
              "      <td>0</td>\n",
              "      <td>0</td>\n",
              "      <td>0</td>\n",
              "      <td>0</td>\n",
              "      <td>45</td>\n",
              "      <td>42.30</td>\n",
              "      <td>0</td>\n",
              "      <td>0</td>\n",
              "      <td>1</td>\n",
              "      <td>1</td>\n",
              "      <td>0</td>\n",
              "      <td>0</td>\n",
              "      <td>0</td>\n",
              "      <td>1</td>\n",
              "      <td>0</td>\n",
              "      <td>1</td>\n",
              "      <td>0</td>\n",
              "      <td>0</td>\n",
              "      <td>0</td>\n",
              "      <td>1</td>\n",
              "      <td>0</td>\n",
              "      <td>0</td>\n",
              "      <td>1</td>\n",
              "      <td>0</td>\n",
              "      <td>1</td>\n",
              "      <td>0</td>\n",
              "      <td>0</td>\n",
              "      <td>1</td>\n",
              "      <td>0</td>\n",
              "      <td>0</td>\n",
              "      <td>1</td>\n",
              "      <td>0</td>\n",
              "      <td>0</td>\n",
              "      <td>0</td>\n",
              "      <td>0</td>\n",
              "      <td>1</td>\n",
              "      <td>0</td>\n",
              "    </tr>\n",
              "    <tr>\n",
              "      <th>4</th>\n",
              "      <td>0</td>\n",
              "      <td>0</td>\n",
              "      <td>1</td>\n",
              "      <td>1</td>\n",
              "      <td>1</td>\n",
              "      <td>0</td>\n",
              "      <td>2</td>\n",
              "      <td>70.70</td>\n",
              "      <td>1</td>\n",
              "      <td>0</td>\n",
              "      <td>0</td>\n",
              "      <td>0</td>\n",
              "      <td>1</td>\n",
              "      <td>0</td>\n",
              "      <td>1</td>\n",
              "      <td>0</td>\n",
              "      <td>0</td>\n",
              "      <td>1</td>\n",
              "      <td>0</td>\n",
              "      <td>0</td>\n",
              "      <td>1</td>\n",
              "      <td>0</td>\n",
              "      <td>0</td>\n",
              "      <td>1</td>\n",
              "      <td>0</td>\n",
              "      <td>0</td>\n",
              "      <td>1</td>\n",
              "      <td>0</td>\n",
              "      <td>0</td>\n",
              "      <td>1</td>\n",
              "      <td>0</td>\n",
              "      <td>0</td>\n",
              "      <td>0</td>\n",
              "      <td>0</td>\n",
              "      <td>1</td>\n",
              "      <td>1</td>\n",
              "      <td>0</td>\n",
              "      <td>0</td>\n",
              "      <td>0</td>\n",
              "    </tr>\n",
              "  </tbody>\n",
              "</table>\n",
              "</div>\n",
              "      <button class=\"colab-df-convert\" onclick=\"convertToInteractive('df-18f6b6ad-02f1-449d-ad7b-96a6ba459648')\"\n",
              "              title=\"Convert this dataframe to an interactive table.\"\n",
              "              style=\"display:none;\">\n",
              "\n",
              "  <svg xmlns=\"http://www.w3.org/2000/svg\" height=\"24px\"viewBox=\"0 0 24 24\"\n",
              "       width=\"24px\">\n",
              "    <path d=\"M0 0h24v24H0V0z\" fill=\"none\"/>\n",
              "    <path d=\"M18.56 5.44l.94 2.06.94-2.06 2.06-.94-2.06-.94-.94-2.06-.94 2.06-2.06.94zm-11 1L8.5 8.5l.94-2.06 2.06-.94-2.06-.94L8.5 2.5l-.94 2.06-2.06.94zm10 10l.94 2.06.94-2.06 2.06-.94-2.06-.94-.94-2.06-.94 2.06-2.06.94z\"/><path d=\"M17.41 7.96l-1.37-1.37c-.4-.4-.92-.59-1.43-.59-.52 0-1.04.2-1.43.59L10.3 9.45l-7.72 7.72c-.78.78-.78 2.05 0 2.83L4 21.41c.39.39.9.59 1.41.59.51 0 1.02-.2 1.41-.59l7.78-7.78 2.81-2.81c.8-.78.8-2.07 0-2.86zM5.41 20L4 18.59l7.72-7.72 1.47 1.35L5.41 20z\"/>\n",
              "  </svg>\n",
              "      </button>\n",
              "\n",
              "\n",
              "\n",
              "    <div id=\"df-6e6acb7c-aa55-460c-a5fc-0976d4fa664d\">\n",
              "      <button class=\"colab-df-quickchart\" onclick=\"quickchart('df-6e6acb7c-aa55-460c-a5fc-0976d4fa664d')\"\n",
              "              title=\"Suggest charts.\"\n",
              "              style=\"display:none;\">\n",
              "\n",
              "<svg xmlns=\"http://www.w3.org/2000/svg\" height=\"24px\"viewBox=\"0 0 24 24\"\n",
              "     width=\"24px\">\n",
              "    <g>\n",
              "        <path d=\"M19 3H5c-1.1 0-2 .9-2 2v14c0 1.1.9 2 2 2h14c1.1 0 2-.9 2-2V5c0-1.1-.9-2-2-2zM9 17H7v-7h2v7zm4 0h-2V7h2v10zm4 0h-2v-4h2v4z\"/>\n",
              "    </g>\n",
              "</svg>\n",
              "      </button>\n",
              "    </div>\n",
              "\n",
              "<style>\n",
              "  .colab-df-quickchart {\n",
              "    background-color: #E8F0FE;\n",
              "    border: none;\n",
              "    border-radius: 50%;\n",
              "    cursor: pointer;\n",
              "    display: none;\n",
              "    fill: #1967D2;\n",
              "    height: 32px;\n",
              "    padding: 0 0 0 0;\n",
              "    width: 32px;\n",
              "  }\n",
              "\n",
              "  .colab-df-quickchart:hover {\n",
              "    background-color: #E2EBFA;\n",
              "    box-shadow: 0px 1px 2px rgba(60, 64, 67, 0.3), 0px 1px 3px 1px rgba(60, 64, 67, 0.15);\n",
              "    fill: #174EA6;\n",
              "  }\n",
              "\n",
              "  [theme=dark] .colab-df-quickchart {\n",
              "    background-color: #3B4455;\n",
              "    fill: #D2E3FC;\n",
              "  }\n",
              "\n",
              "  [theme=dark] .colab-df-quickchart:hover {\n",
              "    background-color: #434B5C;\n",
              "    box-shadow: 0px 1px 3px 1px rgba(0, 0, 0, 0.15);\n",
              "    filter: drop-shadow(0px 1px 2px rgba(0, 0, 0, 0.3));\n",
              "    fill: #FFFFFF;\n",
              "  }\n",
              "</style>\n",
              "\n",
              "    <script>\n",
              "      async function quickchart(key) {\n",
              "        const containerElement = document.querySelector('#' + key);\n",
              "        const charts = await google.colab.kernel.invokeFunction(\n",
              "            'suggestCharts', [key], {});\n",
              "      }\n",
              "    </script>\n",
              "\n",
              "      <script>\n",
              "\n",
              "function displayQuickchartButton(domScope) {\n",
              "  let quickchartButtonEl =\n",
              "    domScope.querySelector('#df-6e6acb7c-aa55-460c-a5fc-0976d4fa664d button.colab-df-quickchart');\n",
              "  quickchartButtonEl.style.display =\n",
              "    google.colab.kernel.accessAllowed ? 'block' : 'none';\n",
              "}\n",
              "\n",
              "        displayQuickchartButton(document);\n",
              "      </script>\n",
              "      <style>\n",
              "    .colab-df-container {\n",
              "      display:flex;\n",
              "      flex-wrap:wrap;\n",
              "      gap: 12px;\n",
              "    }\n",
              "\n",
              "    .colab-df-convert {\n",
              "      background-color: #E8F0FE;\n",
              "      border: none;\n",
              "      border-radius: 50%;\n",
              "      cursor: pointer;\n",
              "      display: none;\n",
              "      fill: #1967D2;\n",
              "      height: 32px;\n",
              "      padding: 0 0 0 0;\n",
              "      width: 32px;\n",
              "    }\n",
              "\n",
              "    .colab-df-convert:hover {\n",
              "      background-color: #E2EBFA;\n",
              "      box-shadow: 0px 1px 2px rgba(60, 64, 67, 0.3), 0px 1px 3px 1px rgba(60, 64, 67, 0.15);\n",
              "      fill: #174EA6;\n",
              "    }\n",
              "\n",
              "    [theme=dark] .colab-df-convert {\n",
              "      background-color: #3B4455;\n",
              "      fill: #D2E3FC;\n",
              "    }\n",
              "\n",
              "    [theme=dark] .colab-df-convert:hover {\n",
              "      background-color: #434B5C;\n",
              "      box-shadow: 0px 1px 3px 1px rgba(0, 0, 0, 0.15);\n",
              "      filter: drop-shadow(0px 1px 2px rgba(0, 0, 0, 0.3));\n",
              "      fill: #FFFFFF;\n",
              "    }\n",
              "  </style>\n",
              "\n",
              "      <script>\n",
              "        const buttonEl =\n",
              "          document.querySelector('#df-18f6b6ad-02f1-449d-ad7b-96a6ba459648 button.colab-df-convert');\n",
              "        buttonEl.style.display =\n",
              "          google.colab.kernel.accessAllowed ? 'block' : 'none';\n",
              "\n",
              "        async function convertToInteractive(key) {\n",
              "          const element = document.querySelector('#df-18f6b6ad-02f1-449d-ad7b-96a6ba459648');\n",
              "          const dataTable =\n",
              "            await google.colab.kernel.invokeFunction('convertToInteractive',\n",
              "                                                     [key], {});\n",
              "          if (!dataTable) return;\n",
              "\n",
              "          const docLinkHtml = 'Like what you see? Visit the ' +\n",
              "            '<a target=\"_blank\" href=https://colab.research.google.com/notebooks/data_table.ipynb>data table notebook</a>'\n",
              "            + ' to learn more about interactive tables.';\n",
              "          element.innerHTML = '';\n",
              "          dataTable['output_type'] = 'display_data';\n",
              "          await google.colab.output.renderOutput(dataTable, element);\n",
              "          const docLink = document.createElement('div');\n",
              "          docLink.innerHTML = docLinkHtml;\n",
              "          element.appendChild(docLink);\n",
              "        }\n",
              "      </script>\n",
              "    </div>\n",
              "  </div>\n"
            ]
          },
          "metadata": {},
          "execution_count": 10
        }
      ]
    },
    {
      "cell_type": "code",
      "source": [],
      "metadata": {
        "id": "2TIWzG4aGyup"
      },
      "execution_count": 10,
      "outputs": []
    },
    {
      "cell_type": "markdown",
      "source": [
        "\n",
        "$y_i$ = $f(x_i)$"
      ],
      "metadata": {
        "id": "p5C6QJIhaC2D"
      }
    },
    {
      "cell_type": "code",
      "source": [
        "Xmaria = [[0,0,1,1,0,0,39.90,1,0,0,0,1,0,1,0,0,0,0,1,1,1,0,0,1,0,1,0,0,0,0,1,0,0,1,0,0,0,1]]"
      ],
      "metadata": {
        "id": "hJKMOZxtGnv9"
      },
      "execution_count": 11,
      "outputs": []
    },
    {
      "cell_type": "code",
      "source": [
        "#ymaria=?"
      ],
      "metadata": {
        "id": "wEWPffHTGzOf"
      },
      "execution_count": 12,
      "outputs": []
    },
    {
      "cell_type": "code",
      "source": [],
      "metadata": {
        "id": "lT7dHJRPGnyV"
      },
      "execution_count": 12,
      "outputs": []
    },
    {
      "cell_type": "markdown",
      "source": [
        "Nuevos pares de información = ($Xmaria$, $ymaria$)"
      ],
      "metadata": {
        "id": "lut9qtF8aNUk"
      }
    },
    {
      "cell_type": "markdown",
      "source": [
        "### 1.6 Balanceo de los datos"
      ],
      "metadata": {
        "id": "jVoCMAN6amax"
      }
    },
    {
      "cell_type": "code",
      "source": [
        "import seaborn as sns"
      ],
      "metadata": {
        "id": "GcQYUZX7GsEj"
      },
      "execution_count": 13,
      "outputs": []
    },
    {
      "cell_type": "code",
      "source": [
        "sns.countplot(x='Churn',data=datos_final)"
      ],
      "metadata": {
        "id": "Px93DRl2GsHW",
        "colab": {
          "base_uri": "https://localhost:8080/",
          "height": 466
        },
        "outputId": "c28df12a-b957-4fff-82f2-6d9f64f467d5"
      },
      "execution_count": 14,
      "outputs": [
        {
          "output_type": "execute_result",
          "data": {
            "text/plain": [
              "<Axes: xlabel='Churn', ylabel='count'>"
            ]
          },
          "metadata": {},
          "execution_count": 14
        },
        {
          "output_type": "display_data",
          "data": {
            "text/plain": [
              "<Figure size 640x480 with 1 Axes>"
            ],
            "image/png": "[encoded data removed]"
          },
          "metadata": {}
        }
      ]
    },
    {
      "cell_type": "code",
      "source": [
        "datos_final.Churn.value_counts() #se recomienda crear datos artificiales de 1"
      ],
      "metadata": {
        "id": "rZBApt7OGsLS",
        "colab": {
          "base_uri": "https://localhost:8080/"
        },
        "outputId": "0c667fd0-8edd-46af-f7c8-f6a32a5a14ac"
      },
      "execution_count": 15,
      "outputs": [
        {
          "output_type": "execute_result",
          "data": {
            "text/plain": [
              "0    5174\n",
              "1    1869\n",
              "Name: Churn, dtype: int64"
            ]
          },
          "metadata": {},
          "execution_count": 15
        }
      ]
    },
    {
      "cell_type": "code",
      "source": [
        "from imblearn.over_sampling import SMOTE\n",
        "\n",
        "X = datos_final.drop(columns='Churn', axis=1)\n",
        "y = datos_final['Churn']\n",
        "\n",
        "\n",
        "smt = SMOTE(random_state=123)\n",
        "\n",
        "#muestreo oversampling\n",
        "X, y = smt.fit_resample(X,y)"
      ],
      "metadata": {
        "id": "4u2u7z4lyM04"
      },
      "execution_count": 16,
      "outputs": []
    },
    {
      "cell_type": "code",
      "source": [
        "datos_final.shape"
      ],
      "metadata": {
        "colab": {
          "base_uri": "https://localhost:8080/"
        },
        "id": "ov9T1fTAzCLb",
        "outputId": "f70486e2-2e53-4aed-b2fd-5d228c2c4e24"
      },
      "execution_count": 17,
      "outputs": [
        {
          "output_type": "execute_result",
          "data": {
            "text/plain": [
              "(7043, 39)"
            ]
          },
          "metadata": {},
          "execution_count": 17
        }
      ]
    },
    {
      "cell_type": "code",
      "source": [
        "datos_final = pd.concat([X,y],axis=1)\n",
        "datos_final.shape   #esto se hace para que quede balanceado"
      ],
      "metadata": {
        "colab": {
          "base_uri": "https://localhost:8080/"
        },
        "id": "Fe55eiBSy7ck",
        "outputId": "8b46bc33-1e5b-41a6-b491-1eafb5344f67"
      },
      "execution_count": 18,
      "outputs": [
        {
          "output_type": "execute_result",
          "data": {
            "text/plain": [
              "(10348, 39)"
            ]
          },
          "metadata": {},
          "execution_count": 18
        }
      ]
    },
    {
      "cell_type": "code",
      "source": [
        "#tomando muestras\n",
        "datos_final.sample(5)\n"
      ],
      "metadata": {
        "colab": {
          "base_uri": "https://localhost:8080/",
          "height": 270
        },
        "id": "DZMbwKyjzOjL",
        "outputId": "6de15eb5-0aea-4bf0-901a-ef44caaf8269"
      },
      "execution_count": 19,
      "outputs": [
        {
          "output_type": "execute_result",
          "data": {
            "text/plain": [
              "      Conyuge  Dependientes  TelefonoFijo  PagoOnline  Mayor65Anos  \\\n",
              "1592        1             1             1           1            0   \n",
              "5955        1             1             1           0            0   \n",
              "6079        1             0             1           0            0   \n",
              "4842        0             0             1           0            1   \n",
              "3101        0             0             1           1            0   \n",
              "\n",
              "      MesesDeContrato  CuentaMensual  VariasLineasTelefonicas_No  \\\n",
              "1592               42          77.95                           1   \n",
              "5955               72          68.40                           1   \n",
              "6079               25          54.10                           0   \n",
              "4842                9          54.55                           0   \n",
              "3101               58          79.80                           0   \n",
              "\n",
              "      VariasLineasTelefonicas_Si  \\\n",
              "1592                           0   \n",
              "5955                           0   \n",
              "6079                           1   \n",
              "4842                           1   \n",
              "3101                           1   \n",
              "\n",
              "      VariasLineasTelefonicas_SinServicioTelefonico  ServicioDeInternet_DSL  \\\n",
              "1592                                              0                       0   \n",
              "5955                                              0                       1   \n",
              "6079                                              0                       1   \n",
              "4842                                              0                       1   \n",
              "3101                                              0                       0   \n",
              "\n",
              "      ServicioDeInternet_FibraOptica  ServicioDeInternet_No  \\\n",
              "1592                               1                      0   \n",
              "5955                               0                      0   \n",
              "6079                               0                      0   \n",
              "4842                               0                      0   \n",
              "3101                               1                      0   \n",
              "\n",
              "      SeguridadOnline_No  SeguridadOnline_Si  \\\n",
              "1592                   1                   0   \n",
              "5955                   0                   1   \n",
              "6079                   1                   0   \n",
              "4842                   0                   1   \n",
              "3101                   0                   1   \n",
              "\n",
              "      SeguridadOnline_SinServicioDeInternet  BackupOnline_No  BackupOnline_Si  \\\n",
              "1592                                      0                1                0   \n",
              "5955                                      0                0                1   \n",
              "6079                                      0                0                1   \n",
              "4842                                      0                1                0   \n",
              "3101                                      0                1                0   \n",
              "\n",
              "      BackupOnline_SinServicioDeInternet  SeguroEnDispositivo_No  \\\n",
              "1592                                   0                       1   \n",
              "5955                                   0                       1   \n",
              "6079                                   0                       1   \n",
              "4842                                   0                       1   \n",
              "3101                                   0                       1   \n",
              "\n",
              "      SeguroEnDispositivo_Si  SeguroEnDispositivo_SinServicioDeInternet  \\\n",
              "1592                       0                                          0   \n",
              "5955                       0                                          0   \n",
              "6079                       0                                          0   \n",
              "4842                       0                                          0   \n",
              "3101                       0                                          0   \n",
              "\n",
              "      SoporteTecnico_No  SoporteTecnico_Si  \\\n",
              "1592                  1                  0   \n",
              "5955                  0                  1   \n",
              "6079                  1                  0   \n",
              "4842                  1                  0   \n",
              "3101                  1                  0   \n",
              "\n",
              "      SoporteTecnico_SinServicioDeInternet  TVaCable_No  TVaCable_Si  \\\n",
              "1592                                     0            0            1   \n",
              "5955                                     0            0            1   \n",
              "6079                                     0            1            0   \n",
              "4842                                     0            1            0   \n",
              "3101                                     0            1            0   \n",
              "\n",
              "      TVaCable_SinServicioDeInternet  StreamingDePeliculas_No  \\\n",
              "1592                               0                        1   \n",
              "5955                               0                        1   \n",
              "6079                               0                        1   \n",
              "4842                               0                        1   \n",
              "3101                               0                        1   \n",
              "\n",
              "      StreamingDePeliculas_Si  StreamingDePeliculas_SinServicioDeInternet  \\\n",
              "1592                        0                                           0   \n",
              "5955                        0                                           0   \n",
              "6079                        0                                           0   \n",
              "4842                        0                                           0   \n",
              "3101                        0                                           0   \n",
              "\n",
              "      TipoDeContrato_Anual  TipoDeContrato_Bienal  TipoDeContrato_Mensual  \\\n",
              "1592                     0                      0                       1   \n",
              "5955                     0                      1                       0   \n",
              "6079                     0                      0                       1   \n",
              "4842                     0                      0                       1   \n",
              "3101                     0                      0                       1   \n",
              "\n",
              "      FormaDePago_ChequeDigital  FormaDePago_ChequePapel  \\\n",
              "1592                          0                        0   \n",
              "5955                          0                        0   \n",
              "6079                          1                        0   \n",
              "4842                          1                        0   \n",
              "3101                          0                        0   \n",
              "\n",
              "      FormaDePago_DebitoAutomatico  FormaDePago_TarjetaDeCredito  Churn  \n",
              "1592                             0                             1      1  \n",
              "5955                             1                             0      0  \n",
              "6079                             0                             0      0  \n",
              "4842                             0                             0      1  \n",
              "3101                             1                             0      0  "
            ],
            "text/html": [
              "\n",
              "\n",
              "  <div id=\"df-629b445c-58c6-4b9d-a55f-cc329d2f1c8d\">\n",
              "    <div class=\"colab-df-container\">\n",
              "      <div>\n",
              "<style scoped>\n",
              "    .dataframe tbody tr th:only-of-type {\n",
              "        vertical-align: middle;\n",
              "    }\n",
              "\n",
              "    .dataframe tbody tr th {\n",
              "        vertical-align: top;\n",
              "    }\n",
              "\n",
              "    .dataframe thead th {\n",
              "        text-align: right;\n",
              "    }\n",
              "</style>\n",
              "<table border=\"1\" class=\"dataframe\">\n",
              "  <thead>\n",
              "    <tr style=\"text-align: right;\">\n",
              "      <th></th>\n",
              "      <th>Conyuge</th>\n",
              "      <th>Dependientes</th>\n",
              "      <th>TelefonoFijo</th>\n",
              "      <th>PagoOnline</th>\n",
              "      <th>Mayor65Anos</th>\n",
              "      <th>MesesDeContrato</th>\n",
              "      <th>CuentaMensual</th>\n",
              "      <th>VariasLineasTelefonicas_No</th>\n",
              "      <th>VariasLineasTelefonicas_Si</th>\n",
              "      <th>VariasLineasTelefonicas_SinServicioTelefonico</th>\n",
              "      <th>ServicioDeInternet_DSL</th>\n",
              "      <th>ServicioDeInternet_FibraOptica</th>\n",
              "      <th>ServicioDeInternet_No</th>\n",
              "      <th>SeguridadOnline_No</th>\n",
              "      <th>SeguridadOnline_Si</th>\n",
              "      <th>SeguridadOnline_SinServicioDeInternet</th>\n",
              "      <th>BackupOnline_No</th>\n",
              "      <th>BackupOnline_Si</th>\n",
              "      <th>BackupOnline_SinServicioDeInternet</th>\n",
              "      <th>SeguroEnDispositivo_No</th>\n",
              "      <th>SeguroEnDispositivo_Si</th>\n",
              "      <th>SeguroEnDispositivo_SinServicioDeInternet</th>\n",
              "      <th>SoporteTecnico_No</th>\n",
              "      <th>SoporteTecnico_Si</th>\n",
              "      <th>SoporteTecnico_SinServicioDeInternet</th>\n",
              "      <th>TVaCable_No</th>\n",
              "      <th>TVaCable_Si</th>\n",
              "      <th>TVaCable_SinServicioDeInternet</th>\n",
              "      <th>StreamingDePeliculas_No</th>\n",
              "      <th>StreamingDePeliculas_Si</th>\n",
              "      <th>StreamingDePeliculas_SinServicioDeInternet</th>\n",
              "      <th>TipoDeContrato_Anual</th>\n",
              "      <th>TipoDeContrato_Bienal</th>\n",
              "      <th>TipoDeContrato_Mensual</th>\n",
              "      <th>FormaDePago_ChequeDigital</th>\n",
              "      <th>FormaDePago_ChequePapel</th>\n",
              "      <th>FormaDePago_DebitoAutomatico</th>\n",
              "      <th>FormaDePago_TarjetaDeCredito</th>\n",
              "      <th>Churn</th>\n",
              "    </tr>\n",
              "  </thead>\n",
              "  <tbody>\n",
              "    <tr>\n",
              "      <th>1592</th>\n",
              "      <td>1</td>\n",
              "      <td>1</td>\n",
              "      <td>1</td>\n",
              "      <td>1</td>\n",
              "      <td>0</td>\n",
              "      <td>42</td>\n",
              "      <td>77.95</td>\n",
              "      <td>1</td>\n",
              "      <td>0</td>\n",
              "      <td>0</td>\n",
              "      <td>0</td>\n",
              "      <td>1</td>\n",
              "      <td>0</td>\n",
              "      <td>1</td>\n",
              "      <td>0</td>\n",
              "      <td>0</td>\n",
              "      <td>1</td>\n",
              "      <td>0</td>\n",
              "      <td>0</td>\n",
              "      <td>1</td>\n",
              "      <td>0</td>\n",
              "      <td>0</td>\n",
              "      <td>1</td>\n",
              "      <td>0</td>\n",
              "      <td>0</td>\n",
              "      <td>0</td>\n",
              "      <td>1</td>\n",
              "      <td>0</td>\n",
              "      <td>1</td>\n",
              "      <td>0</td>\n",
              "      <td>0</td>\n",
              "      <td>0</td>\n",
              "      <td>0</td>\n",
              "      <td>1</td>\n",
              "      <td>0</td>\n",
              "      <td>0</td>\n",
              "      <td>0</td>\n",
              "      <td>1</td>\n",
              "      <td>1</td>\n",
              "    </tr>\n",
              "    <tr>\n",
              "      <th>5955</th>\n",
              "      <td>1</td>\n",
              "      <td>1</td>\n",
              "      <td>1</td>\n",
              "      <td>0</td>\n",
              "      <td>0</td>\n",
              "      <td>72</td>\n",
              "      <td>68.40</td>\n",
              "      <td>1</td>\n",
              "      <td>0</td>\n",
              "      <td>0</td>\n",
              "      <td>1</td>\n",
              "      <td>0</td>\n",
              "      <td>0</td>\n",
              "      <td>0</td>\n",
              "      <td>1</td>\n",
              "      <td>0</td>\n",
              "      <td>0</td>\n",
              "      <td>1</td>\n",
              "      <td>0</td>\n",
              "      <td>1</td>\n",
              "      <td>0</td>\n",
              "      <td>0</td>\n",
              "      <td>0</td>\n",
              "      <td>1</td>\n",
              "      <td>0</td>\n",
              "      <td>0</td>\n",
              "      <td>1</td>\n",
              "      <td>0</td>\n",
              "      <td>1</td>\n",
              "      <td>0</td>\n",
              "      <td>0</td>\n",
              "      <td>0</td>\n",
              "      <td>1</td>\n",
              "      <td>0</td>\n",
              "      <td>0</td>\n",
              "      <td>0</td>\n",
              "      <td>1</td>\n",
              "      <td>0</td>\n",
              "      <td>0</td>\n",
              "    </tr>\n",
              "    <tr>\n",
              "      <th>6079</th>\n",
              "      <td>1</td>\n",
              "      <td>0</td>\n",
              "      <td>1</td>\n",
              "      <td>0</td>\n",
              "      <td>0</td>\n",
              "      <td>25</td>\n",
              "      <td>54.10</td>\n",
              "      <td>0</td>\n",
              "      <td>1</td>\n",
              "      <td>0</td>\n",
              "      <td>1</td>\n",
              "      <td>0</td>\n",
              "      <td>0</td>\n",
              "      <td>1</td>\n",
              "      <td>0</td>\n",
              "      <td>0</td>\n",
              "      <td>0</td>\n",
              "      <td>1</td>\n",
              "      <td>0</td>\n",
              "      <td>1</td>\n",
              "      <td>0</td>\n",
              "      <td>0</td>\n",
              "      <td>1</td>\n",
              "      <td>0</td>\n",
              "      <td>0</td>\n",
              "      <td>1</td>\n",
              "      <td>0</td>\n",
              "      <td>0</td>\n",
              "      <td>1</td>\n",
              "      <td>0</td>\n",
              "      <td>0</td>\n",
              "      <td>0</td>\n",
              "      <td>0</td>\n",
              "      <td>1</td>\n",
              "      <td>1</td>\n",
              "      <td>0</td>\n",
              "      <td>0</td>\n",
              "      <td>0</td>\n",
              "      <td>0</td>\n",
              "    </tr>\n",
              "    <tr>\n",
              "      <th>4842</th>\n",
              "      <td>0</td>\n",
              "      <td>0</td>\n",
              "      <td>1</td>\n",
              "      <td>0</td>\n",
              "      <td>1</td>\n",
              "      <td>9</td>\n",
              "      <td>54.55</td>\n",
              "      <td>0</td>\n",
              "      <td>1</td>\n",
              "      <td>0</td>\n",
              "      <td>1</td>\n",
              "      <td>0</td>\n",
              "      <td>0</td>\n",
              "      <td>0</td>\n",
              "      <td>1</td>\n",
              "      <td>0</td>\n",
              "      <td>1</td>\n",
              "      <td>0</td>\n",
              "      <td>0</td>\n",
              "      <td>1</td>\n",
              "      <td>0</td>\n",
              "      <td>0</td>\n",
              "      <td>1</td>\n",
              "      <td>0</td>\n",
              "      <td>0</td>\n",
              "      <td>1</td>\n",
              "      <td>0</td>\n",
              "      <td>0</td>\n",
              "      <td>1</td>\n",
              "      <td>0</td>\n",
              "      <td>0</td>\n",
              "      <td>0</td>\n",
              "      <td>0</td>\n",
              "      <td>1</td>\n",
              "      <td>1</td>\n",
              "      <td>0</td>\n",
              "      <td>0</td>\n",
              "      <td>0</td>\n",
              "      <td>1</td>\n",
              "    </tr>\n",
              "    <tr>\n",
              "      <th>3101</th>\n",
              "      <td>0</td>\n",
              "      <td>0</td>\n",
              "      <td>1</td>\n",
              "      <td>1</td>\n",
              "      <td>0</td>\n",
              "      <td>58</td>\n",
              "      <td>79.80</td>\n",
              "      <td>0</td>\n",
              "      <td>1</td>\n",
              "      <td>0</td>\n",
              "      <td>0</td>\n",
              "      <td>1</td>\n",
              "      <td>0</td>\n",
              "      <td>0</td>\n",
              "      <td>1</td>\n",
              "      <td>0</td>\n",
              "      <td>1</td>\n",
              "      <td>0</td>\n",
              "      <td>0</td>\n",
              "      <td>1</td>\n",
              "      <td>0</td>\n",
              "      <td>0</td>\n",
              "      <td>1</td>\n",
              "      <td>0</td>\n",
              "      <td>0</td>\n",
              "      <td>1</td>\n",
              "      <td>0</td>\n",
              "      <td>0</td>\n",
              "      <td>1</td>\n",
              "      <td>0</td>\n",
              "      <td>0</td>\n",
              "      <td>0</td>\n",
              "      <td>0</td>\n",
              "      <td>1</td>\n",
              "      <td>0</td>\n",
              "      <td>0</td>\n",
              "      <td>1</td>\n",
              "      <td>0</td>\n",
              "      <td>0</td>\n",
              "    </tr>\n",
              "  </tbody>\n",
              "</table>\n",
              "</div>\n",
              "      <button class=\"colab-df-convert\" onclick=\"convertToInteractive('df-629b445c-58c6-4b9d-a55f-cc329d2f1c8d')\"\n",
              "              title=\"Convert this dataframe to an interactive table.\"\n",
              "              style=\"display:none;\">\n",
              "\n",
              "  <svg xmlns=\"http://www.w3.org/2000/svg\" height=\"24px\"viewBox=\"0 0 24 24\"\n",
              "       width=\"24px\">\n",
              "    <path d=\"M0 0h24v24H0V0z\" fill=\"none\"/>\n",
              "    <path d=\"M18.56 5.44l.94 2.06.94-2.06 2.06-.94-2.06-.94-.94-2.06-.94 2.06-2.06.94zm-11 1L8.5 8.5l.94-2.06 2.06-.94-2.06-.94L8.5 2.5l-.94 2.06-2.06.94zm10 10l.94 2.06.94-2.06 2.06-.94-2.06-.94-.94-2.06-.94 2.06-2.06.94z\"/><path d=\"M17.41 7.96l-1.37-1.37c-.4-.4-.92-.59-1.43-.59-.52 0-1.04.2-1.43.59L10.3 9.45l-7.72 7.72c-.78.78-.78 2.05 0 2.83L4 21.41c.39.39.9.59 1.41.59.51 0 1.02-.2 1.41-.59l7.78-7.78 2.81-2.81c.8-.78.8-2.07 0-2.86zM5.41 20L4 18.59l7.72-7.72 1.47 1.35L5.41 20z\"/>\n",
              "  </svg>\n",
              "      </button>\n",
              "\n",
              "\n",
              "\n",
              "    <div id=\"df-e3ace43f-8080-4b3b-92ba-35726ef3a390\">\n",
              "      <button class=\"colab-df-quickchart\" onclick=\"quickchart('df-e3ace43f-8080-4b3b-92ba-35726ef3a390')\"\n",
              "              title=\"Suggest charts.\"\n",
              "              style=\"display:none;\">\n",
              "\n",
              "<svg xmlns=\"http://www.w3.org/2000/svg\" height=\"24px\"viewBox=\"0 0 24 24\"\n",
              "     width=\"24px\">\n",
              "    <g>\n",
              "        <path d=\"M19 3H5c-1.1 0-2 .9-2 2v14c0 1.1.9 2 2 2h14c1.1 0 2-.9 2-2V5c0-1.1-.9-2-2-2zM9 17H7v-7h2v7zm4 0h-2V7h2v10zm4 0h-2v-4h2v4z\"/>\n",
              "    </g>\n",
              "</svg>\n",
              "      </button>\n",
              "    </div>\n",
              "\n",
              "<style>\n",
              "  .colab-df-quickchart {\n",
              "    background-color: #E8F0FE;\n",
              "    border: none;\n",
              "    border-radius: 50%;\n",
              "    cursor: pointer;\n",
              "    display: none;\n",
              "    fill: #1967D2;\n",
              "    height: 32px;\n",
              "    padding: 0 0 0 0;\n",
              "    width: 32px;\n",
              "  }\n",
              "\n",
              "  .colab-df-quickchart:hover {\n",
              "    background-color: #E2EBFA;\n",
              "    box-shadow: 0px 1px 2px rgba(60, 64, 67, 0.3), 0px 1px 3px 1px rgba(60, 64, 67, 0.15);\n",
              "    fill: #174EA6;\n",
              "  }\n",
              "\n",
              "  [theme=dark] .colab-df-quickchart {\n",
              "    background-color: #3B4455;\n",
              "    fill: #D2E3FC;\n",
              "  }\n",
              "\n",
              "  [theme=dark] .colab-df-quickchart:hover {\n",
              "    background-color: #434B5C;\n",
              "    box-shadow: 0px 1px 3px 1px rgba(0, 0, 0, 0.15);\n",
              "    filter: drop-shadow(0px 1px 2px rgba(0, 0, 0, 0.3));\n",
              "    fill: #FFFFFF;\n",
              "  }\n",
              "</style>\n",
              "\n",
              "    <script>\n",
              "      async function quickchart(key) {\n",
              "        const containerElement = document.querySelector('#' + key);\n",
              "        const charts = await google.colab.kernel.invokeFunction(\n",
              "            'suggestCharts', [key], {});\n",
              "      }\n",
              "    </script>\n",
              "\n",
              "      <script>\n",
              "\n",
              "function displayQuickchartButton(domScope) {\n",
              "  let quickchartButtonEl =\n",
              "    domScope.querySelector('#df-e3ace43f-8080-4b3b-92ba-35726ef3a390 button.colab-df-quickchart');\n",
              "  quickchartButtonEl.style.display =\n",
              "    google.colab.kernel.accessAllowed ? 'block' : 'none';\n",
              "}\n",
              "\n",
              "        displayQuickchartButton(document);\n",
              "      </script>\n",
              "      <style>\n",
              "    .colab-df-container {\n",
              "      display:flex;\n",
              "      flex-wrap:wrap;\n",
              "      gap: 12px;\n",
              "    }\n",
              "\n",
              "    .colab-df-convert {\n",
              "      background-color: #E8F0FE;\n",
              "      border: none;\n",
              "      border-radius: 50%;\n",
              "      cursor: pointer;\n",
              "      display: none;\n",
              "      fill: #1967D2;\n",
              "      height: 32px;\n",
              "      padding: 0 0 0 0;\n",
              "      width: 32px;\n",
              "    }\n",
              "\n",
              "    .colab-df-convert:hover {\n",
              "      background-color: #E2EBFA;\n",
              "      box-shadow: 0px 1px 2px rgba(60, 64, 67, 0.3), 0px 1px 3px 1px rgba(60, 64, 67, 0.15);\n",
              "      fill: #174EA6;\n",
              "    }\n",
              "\n",
              "    [theme=dark] .colab-df-convert {\n",
              "      background-color: #3B4455;\n",
              "      fill: #D2E3FC;\n",
              "    }\n",
              "\n",
              "    [theme=dark] .colab-df-convert:hover {\n",
              "      background-color: #434B5C;\n",
              "      box-shadow: 0px 1px 3px 1px rgba(0, 0, 0, 0.15);\n",
              "      filter: drop-shadow(0px 1px 2px rgba(0, 0, 0, 0.3));\n",
              "      fill: #FFFFFF;\n",
              "    }\n",
              "  </style>\n",
              "\n",
              "      <script>\n",
              "        const buttonEl =\n",
              "          document.querySelector('#df-629b445c-58c6-4b9d-a55f-cc329d2f1c8d button.colab-df-convert');\n",
              "        buttonEl.style.display =\n",
              "          google.colab.kernel.accessAllowed ? 'block' : 'none';\n",
              "\n",
              "        async function convertToInteractive(key) {\n",
              "          const element = document.querySelector('#df-629b445c-58c6-4b9d-a55f-cc329d2f1c8d');\n",
              "          const dataTable =\n",
              "            await google.colab.kernel.invokeFunction('convertToInteractive',\n",
              "                                                     [key], {});\n",
              "          if (!dataTable) return;\n",
              "\n",
              "          const docLinkHtml = 'Like what you see? Visit the ' +\n",
              "            '<a target=\"_blank\" href=https://colab.research.google.com/notebooks/data_table.ipynb>data table notebook</a>'\n",
              "            + ' to learn more about interactive tables.';\n",
              "          element.innerHTML = '';\n",
              "          dataTable['output_type'] = 'display_data';\n",
              "          await google.colab.output.renderOutput(dataTable, element);\n",
              "          const docLink = document.createElement('div');\n",
              "          docLink.innerHTML = docLinkHtml;\n",
              "          element.appendChild(docLink);\n",
              "        }\n",
              "      </script>\n",
              "    </div>\n",
              "  </div>\n"
            ]
          },
          "metadata": {},
          "execution_count": 19
        }
      ]
    },
    {
      "cell_type": "code",
      "source": [
        "datos_final.Churn.value_counts()"
      ],
      "metadata": {
        "colab": {
          "base_uri": "https://localhost:8080/"
        },
        "id": "pEWy8eDqzbei",
        "outputId": "23c0f542-d402-4ceb-a16f-a8072a1ed1c0"
      },
      "execution_count": 20,
      "outputs": [
        {
          "output_type": "execute_result",
          "data": {
            "text/plain": [
              "0    5174\n",
              "1    5174\n",
              "Name: Churn, dtype: int64"
            ]
          },
          "metadata": {},
          "execution_count": 20
        }
      ]
    },
    {
      "cell_type": "code",
      "source": [
        "sns.countplot(x='Churn',data=datos_final) #para observar los datos ya balanceados, para que el clasificador detecte mejor la frontera de clasificacion"
      ],
      "metadata": {
        "colab": {
          "base_uri": "https://localhost:8080/",
          "height": 466
        },
        "id": "_SoZqUGyzgOM",
        "outputId": "8429cd51-4285-4005-d13b-558fd7eef1c1"
      },
      "execution_count": 21,
      "outputs": [
        {
          "output_type": "execute_result",
          "data": {
            "text/plain": [
              "<Axes: xlabel='Churn', ylabel='count'>"
            ]
          },
          "metadata": {},
          "execution_count": 21
        },
        {
          "output_type": "display_data",
          "data": {
            "text/plain": [
              "<Figure size 640x480 with 1 Axes>"
            ],
            "image/png": "[encoded data removed]"
          },
          "metadata": {}
        }
      ]
    },
    {
      "cell_type": "markdown",
      "source": [
        "Entre los algoritmos de clasificación más conocidos, podemos citar los siguientes:\n",
        "\n",
        "K-Nearest Neighbors (KNN);\n",
        "\n",
        "Support Vector Machine (SVM);\n",
        "Decision Tree Classifier;\n",
        "\n",
        "Random Forest Classifier.\n",
        "\n",
        "\n",
        "Entre los algoritmos de regresion se pueden citar los siguiente:\n",
        "\n",
        "Linear Regression;\n",
        "\n",
        "Random Forest Regressor;\n",
        "\n",
        "Support Vector Regression (SVR)."
      ],
      "metadata": {
        "id": "mRH_opocz-Y0"
      }
    },
    {
      "cell_type": "markdown",
      "source": [
        "En esta aula aprendimos a:\n",
        "\n",
        "Identificar los tipos de variables: Numéricas y Categóricas;\n",
        "\n",
        "Comprender el concepto de clasificación y cuando debemos utilizarlo;\n",
        "\n",
        "Explicar los cálculos matemáticos por detrás de la clasificación;\n",
        "\n",
        "\n",
        "Diferenciar la clasificación de la regresión;\n",
        "\n",
        "Demostrar el balanceo de los datos."
      ],
      "metadata": {
        "id": "Zck-str-0qjz"
      }
    },
    {
      "cell_type": "markdown",
      "source": [
        "## Aula 2"
      ],
      "metadata": {
        "id": "gcJbgkeEawhE"
      }
    },
    {
      "cell_type": "markdown",
      "source": [
        "### 2.2 KNN entre bastidores"
      ],
      "metadata": {
        "id": "pxwhvMLkazgJ"
      }
    },
    {
      "cell_type": "code",
      "source": [
        "Xmaria"
      ],
      "metadata": {
        "id": "okHZY0d3GNDr",
        "colab": {
          "base_uri": "https://localhost:8080/"
        },
        "outputId": "f1db4bd7-a796-403b-eed8-75999d79bc66"
      },
      "execution_count": 22,
      "outputs": [
        {
          "output_type": "execute_result",
          "data": {
            "text/plain": [
              "[[0,\n",
              "  0,\n",
              "  1,\n",
              "  1,\n",
              "  0,\n",
              "  0,\n",
              "  39.9,\n",
              "  1,\n",
              "  0,\n",
              "  0,\n",
              "  0,\n",
              "  1,\n",
              "  0,\n",
              "  1,\n",
              "  0,\n",
              "  0,\n",
              "  0,\n",
              "  0,\n",
              "  1,\n",
              "  1,\n",
              "  1,\n",
              "  0,\n",
              "  0,\n",
              "  1,\n",
              "  0,\n",
              "  1,\n",
              "  0,\n",
              "  0,\n",
              "  0,\n",
              "  0,\n",
              "  1,\n",
              "  0,\n",
              "  0,\n",
              "  1,\n",
              "  0,\n",
              "  0,\n",
              "  0,\n",
              "  1]]"
            ]
          },
          "metadata": {},
          "execution_count": 22
        }
      ]
    },
    {
      "cell_type": "code",
      "source": [
        "#ymaria = ?"
      ],
      "metadata": {
        "id": "QX6uc8gkGNGG"
      },
      "execution_count": 23,
      "outputs": []
    },
    {
      "cell_type": "code",
      "source": [
        "X = datos_final.drop(columns='Churn', axis=1)\n",
        "y = datos_final['Churn']"
      ],
      "metadata": {
        "id": "0_U_Omt9GRHf"
      },
      "execution_count": 24,
      "outputs": []
    },
    {
      "cell_type": "code",
      "source": [
        "#Estandarizar datos\n",
        "\n",
        "from sklearn.preprocessing import StandardScaler\n",
        "\n",
        "scaler = StandardScaler()\n",
        "\n",
        "X_std = scaler.fit_transform(X)"
      ],
      "metadata": {
        "id": "n6hFiO1WSt0p"
      },
      "execution_count": 25,
      "outputs": []
    },
    {
      "cell_type": "code",
      "source": [
        "X_std[0]"
      ],
      "metadata": {
        "colab": {
          "base_uri": "https://localhost:8080/"
        },
        "id": "iILGsr4GTIwV",
        "outputId": "81f255bc-a8cb-433f-e526-0ea2aa8169d2"
      },
      "execution_count": 26,
      "outputs": [
        {
          "output_type": "execute_result",
          "data": {
            "text/plain": [
              "array([ 1.26542767, -0.52771004, -3.06083934,  0.81482091, -0.41318358,\n",
              "       -1.10771815, -1.3217706 , -0.88447396, -0.83366906,  3.18604176,\n",
              "        1.51268338, -1.04386816, -0.44617598,  0.86827317, -0.51721942,\n",
              "       -0.44617598, -0.95834643,  1.57389661, -0.44617598,  1.04285807,\n",
              "       -0.64211419, -0.44617598,  0.87979784, -0.52426638, -0.44617598,\n",
              "        1.18690873, -0.77707385, -0.44617598,  1.20311799, -0.78976268,\n",
              "       -0.44617598, -0.41989297, -0.44648735,  0.73788726,  1.30373042,\n",
              "       -0.47912706, -0.4360152 , -0.42576817])"
            ]
          },
          "metadata": {},
          "execution_count": 26
        }
      ]
    },
    {
      "cell_type": "code",
      "source": [
        "Xmaria_std = scaler.transform(pd.DataFrame(Xmaria, columns=X.columns))"
      ],
      "metadata": {
        "id": "HR3JMxipTOX2"
      },
      "execution_count": 27,
      "outputs": []
    },
    {
      "cell_type": "markdown",
      "source": [
        "Distancia Euclidiana:\n",
        "\n",
        "$$\\sqrt{\\sum_{i=1}^k(a_{i}-b_{i})^2}$$"
      ],
      "metadata": {
        "id": "33x1WKuNkyfj"
      }
    },
    {
      "cell_type": "code",
      "source": [
        "import numpy as np\n",
        "\n",
        "a = Xmaria_std\n",
        "b = X_std[0]\n",
        "\n",
        "exponenciacion = np.square(a-b)\n",
        "suma = np.sum(exponenciacion)\n",
        "\n",
        "distancia = np.sqrt(suma)\n",
        "print(f'La distancia euclidiana de Maria con respecto al primer registro del dataset es : {distancia}')"
      ],
      "metadata": {
        "id": "osJZaYnXGPMZ",
        "colab": {
          "base_uri": "https://localhost:8080/"
        },
        "outputId": "ca4f79b1-dad9-4915-941e-a4b91da24b27"
      },
      "execution_count": 28,
      "outputs": [
        {
          "output_type": "stream",
          "name": "stdout",
          "text": [
            "La distancia euclidiana de Maria con respecto al primer registro del dataset es : 9.546414124830829\n"
          ]
        }
      ]
    },
    {
      "cell_type": "code",
      "source": [],
      "metadata": {
        "id": "dgjgiPw-GPPE"
      },
      "execution_count": 28,
      "outputs": []
    },
    {
      "cell_type": "code",
      "source": [],
      "metadata": {
        "id": "zVd_6XBIGSE1"
      },
      "execution_count": 28,
      "outputs": []
    },
    {
      "cell_type": "markdown",
      "source": [
        "### 2.3 Implementando el modelo KNN"
      ],
      "metadata": {
        "id": "x7MOiHlhkqa7"
      }
    },
    {
      "cell_type": "code",
      "source": [
        "from sklearn.model_selection import train_test_split\n",
        "\n",
        "X_train, X_test, y_train, y_test = train_test_split(X,y,test_size=0.3, random_state=123)"
      ],
      "metadata": {
        "id": "s4omzkiJGJF2"
      },
      "execution_count": 29,
      "outputs": []
    },
    {
      "cell_type": "code",
      "source": [
        "from sklearn.neighbors import KNeighborsClassifier\n",
        "\n",
        "knn = KNeighborsClassifier(metric='euclidean')\n",
        "knn.fit(X_train,y_train)"
      ],
      "metadata": {
        "id": "nQI3WTZPGJJC",
        "colab": {
          "base_uri": "https://localhost:8080/",
          "height": 74
        },
        "outputId": "3a18ce12-c782-434e-a544-3c6632d2974e"
      },
      "execution_count": 30,
      "outputs": [
        {
          "output_type": "execute_result",
          "data": {
            "text/plain": [
              "KNeighborsClassifier(metric='euclidean')"
            ],
            "text/html": [
              "<style>#sk-container-id-1 {color: black;background-color: white;}#sk-container-id-1 pre{padding: 0;}#sk-container-id-1 div.sk-toggleable {background-color: white;}#sk-container-id-1 label.sk-toggleable__label {cursor: pointer;display: block;width: 100%;margin-bottom: 0;padding: 0.3em;box-sizing: border-box;text-align: center;}#sk-container-id-1 label.sk-toggleable__label-arrow:before {content: \"▸\";float: left;margin-right: 0.25em;color: #696969;}#sk-container-id-1 label.sk-toggleable__label-arrow:hover:before {color: black;}#sk-container-id-1 div.sk-estimator:hover label.sk-toggleable__label-arrow:before {color: black;}#sk-container-id-1 div.sk-toggleable__content {max-height: 0;max-width: 0;overflow: hidden;text-align: left;background-color: #f0f8ff;}#sk-container-id-1 div.sk-toggleable__content pre {margin: 0.2em;color: black;border-radius: 0.25em;background-color: #f0f8ff;}#sk-container-id-1 input.sk-toggleable__control:checked~div.sk-toggleable__content {max-height: 200px;max-width: 100%;overflow: auto;}#sk-container-id-1 input.sk-toggleable__control:checked~label.sk-toggleable__label-arrow:before {content: \"▾\";}#sk-container-id-1 div.sk-estimator input.sk-toggleable__control:checked~label.sk-toggleable__label {background-color: #d4ebff;}#sk-container-id-1 div.sk-label input.sk-toggleable__control:checked~label.sk-toggleable__label {background-color: #d4ebff;}#sk-container-id-1 input.sk-hidden--visually {border: 0;clip: rect(1px 1px 1px 1px);clip: rect(1px, 1px, 1px, 1px);height: 1px;margin: -1px;overflow: hidden;padding: 0;position: absolute;width: 1px;}#sk-container-id-1 div.sk-estimator {font-family: monospace;background-color: #f0f8ff;border: 1px dotted black;border-radius: 0.25em;box-sizing: border-box;margin-bottom: 0.5em;}#sk-container-id-1 div.sk-estimator:hover {background-color: #d4ebff;}#sk-container-id-1 div.sk-parallel-item::after {content: \"\";width: 100%;border-bottom: 1px solid gray;flex-grow: 1;}#sk-container-id-1 div.sk-label:hover label.sk-toggleable__label {background-color: #d4ebff;}#sk-container-id-1 div.sk-serial::before {content: \"\";position: absolute;border-left: 1px solid gray;box-sizing: border-box;top: 0;bottom: 0;left: 50%;z-index: 0;}#sk-container-id-1 div.sk-serial {display: flex;flex-direction: column;align-items: center;background-color: white;padding-right: 0.2em;padding-left: 0.2em;position: relative;}#sk-container-id-1 div.sk-item {position: relative;z-index: 1;}#sk-container-id-1 div.sk-parallel {display: flex;align-items: stretch;justify-content: center;background-color: white;position: relative;}#sk-container-id-1 div.sk-item::before, #sk-container-id-1 div.sk-parallel-item::before {content: \"\";position: absolute;border-left: 1px solid gray;box-sizing: border-box;top: 0;bottom: 0;left: 50%;z-index: -1;}#sk-container-id-1 div.sk-parallel-item {display: flex;flex-direction: column;z-index: 1;position: relative;background-color: white;}#sk-container-id-1 div.sk-parallel-item:first-child::after {align-self: flex-end;width: 50%;}#sk-container-id-1 div.sk-parallel-item:last-child::after {align-self: flex-start;width: 50%;}#sk-container-id-1 div.sk-parallel-item:only-child::after {width: 0;}#sk-container-id-1 div.sk-dashed-wrapped {border: 1px dashed gray;margin: 0 0.4em 0.5em 0.4em;box-sizing: border-box;padding-bottom: 0.4em;background-color: white;}#sk-container-id-1 div.sk-label label {font-family: monospace;font-weight: bold;display: inline-block;line-height: 1.2em;}#sk-container-id-1 div.sk-label-container {text-align: center;}#sk-container-id-1 div.sk-container {/* jupyter's `normalize.less` sets `[hidden] { display: none; }` but bootstrap.min.css set `[hidden] { display: none !important; }` so we also need the `!important` here to be able to override the default hidden behavior on the sphinx rendered scikit-learn.org. See: https://github.com/scikit-learn/scikit-learn/issues/21755 */display: inline-block !important;position: relative;}#sk-container-id-1 div.sk-text-repr-fallback {display: none;}</style><div id=\"sk-container-id-1\" class=\"sk-top-container\"><div class=\"sk-text-repr-fallback\"><pre>KNeighborsClassifier(metric=&#x27;euclidean&#x27;)</pre><b>In a Jupyter environment, please rerun this cell to show the HTML representation or trust the notebook. <br />On GitHub, the HTML representation is unable to render, please try loading this page with nbviewer.org.</b></div><div class=\"sk-container\" hidden><div class=\"sk-item\"><div class=\"sk-estimator sk-toggleable\"><input class=\"sk-toggleable__control sk-hidden--visually\" id=\"sk-estimator-id-1\" type=\"checkbox\" checked><label for=\"sk-estimator-id-1\" class=\"sk-toggleable__label sk-toggleable__label-arrow\">KNeighborsClassifier</label><div class=\"sk-toggleable__content\"><pre>KNeighborsClassifier(metric=&#x27;euclidean&#x27;)</pre></div></div></div></div></div>"
            ]
          },
          "metadata": {},
          "execution_count": 30
        }
      ]
    },
    {
      "cell_type": "code",
      "source": [
        "prevision_knn = knn.predict(X_test)"
      ],
      "metadata": {
        "id": "VaeifugPGJRo"
      },
      "execution_count": 31,
      "outputs": []
    },
    {
      "cell_type": "code",
      "source": [
        "prevision_knn"
      ],
      "metadata": {
        "colab": {
          "base_uri": "https://localhost:8080/"
        },
        "id": "mmRKxDZGVkwi",
        "outputId": "a972ff29-8c53-486c-ed63-bc55f35e4997"
      },
      "execution_count": 32,
      "outputs": [
        {
          "output_type": "execute_result",
          "data": {
            "text/plain": [
              "array([1, 0, 1, ..., 1, 1, 1])"
            ]
          },
          "metadata": {},
          "execution_count": 32
        }
      ]
    },
    {
      "cell_type": "markdown",
      "source": [
        "Calculando distancias de Maria contra los 10 primeros clientes"
      ],
      "metadata": {
        "id": "uUpsZB0mXNEj"
      }
    },
    {
      "cell_type": "code",
      "source": [
        "def calcula_distancia(datos_clientes, datos_maria, numero_clientes):\n",
        "    distancias = []\n",
        "    #loop para recorrer cliente por cliente\n",
        "    for i in range(numero_clientes):\n",
        "        dist1 = datos_maria - datos_clientes[i]            #sustracción de los atributos\n",
        "        suma_cuadrado = np.sum(np.square(dist1))    #exp. y suma de todos los atributos\n",
        "        distancias.append(np.sqrt(suma_cuadrado))   #raiz cuadrada de la suma anterior\n",
        "    return distancias"
      ],
      "metadata": {
        "id": "ZuxaAD04XUE0"
      },
      "execution_count": 33,
      "outputs": []
    },
    {
      "cell_type": "code",
      "source": [
        "calcula_distancia(X_std, Xmaria_std, 10)"
      ],
      "metadata": {
        "colab": {
          "base_uri": "https://localhost:8080/"
        },
        "id": "XQomtJp3XUeU",
        "outputId": "6420c372-3618-4c25-8e34-677881a671b8"
      },
      "execution_count": 34,
      "outputs": [
        {
          "output_type": "execute_result",
          "data": {
            "text/plain": [
              "[9.546414124830829,\n",
              " 9.404030078619193,\n",
              " 8.463138138845297,\n",
              " 10.405324915150391,\n",
              " 7.109597577196519,\n",
              " 8.345667269659458,\n",
              " 8.030514660188228,\n",
              " 10.1371893774061,\n",
              " 8.119278746494642,\n",
              " 10.07511545026907]"
            ]
          },
          "metadata": {},
          "execution_count": 34
        }
      ]
    },
    {
      "cell_type": "markdown",
      "source": [
        "En esta aula aprendimos a:\n",
        "\n",
        "Utilizar la división del conjunto de datos en entrenamiento y prueba;\n",
        "\n",
        "Implementar el modelo K-nearest neighbors (KNN);\n",
        "\n",
        "Explicar cómo funciona el modelo KNN entre bastidores;\n",
        "\n",
        "Identificar las funciones de distancia"
      ],
      "metadata": {
        "id": "a7Rj2NNMX_km"
      }
    },
    {
      "cell_type": "markdown",
      "source": [
        "## Aula 3"
      ],
      "metadata": {
        "id": "eR7GwgGFpIYy"
      }
    },
    {
      "cell_type": "markdown",
      "source": [
        "### 3.3 Implementando el modelo Bernoulli Naive Bayes"
      ],
      "metadata": {
        "id": "2TORvjaqpKGp"
      }
    },
    {
      "cell_type": "code",
      "source": [
        "mediana = np.median(X_train)"
      ],
      "metadata": {
        "id": "uf4Amz3AF9R2"
      },
      "execution_count": 35,
      "outputs": []
    },
    {
      "cell_type": "code",
      "source": [
        "from sklearn.naive_bayes import BernoulliNB\n",
        "\n",
        "bnb = BernoulliNB(binarize=mediana)"
      ],
      "metadata": {
        "id": "60MSIlp_F9Ou"
      },
      "execution_count": 36,
      "outputs": []
    },
    {
      "cell_type": "code",
      "source": [
        "bnb.fit(X_train,y_train)"
      ],
      "metadata": {
        "id": "eNimJaz0F9VI",
        "colab": {
          "base_uri": "https://localhost:8080/",
          "height": 74
        },
        "outputId": "861ecc30-6cae-40d6-c185-4ed46fd5c2a3"
      },
      "execution_count": 37,
      "outputs": [
        {
          "output_type": "execute_result",
          "data": {
            "text/plain": [
              "BernoulliNB()"
            ],
            "text/html": [
              "<style>#sk-container-id-2 {color: black;background-color: white;}#sk-container-id-2 pre{padding: 0;}#sk-container-id-2 div.sk-toggleable {background-color: white;}#sk-container-id-2 label.sk-toggleable__label {cursor: pointer;display: block;width: 100%;margin-bottom: 0;padding: 0.3em;box-sizing: border-box;text-align: center;}#sk-container-id-2 label.sk-toggleable__label-arrow:before {content: \"▸\";float: left;margin-right: 0.25em;color: #696969;}#sk-container-id-2 label.sk-toggleable__label-arrow:hover:before {color: black;}#sk-container-id-2 div.sk-estimator:hover label.sk-toggleable__label-arrow:before {color: black;}#sk-container-id-2 div.sk-toggleable__content {max-height: 0;max-width: 0;overflow: hidden;text-align: left;background-color: #f0f8ff;}#sk-container-id-2 div.sk-toggleable__content pre {margin: 0.2em;color: black;border-radius: 0.25em;background-color: #f0f8ff;}#sk-container-id-2 input.sk-toggleable__control:checked~div.sk-toggleable__content {max-height: 200px;max-width: 100%;overflow: auto;}#sk-container-id-2 input.sk-toggleable__control:checked~label.sk-toggleable__label-arrow:before {content: \"▾\";}#sk-container-id-2 div.sk-estimator input.sk-toggleable__control:checked~label.sk-toggleable__label {background-color: #d4ebff;}#sk-container-id-2 div.sk-label input.sk-toggleable__control:checked~label.sk-toggleable__label {background-color: #d4ebff;}#sk-container-id-2 input.sk-hidden--visually {border: 0;clip: rect(1px 1px 1px 1px);clip: rect(1px, 1px, 1px, 1px);height: 1px;margin: -1px;overflow: hidden;padding: 0;position: absolute;width: 1px;}#sk-container-id-2 div.sk-estimator {font-family: monospace;background-color: #f0f8ff;border: 1px dotted black;border-radius: 0.25em;box-sizing: border-box;margin-bottom: 0.5em;}#sk-container-id-2 div.sk-estimator:hover {background-color: #d4ebff;}#sk-container-id-2 div.sk-parallel-item::after {content: \"\";width: 100%;border-bottom: 1px solid gray;flex-grow: 1;}#sk-container-id-2 div.sk-label:hover label.sk-toggleable__label {background-color: #d4ebff;}#sk-container-id-2 div.sk-serial::before {content: \"\";position: absolute;border-left: 1px solid gray;box-sizing: border-box;top: 0;bottom: 0;left: 50%;z-index: 0;}#sk-container-id-2 div.sk-serial {display: flex;flex-direction: column;align-items: center;background-color: white;padding-right: 0.2em;padding-left: 0.2em;position: relative;}#sk-container-id-2 div.sk-item {position: relative;z-index: 1;}#sk-container-id-2 div.sk-parallel {display: flex;align-items: stretch;justify-content: center;background-color: white;position: relative;}#sk-container-id-2 div.sk-item::before, #sk-container-id-2 div.sk-parallel-item::before {content: \"\";position: absolute;border-left: 1px solid gray;box-sizing: border-box;top: 0;bottom: 0;left: 50%;z-index: -1;}#sk-container-id-2 div.sk-parallel-item {display: flex;flex-direction: column;z-index: 1;position: relative;background-color: white;}#sk-container-id-2 div.sk-parallel-item:first-child::after {align-self: flex-end;width: 50%;}#sk-container-id-2 div.sk-parallel-item:last-child::after {align-self: flex-start;width: 50%;}#sk-container-id-2 div.sk-parallel-item:only-child::after {width: 0;}#sk-container-id-2 div.sk-dashed-wrapped {border: 1px dashed gray;margin: 0 0.4em 0.5em 0.4em;box-sizing: border-box;padding-bottom: 0.4em;background-color: white;}#sk-container-id-2 div.sk-label label {font-family: monospace;font-weight: bold;display: inline-block;line-height: 1.2em;}#sk-container-id-2 div.sk-label-container {text-align: center;}#sk-container-id-2 div.sk-container {/* jupyter's `normalize.less` sets `[hidden] { display: none; }` but bootstrap.min.css set `[hidden] { display: none !important; }` so we also need the `!important` here to be able to override the default hidden behavior on the sphinx rendered scikit-learn.org. See: https://github.com/scikit-learn/scikit-learn/issues/21755 */display: inline-block !important;position: relative;}#sk-container-id-2 div.sk-text-repr-fallback {display: none;}</style><div id=\"sk-container-id-2\" class=\"sk-top-container\"><div class=\"sk-text-repr-fallback\"><pre>BernoulliNB()</pre><b>In a Jupyter environment, please rerun this cell to show the HTML representation or trust the notebook. <br />On GitHub, the HTML representation is unable to render, please try loading this page with nbviewer.org.</b></div><div class=\"sk-container\" hidden><div class=\"sk-item\"><div class=\"sk-estimator sk-toggleable\"><input class=\"sk-toggleable__control sk-hidden--visually\" id=\"sk-estimator-id-2\" type=\"checkbox\" checked><label for=\"sk-estimator-id-2\" class=\"sk-toggleable__label sk-toggleable__label-arrow\">BernoulliNB</label><div class=\"sk-toggleable__content\"><pre>BernoulliNB()</pre></div></div></div></div></div>"
            ]
          },
          "metadata": {},
          "execution_count": 37
        }
      ]
    },
    {
      "cell_type": "code",
      "source": [
        "prevision_bnb = bnb.predict(X_test)"
      ],
      "metadata": {
        "id": "Sw6UyjLWXCM0"
      },
      "execution_count": 38,
      "outputs": []
    },
    {
      "cell_type": "code",
      "source": [
        "prevision_bnb"
      ],
      "metadata": {
        "colab": {
          "base_uri": "https://localhost:8080/"
        },
        "id": "RUHhi5JKXHiV",
        "outputId": "2b51d6b9-03cb-41ab-e841-ad827d5bb5fc"
      },
      "execution_count": 39,
      "outputs": [
        {
          "output_type": "execute_result",
          "data": {
            "text/plain": [
              "array([1, 0, 0, ..., 1, 1, 1])"
            ]
          },
          "metadata": {},
          "execution_count": 39
        }
      ]
    },
    {
      "cell_type": "markdown",
      "source": [
        "En esta aula aprendimos a:\n",
        "\n",
        "Utilizar el Clasificador de Naïve Bayes;\n",
        "\n",
        "Explicar los cálculos matemáticos por detrás del modelo;\n",
        "\n",
        "Implementar el algoritmo BernoulliNB();\n",
        "\n",
        "Explicar la probabilidad condicional y el teorema de Bayes."
      ],
      "metadata": {
        "id": "275ARmU_XtHn"
      }
    },
    {
      "cell_type": "markdown",
      "source": [
        "## Aula 4"
      ],
      "metadata": {
        "id": "VxcunjjspTkA"
      }
    },
    {
      "cell_type": "markdown",
      "source": [
        "### 4.3 Implementando el modelo de Árbol de Decisión"
      ],
      "metadata": {
        "id": "uxQOvvR_pbQ3"
      }
    },
    {
      "cell_type": "code",
      "source": [
        "from sklearn.tree import DecisionTreeClassifier\n",
        "\n",
        "dtc = DecisionTreeClassifier(criterion='entropy', random_state=42, max_depth=7)\n"
      ],
      "metadata": {
        "id": "3PO2nTk6FlfV"
      },
      "execution_count": 40,
      "outputs": []
    },
    {
      "cell_type": "code",
      "source": [
        "dtc.fit(X_train,y_train)"
      ],
      "metadata": {
        "id": "MQIJlr3LFliK",
        "colab": {
          "base_uri": "https://localhost:8080/",
          "height": 74
        },
        "outputId": "e564d655-c4ea-47b0-92ef-9cb2e3ce14f0"
      },
      "execution_count": 41,
      "outputs": [
        {
          "output_type": "execute_result",
          "data": {
            "text/plain": [
              "DecisionTreeClassifier(criterion='entropy', max_depth=7, random_state=42)"
            ],
            "text/html": [
              "<style>#sk-container-id-3 {color: black;background-color: white;}#sk-container-id-3 pre{padding: 0;}#sk-container-id-3 div.sk-toggleable {background-color: white;}#sk-container-id-3 label.sk-toggleable__label {cursor: pointer;display: block;width: 100%;margin-bottom: 0;padding: 0.3em;box-sizing: border-box;text-align: center;}#sk-container-id-3 label.sk-toggleable__label-arrow:before {content: \"▸\";float: left;margin-right: 0.25em;color: #696969;}#sk-container-id-3 label.sk-toggleable__label-arrow:hover:before {color: black;}#sk-container-id-3 div.sk-estimator:hover label.sk-toggleable__label-arrow:before {color: black;}#sk-container-id-3 div.sk-toggleable__content {max-height: 0;max-width: 0;overflow: hidden;text-align: left;background-color: #f0f8ff;}#sk-container-id-3 div.sk-toggleable__content pre {margin: 0.2em;color: black;border-radius: 0.25em;background-color: #f0f8ff;}#sk-container-id-3 input.sk-toggleable__control:checked~div.sk-toggleable__content {max-height: 200px;max-width: 100%;overflow: auto;}#sk-container-id-3 input.sk-toggleable__control:checked~label.sk-toggleable__label-arrow:before {content: \"▾\";}#sk-container-id-3 div.sk-estimator input.sk-toggleable__control:checked~label.sk-toggleable__label {background-color: #d4ebff;}#sk-container-id-3 div.sk-label input.sk-toggleable__control:checked~label.sk-toggleable__label {background-color: #d4ebff;}#sk-container-id-3 input.sk-hidden--visually {border: 0;clip: rect(1px 1px 1px 1px);clip: rect(1px, 1px, 1px, 1px);height: 1px;margin: -1px;overflow: hidden;padding: 0;position: absolute;width: 1px;}#sk-container-id-3 div.sk-estimator {font-family: monospace;background-color: #f0f8ff;border: 1px dotted black;border-radius: 0.25em;box-sizing: border-box;margin-bottom: 0.5em;}#sk-container-id-3 div.sk-estimator:hover {background-color: #d4ebff;}#sk-container-id-3 div.sk-parallel-item::after {content: \"\";width: 100%;border-bottom: 1px solid gray;flex-grow: 1;}#sk-container-id-3 div.sk-label:hover label.sk-toggleable__label {background-color: #d4ebff;}#sk-container-id-3 div.sk-serial::before {content: \"\";position: absolute;border-left: 1px solid gray;box-sizing: border-box;top: 0;bottom: 0;left: 50%;z-index: 0;}#sk-container-id-3 div.sk-serial {display: flex;flex-direction: column;align-items: center;background-color: white;padding-right: 0.2em;padding-left: 0.2em;position: relative;}#sk-container-id-3 div.sk-item {position: relative;z-index: 1;}#sk-container-id-3 div.sk-parallel {display: flex;align-items: stretch;justify-content: center;background-color: white;position: relative;}#sk-container-id-3 div.sk-item::before, #sk-container-id-3 div.sk-parallel-item::before {content: \"\";position: absolute;border-left: 1px solid gray;box-sizing: border-box;top: 0;bottom: 0;left: 50%;z-index: -1;}#sk-container-id-3 div.sk-parallel-item {display: flex;flex-direction: column;z-index: 1;position: relative;background-color: white;}#sk-container-id-3 div.sk-parallel-item:first-child::after {align-self: flex-end;width: 50%;}#sk-container-id-3 div.sk-parallel-item:last-child::after {align-self: flex-start;width: 50%;}#sk-container-id-3 div.sk-parallel-item:only-child::after {width: 0;}#sk-container-id-3 div.sk-dashed-wrapped {border: 1px dashed gray;margin: 0 0.4em 0.5em 0.4em;box-sizing: border-box;padding-bottom: 0.4em;background-color: white;}#sk-container-id-3 div.sk-label label {font-family: monospace;font-weight: bold;display: inline-block;line-height: 1.2em;}#sk-container-id-3 div.sk-label-container {text-align: center;}#sk-container-id-3 div.sk-container {/* jupyter's `normalize.less` sets `[hidden] { display: none; }` but bootstrap.min.css set `[hidden] { display: none !important; }` so we also need the `!important` here to be able to override the default hidden behavior on the sphinx rendered scikit-learn.org. See: https://github.com/scikit-learn/scikit-learn/issues/21755 */display: inline-block !important;position: relative;}#sk-container-id-3 div.sk-text-repr-fallback {display: none;}</style><div id=\"sk-container-id-3\" class=\"sk-top-container\"><div class=\"sk-text-repr-fallback\"><pre>DecisionTreeClassifier(criterion=&#x27;entropy&#x27;, max_depth=7, random_state=42)</pre><b>In a Jupyter environment, please rerun this cell to show the HTML representation or trust the notebook. <br />On GitHub, the HTML representation is unable to render, please try loading this page with nbviewer.org.</b></div><div class=\"sk-container\" hidden><div class=\"sk-item\"><div class=\"sk-estimator sk-toggleable\"><input class=\"sk-toggleable__control sk-hidden--visually\" id=\"sk-estimator-id-3\" type=\"checkbox\" checked><label for=\"sk-estimator-id-3\" class=\"sk-toggleable__label sk-toggleable__label-arrow\">DecisionTreeClassifier</label><div class=\"sk-toggleable__content\"><pre>DecisionTreeClassifier(criterion=&#x27;entropy&#x27;, max_depth=7, random_state=42)</pre></div></div></div></div></div>"
            ]
          },
          "metadata": {},
          "execution_count": 41
        }
      ]
    },
    {
      "cell_type": "code",
      "source": [
        "dtc.feature_importances_"
      ],
      "metadata": {
        "id": "PAs-zC0dFlpc",
        "colab": {
          "base_uri": "https://localhost:8080/"
        },
        "outputId": "4c809896-25e3-4531-a9de-1ab55efc88c1"
      },
      "execution_count": 42,
      "outputs": [
        {
          "output_type": "execute_result",
          "data": {
            "text/plain": [
              "array([0.00650752, 0.00718729, 0.00946627, 0.00325253, 0.        ,\n",
              "       0.12121953, 0.06273966, 0.00982336, 0.00520748, 0.00574605,\n",
              "       0.00404197, 0.06381975, 0.        , 0.0034002 , 0.0181855 ,\n",
              "       0.        , 0.        , 0.00577616, 0.        , 0.        ,\n",
              "       0.        , 0.00751337, 0.01870472, 0.02871003, 0.        ,\n",
              "       0.        , 0.        , 0.        , 0.00571023, 0.01816449,\n",
              "       0.        , 0.151868  , 0.07388663, 0.33369176, 0.00098848,\n",
              "       0.00747076, 0.01120199, 0.0157163 ])"
            ]
          },
          "metadata": {},
          "execution_count": 42
        }
      ]
    },
    {
      "cell_type": "code",
      "source": [
        "# graficar arbol de decision\n",
        "from sklearn.tree import export_graphviz\n",
        "import graphviz\n",
        "\n",
        "\n",
        "features = X.columns\n",
        "dot_data = export_graphviz(dtc,feature_names=features)\n",
        "grafico = graphviz.Source(dot_data)\n",
        "\n",
        "grafico"
      ],
      "metadata": {
        "colab": {
          "base_uri": "https://localhost:8080/",
          "height": 1000
        },
        "id": "-cMTgJBpXkQP",
        "outputId": "a618bd07-b030-4e31-eb29-17eddebb1139"
      },
      "execution_count": 43,
      "outputs": [
        {
          "output_type": "execute_result",
          "data": {
            "image/svg+xml": "<?xml version=\"1.0\" encoding=\"UTF-8\" standalone=\"no\"?>\n<!DOCTYPE svg PUBLIC \"-//W3C//DTD SVG 1.1//EN\"\n \"http://www.w3.org/Graphics/SVG/1.1/DTD/svg11.dtd\">\n<!-- Generated by graphviz version 2.43.0 (0)\n -->\n<!-- Title: Tree Pages: 1 -->\n<svg width=\"9938pt\" height=\"789pt\"\n viewBox=\"0.00 0.00 9937.50 789.00\" xmlns=\"http://www.w3.org/2000/svg\" xmlns:xlink=\"http://www.w3.org/1999/xlink\">\n<g id=\"graph0\" class=\"graph\" transform=\"scale(1 1) rotate(0) translate(4 785)\">\n<title>Tree</title>\n<polygon fill=\"white\" stroke=\"transparent\" points=\"-4,4 -4,-785 9933.5,-785 9933.5,4 -4,4\"/>\n<!-- 0 -->\n<g id=\"node1\" class=\"node\">\n<title>0</title>\n<polygon fill=\"none\" stroke=\"black\" points=\"4077.5,-781 3863.5,-781 3863.5,-713 4077.5,-713 4077.5,-781\"/>\n<text text-anchor=\"middle\" x=\"3970.5\" y=\"-765.8\" font-family=\"Helvetica,sans-Serif\" font-size=\"14.00\">TipoDeContrato_Mensual &lt;= 0.5</text>\n<text text-anchor=\"middle\" x=\"3970.5\" y=\"-750.8\" font-family=\"Helvetica,sans-Serif\" font-size=\"14.00\">entropy = 1.0</text>\n<text text-anchor=\"middle\" x=\"3970.5\" y=\"-735.8\" font-family=\"Helvetica,sans-Serif\" font-size=\"14.00\">samples = 7243</text>\n<text text-anchor=\"middle\" x=\"3970.5\" y=\"-720.8\" font-family=\"Helvetica,sans-Serif\" font-size=\"14.00\">value = [3605, 3638]</text>\n</g>\n<!-- 1 -->\n<g id=\"node2\" class=\"node\">\n<title>1</title>\n<polygon fill=\"none\" stroke=\"black\" points=\"2609.5,-677 2409.5,-677 2409.5,-609 2609.5,-609 2609.5,-677\"/>\n<text text-anchor=\"middle\" x=\"2509.5\" y=\"-661.8\" font-family=\"Helvetica,sans-Serif\" font-size=\"14.00\">TipoDeContrato_Bienal &lt;= 0.5</text>\n<text text-anchor=\"middle\" x=\"2509.5\" y=\"-646.8\" font-family=\"Helvetica,sans-Serif\" font-size=\"14.00\">entropy = 0.701</text>\n<text text-anchor=\"middle\" x=\"2509.5\" y=\"-631.8\" font-family=\"Helvetica,sans-Serif\" font-size=\"14.00\">samples = 2560</text>\n<text text-anchor=\"middle\" x=\"2509.5\" y=\"-616.8\" font-family=\"Helvetica,sans-Serif\" font-size=\"14.00\">value = [2074, 486]</text>\n</g>\n<!-- 0&#45;&gt;1 -->\n<g id=\"edge1\" class=\"edge\">\n<title>0&#45;&gt;1</title>\n<path fill=\"none\" stroke=\"black\" d=\"M3863.37,-738.52C3594.41,-719.74 2892.81,-670.76 2620.14,-651.72\"/>\n<polygon fill=\"black\" stroke=\"black\" points=\"2620.05,-648.21 2609.84,-651 2619.57,-655.19 2620.05,-648.21\"/>\n<text text-anchor=\"middle\" x=\"2626.24\" y=\"-666.17\" font-family=\"Helvetica,sans-Serif\" font-size=\"14.00\">True</text>\n</g>\n<!-- 72 -->\n<g id=\"node73\" class=\"node\">\n<title>72</title>\n<polygon fill=\"none\" stroke=\"black\" points=\"5115.5,-677 4867.5,-677 4867.5,-609 5115.5,-609 5115.5,-677\"/>\n<text text-anchor=\"middle\" x=\"4991.5\" y=\"-661.8\" font-family=\"Helvetica,sans-Serif\" font-size=\"14.00\">ServicioDeInternet_FibraOptica &lt;= 0.5</text>\n<text text-anchor=\"middle\" x=\"4991.5\" y=\"-646.8\" font-family=\"Helvetica,sans-Serif\" font-size=\"14.00\">entropy = 0.912</text>\n<text text-anchor=\"middle\" x=\"4991.5\" y=\"-631.8\" font-family=\"Helvetica,sans-Serif\" font-size=\"14.00\">samples = 4683</text>\n<text text-anchor=\"middle\" x=\"4991.5\" y=\"-616.8\" font-family=\"Helvetica,sans-Serif\" font-size=\"14.00\">value = [1531, 3152]</text>\n</g>\n<!-- 0&#45;&gt;72 -->\n<g id=\"edge72\" class=\"edge\">\n<title>0&#45;&gt;72</title>\n<path fill=\"none\" stroke=\"black\" d=\"M4077.84,-735.28C4265.38,-716.54 4652.26,-677.89 4857.23,-657.41\"/>\n<polygon fill=\"black\" stroke=\"black\" points=\"4857.85,-660.87 4867.46,-656.39 4857.16,-653.9 4857.85,-660.87\"/>\n<text text-anchor=\"middle\" x=\"4851.62\" y=\"-672.04\" font-family=\"Helvetica,sans-Serif\" font-size=\"14.00\">False</text>\n</g>\n<!-- 2 -->\n<g id=\"node3\" class=\"node\">\n<title>2</title>\n<polygon fill=\"none\" stroke=\"black\" points=\"1377,-573 1180,-573 1180,-505 1377,-505 1377,-573\"/>\n<text text-anchor=\"middle\" x=\"1278.5\" y=\"-557.8\" font-family=\"Helvetica,sans-Serif\" font-size=\"14.00\">TipoDeContrato_Anual &lt;= 0.5</text>\n<text text-anchor=\"middle\" x=\"1278.5\" y=\"-542.8\" font-family=\"Helvetica,sans-Serif\" font-size=\"14.00\">entropy = 0.905</text>\n<text text-anchor=\"middle\" x=\"1278.5\" y=\"-527.8\" font-family=\"Helvetica,sans-Serif\" font-size=\"14.00\">samples = 1353</text>\n<text text-anchor=\"middle\" x=\"1278.5\" y=\"-512.8\" font-family=\"Helvetica,sans-Serif\" font-size=\"14.00\">value = [919, 434]</text>\n</g>\n<!-- 1&#45;&gt;2 -->\n<g id=\"edge2\" class=\"edge\">\n<title>1&#45;&gt;2</title>\n<path fill=\"none\" stroke=\"black\" d=\"M2409.28,-633.7C2180.95,-614.78 1623.6,-568.6 1387.28,-549.01\"/>\n<polygon fill=\"black\" stroke=\"black\" points=\"1387.55,-545.52 1377.3,-548.19 1386.98,-552.5 1387.55,-545.52\"/>\n</g>\n<!-- 33 -->\n<g id=\"node34\" class=\"node\">\n<title>33</title>\n<polygon fill=\"none\" stroke=\"black\" points=\"2598,-573 2421,-573 2421,-505 2598,-505 2598,-573\"/>\n<text text-anchor=\"middle\" x=\"2509.5\" y=\"-557.8\" font-family=\"Helvetica,sans-Serif\" font-size=\"14.00\">CuentaMensual &lt;= 92.425</text>\n<text text-anchor=\"middle\" x=\"2509.5\" y=\"-542.8\" font-family=\"Helvetica,sans-Serif\" font-size=\"14.00\">entropy = 0.256</text>\n<text text-anchor=\"middle\" x=\"2509.5\" y=\"-527.8\" font-family=\"Helvetica,sans-Serif\" font-size=\"14.00\">samples = 1207</text>\n<text text-anchor=\"middle\" x=\"2509.5\" y=\"-512.8\" font-family=\"Helvetica,sans-Serif\" font-size=\"14.00\">value = [1155, 52]</text>\n</g>\n<!-- 1&#45;&gt;33 -->\n<g id=\"edge33\" class=\"edge\">\n<title>1&#45;&gt;33</title>\n<path fill=\"none\" stroke=\"black\" d=\"M2509.5,-608.88C2509.5,-600.78 2509.5,-591.98 2509.5,-583.47\"/>\n<polygon fill=\"black\" stroke=\"black\" points=\"2513,-583.3 2509.5,-573.3 2506,-583.3 2513,-583.3\"/>\n</g>\n<!-- 3 -->\n<g id=\"node4\" class=\"node\">\n<title>3</title>\n<polygon fill=\"none\" stroke=\"black\" points=\"1154.5,-461.5 1044.5,-461.5 1044.5,-408.5 1154.5,-408.5 1154.5,-461.5\"/>\n<text text-anchor=\"middle\" x=\"1099.5\" y=\"-446.3\" font-family=\"Helvetica,sans-Serif\" font-size=\"14.00\">entropy = 0.0</text>\n<text text-anchor=\"middle\" x=\"1099.5\" y=\"-431.3\" font-family=\"Helvetica,sans-Serif\" font-size=\"14.00\">samples = 261</text>\n<text text-anchor=\"middle\" x=\"1099.5\" y=\"-416.3\" font-family=\"Helvetica,sans-Serif\" font-size=\"14.00\">value = [0, 261]</text>\n</g>\n<!-- 2&#45;&gt;3 -->\n<g id=\"edge3\" class=\"edge\">\n<title>2&#45;&gt;3</title>\n<path fill=\"none\" stroke=\"black\" d=\"M1220.38,-504.88C1198.77,-492.57 1174.35,-478.65 1153.16,-466.57\"/>\n<polygon fill=\"black\" stroke=\"black\" points=\"1154.71,-463.43 1144.28,-461.52 1151.24,-469.51 1154.71,-463.43\"/>\n</g>\n<!-- 4 -->\n<g id=\"node5\" class=\"node\">\n<title>4</title>\n<polygon fill=\"none\" stroke=\"black\" points=\"1384.5,-469 1172.5,-469 1172.5,-401 1384.5,-401 1384.5,-469\"/>\n<text text-anchor=\"middle\" x=\"1278.5\" y=\"-453.8\" font-family=\"Helvetica,sans-Serif\" font-size=\"14.00\">StreamingDePeliculas_Si &lt;= 0.5</text>\n<text text-anchor=\"middle\" x=\"1278.5\" y=\"-438.8\" font-family=\"Helvetica,sans-Serif\" font-size=\"14.00\">entropy = 0.631</text>\n<text text-anchor=\"middle\" x=\"1278.5\" y=\"-423.8\" font-family=\"Helvetica,sans-Serif\" font-size=\"14.00\">samples = 1092</text>\n<text text-anchor=\"middle\" x=\"1278.5\" y=\"-408.8\" font-family=\"Helvetica,sans-Serif\" font-size=\"14.00\">value = [919, 173]</text>\n</g>\n<!-- 2&#45;&gt;4 -->\n<g id=\"edge4\" class=\"edge\">\n<title>2&#45;&gt;4</title>\n<path fill=\"none\" stroke=\"black\" d=\"M1278.5,-504.88C1278.5,-496.78 1278.5,-487.98 1278.5,-479.47\"/>\n<polygon fill=\"black\" stroke=\"black\" points=\"1282,-479.3 1278.5,-469.3 1275,-479.3 1282,-479.3\"/>\n</g>\n<!-- 5 -->\n<g id=\"node6\" class=\"node\">\n<title>5</title>\n<polygon fill=\"none\" stroke=\"black\" points=\"752,-365 575,-365 575,-297 752,-297 752,-365\"/>\n<text text-anchor=\"middle\" x=\"663.5\" y=\"-349.8\" font-family=\"Helvetica,sans-Serif\" font-size=\"14.00\">CuentaMensual &lt;= 60.025</text>\n<text text-anchor=\"middle\" x=\"663.5\" y=\"-334.8\" font-family=\"Helvetica,sans-Serif\" font-size=\"14.00\">entropy = 0.336</text>\n<text text-anchor=\"middle\" x=\"663.5\" y=\"-319.8\" font-family=\"Helvetica,sans-Serif\" font-size=\"14.00\">samples = 578</text>\n<text text-anchor=\"middle\" x=\"663.5\" y=\"-304.8\" font-family=\"Helvetica,sans-Serif\" font-size=\"14.00\">value = [542, 36]</text>\n</g>\n<!-- 4&#45;&gt;5 -->\n<g id=\"edge5\" class=\"edge\">\n<title>4&#45;&gt;5</title>\n<path fill=\"none\" stroke=\"black\" d=\"M1172.43,-402.97C1169.43,-402.28 1166.45,-401.62 1163.5,-401 1025.7,-371.87 863.84,-352.12 762.45,-341.45\"/>\n<polygon fill=\"black\" stroke=\"black\" points=\"762.53,-337.94 752.22,-340.39 761.8,-344.91 762.53,-337.94\"/>\n</g>\n<!-- 18 -->\n<g id=\"node19\" class=\"node\">\n<title>18</title>\n<polygon fill=\"none\" stroke=\"black\" points=\"1367,-365 1190,-365 1190,-297 1367,-297 1367,-365\"/>\n<text text-anchor=\"middle\" x=\"1278.5\" y=\"-349.8\" font-family=\"Helvetica,sans-Serif\" font-size=\"14.00\">CuentaMensual &lt;= 101.95</text>\n<text text-anchor=\"middle\" x=\"1278.5\" y=\"-334.8\" font-family=\"Helvetica,sans-Serif\" font-size=\"14.00\">entropy = 0.836</text>\n<text text-anchor=\"middle\" x=\"1278.5\" y=\"-319.8\" font-family=\"Helvetica,sans-Serif\" font-size=\"14.00\">samples = 514</text>\n<text text-anchor=\"middle\" x=\"1278.5\" y=\"-304.8\" font-family=\"Helvetica,sans-Serif\" font-size=\"14.00\">value = [377, 137]</text>\n</g>\n<!-- 4&#45;&gt;18 -->\n<g id=\"edge18\" class=\"edge\">\n<title>4&#45;&gt;18</title>\n<path fill=\"none\" stroke=\"black\" d=\"M1278.5,-400.88C1278.5,-392.78 1278.5,-383.98 1278.5,-375.47\"/>\n<polygon fill=\"black\" stroke=\"black\" points=\"1282,-375.3 1278.5,-365.3 1275,-375.3 1282,-375.3\"/>\n</g>\n<!-- 6 -->\n<g id=\"node7\" class=\"node\">\n<title>6</title>\n<polygon fill=\"none\" stroke=\"black\" points=\"491,-261 254,-261 254,-193 491,-193 491,-261\"/>\n<text text-anchor=\"middle\" x=\"372.5\" y=\"-245.8\" font-family=\"Helvetica,sans-Serif\" font-size=\"14.00\">FormaDePago_ChequePapel &lt;= 0.5</text>\n<text text-anchor=\"middle\" x=\"372.5\" y=\"-230.8\" font-family=\"Helvetica,sans-Serif\" font-size=\"14.00\">entropy = 0.235</text>\n<text text-anchor=\"middle\" x=\"372.5\" y=\"-215.8\" font-family=\"Helvetica,sans-Serif\" font-size=\"14.00\">samples = 391</text>\n<text text-anchor=\"middle\" x=\"372.5\" y=\"-200.8\" font-family=\"Helvetica,sans-Serif\" font-size=\"14.00\">value = [376, 15]</text>\n</g>\n<!-- 5&#45;&gt;6 -->\n<g id=\"edge6\" class=\"edge\">\n<title>5&#45;&gt;6</title>\n<path fill=\"none\" stroke=\"black\" d=\"M574.61,-298.84C543.5,-287.94 508.3,-275.6 476.09,-264.31\"/>\n<polygon fill=\"black\" stroke=\"black\" points=\"477.24,-261.01 466.65,-261 474.93,-267.61 477.24,-261.01\"/>\n</g>\n<!-- 13 -->\n<g id=\"node14\" class=\"node\">\n<title>13</title>\n<polygon fill=\"none\" stroke=\"black\" points=\"772.5,-261 554.5,-261 554.5,-193 772.5,-193 772.5,-261\"/>\n<text text-anchor=\"middle\" x=\"663.5\" y=\"-245.8\" font-family=\"Helvetica,sans-Serif\" font-size=\"14.00\">StreamingDePeliculas_No &lt;= 0.5</text>\n<text text-anchor=\"middle\" x=\"663.5\" y=\"-230.8\" font-family=\"Helvetica,sans-Serif\" font-size=\"14.00\">entropy = 0.507</text>\n<text text-anchor=\"middle\" x=\"663.5\" y=\"-215.8\" font-family=\"Helvetica,sans-Serif\" font-size=\"14.00\">samples = 187</text>\n<text text-anchor=\"middle\" x=\"663.5\" y=\"-200.8\" font-family=\"Helvetica,sans-Serif\" font-size=\"14.00\">value = [166, 21]</text>\n</g>\n<!-- 5&#45;&gt;13 -->\n<g id=\"edge13\" class=\"edge\">\n<title>5&#45;&gt;13</title>\n<path fill=\"none\" stroke=\"black\" d=\"M663.5,-296.88C663.5,-288.78 663.5,-279.98 663.5,-271.47\"/>\n<polygon fill=\"black\" stroke=\"black\" points=\"667,-271.3 663.5,-261.3 660,-271.3 667,-271.3\"/>\n</g>\n<!-- 7 -->\n<g id=\"node8\" class=\"node\">\n<title>7</title>\n<polygon fill=\"none\" stroke=\"black\" points=\"270.5,-157 94.5,-157 94.5,-89 270.5,-89 270.5,-157\"/>\n<text text-anchor=\"middle\" x=\"182.5\" y=\"-141.8\" font-family=\"Helvetica,sans-Serif\" font-size=\"14.00\">MesesDeContrato &lt;= 56.5</text>\n<text text-anchor=\"middle\" x=\"182.5\" y=\"-126.8\" font-family=\"Helvetica,sans-Serif\" font-size=\"14.00\">entropy = 0.311</text>\n<text text-anchor=\"middle\" x=\"182.5\" y=\"-111.8\" font-family=\"Helvetica,sans-Serif\" font-size=\"14.00\">samples = 232</text>\n<text text-anchor=\"middle\" x=\"182.5\" y=\"-96.8\" font-family=\"Helvetica,sans-Serif\" font-size=\"14.00\">value = [219, 13]</text>\n</g>\n<!-- 6&#45;&gt;7 -->\n<g id=\"edge7\" class=\"edge\">\n<title>6&#45;&gt;7</title>\n<path fill=\"none\" stroke=\"black\" d=\"M310.81,-192.88C292.38,-182.99 272.04,-172.07 253.09,-161.9\"/>\n<polygon fill=\"black\" stroke=\"black\" points=\"254.67,-158.77 244.2,-157.12 251.36,-164.94 254.67,-158.77\"/>\n</g>\n<!-- 10 -->\n<g id=\"node11\" class=\"node\">\n<title>10</title>\n<polygon fill=\"none\" stroke=\"black\" points=\"457,-157 288,-157 288,-89 457,-89 457,-157\"/>\n<text text-anchor=\"middle\" x=\"372.5\" y=\"-141.8\" font-family=\"Helvetica,sans-Serif\" font-size=\"14.00\">MesesDeContrato &lt;= 2.5</text>\n<text text-anchor=\"middle\" x=\"372.5\" y=\"-126.8\" font-family=\"Helvetica,sans-Serif\" font-size=\"14.00\">entropy = 0.097</text>\n<text text-anchor=\"middle\" x=\"372.5\" y=\"-111.8\" font-family=\"Helvetica,sans-Serif\" font-size=\"14.00\">samples = 159</text>\n<text text-anchor=\"middle\" x=\"372.5\" y=\"-96.8\" font-family=\"Helvetica,sans-Serif\" font-size=\"14.00\">value = [157, 2]</text>\n</g>\n<!-- 6&#45;&gt;10 -->\n<g id=\"edge10\" class=\"edge\">\n<title>6&#45;&gt;10</title>\n<path fill=\"none\" stroke=\"black\" d=\"M372.5,-192.88C372.5,-184.78 372.5,-175.98 372.5,-167.47\"/>\n<polygon fill=\"black\" stroke=\"black\" points=\"376,-167.3 372.5,-157.3 369,-167.3 376,-167.3\"/>\n</g>\n<!-- 8 -->\n<g id=\"node9\" class=\"node\">\n<title>8</title>\n<polygon fill=\"none\" stroke=\"black\" points=\"117,-53 0,-53 0,0 117,0 117,-53\"/>\n<text text-anchor=\"middle\" x=\"58.5\" y=\"-37.8\" font-family=\"Helvetica,sans-Serif\" font-size=\"14.00\">entropy = 0.351</text>\n<text text-anchor=\"middle\" x=\"58.5\" y=\"-22.8\" font-family=\"Helvetica,sans-Serif\" font-size=\"14.00\">samples = 197</text>\n<text text-anchor=\"middle\" x=\"58.5\" y=\"-7.8\" font-family=\"Helvetica,sans-Serif\" font-size=\"14.00\">value = [184, 13]</text>\n</g>\n<!-- 7&#45;&gt;8 -->\n<g id=\"edge8\" class=\"edge\">\n<title>7&#45;&gt;8</title>\n<path fill=\"none\" stroke=\"black\" d=\"M139.13,-88.95C126.53,-79.34 112.79,-68.87 100.29,-59.34\"/>\n<polygon fill=\"black\" stroke=\"black\" points=\"102.35,-56.51 92.27,-53.24 98.1,-62.08 102.35,-56.51\"/>\n</g>\n<!-- 9 -->\n<g id=\"node10\" class=\"node\">\n<title>9</title>\n<polygon fill=\"none\" stroke=\"black\" points=\"237.5,-53 135.5,-53 135.5,0 237.5,0 237.5,-53\"/>\n<text text-anchor=\"middle\" x=\"186.5\" y=\"-37.8\" font-family=\"Helvetica,sans-Serif\" font-size=\"14.00\">entropy = 0.0</text>\n<text text-anchor=\"middle\" x=\"186.5\" y=\"-22.8\" font-family=\"Helvetica,sans-Serif\" font-size=\"14.00\">samples = 35</text>\n<text text-anchor=\"middle\" x=\"186.5\" y=\"-7.8\" font-family=\"Helvetica,sans-Serif\" font-size=\"14.00\">value = [35, 0]</text>\n</g>\n<!-- 7&#45;&gt;9 -->\n<g id=\"edge9\" class=\"edge\">\n<title>7&#45;&gt;9</title>\n<path fill=\"none\" stroke=\"black\" d=\"M183.9,-88.95C184.25,-80.72 184.62,-71.85 184.98,-63.48\"/>\n<polygon fill=\"black\" stroke=\"black\" points=\"188.48,-63.38 185.41,-53.24 181.49,-63.08 188.48,-63.38\"/>\n</g>\n<!-- 11 -->\n<g id=\"node12\" class=\"node\">\n<title>11</title>\n<polygon fill=\"none\" stroke=\"black\" points=\"371,-53 260,-53 260,0 371,0 371,-53\"/>\n<text text-anchor=\"middle\" x=\"315.5\" y=\"-37.8\" font-family=\"Helvetica,sans-Serif\" font-size=\"14.00\">entropy = 0.592</text>\n<text text-anchor=\"middle\" x=\"315.5\" y=\"-22.8\" font-family=\"Helvetica,sans-Serif\" font-size=\"14.00\">samples = 7</text>\n<text text-anchor=\"middle\" x=\"315.5\" y=\"-7.8\" font-family=\"Helvetica,sans-Serif\" font-size=\"14.00\">value = [6, 1]</text>\n</g>\n<!-- 10&#45;&gt;11 -->\n<g id=\"edge11\" class=\"edge\">\n<title>10&#45;&gt;11</title>\n<path fill=\"none\" stroke=\"black\" d=\"M352.56,-88.95C347.27,-80.17 341.53,-70.66 336.2,-61.82\"/>\n<polygon fill=\"black\" stroke=\"black\" points=\"339.19,-59.99 331.02,-53.24 333.19,-63.61 339.19,-59.99\"/>\n</g>\n<!-- 12 -->\n<g id=\"node13\" class=\"node\">\n<title>12</title>\n<polygon fill=\"none\" stroke=\"black\" points=\"500,-53 389,-53 389,0 500,0 500,-53\"/>\n<text text-anchor=\"middle\" x=\"444.5\" y=\"-37.8\" font-family=\"Helvetica,sans-Serif\" font-size=\"14.00\">entropy = 0.057</text>\n<text text-anchor=\"middle\" x=\"444.5\" y=\"-22.8\" font-family=\"Helvetica,sans-Serif\" font-size=\"14.00\">samples = 152</text>\n<text text-anchor=\"middle\" x=\"444.5\" y=\"-7.8\" font-family=\"Helvetica,sans-Serif\" font-size=\"14.00\">value = [151, 1]</text>\n</g>\n<!-- 10&#45;&gt;12 -->\n<g id=\"edge12\" class=\"edge\">\n<title>10&#45;&gt;12</title>\n<path fill=\"none\" stroke=\"black\" d=\"M397.68,-88.95C404.51,-79.98 411.92,-70.27 418.78,-61.26\"/>\n<polygon fill=\"black\" stroke=\"black\" points=\"421.61,-63.31 424.89,-53.24 416.05,-59.07 421.61,-63.31\"/>\n</g>\n<!-- 14 -->\n<g id=\"node15\" class=\"node\">\n<title>14</title>\n<polygon fill=\"none\" stroke=\"black\" points=\"571.5,-149.5 475.5,-149.5 475.5,-96.5 571.5,-96.5 571.5,-149.5\"/>\n<text text-anchor=\"middle\" x=\"523.5\" y=\"-134.3\" font-family=\"Helvetica,sans-Serif\" font-size=\"14.00\">entropy = 0.0</text>\n<text text-anchor=\"middle\" x=\"523.5\" y=\"-119.3\" font-family=\"Helvetica,sans-Serif\" font-size=\"14.00\">samples = 6</text>\n<text text-anchor=\"middle\" x=\"523.5\" y=\"-104.3\" font-family=\"Helvetica,sans-Serif\" font-size=\"14.00\">value = [0, 6]</text>\n</g>\n<!-- 13&#45;&gt;14 -->\n<g id=\"edge14\" class=\"edge\">\n<title>13&#45;&gt;14</title>\n<path fill=\"none\" stroke=\"black\" d=\"M618.05,-192.88C601.59,-180.9 583.07,-167.4 566.8,-155.55\"/>\n<polygon fill=\"black\" stroke=\"black\" points=\"568.67,-152.58 558.53,-149.52 564.55,-158.24 568.67,-152.58\"/>\n</g>\n<!-- 15 -->\n<g id=\"node16\" class=\"node\">\n<title>15</title>\n<polygon fill=\"none\" stroke=\"black\" points=\"829.5,-157 589.5,-157 589.5,-89 829.5,-89 829.5,-157\"/>\n<text text-anchor=\"middle\" x=\"709.5\" y=\"-141.8\" font-family=\"Helvetica,sans-Serif\" font-size=\"14.00\">FormaDePago_ChequeDigital &lt;= 0.5</text>\n<text text-anchor=\"middle\" x=\"709.5\" y=\"-126.8\" font-family=\"Helvetica,sans-Serif\" font-size=\"14.00\">entropy = 0.412</text>\n<text text-anchor=\"middle\" x=\"709.5\" y=\"-111.8\" font-family=\"Helvetica,sans-Serif\" font-size=\"14.00\">samples = 181</text>\n<text text-anchor=\"middle\" x=\"709.5\" y=\"-96.8\" font-family=\"Helvetica,sans-Serif\" font-size=\"14.00\">value = [166, 15]</text>\n</g>\n<!-- 13&#45;&gt;15 -->\n<g id=\"edge15\" class=\"edge\">\n<title>13&#45;&gt;15</title>\n<path fill=\"none\" stroke=\"black\" d=\"M678.43,-192.88C682.21,-184.51 686.32,-175.4 690.27,-166.63\"/>\n<polygon fill=\"black\" stroke=\"black\" points=\"693.56,-167.85 694.48,-157.3 687.18,-164.98 693.56,-167.85\"/>\n</g>\n<!-- 16 -->\n<g id=\"node17\" class=\"node\">\n<title>16</title>\n<polygon fill=\"none\" stroke=\"black\" points=\"636,-53 525,-53 525,0 636,0 636,-53\"/>\n<text text-anchor=\"middle\" x=\"580.5\" y=\"-37.8\" font-family=\"Helvetica,sans-Serif\" font-size=\"14.00\">entropy = 0.301</text>\n<text text-anchor=\"middle\" x=\"580.5\" y=\"-22.8\" font-family=\"Helvetica,sans-Serif\" font-size=\"14.00\">samples = 131</text>\n<text text-anchor=\"middle\" x=\"580.5\" y=\"-7.8\" font-family=\"Helvetica,sans-Serif\" font-size=\"14.00\">value = [124, 7]</text>\n</g>\n<!-- 15&#45;&gt;16 -->\n<g id=\"edge16\" class=\"edge\">\n<title>15&#45;&gt;16</title>\n<path fill=\"none\" stroke=\"black\" d=\"M664.38,-88.95C651.27,-79.34 636.98,-68.87 623.97,-59.34\"/>\n<polygon fill=\"black\" stroke=\"black\" points=\"625.77,-56.32 615.63,-53.24 621.63,-61.97 625.77,-56.32\"/>\n</g>\n<!-- 17 -->\n<g id=\"node18\" class=\"node\">\n<title>17</title>\n<polygon fill=\"none\" stroke=\"black\" points=\"765,-53 654,-53 654,0 765,0 765,-53\"/>\n<text text-anchor=\"middle\" x=\"709.5\" y=\"-37.8\" font-family=\"Helvetica,sans-Serif\" font-size=\"14.00\">entropy = 0.634</text>\n<text text-anchor=\"middle\" x=\"709.5\" y=\"-22.8\" font-family=\"Helvetica,sans-Serif\" font-size=\"14.00\">samples = 50</text>\n<text text-anchor=\"middle\" x=\"709.5\" y=\"-7.8\" font-family=\"Helvetica,sans-Serif\" font-size=\"14.00\">value = [42, 8]</text>\n</g>\n<!-- 15&#45;&gt;17 -->\n<g id=\"edge17\" class=\"edge\">\n<title>15&#45;&gt;17</title>\n<path fill=\"none\" stroke=\"black\" d=\"M709.5,-88.95C709.5,-80.72 709.5,-71.85 709.5,-63.48\"/>\n<polygon fill=\"black\" stroke=\"black\" points=\"713,-63.24 709.5,-53.24 706,-63.24 713,-63.24\"/>\n</g>\n<!-- 19 -->\n<g id=\"node20\" class=\"node\">\n<title>19</title>\n<polygon fill=\"none\" stroke=\"black\" points=\"1257.5,-261 1077.5,-261 1077.5,-193 1257.5,-193 1257.5,-261\"/>\n<text text-anchor=\"middle\" x=\"1167.5\" y=\"-245.8\" font-family=\"Helvetica,sans-Serif\" font-size=\"14.00\">SeguridadOnline_Si &lt;= 0.5</text>\n<text text-anchor=\"middle\" x=\"1167.5\" y=\"-230.8\" font-family=\"Helvetica,sans-Serif\" font-size=\"14.00\">entropy = 0.7</text>\n<text text-anchor=\"middle\" x=\"1167.5\" y=\"-215.8\" font-family=\"Helvetica,sans-Serif\" font-size=\"14.00\">samples = 322</text>\n<text text-anchor=\"middle\" x=\"1167.5\" y=\"-200.8\" font-family=\"Helvetica,sans-Serif\" font-size=\"14.00\">value = [261, 61]</text>\n</g>\n<!-- 18&#45;&gt;19 -->\n<g id=\"edge19\" class=\"edge\">\n<title>18&#45;&gt;19</title>\n<path fill=\"none\" stroke=\"black\" d=\"M1242.46,-296.88C1232.48,-287.71 1221.53,-277.65 1211.16,-268.12\"/>\n<polygon fill=\"black\" stroke=\"black\" points=\"1213.47,-265.49 1203.74,-261.3 1208.73,-270.64 1213.47,-265.49\"/>\n</g>\n<!-- 26 -->\n<g id=\"node27\" class=\"node\">\n<title>26</title>\n<polygon fill=\"none\" stroke=\"black\" points=\"1445,-261 1302,-261 1302,-193 1445,-193 1445,-261\"/>\n<text text-anchor=\"middle\" x=\"1373.5\" y=\"-245.8\" font-family=\"Helvetica,sans-Serif\" font-size=\"14.00\">Dependientes &lt;= 0.5</text>\n<text text-anchor=\"middle\" x=\"1373.5\" y=\"-230.8\" font-family=\"Helvetica,sans-Serif\" font-size=\"14.00\">entropy = 0.968</text>\n<text text-anchor=\"middle\" x=\"1373.5\" y=\"-215.8\" font-family=\"Helvetica,sans-Serif\" font-size=\"14.00\">samples = 192</text>\n<text text-anchor=\"middle\" x=\"1373.5\" y=\"-200.8\" font-family=\"Helvetica,sans-Serif\" font-size=\"14.00\">value = [116, 76]</text>\n</g>\n<!-- 18&#45;&gt;26 -->\n<g id=\"edge26\" class=\"edge\">\n<title>18&#45;&gt;26</title>\n<path fill=\"none\" stroke=\"black\" d=\"M1309.34,-296.88C1317.72,-287.89 1326.89,-278.04 1335.61,-268.68\"/>\n<polygon fill=\"black\" stroke=\"black\" points=\"1338.23,-271 1342.49,-261.3 1333.11,-266.23 1338.23,-271\"/>\n</g>\n<!-- 20 -->\n<g id=\"node21\" class=\"node\">\n<title>20</title>\n<polygon fill=\"none\" stroke=\"black\" points=\"1049,-157 864,-157 864,-89 1049,-89 1049,-157\"/>\n<text text-anchor=\"middle\" x=\"956.5\" y=\"-141.8\" font-family=\"Helvetica,sans-Serif\" font-size=\"14.00\">SeguridadOnline_No &lt;= 0.5</text>\n<text text-anchor=\"middle\" x=\"956.5\" y=\"-126.8\" font-family=\"Helvetica,sans-Serif\" font-size=\"14.00\">entropy = 0.829</text>\n<text text-anchor=\"middle\" x=\"956.5\" y=\"-111.8\" font-family=\"Helvetica,sans-Serif\" font-size=\"14.00\">samples = 191</text>\n<text text-anchor=\"middle\" x=\"956.5\" y=\"-96.8\" font-family=\"Helvetica,sans-Serif\" font-size=\"14.00\">value = [141, 50]</text>\n</g>\n<!-- 19&#45;&gt;20 -->\n<g id=\"edge20\" class=\"edge\">\n<title>19&#45;&gt;20</title>\n<path fill=\"none\" stroke=\"black\" d=\"M1098.99,-192.88C1078.25,-182.86 1055.32,-171.77 1034.04,-161.48\"/>\n<polygon fill=\"black\" stroke=\"black\" points=\"1035.55,-158.33 1025.02,-157.12 1032.5,-164.63 1035.55,-158.33\"/>\n</g>\n<!-- 23 -->\n<g id=\"node24\" class=\"node\">\n<title>23</title>\n<polygon fill=\"none\" stroke=\"black\" points=\"1252.5,-157 1082.5,-157 1082.5,-89 1252.5,-89 1252.5,-157\"/>\n<text text-anchor=\"middle\" x=\"1167.5\" y=\"-141.8\" font-family=\"Helvetica,sans-Serif\" font-size=\"14.00\">CuentaMensual &lt;= 94.55</text>\n<text text-anchor=\"middle\" x=\"1167.5\" y=\"-126.8\" font-family=\"Helvetica,sans-Serif\" font-size=\"14.00\">entropy = 0.416</text>\n<text text-anchor=\"middle\" x=\"1167.5\" y=\"-111.8\" font-family=\"Helvetica,sans-Serif\" font-size=\"14.00\">samples = 131</text>\n<text text-anchor=\"middle\" x=\"1167.5\" y=\"-96.8\" font-family=\"Helvetica,sans-Serif\" font-size=\"14.00\">value = [120, 11]</text>\n</g>\n<!-- 19&#45;&gt;23 -->\n<g id=\"edge23\" class=\"edge\">\n<title>19&#45;&gt;23</title>\n<path fill=\"none\" stroke=\"black\" d=\"M1167.5,-192.88C1167.5,-184.78 1167.5,-175.98 1167.5,-167.47\"/>\n<polygon fill=\"black\" stroke=\"black\" points=\"1171,-167.3 1167.5,-157.3 1164,-167.3 1171,-167.3\"/>\n</g>\n<!-- 21 -->\n<g id=\"node22\" class=\"node\">\n<title>21</title>\n<polygon fill=\"none\" stroke=\"black\" points=\"879.5,-53 783.5,-53 783.5,0 879.5,0 879.5,-53\"/>\n<text text-anchor=\"middle\" x=\"831.5\" y=\"-37.8\" font-family=\"Helvetica,sans-Serif\" font-size=\"14.00\">entropy = 0.0</text>\n<text text-anchor=\"middle\" x=\"831.5\" y=\"-22.8\" font-family=\"Helvetica,sans-Serif\" font-size=\"14.00\">samples = 6</text>\n<text text-anchor=\"middle\" x=\"831.5\" y=\"-7.8\" font-family=\"Helvetica,sans-Serif\" font-size=\"14.00\">value = [0, 6]</text>\n</g>\n<!-- 20&#45;&gt;21 -->\n<g id=\"edge21\" class=\"edge\">\n<title>20&#45;&gt;21</title>\n<path fill=\"none\" stroke=\"black\" d=\"M912.78,-88.95C900.08,-79.34 886.23,-68.87 873.62,-59.34\"/>\n<polygon fill=\"black\" stroke=\"black\" points=\"875.63,-56.48 865.54,-53.24 871.41,-62.06 875.63,-56.48\"/>\n</g>\n<!-- 22 -->\n<g id=\"node23\" class=\"node\">\n<title>22</title>\n<polygon fill=\"none\" stroke=\"black\" points=\"1015,-53 898,-53 898,0 1015,0 1015,-53\"/>\n<text text-anchor=\"middle\" x=\"956.5\" y=\"-37.8\" font-family=\"Helvetica,sans-Serif\" font-size=\"14.00\">entropy = 0.791</text>\n<text text-anchor=\"middle\" x=\"956.5\" y=\"-22.8\" font-family=\"Helvetica,sans-Serif\" font-size=\"14.00\">samples = 185</text>\n<text text-anchor=\"middle\" x=\"956.5\" y=\"-7.8\" font-family=\"Helvetica,sans-Serif\" font-size=\"14.00\">value = [141, 44]</text>\n</g>\n<!-- 20&#45;&gt;22 -->\n<g id=\"edge22\" class=\"edge\">\n<title>20&#45;&gt;22</title>\n<path fill=\"none\" stroke=\"black\" d=\"M956.5,-88.95C956.5,-80.72 956.5,-71.85 956.5,-63.48\"/>\n<polygon fill=\"black\" stroke=\"black\" points=\"960,-63.24 956.5,-53.24 953,-63.24 960,-63.24\"/>\n</g>\n<!-- 24 -->\n<g id=\"node25\" class=\"node\">\n<title>24</title>\n<polygon fill=\"none\" stroke=\"black\" points=\"1144,-53 1033,-53 1033,0 1144,0 1144,-53\"/>\n<text text-anchor=\"middle\" x=\"1088.5\" y=\"-37.8\" font-family=\"Helvetica,sans-Serif\" font-size=\"14.00\">entropy = 0.487</text>\n<text text-anchor=\"middle\" x=\"1088.5\" y=\"-22.8\" font-family=\"Helvetica,sans-Serif\" font-size=\"14.00\">samples = 104</text>\n<text text-anchor=\"middle\" x=\"1088.5\" y=\"-7.8\" font-family=\"Helvetica,sans-Serif\" font-size=\"14.00\">value = [93, 11]</text>\n</g>\n<!-- 23&#45;&gt;24 -->\n<g id=\"edge24\" class=\"edge\">\n<title>23&#45;&gt;24</title>\n<path fill=\"none\" stroke=\"black\" d=\"M1139.87,-88.95C1132.3,-79.89 1124.09,-70.07 1116.49,-60.99\"/>\n<polygon fill=\"black\" stroke=\"black\" points=\"1119.11,-58.66 1110.02,-53.24 1113.74,-63.15 1119.11,-58.66\"/>\n</g>\n<!-- 25 -->\n<g id=\"node26\" class=\"node\">\n<title>25</title>\n<polygon fill=\"none\" stroke=\"black\" points=\"1264.5,-53 1162.5,-53 1162.5,0 1264.5,0 1264.5,-53\"/>\n<text text-anchor=\"middle\" x=\"1213.5\" y=\"-37.8\" font-family=\"Helvetica,sans-Serif\" font-size=\"14.00\">entropy = 0.0</text>\n<text text-anchor=\"middle\" x=\"1213.5\" y=\"-22.8\" font-family=\"Helvetica,sans-Serif\" font-size=\"14.00\">samples = 27</text>\n<text text-anchor=\"middle\" x=\"1213.5\" y=\"-7.8\" font-family=\"Helvetica,sans-Serif\" font-size=\"14.00\">value = [27, 0]</text>\n</g>\n<!-- 23&#45;&gt;25 -->\n<g id=\"edge25\" class=\"edge\">\n<title>23&#45;&gt;25</title>\n<path fill=\"none\" stroke=\"black\" d=\"M1183.59,-88.95C1187.77,-80.35 1192.3,-71.06 1196.53,-62.37\"/>\n<polygon fill=\"black\" stroke=\"black\" points=\"1199.74,-63.76 1200.97,-53.24 1193.45,-60.7 1199.74,-63.76\"/>\n</g>\n<!-- 27 -->\n<g id=\"node28\" class=\"node\">\n<title>27</title>\n<polygon fill=\"none\" stroke=\"black\" points=\"1461.5,-157 1285.5,-157 1285.5,-89 1461.5,-89 1461.5,-157\"/>\n<text text-anchor=\"middle\" x=\"1373.5\" y=\"-141.8\" font-family=\"Helvetica,sans-Serif\" font-size=\"14.00\">MesesDeContrato &lt;= 70.5</text>\n<text text-anchor=\"middle\" x=\"1373.5\" y=\"-126.8\" font-family=\"Helvetica,sans-Serif\" font-size=\"14.00\">entropy = 0.994</text>\n<text text-anchor=\"middle\" x=\"1373.5\" y=\"-111.8\" font-family=\"Helvetica,sans-Serif\" font-size=\"14.00\">samples = 152</text>\n<text text-anchor=\"middle\" x=\"1373.5\" y=\"-96.8\" font-family=\"Helvetica,sans-Serif\" font-size=\"14.00\">value = [83, 69]</text>\n</g>\n<!-- 26&#45;&gt;27 -->\n<g id=\"edge27\" class=\"edge\">\n<title>26&#45;&gt;27</title>\n<path fill=\"none\" stroke=\"black\" d=\"M1373.5,-192.88C1373.5,-184.78 1373.5,-175.98 1373.5,-167.47\"/>\n<polygon fill=\"black\" stroke=\"black\" points=\"1377,-167.3 1373.5,-157.3 1370,-167.3 1377,-167.3\"/>\n</g>\n<!-- 30 -->\n<g id=\"node31\" class=\"node\">\n<title>30</title>\n<polygon fill=\"none\" stroke=\"black\" points=\"1684.5,-157 1508.5,-157 1508.5,-89 1684.5,-89 1684.5,-157\"/>\n<text text-anchor=\"middle\" x=\"1596.5\" y=\"-141.8\" font-family=\"Helvetica,sans-Serif\" font-size=\"14.00\">MesesDeContrato &lt;= 42.0</text>\n<text text-anchor=\"middle\" x=\"1596.5\" y=\"-126.8\" font-family=\"Helvetica,sans-Serif\" font-size=\"14.00\">entropy = 0.669</text>\n<text text-anchor=\"middle\" x=\"1596.5\" y=\"-111.8\" font-family=\"Helvetica,sans-Serif\" font-size=\"14.00\">samples = 40</text>\n<text text-anchor=\"middle\" x=\"1596.5\" y=\"-96.8\" font-family=\"Helvetica,sans-Serif\" font-size=\"14.00\">value = [33, 7]</text>\n</g>\n<!-- 26&#45;&gt;30 -->\n<g id=\"edge30\" class=\"edge\">\n<title>26&#45;&gt;30</title>\n<path fill=\"none\" stroke=\"black\" d=\"M1445.29,-193.17C1467.44,-183.03 1492.01,-171.79 1514.78,-161.38\"/>\n<polygon fill=\"black\" stroke=\"black\" points=\"1516.45,-164.47 1524.08,-157.12 1513.53,-158.1 1516.45,-164.47\"/>\n</g>\n<!-- 28 -->\n<g id=\"node29\" class=\"node\">\n<title>28</title>\n<polygon fill=\"none\" stroke=\"black\" points=\"1394,-53 1283,-53 1283,0 1394,0 1394,-53\"/>\n<text text-anchor=\"middle\" x=\"1338.5\" y=\"-37.8\" font-family=\"Helvetica,sans-Serif\" font-size=\"14.00\">entropy = 0.999</text>\n<text text-anchor=\"middle\" x=\"1338.5\" y=\"-22.8\" font-family=\"Helvetica,sans-Serif\" font-size=\"14.00\">samples = 140</text>\n<text text-anchor=\"middle\" x=\"1338.5\" y=\"-7.8\" font-family=\"Helvetica,sans-Serif\" font-size=\"14.00\">value = [72, 68]</text>\n</g>\n<!-- 27&#45;&gt;28 -->\n<g id=\"edge28\" class=\"edge\">\n<title>27&#45;&gt;28</title>\n<path fill=\"none\" stroke=\"black\" d=\"M1361.26,-88.95C1358.11,-80.44 1354.71,-71.26 1351.52,-62.65\"/>\n<polygon fill=\"black\" stroke=\"black\" points=\"1354.79,-61.4 1348.03,-53.24 1348.22,-63.83 1354.79,-61.4\"/>\n</g>\n<!-- 29 -->\n<g id=\"node30\" class=\"node\">\n<title>29</title>\n<polygon fill=\"none\" stroke=\"black\" points=\"1523,-53 1412,-53 1412,0 1523,0 1523,-53\"/>\n<text text-anchor=\"middle\" x=\"1467.5\" y=\"-37.8\" font-family=\"Helvetica,sans-Serif\" font-size=\"14.00\">entropy = 0.414</text>\n<text text-anchor=\"middle\" x=\"1467.5\" y=\"-22.8\" font-family=\"Helvetica,sans-Serif\" font-size=\"14.00\">samples = 12</text>\n<text text-anchor=\"middle\" x=\"1467.5\" y=\"-7.8\" font-family=\"Helvetica,sans-Serif\" font-size=\"14.00\">value = [11, 1]</text>\n</g>\n<!-- 27&#45;&gt;29 -->\n<g id=\"edge29\" class=\"edge\">\n<title>27&#45;&gt;29</title>\n<path fill=\"none\" stroke=\"black\" d=\"M1406.38,-88.95C1415.57,-79.71 1425.55,-69.67 1434.74,-60.44\"/>\n<polygon fill=\"black\" stroke=\"black\" points=\"1437.33,-62.79 1441.9,-53.24 1432.37,-57.86 1437.33,-62.79\"/>\n</g>\n<!-- 31 -->\n<g id=\"node32\" class=\"node\">\n<title>31</title>\n<polygon fill=\"none\" stroke=\"black\" points=\"1652,-53 1541,-53 1541,0 1652,0 1652,-53\"/>\n<text text-anchor=\"middle\" x=\"1596.5\" y=\"-37.8\" font-family=\"Helvetica,sans-Serif\" font-size=\"14.00\">entropy = 0.918</text>\n<text text-anchor=\"middle\" x=\"1596.5\" y=\"-22.8\" font-family=\"Helvetica,sans-Serif\" font-size=\"14.00\">samples = 6</text>\n<text text-anchor=\"middle\" x=\"1596.5\" y=\"-7.8\" font-family=\"Helvetica,sans-Serif\" font-size=\"14.00\">value = [2, 4]</text>\n</g>\n<!-- 30&#45;&gt;31 -->\n<g id=\"edge31\" class=\"edge\">\n<title>30&#45;&gt;31</title>\n<path fill=\"none\" stroke=\"black\" d=\"M1596.5,-88.95C1596.5,-80.72 1596.5,-71.85 1596.5,-63.48\"/>\n<polygon fill=\"black\" stroke=\"black\" points=\"1600,-63.24 1596.5,-53.24 1593,-63.24 1600,-63.24\"/>\n</g>\n<!-- 32 -->\n<g id=\"node33\" class=\"node\">\n<title>32</title>\n<polygon fill=\"none\" stroke=\"black\" points=\"1781,-53 1670,-53 1670,0 1781,0 1781,-53\"/>\n<text text-anchor=\"middle\" x=\"1725.5\" y=\"-37.8\" font-family=\"Helvetica,sans-Serif\" font-size=\"14.00\">entropy = 0.431</text>\n<text text-anchor=\"middle\" x=\"1725.5\" y=\"-22.8\" font-family=\"Helvetica,sans-Serif\" font-size=\"14.00\">samples = 34</text>\n<text text-anchor=\"middle\" x=\"1725.5\" y=\"-7.8\" font-family=\"Helvetica,sans-Serif\" font-size=\"14.00\">value = [31, 3]</text>\n</g>\n<!-- 30&#45;&gt;32 -->\n<g id=\"edge32\" class=\"edge\">\n<title>30&#45;&gt;32</title>\n<path fill=\"none\" stroke=\"black\" d=\"M1641.62,-88.95C1654.73,-79.34 1669.02,-68.87 1682.03,-59.34\"/>\n<polygon fill=\"black\" stroke=\"black\" points=\"1684.37,-61.97 1690.37,-53.24 1680.23,-56.32 1684.37,-61.97\"/>\n</g>\n<!-- 34 -->\n<g id=\"node35\" class=\"node\">\n<title>34</title>\n<polygon fill=\"none\" stroke=\"black\" points=\"2375,-469 2198,-469 2198,-401 2375,-401 2375,-469\"/>\n<text text-anchor=\"middle\" x=\"2286.5\" y=\"-453.8\" font-family=\"Helvetica,sans-Serif\" font-size=\"14.00\">CuentaMensual &lt;= 21.792</text>\n<text text-anchor=\"middle\" x=\"2286.5\" y=\"-438.8\" font-family=\"Helvetica,sans-Serif\" font-size=\"14.00\">entropy = 0.157</text>\n<text text-anchor=\"middle\" x=\"2286.5\" y=\"-423.8\" font-family=\"Helvetica,sans-Serif\" font-size=\"14.00\">samples = 919</text>\n<text text-anchor=\"middle\" x=\"2286.5\" y=\"-408.8\" font-family=\"Helvetica,sans-Serif\" font-size=\"14.00\">value = [898, 21]</text>\n</g>\n<!-- 33&#45;&gt;34 -->\n<g id=\"edge34\" class=\"edge\">\n<title>33&#45;&gt;34</title>\n<path fill=\"none\" stroke=\"black\" d=\"M2437.1,-504.88C2415.08,-494.81 2390.73,-483.67 2368.14,-473.34\"/>\n<polygon fill=\"black\" stroke=\"black\" points=\"2369.47,-470.1 2358.92,-469.12 2366.56,-476.47 2369.47,-470.1\"/>\n</g>\n<!-- 49 -->\n<g id=\"node50\" class=\"node\">\n<title>49</title>\n<polygon fill=\"none\" stroke=\"black\" points=\"2853.5,-469 2677.5,-469 2677.5,-401 2853.5,-401 2853.5,-469\"/>\n<text text-anchor=\"middle\" x=\"2765.5\" y=\"-453.8\" font-family=\"Helvetica,sans-Serif\" font-size=\"14.00\">MesesDeContrato &lt;= 71.5</text>\n<text text-anchor=\"middle\" x=\"2765.5\" y=\"-438.8\" font-family=\"Helvetica,sans-Serif\" font-size=\"14.00\">entropy = 0.493</text>\n<text text-anchor=\"middle\" x=\"2765.5\" y=\"-423.8\" font-family=\"Helvetica,sans-Serif\" font-size=\"14.00\">samples = 288</text>\n<text text-anchor=\"middle\" x=\"2765.5\" y=\"-408.8\" font-family=\"Helvetica,sans-Serif\" font-size=\"14.00\">value = [257, 31]</text>\n</g>\n<!-- 33&#45;&gt;49 -->\n<g id=\"edge49\" class=\"edge\">\n<title>33&#45;&gt;49</title>\n<path fill=\"none\" stroke=\"black\" d=\"M2592.62,-504.88C2618.23,-494.68 2646.59,-483.38 2672.81,-472.93\"/>\n<polygon fill=\"black\" stroke=\"black\" points=\"2674.37,-476.08 2682.36,-469.12 2671.78,-469.57 2674.37,-476.08\"/>\n</g>\n<!-- 35 -->\n<g id=\"node36\" class=\"node\">\n<title>35</title>\n<polygon fill=\"none\" stroke=\"black\" points=\"2140,-365 1963,-365 1963,-297 2140,-297 2140,-365\"/>\n<text text-anchor=\"middle\" x=\"2051.5\" y=\"-349.8\" font-family=\"Helvetica,sans-Serif\" font-size=\"14.00\">CuentaMensual &lt;= 19.375</text>\n<text text-anchor=\"middle\" x=\"2051.5\" y=\"-334.8\" font-family=\"Helvetica,sans-Serif\" font-size=\"14.00\">entropy = 0.033</text>\n<text text-anchor=\"middle\" x=\"2051.5\" y=\"-319.8\" font-family=\"Helvetica,sans-Serif\" font-size=\"14.00\">samples = 289</text>\n<text text-anchor=\"middle\" x=\"2051.5\" y=\"-304.8\" font-family=\"Helvetica,sans-Serif\" font-size=\"14.00\">value = [288, 1]</text>\n</g>\n<!-- 34&#45;&gt;35 -->\n<g id=\"edge35\" class=\"edge\">\n<title>34&#45;&gt;35</title>\n<path fill=\"none\" stroke=\"black\" d=\"M2210.2,-400.88C2186.89,-390.77 2161.11,-379.58 2137.22,-369.21\"/>\n<polygon fill=\"black\" stroke=\"black\" points=\"2138.38,-365.9 2127.82,-365.12 2135.6,-372.32 2138.38,-365.9\"/>\n</g>\n<!-- 42 -->\n<g id=\"node43\" class=\"node\">\n<title>42</title>\n<polygon fill=\"none\" stroke=\"black\" points=\"2375,-365 2198,-365 2198,-297 2375,-297 2375,-365\"/>\n<text text-anchor=\"middle\" x=\"2286.5\" y=\"-349.8\" font-family=\"Helvetica,sans-Serif\" font-size=\"14.00\">CuentaMensual &lt;= 22.854</text>\n<text text-anchor=\"middle\" x=\"2286.5\" y=\"-334.8\" font-family=\"Helvetica,sans-Serif\" font-size=\"14.00\">entropy = 0.203</text>\n<text text-anchor=\"middle\" x=\"2286.5\" y=\"-319.8\" font-family=\"Helvetica,sans-Serif\" font-size=\"14.00\">samples = 630</text>\n<text text-anchor=\"middle\" x=\"2286.5\" y=\"-304.8\" font-family=\"Helvetica,sans-Serif\" font-size=\"14.00\">value = [610, 20]</text>\n</g>\n<!-- 34&#45;&gt;42 -->\n<g id=\"edge42\" class=\"edge\">\n<title>34&#45;&gt;42</title>\n<path fill=\"none\" stroke=\"black\" d=\"M2286.5,-400.88C2286.5,-392.78 2286.5,-383.98 2286.5,-375.47\"/>\n<polygon fill=\"black\" stroke=\"black\" points=\"2290,-375.3 2286.5,-365.3 2283,-375.3 2290,-375.3\"/>\n</g>\n<!-- 36 -->\n<g id=\"node37\" class=\"node\">\n<title>36</title>\n<polygon fill=\"none\" stroke=\"black\" points=\"1978,-261 1801,-261 1801,-193 1978,-193 1978,-261\"/>\n<text text-anchor=\"middle\" x=\"1889.5\" y=\"-245.8\" font-family=\"Helvetica,sans-Serif\" font-size=\"14.00\">CuentaMensual &lt;= 19.325</text>\n<text text-anchor=\"middle\" x=\"1889.5\" y=\"-230.8\" font-family=\"Helvetica,sans-Serif\" font-size=\"14.00\">entropy = 0.183</text>\n<text text-anchor=\"middle\" x=\"1889.5\" y=\"-215.8\" font-family=\"Helvetica,sans-Serif\" font-size=\"14.00\">samples = 36</text>\n<text text-anchor=\"middle\" x=\"1889.5\" y=\"-200.8\" font-family=\"Helvetica,sans-Serif\" font-size=\"14.00\">value = [35, 1]</text>\n</g>\n<!-- 35&#45;&gt;36 -->\n<g id=\"edge36\" class=\"edge\">\n<title>35&#45;&gt;36</title>\n<path fill=\"none\" stroke=\"black\" d=\"M1998.9,-296.88C1983.55,-287.21 1966.63,-276.56 1950.79,-266.59\"/>\n<polygon fill=\"black\" stroke=\"black\" points=\"1952.44,-263.49 1942.11,-261.12 1948.71,-269.41 1952.44,-263.49\"/>\n</g>\n<!-- 41 -->\n<g id=\"node42\" class=\"node\">\n<title>41</title>\n<polygon fill=\"none\" stroke=\"black\" points=\"2106.5,-253.5 1996.5,-253.5 1996.5,-200.5 2106.5,-200.5 2106.5,-253.5\"/>\n<text text-anchor=\"middle\" x=\"2051.5\" y=\"-238.3\" font-family=\"Helvetica,sans-Serif\" font-size=\"14.00\">entropy = 0.0</text>\n<text text-anchor=\"middle\" x=\"2051.5\" y=\"-223.3\" font-family=\"Helvetica,sans-Serif\" font-size=\"14.00\">samples = 253</text>\n<text text-anchor=\"middle\" x=\"2051.5\" y=\"-208.3\" font-family=\"Helvetica,sans-Serif\" font-size=\"14.00\">value = [253, 0]</text>\n</g>\n<!-- 35&#45;&gt;41 -->\n<g id=\"edge41\" class=\"edge\">\n<title>35&#45;&gt;41</title>\n<path fill=\"none\" stroke=\"black\" d=\"M2051.5,-296.88C2051.5,-286.33 2051.5,-274.6 2051.5,-263.85\"/>\n<polygon fill=\"black\" stroke=\"black\" points=\"2055,-263.52 2051.5,-253.52 2048,-263.52 2055,-263.52\"/>\n</g>\n<!-- 37 -->\n<g id=\"node38\" class=\"node\">\n<title>37</title>\n<polygon fill=\"none\" stroke=\"black\" points=\"1850.5,-149.5 1748.5,-149.5 1748.5,-96.5 1850.5,-96.5 1850.5,-149.5\"/>\n<text text-anchor=\"middle\" x=\"1799.5\" y=\"-134.3\" font-family=\"Helvetica,sans-Serif\" font-size=\"14.00\">entropy = 0.0</text>\n<text text-anchor=\"middle\" x=\"1799.5\" y=\"-119.3\" font-family=\"Helvetica,sans-Serif\" font-size=\"14.00\">samples = 27</text>\n<text text-anchor=\"middle\" x=\"1799.5\" y=\"-104.3\" font-family=\"Helvetica,sans-Serif\" font-size=\"14.00\">value = [27, 0]</text>\n</g>\n<!-- 36&#45;&gt;37 -->\n<g id=\"edge37\" class=\"edge\">\n<title>36&#45;&gt;37</title>\n<path fill=\"none\" stroke=\"black\" d=\"M1860.28,-192.88C1850.19,-181.45 1838.88,-168.63 1828.79,-157.19\"/>\n<polygon fill=\"black\" stroke=\"black\" points=\"1831.26,-154.7 1822.02,-149.52 1826.01,-159.33 1831.26,-154.7\"/>\n</g>\n<!-- 38 -->\n<g id=\"node39\" class=\"node\">\n<title>38</title>\n<polygon fill=\"none\" stroke=\"black\" points=\"1982,-157 1869,-157 1869,-89 1982,-89 1982,-157\"/>\n<text text-anchor=\"middle\" x=\"1925.5\" y=\"-141.8\" font-family=\"Helvetica,sans-Serif\" font-size=\"14.00\">Conyuge &lt;= 0.5</text>\n<text text-anchor=\"middle\" x=\"1925.5\" y=\"-126.8\" font-family=\"Helvetica,sans-Serif\" font-size=\"14.00\">entropy = 0.503</text>\n<text text-anchor=\"middle\" x=\"1925.5\" y=\"-111.8\" font-family=\"Helvetica,sans-Serif\" font-size=\"14.00\">samples = 9</text>\n<text text-anchor=\"middle\" x=\"1925.5\" y=\"-96.8\" font-family=\"Helvetica,sans-Serif\" font-size=\"14.00\">value = [8, 1]</text>\n</g>\n<!-- 36&#45;&gt;38 -->\n<g id=\"edge38\" class=\"edge\">\n<title>36&#45;&gt;38</title>\n<path fill=\"none\" stroke=\"black\" d=\"M1901.19,-192.88C1904.11,-184.6 1907.29,-175.6 1910.35,-166.91\"/>\n<polygon fill=\"black\" stroke=\"black\" points=\"1913.72,-167.89 1913.75,-157.3 1907.12,-165.56 1913.72,-167.89\"/>\n</g>\n<!-- 39 -->\n<g id=\"node40\" class=\"node\">\n<title>39</title>\n<polygon fill=\"none\" stroke=\"black\" points=\"1895.5,-53 1799.5,-53 1799.5,0 1895.5,0 1895.5,-53\"/>\n<text text-anchor=\"middle\" x=\"1847.5\" y=\"-37.8\" font-family=\"Helvetica,sans-Serif\" font-size=\"14.00\">entropy = 0.0</text>\n<text text-anchor=\"middle\" x=\"1847.5\" y=\"-22.8\" font-family=\"Helvetica,sans-Serif\" font-size=\"14.00\">samples = 1</text>\n<text text-anchor=\"middle\" x=\"1847.5\" y=\"-7.8\" font-family=\"Helvetica,sans-Serif\" font-size=\"14.00\">value = [0, 1]</text>\n</g>\n<!-- 38&#45;&gt;39 -->\n<g id=\"edge39\" class=\"edge\">\n<title>38&#45;&gt;39</title>\n<path fill=\"none\" stroke=\"black\" d=\"M1898.22,-88.95C1890.74,-79.89 1882.64,-70.07 1875.14,-60.99\"/>\n<polygon fill=\"black\" stroke=\"black\" points=\"1877.81,-58.72 1868.74,-53.24 1872.41,-63.18 1877.81,-58.72\"/>\n</g>\n<!-- 40 -->\n<g id=\"node41\" class=\"node\">\n<title>40</title>\n<polygon fill=\"none\" stroke=\"black\" points=\"2009.5,-53 1913.5,-53 1913.5,0 2009.5,0 2009.5,-53\"/>\n<text text-anchor=\"middle\" x=\"1961.5\" y=\"-37.8\" font-family=\"Helvetica,sans-Serif\" font-size=\"14.00\">entropy = 0.0</text>\n<text text-anchor=\"middle\" x=\"1961.5\" y=\"-22.8\" font-family=\"Helvetica,sans-Serif\" font-size=\"14.00\">samples = 8</text>\n<text text-anchor=\"middle\" x=\"1961.5\" y=\"-7.8\" font-family=\"Helvetica,sans-Serif\" font-size=\"14.00\">value = [8, 0]</text>\n</g>\n<!-- 38&#45;&gt;40 -->\n<g id=\"edge40\" class=\"edge\">\n<title>38&#45;&gt;40</title>\n<path fill=\"none\" stroke=\"black\" d=\"M1938.09,-88.95C1941.33,-80.44 1944.83,-71.26 1948.11,-62.65\"/>\n<polygon fill=\"black\" stroke=\"black\" points=\"1951.41,-63.83 1951.7,-53.24 1944.86,-61.34 1951.41,-63.83\"/>\n</g>\n<!-- 43 -->\n<g id=\"node44\" class=\"node\">\n<title>43</title>\n<polygon fill=\"none\" stroke=\"black\" points=\"2220.5,-253.5 2124.5,-253.5 2124.5,-200.5 2220.5,-200.5 2220.5,-253.5\"/>\n<text text-anchor=\"middle\" x=\"2172.5\" y=\"-238.3\" font-family=\"Helvetica,sans-Serif\" font-size=\"14.00\">entropy = 0.0</text>\n<text text-anchor=\"middle\" x=\"2172.5\" y=\"-223.3\" font-family=\"Helvetica,sans-Serif\" font-size=\"14.00\">samples = 3</text>\n<text text-anchor=\"middle\" x=\"2172.5\" y=\"-208.3\" font-family=\"Helvetica,sans-Serif\" font-size=\"14.00\">value = [0, 3]</text>\n</g>\n<!-- 42&#45;&gt;43 -->\n<g id=\"edge43\" class=\"edge\">\n<title>42&#45;&gt;43</title>\n<path fill=\"none\" stroke=\"black\" d=\"M2249.49,-296.88C2236.34,-285.12 2221.56,-271.89 2208.49,-260.2\"/>\n<polygon fill=\"black\" stroke=\"black\" points=\"2210.81,-257.58 2201.02,-253.52 2206.14,-262.8 2210.81,-257.58\"/>\n</g>\n<!-- 44 -->\n<g id=\"node45\" class=\"node\">\n<title>44</title>\n<polygon fill=\"none\" stroke=\"black\" points=\"2416,-261 2239,-261 2239,-193 2416,-193 2416,-261\"/>\n<text text-anchor=\"middle\" x=\"2327.5\" y=\"-245.8\" font-family=\"Helvetica,sans-Serif\" font-size=\"14.00\">CuentaMensual &lt;= 80.575</text>\n<text text-anchor=\"middle\" x=\"2327.5\" y=\"-230.8\" font-family=\"Helvetica,sans-Serif\" font-size=\"14.00\">entropy = 0.18</text>\n<text text-anchor=\"middle\" x=\"2327.5\" y=\"-215.8\" font-family=\"Helvetica,sans-Serif\" font-size=\"14.00\">samples = 627</text>\n<text text-anchor=\"middle\" x=\"2327.5\" y=\"-200.8\" font-family=\"Helvetica,sans-Serif\" font-size=\"14.00\">value = [610, 17]</text>\n</g>\n<!-- 42&#45;&gt;44 -->\n<g id=\"edge44\" class=\"edge\">\n<title>42&#45;&gt;44</title>\n<path fill=\"none\" stroke=\"black\" d=\"M2299.81,-296.88C2303.18,-288.51 2306.84,-279.4 2310.36,-270.63\"/>\n<polygon fill=\"black\" stroke=\"black\" points=\"2313.63,-271.88 2314.11,-261.3 2307.14,-269.27 2313.63,-271.88\"/>\n</g>\n<!-- 45 -->\n<g id=\"node46\" class=\"node\">\n<title>45</title>\n<polygon fill=\"none\" stroke=\"black\" points=\"2254,-157 2077,-157 2077,-89 2254,-89 2254,-157\"/>\n<text text-anchor=\"middle\" x=\"2165.5\" y=\"-141.8\" font-family=\"Helvetica,sans-Serif\" font-size=\"14.00\">CuentaMensual &lt;= 79.462</text>\n<text text-anchor=\"middle\" x=\"2165.5\" y=\"-126.8\" font-family=\"Helvetica,sans-Serif\" font-size=\"14.00\">entropy = 0.227</text>\n<text text-anchor=\"middle\" x=\"2165.5\" y=\"-111.8\" font-family=\"Helvetica,sans-Serif\" font-size=\"14.00\">samples = 464</text>\n<text text-anchor=\"middle\" x=\"2165.5\" y=\"-96.8\" font-family=\"Helvetica,sans-Serif\" font-size=\"14.00\">value = [447, 17]</text>\n</g>\n<!-- 44&#45;&gt;45 -->\n<g id=\"edge45\" class=\"edge\">\n<title>44&#45;&gt;45</title>\n<path fill=\"none\" stroke=\"black\" d=\"M2274.9,-192.88C2259.55,-183.21 2242.63,-172.56 2226.79,-162.59\"/>\n<polygon fill=\"black\" stroke=\"black\" points=\"2228.44,-159.49 2218.11,-157.12 2224.71,-165.41 2228.44,-159.49\"/>\n</g>\n<!-- 48 -->\n<g id=\"node49\" class=\"node\">\n<title>48</title>\n<polygon fill=\"none\" stroke=\"black\" points=\"2382.5,-149.5 2272.5,-149.5 2272.5,-96.5 2382.5,-96.5 2382.5,-149.5\"/>\n<text text-anchor=\"middle\" x=\"2327.5\" y=\"-134.3\" font-family=\"Helvetica,sans-Serif\" font-size=\"14.00\">entropy = 0.0</text>\n<text text-anchor=\"middle\" x=\"2327.5\" y=\"-119.3\" font-family=\"Helvetica,sans-Serif\" font-size=\"14.00\">samples = 163</text>\n<text text-anchor=\"middle\" x=\"2327.5\" y=\"-104.3\" font-family=\"Helvetica,sans-Serif\" font-size=\"14.00\">value = [163, 0]</text>\n</g>\n<!-- 44&#45;&gt;48 -->\n<g id=\"edge48\" class=\"edge\">\n<title>44&#45;&gt;48</title>\n<path fill=\"none\" stroke=\"black\" d=\"M2327.5,-192.88C2327.5,-182.33 2327.5,-170.6 2327.5,-159.85\"/>\n<polygon fill=\"black\" stroke=\"black\" points=\"2331,-159.52 2327.5,-149.52 2324,-159.52 2331,-159.52\"/>\n</g>\n<!-- 46 -->\n<g id=\"node47\" class=\"node\">\n<title>46</title>\n<polygon fill=\"none\" stroke=\"black\" points=\"2145,-53 2028,-53 2028,0 2145,0 2145,-53\"/>\n<text text-anchor=\"middle\" x=\"2086.5\" y=\"-37.8\" font-family=\"Helvetica,sans-Serif\" font-size=\"14.00\">entropy = 0.158</text>\n<text text-anchor=\"middle\" x=\"2086.5\" y=\"-22.8\" font-family=\"Helvetica,sans-Serif\" font-size=\"14.00\">samples = 436</text>\n<text text-anchor=\"middle\" x=\"2086.5\" y=\"-7.8\" font-family=\"Helvetica,sans-Serif\" font-size=\"14.00\">value = [426, 10]</text>\n</g>\n<!-- 45&#45;&gt;46 -->\n<g id=\"edge46\" class=\"edge\">\n<title>45&#45;&gt;46</title>\n<path fill=\"none\" stroke=\"black\" d=\"M2137.87,-88.95C2130.3,-79.89 2122.09,-70.07 2114.49,-60.99\"/>\n<polygon fill=\"black\" stroke=\"black\" points=\"2117.11,-58.66 2108.02,-53.24 2111.74,-63.15 2117.11,-58.66\"/>\n</g>\n<!-- 47 -->\n<g id=\"node48\" class=\"node\">\n<title>47</title>\n<polygon fill=\"none\" stroke=\"black\" points=\"2274,-53 2163,-53 2163,0 2274,0 2274,-53\"/>\n<text text-anchor=\"middle\" x=\"2218.5\" y=\"-37.8\" font-family=\"Helvetica,sans-Serif\" font-size=\"14.00\">entropy = 0.811</text>\n<text text-anchor=\"middle\" x=\"2218.5\" y=\"-22.8\" font-family=\"Helvetica,sans-Serif\" font-size=\"14.00\">samples = 28</text>\n<text text-anchor=\"middle\" x=\"2218.5\" y=\"-7.8\" font-family=\"Helvetica,sans-Serif\" font-size=\"14.00\">value = [21, 7]</text>\n</g>\n<!-- 45&#45;&gt;47 -->\n<g id=\"edge47\" class=\"edge\">\n<title>45&#45;&gt;47</title>\n<path fill=\"none\" stroke=\"black\" d=\"M2184.04,-88.95C2188.91,-80.26 2194.18,-70.86 2199.1,-62.09\"/>\n<polygon fill=\"black\" stroke=\"black\" points=\"2202.23,-63.67 2204.07,-53.24 2196.12,-60.25 2202.23,-63.67\"/>\n</g>\n<!-- 50 -->\n<g id=\"node51\" class=\"node\">\n<title>50</title>\n<polygon fill=\"none\" stroke=\"black\" points=\"2858,-365 2673,-365 2673,-297 2858,-297 2858,-365\"/>\n<text text-anchor=\"middle\" x=\"2765.5\" y=\"-349.8\" font-family=\"Helvetica,sans-Serif\" font-size=\"14.00\">CuentaMensual &lt;= 105.925</text>\n<text text-anchor=\"middle\" x=\"2765.5\" y=\"-334.8\" font-family=\"Helvetica,sans-Serif\" font-size=\"14.00\">entropy = 0.617</text>\n<text text-anchor=\"middle\" x=\"2765.5\" y=\"-319.8\" font-family=\"Helvetica,sans-Serif\" font-size=\"14.00\">samples = 183</text>\n<text text-anchor=\"middle\" x=\"2765.5\" y=\"-304.8\" font-family=\"Helvetica,sans-Serif\" font-size=\"14.00\">value = [155, 28]</text>\n</g>\n<!-- 49&#45;&gt;50 -->\n<g id=\"edge50\" class=\"edge\">\n<title>49&#45;&gt;50</title>\n<path fill=\"none\" stroke=\"black\" d=\"M2765.5,-400.88C2765.5,-392.78 2765.5,-383.98 2765.5,-375.47\"/>\n<polygon fill=\"black\" stroke=\"black\" points=\"2769,-375.3 2765.5,-365.3 2762,-375.3 2769,-375.3\"/>\n</g>\n<!-- 65 -->\n<g id=\"node66\" class=\"node\">\n<title>65</title>\n<polygon fill=\"none\" stroke=\"black\" points=\"3345,-365 3160,-365 3160,-297 3345,-297 3345,-365\"/>\n<text text-anchor=\"middle\" x=\"3252.5\" y=\"-349.8\" font-family=\"Helvetica,sans-Serif\" font-size=\"14.00\">CuentaMensual &lt;= 104.525</text>\n<text text-anchor=\"middle\" x=\"3252.5\" y=\"-334.8\" font-family=\"Helvetica,sans-Serif\" font-size=\"14.00\">entropy = 0.187</text>\n<text text-anchor=\"middle\" x=\"3252.5\" y=\"-319.8\" font-family=\"Helvetica,sans-Serif\" font-size=\"14.00\">samples = 105</text>\n<text text-anchor=\"middle\" x=\"3252.5\" y=\"-304.8\" font-family=\"Helvetica,sans-Serif\" font-size=\"14.00\">value = [102, 3]</text>\n</g>\n<!-- 49&#45;&gt;65 -->\n<g id=\"edge65\" class=\"edge\">\n<title>49&#45;&gt;65</title>\n<path fill=\"none\" stroke=\"black\" d=\"M2853.69,-415.53C2937.09,-398.06 3062.22,-371.85 3150.01,-353.47\"/>\n<polygon fill=\"black\" stroke=\"black\" points=\"3150.92,-356.85 3159.99,-351.37 3149.49,-350 3150.92,-356.85\"/>\n</g>\n<!-- 51 -->\n<g id=\"node52\" class=\"node\">\n<title>51</title>\n<polygon fill=\"none\" stroke=\"black\" points=\"2738.5,-261 2576.5,-261 2576.5,-193 2738.5,-193 2738.5,-261\"/>\n<text text-anchor=\"middle\" x=\"2657.5\" y=\"-245.8\" font-family=\"Helvetica,sans-Serif\" font-size=\"14.00\">CuentaMensual &lt;= 98.5</text>\n<text text-anchor=\"middle\" x=\"2657.5\" y=\"-230.8\" font-family=\"Helvetica,sans-Serif\" font-size=\"14.00\">entropy = 0.429</text>\n<text text-anchor=\"middle\" x=\"2657.5\" y=\"-215.8\" font-family=\"Helvetica,sans-Serif\" font-size=\"14.00\">samples = 91</text>\n<text text-anchor=\"middle\" x=\"2657.5\" y=\"-200.8\" font-family=\"Helvetica,sans-Serif\" font-size=\"14.00\">value = [83, 8]</text>\n</g>\n<!-- 50&#45;&gt;51 -->\n<g id=\"edge51\" class=\"edge\">\n<title>50&#45;&gt;51</title>\n<path fill=\"none\" stroke=\"black\" d=\"M2730.44,-296.88C2720.82,-287.8 2710.28,-277.85 2700.28,-268.4\"/>\n<polygon fill=\"black\" stroke=\"black\" points=\"2702.43,-265.62 2692.76,-261.3 2697.63,-270.71 2702.43,-265.62\"/>\n</g>\n<!-- 58 -->\n<g id=\"node59\" class=\"node\">\n<title>58</title>\n<polygon fill=\"none\" stroke=\"black\" points=\"2979,-261 2794,-261 2794,-193 2979,-193 2979,-261\"/>\n<text text-anchor=\"middle\" x=\"2886.5\" y=\"-245.8\" font-family=\"Helvetica,sans-Serif\" font-size=\"14.00\">CuentaMensual &lt;= 108.825</text>\n<text text-anchor=\"middle\" x=\"2886.5\" y=\"-230.8\" font-family=\"Helvetica,sans-Serif\" font-size=\"14.00\">entropy = 0.755</text>\n<text text-anchor=\"middle\" x=\"2886.5\" y=\"-215.8\" font-family=\"Helvetica,sans-Serif\" font-size=\"14.00\">samples = 92</text>\n<text text-anchor=\"middle\" x=\"2886.5\" y=\"-200.8\" font-family=\"Helvetica,sans-Serif\" font-size=\"14.00\">value = [72, 20]</text>\n</g>\n<!-- 50&#45;&gt;58 -->\n<g id=\"edge58\" class=\"edge\">\n<title>50&#45;&gt;58</title>\n<path fill=\"none\" stroke=\"black\" d=\"M2804.79,-296.88C2815.77,-287.62 2827.83,-277.45 2839.23,-267.85\"/>\n<polygon fill=\"black\" stroke=\"black\" points=\"2841.61,-270.42 2847,-261.3 2837.1,-265.07 2841.61,-270.42\"/>\n</g>\n<!-- 52 -->\n<g id=\"node53\" class=\"node\">\n<title>52</title>\n<polygon fill=\"none\" stroke=\"black\" points=\"2576.5,-157 2400.5,-157 2400.5,-89 2576.5,-89 2576.5,-157\"/>\n<text text-anchor=\"middle\" x=\"2488.5\" y=\"-141.8\" font-family=\"Helvetica,sans-Serif\" font-size=\"14.00\">MesesDeContrato &lt;= 69.5</text>\n<text text-anchor=\"middle\" x=\"2488.5\" y=\"-126.8\" font-family=\"Helvetica,sans-Serif\" font-size=\"14.00\">entropy = 0.764</text>\n<text text-anchor=\"middle\" x=\"2488.5\" y=\"-111.8\" font-family=\"Helvetica,sans-Serif\" font-size=\"14.00\">samples = 27</text>\n<text text-anchor=\"middle\" x=\"2488.5\" y=\"-96.8\" font-family=\"Helvetica,sans-Serif\" font-size=\"14.00\">value = [21, 6]</text>\n</g>\n<!-- 51&#45;&gt;52 -->\n<g id=\"edge52\" class=\"edge\">\n<title>51&#45;&gt;52</title>\n<path fill=\"none\" stroke=\"black\" d=\"M2602.63,-192.88C2586.46,-183.12 2568.64,-172.37 2551.97,-162.31\"/>\n<polygon fill=\"black\" stroke=\"black\" points=\"2553.75,-159.3 2543.38,-157.12 2550.14,-165.29 2553.75,-159.3\"/>\n</g>\n<!-- 55 -->\n<g id=\"node56\" class=\"node\">\n<title>55</title>\n<polygon fill=\"none\" stroke=\"black\" points=\"2714,-157 2601,-157 2601,-89 2714,-89 2714,-157\"/>\n<text text-anchor=\"middle\" x=\"2657.5\" y=\"-141.8\" font-family=\"Helvetica,sans-Serif\" font-size=\"14.00\">Conyuge &lt;= 0.5</text>\n<text text-anchor=\"middle\" x=\"2657.5\" y=\"-126.8\" font-family=\"Helvetica,sans-Serif\" font-size=\"14.00\">entropy = 0.201</text>\n<text text-anchor=\"middle\" x=\"2657.5\" y=\"-111.8\" font-family=\"Helvetica,sans-Serif\" font-size=\"14.00\">samples = 64</text>\n<text text-anchor=\"middle\" x=\"2657.5\" y=\"-96.8\" font-family=\"Helvetica,sans-Serif\" font-size=\"14.00\">value = [62, 2]</text>\n</g>\n<!-- 51&#45;&gt;55 -->\n<g id=\"edge55\" class=\"edge\">\n<title>51&#45;&gt;55</title>\n<path fill=\"none\" stroke=\"black\" d=\"M2657.5,-192.88C2657.5,-184.78 2657.5,-175.98 2657.5,-167.47\"/>\n<polygon fill=\"black\" stroke=\"black\" points=\"2661,-167.3 2657.5,-157.3 2654,-167.3 2661,-167.3\"/>\n</g>\n<!-- 53 -->\n<g id=\"node54\" class=\"node\">\n<title>53</title>\n<polygon fill=\"none\" stroke=\"black\" points=\"2403,-53 2292,-53 2292,0 2403,0 2403,-53\"/>\n<text text-anchor=\"middle\" x=\"2347.5\" y=\"-37.8\" font-family=\"Helvetica,sans-Serif\" font-size=\"14.00\">entropy = 0.454</text>\n<text text-anchor=\"middle\" x=\"2347.5\" y=\"-22.8\" font-family=\"Helvetica,sans-Serif\" font-size=\"14.00\">samples = 21</text>\n<text text-anchor=\"middle\" x=\"2347.5\" y=\"-7.8\" font-family=\"Helvetica,sans-Serif\" font-size=\"14.00\">value = [19, 2]</text>\n</g>\n<!-- 52&#45;&gt;53 -->\n<g id=\"edge53\" class=\"edge\">\n<title>52&#45;&gt;53</title>\n<path fill=\"none\" stroke=\"black\" d=\"M2439.19,-88.95C2424.72,-79.25 2408.94,-68.68 2394.61,-59.07\"/>\n<polygon fill=\"black\" stroke=\"black\" points=\"2396.16,-55.9 2385.9,-53.24 2392.26,-61.71 2396.16,-55.9\"/>\n</g>\n<!-- 54 -->\n<g id=\"node55\" class=\"node\">\n<title>54</title>\n<polygon fill=\"none\" stroke=\"black\" points=\"2532,-53 2421,-53 2421,0 2532,0 2532,-53\"/>\n<text text-anchor=\"middle\" x=\"2476.5\" y=\"-37.8\" font-family=\"Helvetica,sans-Serif\" font-size=\"14.00\">entropy = 0.918</text>\n<text text-anchor=\"middle\" x=\"2476.5\" y=\"-22.8\" font-family=\"Helvetica,sans-Serif\" font-size=\"14.00\">samples = 6</text>\n<text text-anchor=\"middle\" x=\"2476.5\" y=\"-7.8\" font-family=\"Helvetica,sans-Serif\" font-size=\"14.00\">value = [2, 4]</text>\n</g>\n<!-- 52&#45;&gt;54 -->\n<g id=\"edge54\" class=\"edge\">\n<title>52&#45;&gt;54</title>\n<path fill=\"none\" stroke=\"black\" d=\"M2484.3,-88.95C2483.25,-80.62 2482.11,-71.65 2481.03,-63.2\"/>\n<polygon fill=\"black\" stroke=\"black\" points=\"2484.5,-62.72 2479.77,-53.24 2477.56,-63.6 2484.5,-62.72\"/>\n</g>\n<!-- 56 -->\n<g id=\"node57\" class=\"node\">\n<title>56</title>\n<polygon fill=\"none\" stroke=\"black\" points=\"2661,-53 2550,-53 2550,0 2661,0 2661,-53\"/>\n<text text-anchor=\"middle\" x=\"2605.5\" y=\"-37.8\" font-family=\"Helvetica,sans-Serif\" font-size=\"14.00\">entropy = 0.439</text>\n<text text-anchor=\"middle\" x=\"2605.5\" y=\"-22.8\" font-family=\"Helvetica,sans-Serif\" font-size=\"14.00\">samples = 22</text>\n<text text-anchor=\"middle\" x=\"2605.5\" y=\"-7.8\" font-family=\"Helvetica,sans-Serif\" font-size=\"14.00\">value = [20, 2]</text>\n</g>\n<!-- 55&#45;&gt;56 -->\n<g id=\"edge56\" class=\"edge\">\n<title>55&#45;&gt;56</title>\n<path fill=\"none\" stroke=\"black\" d=\"M2639.31,-88.95C2634.53,-80.26 2629.36,-70.86 2624.53,-62.09\"/>\n<polygon fill=\"black\" stroke=\"black\" points=\"2627.55,-60.31 2619.66,-53.24 2621.42,-63.69 2627.55,-60.31\"/>\n</g>\n<!-- 57 -->\n<g id=\"node58\" class=\"node\">\n<title>57</title>\n<polygon fill=\"none\" stroke=\"black\" points=\"2781.5,-53 2679.5,-53 2679.5,0 2781.5,0 2781.5,-53\"/>\n<text text-anchor=\"middle\" x=\"2730.5\" y=\"-37.8\" font-family=\"Helvetica,sans-Serif\" font-size=\"14.00\">entropy = 0.0</text>\n<text text-anchor=\"middle\" x=\"2730.5\" y=\"-22.8\" font-family=\"Helvetica,sans-Serif\" font-size=\"14.00\">samples = 42</text>\n<text text-anchor=\"middle\" x=\"2730.5\" y=\"-7.8\" font-family=\"Helvetica,sans-Serif\" font-size=\"14.00\">value = [42, 0]</text>\n</g>\n<!-- 55&#45;&gt;57 -->\n<g id=\"edge57\" class=\"edge\">\n<title>55&#45;&gt;57</title>\n<path fill=\"none\" stroke=\"black\" d=\"M2683.03,-88.95C2689.96,-79.98 2697.46,-70.27 2704.42,-61.26\"/>\n<polygon fill=\"black\" stroke=\"black\" points=\"2707.28,-63.29 2710.62,-53.24 2701.74,-59.01 2707.28,-63.29\"/>\n</g>\n<!-- 59 -->\n<g id=\"node60\" class=\"node\">\n<title>59</title>\n<polygon fill=\"none\" stroke=\"black\" points=\"2976.5,-157 2796.5,-157 2796.5,-89 2976.5,-89 2976.5,-157\"/>\n<text text-anchor=\"middle\" x=\"2886.5\" y=\"-141.8\" font-family=\"Helvetica,sans-Serif\" font-size=\"14.00\">SeguridadOnline_Si &lt;= 0.5</text>\n<text text-anchor=\"middle\" x=\"2886.5\" y=\"-126.8\" font-family=\"Helvetica,sans-Serif\" font-size=\"14.00\">entropy = 0.985</text>\n<text text-anchor=\"middle\" x=\"2886.5\" y=\"-111.8\" font-family=\"Helvetica,sans-Serif\" font-size=\"14.00\">samples = 21</text>\n<text text-anchor=\"middle\" x=\"2886.5\" y=\"-96.8\" font-family=\"Helvetica,sans-Serif\" font-size=\"14.00\">value = [9, 12]</text>\n</g>\n<!-- 58&#45;&gt;59 -->\n<g id=\"edge59\" class=\"edge\">\n<title>58&#45;&gt;59</title>\n<path fill=\"none\" stroke=\"black\" d=\"M2886.5,-192.88C2886.5,-184.78 2886.5,-175.98 2886.5,-167.47\"/>\n<polygon fill=\"black\" stroke=\"black\" points=\"2890,-167.3 2886.5,-157.3 2883,-167.3 2890,-167.3\"/>\n</g>\n<!-- 62 -->\n<g id=\"node63\" class=\"node\">\n<title>62</title>\n<polygon fill=\"none\" stroke=\"black\" points=\"3186.5,-157 3010.5,-157 3010.5,-89 3186.5,-89 3186.5,-157\"/>\n<text text-anchor=\"middle\" x=\"3098.5\" y=\"-141.8\" font-family=\"Helvetica,sans-Serif\" font-size=\"14.00\">MesesDeContrato &lt;= 58.5</text>\n<text text-anchor=\"middle\" x=\"3098.5\" y=\"-126.8\" font-family=\"Helvetica,sans-Serif\" font-size=\"14.00\">entropy = 0.508</text>\n<text text-anchor=\"middle\" x=\"3098.5\" y=\"-111.8\" font-family=\"Helvetica,sans-Serif\" font-size=\"14.00\">samples = 71</text>\n<text text-anchor=\"middle\" x=\"3098.5\" y=\"-96.8\" font-family=\"Helvetica,sans-Serif\" font-size=\"14.00\">value = [63, 8]</text>\n</g>\n<!-- 58&#45;&gt;62 -->\n<g id=\"edge62\" class=\"edge\">\n<title>58&#45;&gt;62</title>\n<path fill=\"none\" stroke=\"black\" d=\"M2955.33,-192.88C2976.17,-182.86 2999.21,-171.77 3020.6,-161.48\"/>\n<polygon fill=\"black\" stroke=\"black\" points=\"3022.16,-164.61 3029.65,-157.12 3019.12,-158.31 3022.16,-164.61\"/>\n</g>\n<!-- 60 -->\n<g id=\"node61\" class=\"node\">\n<title>60</title>\n<polygon fill=\"none\" stroke=\"black\" points=\"2911,-53 2800,-53 2800,0 2911,0 2911,-53\"/>\n<text text-anchor=\"middle\" x=\"2855.5\" y=\"-37.8\" font-family=\"Helvetica,sans-Serif\" font-size=\"14.00\">entropy = 0.684</text>\n<text text-anchor=\"middle\" x=\"2855.5\" y=\"-22.8\" font-family=\"Helvetica,sans-Serif\" font-size=\"14.00\">samples = 11</text>\n<text text-anchor=\"middle\" x=\"2855.5\" y=\"-7.8\" font-family=\"Helvetica,sans-Serif\" font-size=\"14.00\">value = [2, 9]</text>\n</g>\n<!-- 59&#45;&gt;60 -->\n<g id=\"edge60\" class=\"edge\">\n<title>59&#45;&gt;60</title>\n<path fill=\"none\" stroke=\"black\" d=\"M2875.66,-88.95C2872.9,-80.53 2869.92,-71.45 2867.12,-62.92\"/>\n<polygon fill=\"black\" stroke=\"black\" points=\"2870.39,-61.65 2863.94,-53.24 2863.73,-63.83 2870.39,-61.65\"/>\n</g>\n<!-- 61 -->\n<g id=\"node62\" class=\"node\">\n<title>61</title>\n<polygon fill=\"none\" stroke=\"black\" points=\"3040,-53 2929,-53 2929,0 3040,0 3040,-53\"/>\n<text text-anchor=\"middle\" x=\"2984.5\" y=\"-37.8\" font-family=\"Helvetica,sans-Serif\" font-size=\"14.00\">entropy = 0.881</text>\n<text text-anchor=\"middle\" x=\"2984.5\" y=\"-22.8\" font-family=\"Helvetica,sans-Serif\" font-size=\"14.00\">samples = 10</text>\n<text text-anchor=\"middle\" x=\"2984.5\" y=\"-7.8\" font-family=\"Helvetica,sans-Serif\" font-size=\"14.00\">value = [7, 3]</text>\n</g>\n<!-- 59&#45;&gt;61 -->\n<g id=\"edge61\" class=\"edge\">\n<title>59&#45;&gt;61</title>\n<path fill=\"none\" stroke=\"black\" d=\"M2920.78,-88.95C2930.36,-79.71 2940.77,-69.67 2950.34,-60.44\"/>\n<polygon fill=\"black\" stroke=\"black\" points=\"2953.04,-62.7 2957.81,-53.24 2948.18,-57.66 2953.04,-62.7\"/>\n</g>\n<!-- 63 -->\n<g id=\"node64\" class=\"node\">\n<title>63</title>\n<polygon fill=\"none\" stroke=\"black\" points=\"3169,-53 3058,-53 3058,0 3169,0 3169,-53\"/>\n<text text-anchor=\"middle\" x=\"3113.5\" y=\"-37.8\" font-family=\"Helvetica,sans-Serif\" font-size=\"14.00\">entropy = 0.863</text>\n<text text-anchor=\"middle\" x=\"3113.5\" y=\"-22.8\" font-family=\"Helvetica,sans-Serif\" font-size=\"14.00\">samples = 14</text>\n<text text-anchor=\"middle\" x=\"3113.5\" y=\"-7.8\" font-family=\"Helvetica,sans-Serif\" font-size=\"14.00\">value = [10, 4]</text>\n</g>\n<!-- 62&#45;&gt;63 -->\n<g id=\"edge63\" class=\"edge\">\n<title>62&#45;&gt;63</title>\n<path fill=\"none\" stroke=\"black\" d=\"M3103.75,-88.95C3105.07,-80.62 3106.49,-71.65 3107.83,-63.2\"/>\n<polygon fill=\"black\" stroke=\"black\" points=\"3111.3,-63.66 3109.41,-53.24 3104.39,-62.56 3111.3,-63.66\"/>\n</g>\n<!-- 64 -->\n<g id=\"node65\" class=\"node\">\n<title>64</title>\n<polygon fill=\"none\" stroke=\"black\" points=\"3298,-53 3187,-53 3187,0 3298,0 3298,-53\"/>\n<text text-anchor=\"middle\" x=\"3242.5\" y=\"-37.8\" font-family=\"Helvetica,sans-Serif\" font-size=\"14.00\">entropy = 0.367</text>\n<text text-anchor=\"middle\" x=\"3242.5\" y=\"-22.8\" font-family=\"Helvetica,sans-Serif\" font-size=\"14.00\">samples = 57</text>\n<text text-anchor=\"middle\" x=\"3242.5\" y=\"-7.8\" font-family=\"Helvetica,sans-Serif\" font-size=\"14.00\">value = [53, 4]</text>\n</g>\n<!-- 62&#45;&gt;64 -->\n<g id=\"edge64\" class=\"edge\">\n<title>62&#45;&gt;64</title>\n<path fill=\"none\" stroke=\"black\" d=\"M3148.86,-88.95C3163.78,-79.16 3180.06,-68.48 3194.8,-58.8\"/>\n<polygon fill=\"black\" stroke=\"black\" points=\"3196.84,-61.65 3203.28,-53.24 3193,-55.8 3196.84,-61.65\"/>\n</g>\n<!-- 66 -->\n<g id=\"node67\" class=\"node\">\n<title>66</title>\n<polygon fill=\"none\" stroke=\"black\" points=\"3337.5,-261 3167.5,-261 3167.5,-193 3337.5,-193 3337.5,-261\"/>\n<text text-anchor=\"middle\" x=\"3252.5\" y=\"-245.8\" font-family=\"Helvetica,sans-Serif\" font-size=\"14.00\">CuentaMensual &lt;= 92.55</text>\n<text text-anchor=\"middle\" x=\"3252.5\" y=\"-230.8\" font-family=\"Helvetica,sans-Serif\" font-size=\"14.00\">entropy = 0.503</text>\n<text text-anchor=\"middle\" x=\"3252.5\" y=\"-215.8\" font-family=\"Helvetica,sans-Serif\" font-size=\"14.00\">samples = 27</text>\n<text text-anchor=\"middle\" x=\"3252.5\" y=\"-200.8\" font-family=\"Helvetica,sans-Serif\" font-size=\"14.00\">value = [24, 3]</text>\n</g>\n<!-- 65&#45;&gt;66 -->\n<g id=\"edge66\" class=\"edge\">\n<title>65&#45;&gt;66</title>\n<path fill=\"none\" stroke=\"black\" d=\"M3252.5,-296.88C3252.5,-288.78 3252.5,-279.98 3252.5,-271.47\"/>\n<polygon fill=\"black\" stroke=\"black\" points=\"3256,-271.3 3252.5,-261.3 3249,-271.3 3256,-271.3\"/>\n</g>\n<!-- 71 -->\n<g id=\"node72\" class=\"node\">\n<title>71</title>\n<polygon fill=\"none\" stroke=\"black\" points=\"3457.5,-253.5 3355.5,-253.5 3355.5,-200.5 3457.5,-200.5 3457.5,-253.5\"/>\n<text text-anchor=\"middle\" x=\"3406.5\" y=\"-238.3\" font-family=\"Helvetica,sans-Serif\" font-size=\"14.00\">entropy = 0.0</text>\n<text text-anchor=\"middle\" x=\"3406.5\" y=\"-223.3\" font-family=\"Helvetica,sans-Serif\" font-size=\"14.00\">samples = 78</text>\n<text text-anchor=\"middle\" x=\"3406.5\" y=\"-208.3\" font-family=\"Helvetica,sans-Serif\" font-size=\"14.00\">value = [78, 0]</text>\n</g>\n<!-- 65&#45;&gt;71 -->\n<g id=\"edge71\" class=\"edge\">\n<title>65&#45;&gt;71</title>\n<path fill=\"none\" stroke=\"black\" d=\"M3302.5,-296.88C3320.76,-284.79 3341.35,-271.15 3359.36,-259.22\"/>\n<polygon fill=\"black\" stroke=\"black\" points=\"3361.57,-261.96 3367.97,-253.52 3357.7,-256.12 3361.57,-261.96\"/>\n</g>\n<!-- 67 -->\n<g id=\"node68\" class=\"node\">\n<title>67</title>\n<polygon fill=\"none\" stroke=\"black\" points=\"3300.5,-149.5 3204.5,-149.5 3204.5,-96.5 3300.5,-96.5 3300.5,-149.5\"/>\n<text text-anchor=\"middle\" x=\"3252.5\" y=\"-134.3\" font-family=\"Helvetica,sans-Serif\" font-size=\"14.00\">entropy = 0.0</text>\n<text text-anchor=\"middle\" x=\"3252.5\" y=\"-119.3\" font-family=\"Helvetica,sans-Serif\" font-size=\"14.00\">samples = 1</text>\n<text text-anchor=\"middle\" x=\"3252.5\" y=\"-104.3\" font-family=\"Helvetica,sans-Serif\" font-size=\"14.00\">value = [0, 1]</text>\n</g>\n<!-- 66&#45;&gt;67 -->\n<g id=\"edge67\" class=\"edge\">\n<title>66&#45;&gt;67</title>\n<path fill=\"none\" stroke=\"black\" d=\"M3252.5,-192.88C3252.5,-182.33 3252.5,-170.6 3252.5,-159.85\"/>\n<polygon fill=\"black\" stroke=\"black\" points=\"3256,-159.52 3252.5,-149.52 3249,-159.52 3256,-159.52\"/>\n</g>\n<!-- 68 -->\n<g id=\"node69\" class=\"node\">\n<title>68</title>\n<polygon fill=\"none\" stroke=\"black\" points=\"3504,-157 3319,-157 3319,-89 3504,-89 3504,-157\"/>\n<text text-anchor=\"middle\" x=\"3411.5\" y=\"-141.8\" font-family=\"Helvetica,sans-Serif\" font-size=\"14.00\">CuentaMensual &lt;= 103.025</text>\n<text text-anchor=\"middle\" x=\"3411.5\" y=\"-126.8\" font-family=\"Helvetica,sans-Serif\" font-size=\"14.00\">entropy = 0.391</text>\n<text text-anchor=\"middle\" x=\"3411.5\" y=\"-111.8\" font-family=\"Helvetica,sans-Serif\" font-size=\"14.00\">samples = 26</text>\n<text text-anchor=\"middle\" x=\"3411.5\" y=\"-96.8\" font-family=\"Helvetica,sans-Serif\" font-size=\"14.00\">value = [24, 2]</text>\n</g>\n<!-- 66&#45;&gt;68 -->\n<g id=\"edge68\" class=\"edge\">\n<title>66&#45;&gt;68</title>\n<path fill=\"none\" stroke=\"black\" d=\"M3304.12,-192.88C3319.2,-183.21 3335.8,-172.56 3351.35,-162.59\"/>\n<polygon fill=\"black\" stroke=\"black\" points=\"3353.34,-165.47 3359.86,-157.12 3349.56,-159.58 3353.34,-165.47\"/>\n</g>\n<!-- 69 -->\n<g id=\"node70\" class=\"node\">\n<title>69</title>\n<polygon fill=\"none\" stroke=\"black\" points=\"3418.5,-53 3316.5,-53 3316.5,0 3418.5,0 3418.5,-53\"/>\n<text text-anchor=\"middle\" x=\"3367.5\" y=\"-37.8\" font-family=\"Helvetica,sans-Serif\" font-size=\"14.00\">entropy = 0.0</text>\n<text text-anchor=\"middle\" x=\"3367.5\" y=\"-22.8\" font-family=\"Helvetica,sans-Serif\" font-size=\"14.00\">samples = 21</text>\n<text text-anchor=\"middle\" x=\"3367.5\" y=\"-7.8\" font-family=\"Helvetica,sans-Serif\" font-size=\"14.00\">value = [21, 0]</text>\n</g>\n<!-- 68&#45;&gt;69 -->\n<g id=\"edge69\" class=\"edge\">\n<title>68&#45;&gt;69</title>\n<path fill=\"none\" stroke=\"black\" d=\"M3396.11,-88.95C3392.11,-80.35 3387.78,-71.06 3383.74,-62.37\"/>\n<polygon fill=\"black\" stroke=\"black\" points=\"3386.88,-60.82 3379.48,-53.24 3380.53,-63.78 3386.88,-60.82\"/>\n</g>\n<!-- 70 -->\n<g id=\"node71\" class=\"node\">\n<title>70</title>\n<polygon fill=\"none\" stroke=\"black\" points=\"3548,-53 3437,-53 3437,0 3548,0 3548,-53\"/>\n<text text-anchor=\"middle\" x=\"3492.5\" y=\"-37.8\" font-family=\"Helvetica,sans-Serif\" font-size=\"14.00\">entropy = 0.971</text>\n<text text-anchor=\"middle\" x=\"3492.5\" y=\"-22.8\" font-family=\"Helvetica,sans-Serif\" font-size=\"14.00\">samples = 5</text>\n<text text-anchor=\"middle\" x=\"3492.5\" y=\"-7.8\" font-family=\"Helvetica,sans-Serif\" font-size=\"14.00\">value = [3, 2]</text>\n</g>\n<!-- 68&#45;&gt;70 -->\n<g id=\"edge70\" class=\"edge\">\n<title>68&#45;&gt;70</title>\n<path fill=\"none\" stroke=\"black\" d=\"M3439.83,-88.95C3447.59,-79.89 3456.01,-70.07 3463.8,-60.99\"/>\n<polygon fill=\"black\" stroke=\"black\" points=\"3466.59,-63.11 3470.44,-53.24 3461.27,-58.55 3466.59,-63.11\"/>\n</g>\n<!-- 73 -->\n<g id=\"node74\" class=\"node\">\n<title>73</title>\n<polygon fill=\"none\" stroke=\"black\" points=\"5076,-573 4907,-573 4907,-505 5076,-505 5076,-573\"/>\n<text text-anchor=\"middle\" x=\"4991.5\" y=\"-557.8\" font-family=\"Helvetica,sans-Serif\" font-size=\"14.00\">MesesDeContrato &lt;= 5.5</text>\n<text text-anchor=\"middle\" x=\"4991.5\" y=\"-542.8\" font-family=\"Helvetica,sans-Serif\" font-size=\"14.00\">entropy = 0.999</text>\n<text text-anchor=\"middle\" x=\"4991.5\" y=\"-527.8\" font-family=\"Helvetica,sans-Serif\" font-size=\"14.00\">samples = 1740</text>\n<text text-anchor=\"middle\" x=\"4991.5\" y=\"-512.8\" font-family=\"Helvetica,sans-Serif\" font-size=\"14.00\">value = [845, 895]</text>\n</g>\n<!-- 72&#45;&gt;73 -->\n<g id=\"edge73\" class=\"edge\">\n<title>72&#45;&gt;73</title>\n<path fill=\"none\" stroke=\"black\" d=\"M4991.5,-608.88C4991.5,-600.78 4991.5,-591.98 4991.5,-583.47\"/>\n<polygon fill=\"black\" stroke=\"black\" points=\"4995,-583.3 4991.5,-573.3 4988,-583.3 4995,-583.3\"/>\n</g>\n<!-- 128 -->\n<g id=\"node129\" class=\"node\">\n<title>128</title>\n<polygon fill=\"none\" stroke=\"black\" points=\"7761.5,-573 7585.5,-573 7585.5,-505 7761.5,-505 7761.5,-573\"/>\n<text text-anchor=\"middle\" x=\"7673.5\" y=\"-557.8\" font-family=\"Helvetica,sans-Serif\" font-size=\"14.00\">MesesDeContrato &lt;= 15.5</text>\n<text text-anchor=\"middle\" x=\"7673.5\" y=\"-542.8\" font-family=\"Helvetica,sans-Serif\" font-size=\"14.00\">entropy = 0.783</text>\n<text text-anchor=\"middle\" x=\"7673.5\" y=\"-527.8\" font-family=\"Helvetica,sans-Serif\" font-size=\"14.00\">samples = 2943</text>\n<text text-anchor=\"middle\" x=\"7673.5\" y=\"-512.8\" font-family=\"Helvetica,sans-Serif\" font-size=\"14.00\">value = [686, 2257]</text>\n</g>\n<!-- 72&#45;&gt;128 -->\n<g id=\"edge128\" class=\"edge\">\n<title>72&#45;&gt;128</title>\n<path fill=\"none\" stroke=\"black\" d=\"M5115.92,-637.27C5574.23,-619.84 7162.93,-559.42 7575.16,-543.74\"/>\n<polygon fill=\"black\" stroke=\"black\" points=\"7575.41,-547.23 7585.27,-543.36 7575.14,-540.24 7575.41,-547.23\"/>\n</g>\n<!-- 74 -->\n<g id=\"node75\" class=\"node\">\n<title>74</title>\n<polygon fill=\"none\" stroke=\"black\" points=\"4972,-469 4649,-469 4649,-401 4972,-401 4972,-469\"/>\n<text text-anchor=\"middle\" x=\"4810.5\" y=\"-453.8\" font-family=\"Helvetica,sans-Serif\" font-size=\"14.00\">SeguroEnDispositivo_SinServicioDeInternet &lt;= 0.5</text>\n<text text-anchor=\"middle\" x=\"4810.5\" y=\"-438.8\" font-family=\"Helvetica,sans-Serif\" font-size=\"14.00\">entropy = 0.898</text>\n<text text-anchor=\"middle\" x=\"4810.5\" y=\"-423.8\" font-family=\"Helvetica,sans-Serif\" font-size=\"14.00\">samples = 890</text>\n<text text-anchor=\"middle\" x=\"4810.5\" y=\"-408.8\" font-family=\"Helvetica,sans-Serif\" font-size=\"14.00\">value = [280, 610]</text>\n</g>\n<!-- 73&#45;&gt;74 -->\n<g id=\"edge74\" class=\"edge\">\n<title>73&#45;&gt;74</title>\n<path fill=\"none\" stroke=\"black\" d=\"M4932.73,-504.88C4915.42,-495.12 4896.33,-484.37 4878.48,-474.31\"/>\n<polygon fill=\"black\" stroke=\"black\" points=\"4879.71,-470.99 4869.28,-469.12 4876.27,-477.08 4879.71,-470.99\"/>\n</g>\n<!-- 103 -->\n<g id=\"node104\" class=\"node\">\n<title>103</title>\n<polygon fill=\"none\" stroke=\"black\" points=\"5551.5,-469 5419.5,-469 5419.5,-401 5551.5,-401 5551.5,-469\"/>\n<text text-anchor=\"middle\" x=\"5485.5\" y=\"-453.8\" font-family=\"Helvetica,sans-Serif\" font-size=\"14.00\">TelefonoFijo &lt;= 0.5</text>\n<text text-anchor=\"middle\" x=\"5485.5\" y=\"-438.8\" font-family=\"Helvetica,sans-Serif\" font-size=\"14.00\">entropy = 0.92</text>\n<text text-anchor=\"middle\" x=\"5485.5\" y=\"-423.8\" font-family=\"Helvetica,sans-Serif\" font-size=\"14.00\">samples = 850</text>\n<text text-anchor=\"middle\" x=\"5485.5\" y=\"-408.8\" font-family=\"Helvetica,sans-Serif\" font-size=\"14.00\">value = [565, 285]</text>\n</g>\n<!-- 73&#45;&gt;103 -->\n<g id=\"edge103\" class=\"edge\">\n<title>73&#45;&gt;103</title>\n<path fill=\"none\" stroke=\"black\" d=\"M5076.14,-520.52C5169.82,-501.18 5319.44,-470.29 5409.5,-451.69\"/>\n<polygon fill=\"black\" stroke=\"black\" points=\"5410.28,-455.1 5419.37,-449.66 5408.87,-448.25 5410.28,-455.1\"/>\n</g>\n<!-- 75 -->\n<g id=\"node76\" class=\"node\">\n<title>75</title>\n<polygon fill=\"none\" stroke=\"black\" points=\"4166.5,-365 3994.5,-365 3994.5,-297 4166.5,-297 4166.5,-365\"/>\n<text text-anchor=\"middle\" x=\"4080.5\" y=\"-349.8\" font-family=\"Helvetica,sans-Serif\" font-size=\"14.00\">SoporteTecnico_Si &lt;= 0.5</text>\n<text text-anchor=\"middle\" x=\"4080.5\" y=\"-334.8\" font-family=\"Helvetica,sans-Serif\" font-size=\"14.00\">entropy = 0.811</text>\n<text text-anchor=\"middle\" x=\"4080.5\" y=\"-319.8\" font-family=\"Helvetica,sans-Serif\" font-size=\"14.00\">samples = 609</text>\n<text text-anchor=\"middle\" x=\"4080.5\" y=\"-304.8\" font-family=\"Helvetica,sans-Serif\" font-size=\"14.00\">value = [152, 457]</text>\n</g>\n<!-- 74&#45;&gt;75 -->\n<g id=\"edge75\" class=\"edge\">\n<title>74&#45;&gt;75</title>\n<path fill=\"none\" stroke=\"black\" d=\"M4648.94,-411.43C4504.14,-391.19 4296.56,-362.19 4176.43,-345.4\"/>\n<polygon fill=\"black\" stroke=\"black\" points=\"4176.9,-341.94 4166.51,-344.02 4175.93,-348.87 4176.9,-341.94\"/>\n</g>\n<!-- 88 -->\n<g id=\"node89\" class=\"node\">\n<title>88</title>\n<polygon fill=\"none\" stroke=\"black\" points=\"4895,-365 4726,-365 4726,-297 4895,-297 4895,-365\"/>\n<text text-anchor=\"middle\" x=\"4810.5\" y=\"-349.8\" font-family=\"Helvetica,sans-Serif\" font-size=\"14.00\">MesesDeContrato &lt;= 1.5</text>\n<text text-anchor=\"middle\" x=\"4810.5\" y=\"-334.8\" font-family=\"Helvetica,sans-Serif\" font-size=\"14.00\">entropy = 0.994</text>\n<text text-anchor=\"middle\" x=\"4810.5\" y=\"-319.8\" font-family=\"Helvetica,sans-Serif\" font-size=\"14.00\">samples = 281</text>\n<text text-anchor=\"middle\" x=\"4810.5\" y=\"-304.8\" font-family=\"Helvetica,sans-Serif\" font-size=\"14.00\">value = [128, 153]</text>\n</g>\n<!-- 74&#45;&gt;88 -->\n<g id=\"edge88\" class=\"edge\">\n<title>74&#45;&gt;88</title>\n<path fill=\"none\" stroke=\"black\" d=\"M4810.5,-400.88C4810.5,-392.78 4810.5,-383.98 4810.5,-375.47\"/>\n<polygon fill=\"black\" stroke=\"black\" points=\"4814,-375.3 4810.5,-365.3 4807,-375.3 4814,-375.3\"/>\n</g>\n<!-- 76 -->\n<g id=\"node77\" class=\"node\">\n<title>76</title>\n<polygon fill=\"none\" stroke=\"black\" points=\"3845,-261 3668,-261 3668,-193 3845,-193 3845,-261\"/>\n<text text-anchor=\"middle\" x=\"3756.5\" y=\"-245.8\" font-family=\"Helvetica,sans-Serif\" font-size=\"14.00\">SoporteTecnico_No &lt;= 0.5</text>\n<text text-anchor=\"middle\" x=\"3756.5\" y=\"-230.8\" font-family=\"Helvetica,sans-Serif\" font-size=\"14.00\">entropy = 0.755</text>\n<text text-anchor=\"middle\" x=\"3756.5\" y=\"-215.8\" font-family=\"Helvetica,sans-Serif\" font-size=\"14.00\">samples = 543</text>\n<text text-anchor=\"middle\" x=\"3756.5\" y=\"-200.8\" font-family=\"Helvetica,sans-Serif\" font-size=\"14.00\">value = [118, 425]</text>\n</g>\n<!-- 75&#45;&gt;76 -->\n<g id=\"edge76\" class=\"edge\">\n<title>75&#45;&gt;76</title>\n<path fill=\"none\" stroke=\"black\" d=\"M3994.1,-302.8C3951.22,-289.3 3899.24,-272.94 3854.84,-258.96\"/>\n<polygon fill=\"black\" stroke=\"black\" points=\"3855.79,-255.59 3845.2,-255.92 3853.69,-262.27 3855.79,-255.59\"/>\n</g>\n<!-- 81 -->\n<g id=\"node82\" class=\"node\">\n<title>81</title>\n<polygon fill=\"none\" stroke=\"black\" points=\"4165.5,-261 3995.5,-261 3995.5,-193 4165.5,-193 4165.5,-261\"/>\n<text text-anchor=\"middle\" x=\"4080.5\" y=\"-245.8\" font-family=\"Helvetica,sans-Serif\" font-size=\"14.00\">CuentaMensual &lt;= 63.37</text>\n<text text-anchor=\"middle\" x=\"4080.5\" y=\"-230.8\" font-family=\"Helvetica,sans-Serif\" font-size=\"14.00\">entropy = 0.999</text>\n<text text-anchor=\"middle\" x=\"4080.5\" y=\"-215.8\" font-family=\"Helvetica,sans-Serif\" font-size=\"14.00\">samples = 66</text>\n<text text-anchor=\"middle\" x=\"4080.5\" y=\"-200.8\" font-family=\"Helvetica,sans-Serif\" font-size=\"14.00\">value = [34, 32]</text>\n</g>\n<!-- 75&#45;&gt;81 -->\n<g id=\"edge81\" class=\"edge\">\n<title>75&#45;&gt;81</title>\n<path fill=\"none\" stroke=\"black\" d=\"M4080.5,-296.88C4080.5,-288.78 4080.5,-279.98 4080.5,-271.47\"/>\n<polygon fill=\"black\" stroke=\"black\" points=\"4084,-271.3 4080.5,-261.3 4077,-271.3 4084,-271.3\"/>\n</g>\n<!-- 77 -->\n<g id=\"node78\" class=\"node\">\n<title>77</title>\n<polygon fill=\"none\" stroke=\"black\" points=\"3648.5,-149.5 3546.5,-149.5 3546.5,-96.5 3648.5,-96.5 3648.5,-149.5\"/>\n<text text-anchor=\"middle\" x=\"3597.5\" y=\"-134.3\" font-family=\"Helvetica,sans-Serif\" font-size=\"14.00\">entropy = 0.0</text>\n<text text-anchor=\"middle\" x=\"3597.5\" y=\"-119.3\" font-family=\"Helvetica,sans-Serif\" font-size=\"14.00\">samples = 50</text>\n<text text-anchor=\"middle\" x=\"3597.5\" y=\"-104.3\" font-family=\"Helvetica,sans-Serif\" font-size=\"14.00\">value = [0, 50]</text>\n</g>\n<!-- 76&#45;&gt;77 -->\n<g id=\"edge77\" class=\"edge\">\n<title>76&#45;&gt;77</title>\n<path fill=\"none\" stroke=\"black\" d=\"M3704.88,-192.88C3685.93,-180.73 3664.57,-167.03 3645.92,-155.06\"/>\n<polygon fill=\"black\" stroke=\"black\" points=\"3647.59,-151.97 3637.28,-149.52 3643.81,-157.87 3647.59,-151.97\"/>\n</g>\n<!-- 78 -->\n<g id=\"node79\" class=\"node\">\n<title>78</title>\n<polygon fill=\"none\" stroke=\"black\" points=\"3846.5,-157 3666.5,-157 3666.5,-89 3846.5,-89 3846.5,-157\"/>\n<text text-anchor=\"middle\" x=\"3756.5\" y=\"-141.8\" font-family=\"Helvetica,sans-Serif\" font-size=\"14.00\">SeguridadOnline_Si &lt;= 0.5</text>\n<text text-anchor=\"middle\" x=\"3756.5\" y=\"-126.8\" font-family=\"Helvetica,sans-Serif\" font-size=\"14.00\">entropy = 0.794</text>\n<text text-anchor=\"middle\" x=\"3756.5\" y=\"-111.8\" font-family=\"Helvetica,sans-Serif\" font-size=\"14.00\">samples = 493</text>\n<text text-anchor=\"middle\" x=\"3756.5\" y=\"-96.8\" font-family=\"Helvetica,sans-Serif\" font-size=\"14.00\">value = [118, 375]</text>\n</g>\n<!-- 76&#45;&gt;78 -->\n<g id=\"edge78\" class=\"edge\">\n<title>76&#45;&gt;78</title>\n<path fill=\"none\" stroke=\"black\" d=\"M3756.5,-192.88C3756.5,-184.78 3756.5,-175.98 3756.5,-167.47\"/>\n<polygon fill=\"black\" stroke=\"black\" points=\"3760,-167.3 3756.5,-157.3 3753,-167.3 3760,-167.3\"/>\n</g>\n<!-- 79 -->\n<g id=\"node80\" class=\"node\">\n<title>79</title>\n<polygon fill=\"none\" stroke=\"black\" points=\"3683,-53 3566,-53 3566,0 3683,0 3683,-53\"/>\n<text text-anchor=\"middle\" x=\"3624.5\" y=\"-37.8\" font-family=\"Helvetica,sans-Serif\" font-size=\"14.00\">entropy = 0.729</text>\n<text text-anchor=\"middle\" x=\"3624.5\" y=\"-22.8\" font-family=\"Helvetica,sans-Serif\" font-size=\"14.00\">samples = 442</text>\n<text text-anchor=\"middle\" x=\"3624.5\" y=\"-7.8\" font-family=\"Helvetica,sans-Serif\" font-size=\"14.00\">value = [90, 352]</text>\n</g>\n<!-- 78&#45;&gt;79 -->\n<g id=\"edge79\" class=\"edge\">\n<title>78&#45;&gt;79</title>\n<path fill=\"none\" stroke=\"black\" d=\"M3710.33,-88.95C3696.79,-79.25 3682.01,-68.68 3668.6,-59.07\"/>\n<polygon fill=\"black\" stroke=\"black\" points=\"3670.62,-56.21 3660.45,-53.24 3666.54,-61.9 3670.62,-56.21\"/>\n</g>\n<!-- 80 -->\n<g id=\"node81\" class=\"node\">\n<title>80</title>\n<polygon fill=\"none\" stroke=\"black\" points=\"3812,-53 3701,-53 3701,0 3812,0 3812,-53\"/>\n<text text-anchor=\"middle\" x=\"3756.5\" y=\"-37.8\" font-family=\"Helvetica,sans-Serif\" font-size=\"14.00\">entropy = 0.993</text>\n<text text-anchor=\"middle\" x=\"3756.5\" y=\"-22.8\" font-family=\"Helvetica,sans-Serif\" font-size=\"14.00\">samples = 51</text>\n<text text-anchor=\"middle\" x=\"3756.5\" y=\"-7.8\" font-family=\"Helvetica,sans-Serif\" font-size=\"14.00\">value = [28, 23]</text>\n</g>\n<!-- 78&#45;&gt;80 -->\n<g id=\"edge80\" class=\"edge\">\n<title>78&#45;&gt;80</title>\n<path fill=\"none\" stroke=\"black\" d=\"M3756.5,-88.95C3756.5,-80.72 3756.5,-71.85 3756.5,-63.48\"/>\n<polygon fill=\"black\" stroke=\"black\" points=\"3760,-63.24 3756.5,-53.24 3753,-63.24 3760,-63.24\"/>\n</g>\n<!-- 82 -->\n<g id=\"node83\" class=\"node\">\n<title>82</title>\n<polygon fill=\"none\" stroke=\"black\" points=\"4071,-157 3894,-157 3894,-89 4071,-89 4071,-157\"/>\n<text text-anchor=\"middle\" x=\"3982.5\" y=\"-141.8\" font-family=\"Helvetica,sans-Serif\" font-size=\"14.00\">CuentaMensual &lt;= 49.125</text>\n<text text-anchor=\"middle\" x=\"3982.5\" y=\"-126.8\" font-family=\"Helvetica,sans-Serif\" font-size=\"14.00\">entropy = 0.983</text>\n<text text-anchor=\"middle\" x=\"3982.5\" y=\"-111.8\" font-family=\"Helvetica,sans-Serif\" font-size=\"14.00\">samples = 52</text>\n<text text-anchor=\"middle\" x=\"3982.5\" y=\"-96.8\" font-family=\"Helvetica,sans-Serif\" font-size=\"14.00\">value = [22, 30]</text>\n</g>\n<!-- 81&#45;&gt;82 -->\n<g id=\"edge82\" class=\"edge\">\n<title>81&#45;&gt;82</title>\n<path fill=\"none\" stroke=\"black\" d=\"M4048.68,-192.88C4040.04,-183.89 4030.58,-174.04 4021.58,-164.68\"/>\n<polygon fill=\"black\" stroke=\"black\" points=\"4023.95,-162.09 4014.49,-157.3 4018.9,-166.94 4023.95,-162.09\"/>\n</g>\n<!-- 85 -->\n<g id=\"node86\" class=\"node\">\n<title>85</title>\n<polygon fill=\"none\" stroke=\"black\" points=\"4266,-157 4089,-157 4089,-89 4266,-89 4266,-157\"/>\n<text text-anchor=\"middle\" x=\"4177.5\" y=\"-141.8\" font-family=\"Helvetica,sans-Serif\" font-size=\"14.00\">CuentaMensual &lt;= 75.576</text>\n<text text-anchor=\"middle\" x=\"4177.5\" y=\"-126.8\" font-family=\"Helvetica,sans-Serif\" font-size=\"14.00\">entropy = 0.592</text>\n<text text-anchor=\"middle\" x=\"4177.5\" y=\"-111.8\" font-family=\"Helvetica,sans-Serif\" font-size=\"14.00\">samples = 14</text>\n<text text-anchor=\"middle\" x=\"4177.5\" y=\"-96.8\" font-family=\"Helvetica,sans-Serif\" font-size=\"14.00\">value = [12, 2]</text>\n</g>\n<!-- 81&#45;&gt;85 -->\n<g id=\"edge85\" class=\"edge\">\n<title>81&#45;&gt;85</title>\n<path fill=\"none\" stroke=\"black\" d=\"M4111.99,-192.88C4120.55,-183.89 4129.91,-174.04 4138.82,-164.68\"/>\n<polygon fill=\"black\" stroke=\"black\" points=\"4141.48,-166.96 4145.83,-157.3 4136.41,-162.13 4141.48,-166.96\"/>\n</g>\n<!-- 83 -->\n<g id=\"node84\" class=\"node\">\n<title>83</title>\n<polygon fill=\"none\" stroke=\"black\" points=\"3941,-53 3830,-53 3830,0 3941,0 3941,-53\"/>\n<text text-anchor=\"middle\" x=\"3885.5\" y=\"-37.8\" font-family=\"Helvetica,sans-Serif\" font-size=\"14.00\">entropy = 0.966</text>\n<text text-anchor=\"middle\" x=\"3885.5\" y=\"-22.8\" font-family=\"Helvetica,sans-Serif\" font-size=\"14.00\">samples = 23</text>\n<text text-anchor=\"middle\" x=\"3885.5\" y=\"-7.8\" font-family=\"Helvetica,sans-Serif\" font-size=\"14.00\">value = [14, 9]</text>\n</g>\n<!-- 82&#45;&gt;83 -->\n<g id=\"edge83\" class=\"edge\">\n<title>82&#45;&gt;83</title>\n<path fill=\"none\" stroke=\"black\" d=\"M3948.57,-88.95C3939.09,-79.71 3928.79,-69.67 3919.31,-60.44\"/>\n<polygon fill=\"black\" stroke=\"black\" points=\"3921.52,-57.71 3911.92,-53.24 3916.64,-62.72 3921.52,-57.71\"/>\n</g>\n<!-- 84 -->\n<g id=\"node85\" class=\"node\">\n<title>84</title>\n<polygon fill=\"none\" stroke=\"black\" points=\"4063.5,-53 3959.5,-53 3959.5,0 4063.5,0 4063.5,-53\"/>\n<text text-anchor=\"middle\" x=\"4011.5\" y=\"-37.8\" font-family=\"Helvetica,sans-Serif\" font-size=\"14.00\">entropy = 0.85</text>\n<text text-anchor=\"middle\" x=\"4011.5\" y=\"-22.8\" font-family=\"Helvetica,sans-Serif\" font-size=\"14.00\">samples = 29</text>\n<text text-anchor=\"middle\" x=\"4011.5\" y=\"-7.8\" font-family=\"Helvetica,sans-Serif\" font-size=\"14.00\">value = [8, 21]</text>\n</g>\n<!-- 82&#45;&gt;84 -->\n<g id=\"edge84\" class=\"edge\">\n<title>82&#45;&gt;84</title>\n<path fill=\"none\" stroke=\"black\" d=\"M3992.64,-88.95C3995.23,-80.53 3998.01,-71.45 4000.63,-62.92\"/>\n<polygon fill=\"black\" stroke=\"black\" points=\"4004.01,-63.82 4003.6,-53.24 3997.32,-61.77 4004.01,-63.82\"/>\n</g>\n<!-- 86 -->\n<g id=\"node87\" class=\"node\">\n<title>86</title>\n<polygon fill=\"none\" stroke=\"black\" points=\"4193,-53 4082,-53 4082,0 4193,0 4193,-53\"/>\n<text text-anchor=\"middle\" x=\"4137.5\" y=\"-37.8\" font-family=\"Helvetica,sans-Serif\" font-size=\"14.00\">entropy = 0.391</text>\n<text text-anchor=\"middle\" x=\"4137.5\" y=\"-22.8\" font-family=\"Helvetica,sans-Serif\" font-size=\"14.00\">samples = 13</text>\n<text text-anchor=\"middle\" x=\"4137.5\" y=\"-7.8\" font-family=\"Helvetica,sans-Serif\" font-size=\"14.00\">value = [12, 1]</text>\n</g>\n<!-- 85&#45;&gt;86 -->\n<g id=\"edge86\" class=\"edge\">\n<title>85&#45;&gt;86</title>\n<path fill=\"none\" stroke=\"black\" d=\"M4163.51,-88.95C4159.91,-80.44 4156.02,-71.26 4152.38,-62.65\"/>\n<polygon fill=\"black\" stroke=\"black\" points=\"4155.52,-61.08 4148.39,-53.24 4149.07,-63.81 4155.52,-61.08\"/>\n</g>\n<!-- 87 -->\n<g id=\"node88\" class=\"node\">\n<title>87</title>\n<polygon fill=\"none\" stroke=\"black\" points=\"4307.5,-53 4211.5,-53 4211.5,0 4307.5,0 4307.5,-53\"/>\n<text text-anchor=\"middle\" x=\"4259.5\" y=\"-37.8\" font-family=\"Helvetica,sans-Serif\" font-size=\"14.00\">entropy = 0.0</text>\n<text text-anchor=\"middle\" x=\"4259.5\" y=\"-22.8\" font-family=\"Helvetica,sans-Serif\" font-size=\"14.00\">samples = 1</text>\n<text text-anchor=\"middle\" x=\"4259.5\" y=\"-7.8\" font-family=\"Helvetica,sans-Serif\" font-size=\"14.00\">value = [0, 1]</text>\n</g>\n<!-- 85&#45;&gt;87 -->\n<g id=\"edge87\" class=\"edge\">\n<title>85&#45;&gt;87</title>\n<path fill=\"none\" stroke=\"black\" d=\"M4206.18,-88.95C4214.04,-79.89 4222.56,-70.07 4230.44,-60.99\"/>\n<polygon fill=\"black\" stroke=\"black\" points=\"4233.26,-63.08 4237.17,-53.24 4227.97,-58.5 4233.26,-63.08\"/>\n</g>\n<!-- 89 -->\n<g id=\"node90\" class=\"node\">\n<title>89</title>\n<polygon fill=\"none\" stroke=\"black\" points=\"4828,-261 4571,-261 4571,-193 4828,-193 4828,-261\"/>\n<text text-anchor=\"middle\" x=\"4699.5\" y=\"-245.8\" font-family=\"Helvetica,sans-Serif\" font-size=\"14.00\">FormaDePago_TarjetaDeCredito &lt;= 0.5</text>\n<text text-anchor=\"middle\" x=\"4699.5\" y=\"-230.8\" font-family=\"Helvetica,sans-Serif\" font-size=\"14.00\">entropy = 0.927</text>\n<text text-anchor=\"middle\" x=\"4699.5\" y=\"-215.8\" font-family=\"Helvetica,sans-Serif\" font-size=\"14.00\">samples = 178</text>\n<text text-anchor=\"middle\" x=\"4699.5\" y=\"-200.8\" font-family=\"Helvetica,sans-Serif\" font-size=\"14.00\">value = [61, 117]</text>\n</g>\n<!-- 88&#45;&gt;89 -->\n<g id=\"edge89\" class=\"edge\">\n<title>88&#45;&gt;89</title>\n<path fill=\"none\" stroke=\"black\" d=\"M4774.46,-296.88C4764.48,-287.71 4753.53,-277.65 4743.16,-268.12\"/>\n<polygon fill=\"black\" stroke=\"black\" points=\"4745.47,-265.49 4735.74,-261.3 4740.73,-270.64 4745.47,-265.49\"/>\n</g>\n<!-- 96 -->\n<g id=\"node97\" class=\"node\">\n<title>96</title>\n<polygon fill=\"none\" stroke=\"black\" points=\"4982,-261 4851,-261 4851,-193 4982,-193 4982,-261\"/>\n<text text-anchor=\"middle\" x=\"4916.5\" y=\"-245.8\" font-family=\"Helvetica,sans-Serif\" font-size=\"14.00\">PagoOnline &lt;= 0.5</text>\n<text text-anchor=\"middle\" x=\"4916.5\" y=\"-230.8\" font-family=\"Helvetica,sans-Serif\" font-size=\"14.00\">entropy = 0.934</text>\n<text text-anchor=\"middle\" x=\"4916.5\" y=\"-215.8\" font-family=\"Helvetica,sans-Serif\" font-size=\"14.00\">samples = 103</text>\n<text text-anchor=\"middle\" x=\"4916.5\" y=\"-200.8\" font-family=\"Helvetica,sans-Serif\" font-size=\"14.00\">value = [67, 36]</text>\n</g>\n<!-- 88&#45;&gt;96 -->\n<g id=\"edge96\" class=\"edge\">\n<title>88&#45;&gt;96</title>\n<path fill=\"none\" stroke=\"black\" d=\"M4844.92,-296.88C4854.36,-287.8 4864.7,-277.85 4874.52,-268.4\"/>\n<polygon fill=\"black\" stroke=\"black\" points=\"4877.12,-270.76 4881.89,-261.3 4872.26,-265.71 4877.12,-270.76\"/>\n</g>\n<!-- 90 -->\n<g id=\"node91\" class=\"node\">\n<title>90</title>\n<polygon fill=\"none\" stroke=\"black\" points=\"4605,-157 4428,-157 4428,-89 4605,-89 4605,-157\"/>\n<text text-anchor=\"middle\" x=\"4516.5\" y=\"-141.8\" font-family=\"Helvetica,sans-Serif\" font-size=\"14.00\">CuentaMensual &lt;= 21.025</text>\n<text text-anchor=\"middle\" x=\"4516.5\" y=\"-126.8\" font-family=\"Helvetica,sans-Serif\" font-size=\"14.00\">entropy = 0.897</text>\n<text text-anchor=\"middle\" x=\"4516.5\" y=\"-111.8\" font-family=\"Helvetica,sans-Serif\" font-size=\"14.00\">samples = 169</text>\n<text text-anchor=\"middle\" x=\"4516.5\" y=\"-96.8\" font-family=\"Helvetica,sans-Serif\" font-size=\"14.00\">value = [53, 116]</text>\n</g>\n<!-- 89&#45;&gt;90 -->\n<g id=\"edge90\" class=\"edge\">\n<title>89&#45;&gt;90</title>\n<path fill=\"none\" stroke=\"black\" d=\"M4640.09,-192.88C4622.42,-183.04 4602.92,-172.17 4584.74,-162.03\"/>\n<polygon fill=\"black\" stroke=\"black\" points=\"4586.37,-158.94 4575.93,-157.12 4582.96,-165.05 4586.37,-158.94\"/>\n</g>\n<!-- 93 -->\n<g id=\"node94\" class=\"node\">\n<title>93</title>\n<polygon fill=\"none\" stroke=\"black\" points=\"4771,-157 4628,-157 4628,-89 4771,-89 4771,-157\"/>\n<text text-anchor=\"middle\" x=\"4699.5\" y=\"-141.8\" font-family=\"Helvetica,sans-Serif\" font-size=\"14.00\">Dependientes &lt;= 0.5</text>\n<text text-anchor=\"middle\" x=\"4699.5\" y=\"-126.8\" font-family=\"Helvetica,sans-Serif\" font-size=\"14.00\">entropy = 0.503</text>\n<text text-anchor=\"middle\" x=\"4699.5\" y=\"-111.8\" font-family=\"Helvetica,sans-Serif\" font-size=\"14.00\">samples = 9</text>\n<text text-anchor=\"middle\" x=\"4699.5\" y=\"-96.8\" font-family=\"Helvetica,sans-Serif\" font-size=\"14.00\">value = [8, 1]</text>\n</g>\n<!-- 89&#45;&gt;93 -->\n<g id=\"edge93\" class=\"edge\">\n<title>89&#45;&gt;93</title>\n<path fill=\"none\" stroke=\"black\" d=\"M4699.5,-192.88C4699.5,-184.78 4699.5,-175.98 4699.5,-167.47\"/>\n<polygon fill=\"black\" stroke=\"black\" points=\"4703,-167.3 4699.5,-157.3 4696,-167.3 4703,-167.3\"/>\n</g>\n<!-- 91 -->\n<g id=\"node92\" class=\"node\">\n<title>91</title>\n<polygon fill=\"none\" stroke=\"black\" points=\"4443,-53 4326,-53 4326,0 4443,0 4443,-53\"/>\n<text text-anchor=\"middle\" x=\"4384.5\" y=\"-37.8\" font-family=\"Helvetica,sans-Serif\" font-size=\"14.00\">entropy = 0.863</text>\n<text text-anchor=\"middle\" x=\"4384.5\" y=\"-22.8\" font-family=\"Helvetica,sans-Serif\" font-size=\"14.00\">samples = 161</text>\n<text text-anchor=\"middle\" x=\"4384.5\" y=\"-7.8\" font-family=\"Helvetica,sans-Serif\" font-size=\"14.00\">value = [46, 115]</text>\n</g>\n<!-- 90&#45;&gt;91 -->\n<g id=\"edge91\" class=\"edge\">\n<title>90&#45;&gt;91</title>\n<path fill=\"none\" stroke=\"black\" d=\"M4470.33,-88.95C4456.79,-79.25 4442.01,-68.68 4428.6,-59.07\"/>\n<polygon fill=\"black\" stroke=\"black\" points=\"4430.62,-56.21 4420.45,-53.24 4426.54,-61.9 4430.62,-56.21\"/>\n</g>\n<!-- 92 -->\n<g id=\"node93\" class=\"node\">\n<title>92</title>\n<polygon fill=\"none\" stroke=\"black\" points=\"4572,-53 4461,-53 4461,0 4572,0 4572,-53\"/>\n<text text-anchor=\"middle\" x=\"4516.5\" y=\"-37.8\" font-family=\"Helvetica,sans-Serif\" font-size=\"14.00\">entropy = 0.544</text>\n<text text-anchor=\"middle\" x=\"4516.5\" y=\"-22.8\" font-family=\"Helvetica,sans-Serif\" font-size=\"14.00\">samples = 8</text>\n<text text-anchor=\"middle\" x=\"4516.5\" y=\"-7.8\" font-family=\"Helvetica,sans-Serif\" font-size=\"14.00\">value = [7, 1]</text>\n</g>\n<!-- 90&#45;&gt;92 -->\n<g id=\"edge92\" class=\"edge\">\n<title>90&#45;&gt;92</title>\n<path fill=\"none\" stroke=\"black\" d=\"M4516.5,-88.95C4516.5,-80.72 4516.5,-71.85 4516.5,-63.48\"/>\n<polygon fill=\"black\" stroke=\"black\" points=\"4520,-63.24 4516.5,-53.24 4513,-63.24 4520,-63.24\"/>\n</g>\n<!-- 94 -->\n<g id=\"node95\" class=\"node\">\n<title>94</title>\n<polygon fill=\"none\" stroke=\"black\" points=\"4686.5,-53 4590.5,-53 4590.5,0 4686.5,0 4686.5,-53\"/>\n<text text-anchor=\"middle\" x=\"4638.5\" y=\"-37.8\" font-family=\"Helvetica,sans-Serif\" font-size=\"14.00\">entropy = 0.0</text>\n<text text-anchor=\"middle\" x=\"4638.5\" y=\"-22.8\" font-family=\"Helvetica,sans-Serif\" font-size=\"14.00\">samples = 8</text>\n<text text-anchor=\"middle\" x=\"4638.5\" y=\"-7.8\" font-family=\"Helvetica,sans-Serif\" font-size=\"14.00\">value = [8, 0]</text>\n</g>\n<!-- 93&#45;&gt;94 -->\n<g id=\"edge94\" class=\"edge\">\n<title>93&#45;&gt;94</title>\n<path fill=\"none\" stroke=\"black\" d=\"M4678.17,-88.95C4672.5,-80.17 4666.36,-70.66 4660.65,-61.82\"/>\n<polygon fill=\"black\" stroke=\"black\" points=\"4663.48,-59.74 4655.11,-53.24 4657.6,-63.54 4663.48,-59.74\"/>\n</g>\n<!-- 95 -->\n<g id=\"node96\" class=\"node\">\n<title>95</title>\n<polygon fill=\"none\" stroke=\"black\" points=\"4800.5,-53 4704.5,-53 4704.5,0 4800.5,0 4800.5,-53\"/>\n<text text-anchor=\"middle\" x=\"4752.5\" y=\"-37.8\" font-family=\"Helvetica,sans-Serif\" font-size=\"14.00\">entropy = 0.0</text>\n<text text-anchor=\"middle\" x=\"4752.5\" y=\"-22.8\" font-family=\"Helvetica,sans-Serif\" font-size=\"14.00\">samples = 1</text>\n<text text-anchor=\"middle\" x=\"4752.5\" y=\"-7.8\" font-family=\"Helvetica,sans-Serif\" font-size=\"14.00\">value = [0, 1]</text>\n</g>\n<!-- 93&#45;&gt;95 -->\n<g id=\"edge95\" class=\"edge\">\n<title>93&#45;&gt;95</title>\n<path fill=\"none\" stroke=\"black\" d=\"M4718.04,-88.95C4722.91,-80.26 4728.18,-70.86 4733.1,-62.09\"/>\n<polygon fill=\"black\" stroke=\"black\" points=\"4736.23,-63.67 4738.07,-53.24 4730.12,-60.25 4736.23,-63.67\"/>\n</g>\n<!-- 97 -->\n<g id=\"node98\" class=\"node\">\n<title>97</title>\n<polygon fill=\"none\" stroke=\"black\" points=\"5005,-157 4828,-157 4828,-89 5005,-89 5005,-157\"/>\n<text text-anchor=\"middle\" x=\"4916.5\" y=\"-141.8\" font-family=\"Helvetica,sans-Serif\" font-size=\"14.00\">CuentaMensual &lt;= 19.325</text>\n<text text-anchor=\"middle\" x=\"4916.5\" y=\"-126.8\" font-family=\"Helvetica,sans-Serif\" font-size=\"14.00\">entropy = 0.985</text>\n<text text-anchor=\"middle\" x=\"4916.5\" y=\"-111.8\" font-family=\"Helvetica,sans-Serif\" font-size=\"14.00\">samples = 77</text>\n<text text-anchor=\"middle\" x=\"4916.5\" y=\"-96.8\" font-family=\"Helvetica,sans-Serif\" font-size=\"14.00\">value = [44, 33]</text>\n</g>\n<!-- 96&#45;&gt;97 -->\n<g id=\"edge97\" class=\"edge\">\n<title>96&#45;&gt;97</title>\n<path fill=\"none\" stroke=\"black\" d=\"M4916.5,-192.88C4916.5,-184.78 4916.5,-175.98 4916.5,-167.47\"/>\n<polygon fill=\"black\" stroke=\"black\" points=\"4920,-167.3 4916.5,-157.3 4913,-167.3 4920,-167.3\"/>\n</g>\n<!-- 100 -->\n<g id=\"node101\" class=\"node\">\n<title>100</title>\n<polygon fill=\"none\" stroke=\"black\" points=\"5202.5,-157 5032.5,-157 5032.5,-89 5202.5,-89 5202.5,-157\"/>\n<text text-anchor=\"middle\" x=\"5117.5\" y=\"-141.8\" font-family=\"Helvetica,sans-Serif\" font-size=\"14.00\">CuentaMensual &lt;= 24.75</text>\n<text text-anchor=\"middle\" x=\"5117.5\" y=\"-126.8\" font-family=\"Helvetica,sans-Serif\" font-size=\"14.00\">entropy = 0.516</text>\n<text text-anchor=\"middle\" x=\"5117.5\" y=\"-111.8\" font-family=\"Helvetica,sans-Serif\" font-size=\"14.00\">samples = 26</text>\n<text text-anchor=\"middle\" x=\"5117.5\" y=\"-96.8\" font-family=\"Helvetica,sans-Serif\" font-size=\"14.00\">value = [23, 3]</text>\n</g>\n<!-- 96&#45;&gt;100 -->\n<g id=\"edge100\" class=\"edge\">\n<title>96&#45;&gt;100</title>\n<path fill=\"none\" stroke=\"black\" d=\"M4981.76,-192.88C5001.34,-182.95 5022.97,-171.97 5043.1,-161.76\"/>\n<polygon fill=\"black\" stroke=\"black\" points=\"5044.89,-164.77 5052.22,-157.12 5041.72,-158.53 5044.89,-164.77\"/>\n</g>\n<!-- 98 -->\n<g id=\"node99\" class=\"node\">\n<title>98</title>\n<polygon fill=\"none\" stroke=\"black\" points=\"4914.5,-53 4818.5,-53 4818.5,0 4914.5,0 4914.5,-53\"/>\n<text text-anchor=\"middle\" x=\"4866.5\" y=\"-37.8\" font-family=\"Helvetica,sans-Serif\" font-size=\"14.00\">entropy = 0.0</text>\n<text text-anchor=\"middle\" x=\"4866.5\" y=\"-22.8\" font-family=\"Helvetica,sans-Serif\" font-size=\"14.00\">samples = 6</text>\n<text text-anchor=\"middle\" x=\"4866.5\" y=\"-7.8\" font-family=\"Helvetica,sans-Serif\" font-size=\"14.00\">value = [6, 0]</text>\n</g>\n<!-- 97&#45;&gt;98 -->\n<g id=\"edge98\" class=\"edge\">\n<title>97&#45;&gt;98</title>\n<path fill=\"none\" stroke=\"black\" d=\"M4899.01,-88.95C4894.41,-80.26 4889.44,-70.86 4884.8,-62.09\"/>\n<polygon fill=\"black\" stroke=\"black\" points=\"4887.89,-60.44 4880.12,-53.24 4881.7,-63.71 4887.89,-60.44\"/>\n</g>\n<!-- 99 -->\n<g id=\"node100\" class=\"node\">\n<title>99</title>\n<polygon fill=\"none\" stroke=\"black\" points=\"5044,-53 4933,-53 4933,0 5044,0 5044,-53\"/>\n<text text-anchor=\"middle\" x=\"4988.5\" y=\"-37.8\" font-family=\"Helvetica,sans-Serif\" font-size=\"14.00\">entropy = 0.996</text>\n<text text-anchor=\"middle\" x=\"4988.5\" y=\"-22.8\" font-family=\"Helvetica,sans-Serif\" font-size=\"14.00\">samples = 71</text>\n<text text-anchor=\"middle\" x=\"4988.5\" y=\"-7.8\" font-family=\"Helvetica,sans-Serif\" font-size=\"14.00\">value = [38, 33]</text>\n</g>\n<!-- 97&#45;&gt;99 -->\n<g id=\"edge99\" class=\"edge\">\n<title>97&#45;&gt;99</title>\n<path fill=\"none\" stroke=\"black\" d=\"M4941.68,-88.95C4948.51,-79.98 4955.92,-70.27 4962.78,-61.26\"/>\n<polygon fill=\"black\" stroke=\"black\" points=\"4965.61,-63.31 4968.89,-53.24 4960.05,-59.07 4965.61,-63.31\"/>\n</g>\n<!-- 101 -->\n<g id=\"node102\" class=\"node\">\n<title>101</title>\n<polygon fill=\"none\" stroke=\"black\" points=\"5173,-53 5062,-53 5062,0 5173,0 5173,-53\"/>\n<text text-anchor=\"middle\" x=\"5117.5\" y=\"-37.8\" font-family=\"Helvetica,sans-Serif\" font-size=\"14.00\">entropy = 0.402</text>\n<text text-anchor=\"middle\" x=\"5117.5\" y=\"-22.8\" font-family=\"Helvetica,sans-Serif\" font-size=\"14.00\">samples = 25</text>\n<text text-anchor=\"middle\" x=\"5117.5\" y=\"-7.8\" font-family=\"Helvetica,sans-Serif\" font-size=\"14.00\">value = [23, 2]</text>\n</g>\n<!-- 100&#45;&gt;101 -->\n<g id=\"edge101\" class=\"edge\">\n<title>100&#45;&gt;101</title>\n<path fill=\"none\" stroke=\"black\" d=\"M5117.5,-88.95C5117.5,-80.72 5117.5,-71.85 5117.5,-63.48\"/>\n<polygon fill=\"black\" stroke=\"black\" points=\"5121,-63.24 5117.5,-53.24 5114,-63.24 5121,-63.24\"/>\n</g>\n<!-- 102 -->\n<g id=\"node103\" class=\"node\">\n<title>102</title>\n<polygon fill=\"none\" stroke=\"black\" points=\"5287.5,-53 5191.5,-53 5191.5,0 5287.5,0 5287.5,-53\"/>\n<text text-anchor=\"middle\" x=\"5239.5\" y=\"-37.8\" font-family=\"Helvetica,sans-Serif\" font-size=\"14.00\">entropy = 0.0</text>\n<text text-anchor=\"middle\" x=\"5239.5\" y=\"-22.8\" font-family=\"Helvetica,sans-Serif\" font-size=\"14.00\">samples = 1</text>\n<text text-anchor=\"middle\" x=\"5239.5\" y=\"-7.8\" font-family=\"Helvetica,sans-Serif\" font-size=\"14.00\">value = [0, 1]</text>\n</g>\n<!-- 100&#45;&gt;102 -->\n<g id=\"edge102\" class=\"edge\">\n<title>100&#45;&gt;102</title>\n<path fill=\"none\" stroke=\"black\" d=\"M5160.17,-88.95C5172.45,-79.43 5185.83,-69.07 5198.04,-59.62\"/>\n<polygon fill=\"black\" stroke=\"black\" points=\"5200.51,-62.13 5206.27,-53.24 5196.22,-56.59 5200.51,-62.13\"/>\n</g>\n<!-- 104 -->\n<g id=\"node105\" class=\"node\">\n<title>104</title>\n<polygon fill=\"none\" stroke=\"black\" points=\"5655.5,-365 5315.5,-365 5315.5,-297 5655.5,-297 5655.5,-365\"/>\n<text text-anchor=\"middle\" x=\"5485.5\" y=\"-349.8\" font-family=\"Helvetica,sans-Serif\" font-size=\"14.00\">VariasLineasTelefonicas_SinServicioTelefonico &lt;= 0.5</text>\n<text text-anchor=\"middle\" x=\"5485.5\" y=\"-334.8\" font-family=\"Helvetica,sans-Serif\" font-size=\"14.00\">entropy = 0.999</text>\n<text text-anchor=\"middle\" x=\"5485.5\" y=\"-319.8\" font-family=\"Helvetica,sans-Serif\" font-size=\"14.00\">samples = 234</text>\n<text text-anchor=\"middle\" x=\"5485.5\" y=\"-304.8\" font-family=\"Helvetica,sans-Serif\" font-size=\"14.00\">value = [113, 121]</text>\n</g>\n<!-- 103&#45;&gt;104 -->\n<g id=\"edge104\" class=\"edge\">\n<title>103&#45;&gt;104</title>\n<path fill=\"none\" stroke=\"black\" d=\"M5485.5,-400.88C5485.5,-392.78 5485.5,-383.98 5485.5,-375.47\"/>\n<polygon fill=\"black\" stroke=\"black\" points=\"5489,-375.3 5485.5,-365.3 5482,-375.3 5489,-375.3\"/>\n</g>\n<!-- 113 -->\n<g id=\"node114\" class=\"node\">\n<title>113</title>\n<polygon fill=\"none\" stroke=\"black\" points=\"6149.5,-365 5973.5,-365 5973.5,-297 6149.5,-297 6149.5,-365\"/>\n<text text-anchor=\"middle\" x=\"6061.5\" y=\"-349.8\" font-family=\"Helvetica,sans-Serif\" font-size=\"14.00\">MesesDeContrato &lt;= 17.5</text>\n<text text-anchor=\"middle\" x=\"6061.5\" y=\"-334.8\" font-family=\"Helvetica,sans-Serif\" font-size=\"14.00\">entropy = 0.836</text>\n<text text-anchor=\"middle\" x=\"6061.5\" y=\"-319.8\" font-family=\"Helvetica,sans-Serif\" font-size=\"14.00\">samples = 616</text>\n<text text-anchor=\"middle\" x=\"6061.5\" y=\"-304.8\" font-family=\"Helvetica,sans-Serif\" font-size=\"14.00\">value = [452, 164]</text>\n</g>\n<!-- 103&#45;&gt;113 -->\n<g id=\"edge113\" class=\"edge\">\n<title>103&#45;&gt;113</title>\n<path fill=\"none\" stroke=\"black\" d=\"M5551.57,-422.3C5652.5,-404.43 5845.69,-370.22 5963.14,-349.42\"/>\n<polygon fill=\"black\" stroke=\"black\" points=\"5963.97,-352.82 5973.21,-347.63 5962.75,-345.93 5963.97,-352.82\"/>\n</g>\n<!-- 105 -->\n<g id=\"node106\" class=\"node\">\n<title>105</title>\n<polygon fill=\"none\" stroke=\"black\" points=\"5465.5,-253.5 5363.5,-253.5 5363.5,-200.5 5465.5,-200.5 5465.5,-253.5\"/>\n<text text-anchor=\"middle\" x=\"5414.5\" y=\"-238.3\" font-family=\"Helvetica,sans-Serif\" font-size=\"14.00\">entropy = 0.0</text>\n<text text-anchor=\"middle\" x=\"5414.5\" y=\"-223.3\" font-family=\"Helvetica,sans-Serif\" font-size=\"14.00\">samples = 20</text>\n<text text-anchor=\"middle\" x=\"5414.5\" y=\"-208.3\" font-family=\"Helvetica,sans-Serif\" font-size=\"14.00\">value = [0, 20]</text>\n</g>\n<!-- 104&#45;&gt;105 -->\n<g id=\"edge105\" class=\"edge\">\n<title>104&#45;&gt;105</title>\n<path fill=\"none\" stroke=\"black\" d=\"M5462.45,-296.88C5454.64,-285.67 5445.91,-273.13 5438.06,-261.85\"/>\n<polygon fill=\"black\" stroke=\"black\" points=\"5440.85,-259.73 5432.26,-253.52 5435.1,-263.73 5440.85,-259.73\"/>\n</g>\n<!-- 106 -->\n<g id=\"node107\" class=\"node\">\n<title>106</title>\n<polygon fill=\"none\" stroke=\"black\" points=\"5627,-261 5484,-261 5484,-193 5627,-193 5627,-261\"/>\n<text text-anchor=\"middle\" x=\"5555.5\" y=\"-245.8\" font-family=\"Helvetica,sans-Serif\" font-size=\"14.00\">Dependientes &lt;= 0.5</text>\n<text text-anchor=\"middle\" x=\"5555.5\" y=\"-230.8\" font-family=\"Helvetica,sans-Serif\" font-size=\"14.00\">entropy = 0.998</text>\n<text text-anchor=\"middle\" x=\"5555.5\" y=\"-215.8\" font-family=\"Helvetica,sans-Serif\" font-size=\"14.00\">samples = 214</text>\n<text text-anchor=\"middle\" x=\"5555.5\" y=\"-200.8\" font-family=\"Helvetica,sans-Serif\" font-size=\"14.00\">value = [113, 101]</text>\n</g>\n<!-- 104&#45;&gt;106 -->\n<g id=\"edge106\" class=\"edge\">\n<title>104&#45;&gt;106</title>\n<path fill=\"none\" stroke=\"black\" d=\"M5508.23,-296.88C5514.16,-288.24 5520.62,-278.82 5526.82,-269.79\"/>\n<polygon fill=\"black\" stroke=\"black\" points=\"5529.87,-271.52 5532.65,-261.3 5524.1,-267.56 5529.87,-271.52\"/>\n</g>\n<!-- 107 -->\n<g id=\"node108\" class=\"node\">\n<title>107</title>\n<polygon fill=\"none\" stroke=\"black\" points=\"5545.5,-157 5373.5,-157 5373.5,-89 5545.5,-89 5545.5,-157\"/>\n<text text-anchor=\"middle\" x=\"5459.5\" y=\"-141.8\" font-family=\"Helvetica,sans-Serif\" font-size=\"14.00\">SoporteTecnico_Si &lt;= 0.5</text>\n<text text-anchor=\"middle\" x=\"5459.5\" y=\"-126.8\" font-family=\"Helvetica,sans-Serif\" font-size=\"14.00\">entropy = 0.996</text>\n<text text-anchor=\"middle\" x=\"5459.5\" y=\"-111.8\" font-family=\"Helvetica,sans-Serif\" font-size=\"14.00\">samples = 175</text>\n<text text-anchor=\"middle\" x=\"5459.5\" y=\"-96.8\" font-family=\"Helvetica,sans-Serif\" font-size=\"14.00\">value = [81, 94]</text>\n</g>\n<!-- 106&#45;&gt;107 -->\n<g id=\"edge107\" class=\"edge\">\n<title>106&#45;&gt;107</title>\n<path fill=\"none\" stroke=\"black\" d=\"M5524.33,-192.88C5515.86,-183.89 5506.6,-174.04 5497.79,-164.68\"/>\n<polygon fill=\"black\" stroke=\"black\" points=\"5500.24,-162.18 5490.84,-157.3 5495.15,-166.98 5500.24,-162.18\"/>\n</g>\n<!-- 110 -->\n<g id=\"node111\" class=\"node\">\n<title>110</title>\n<polygon fill=\"none\" stroke=\"black\" points=\"5739.5,-157 5563.5,-157 5563.5,-89 5739.5,-89 5739.5,-157\"/>\n<text text-anchor=\"middle\" x=\"5651.5\" y=\"-141.8\" font-family=\"Helvetica,sans-Serif\" font-size=\"14.00\">MesesDeContrato &lt;= 25.5</text>\n<text text-anchor=\"middle\" x=\"5651.5\" y=\"-126.8\" font-family=\"Helvetica,sans-Serif\" font-size=\"14.00\">entropy = 0.679</text>\n<text text-anchor=\"middle\" x=\"5651.5\" y=\"-111.8\" font-family=\"Helvetica,sans-Serif\" font-size=\"14.00\">samples = 39</text>\n<text text-anchor=\"middle\" x=\"5651.5\" y=\"-96.8\" font-family=\"Helvetica,sans-Serif\" font-size=\"14.00\">value = [32, 7]</text>\n</g>\n<!-- 106&#45;&gt;110 -->\n<g id=\"edge110\" class=\"edge\">\n<title>106&#45;&gt;110</title>\n<path fill=\"none\" stroke=\"black\" d=\"M5586.67,-192.88C5595.14,-183.89 5604.4,-174.04 5613.21,-164.68\"/>\n<polygon fill=\"black\" stroke=\"black\" points=\"5615.85,-166.98 5620.16,-157.3 5610.76,-162.18 5615.85,-166.98\"/>\n</g>\n<!-- 108 -->\n<g id=\"node109\" class=\"node\">\n<title>108</title>\n<polygon fill=\"none\" stroke=\"black\" points=\"5417,-53 5306,-53 5306,0 5417,0 5417,-53\"/>\n<text text-anchor=\"middle\" x=\"5361.5\" y=\"-37.8\" font-family=\"Helvetica,sans-Serif\" font-size=\"14.00\">entropy = 0.966</text>\n<text text-anchor=\"middle\" x=\"5361.5\" y=\"-22.8\" font-family=\"Helvetica,sans-Serif\" font-size=\"14.00\">samples = 143</text>\n<text text-anchor=\"middle\" x=\"5361.5\" y=\"-7.8\" font-family=\"Helvetica,sans-Serif\" font-size=\"14.00\">value = [56, 87]</text>\n</g>\n<!-- 107&#45;&gt;108 -->\n<g id=\"edge108\" class=\"edge\">\n<title>107&#45;&gt;108</title>\n<path fill=\"none\" stroke=\"black\" d=\"M5425.22,-88.95C5415.64,-79.71 5405.23,-69.67 5395.66,-60.44\"/>\n<polygon fill=\"black\" stroke=\"black\" points=\"5397.82,-57.66 5388.19,-53.24 5392.96,-62.7 5397.82,-57.66\"/>\n</g>\n<!-- 109 -->\n<g id=\"node110\" class=\"node\">\n<title>109</title>\n<polygon fill=\"none\" stroke=\"black\" points=\"5546,-53 5435,-53 5435,0 5546,0 5546,-53\"/>\n<text text-anchor=\"middle\" x=\"5490.5\" y=\"-37.8\" font-family=\"Helvetica,sans-Serif\" font-size=\"14.00\">entropy = 0.758</text>\n<text text-anchor=\"middle\" x=\"5490.5\" y=\"-22.8\" font-family=\"Helvetica,sans-Serif\" font-size=\"14.00\">samples = 32</text>\n<text text-anchor=\"middle\" x=\"5490.5\" y=\"-7.8\" font-family=\"Helvetica,sans-Serif\" font-size=\"14.00\">value = [25, 7]</text>\n</g>\n<!-- 107&#45;&gt;109 -->\n<g id=\"edge109\" class=\"edge\">\n<title>107&#45;&gt;109</title>\n<path fill=\"none\" stroke=\"black\" d=\"M5470.34,-88.95C5473.1,-80.53 5476.08,-71.45 5478.88,-62.92\"/>\n<polygon fill=\"black\" stroke=\"black\" points=\"5482.27,-63.83 5482.06,-53.24 5475.61,-61.65 5482.27,-63.83\"/>\n</g>\n<!-- 111 -->\n<g id=\"node112\" class=\"node\">\n<title>111</title>\n<polygon fill=\"none\" stroke=\"black\" points=\"5675,-53 5564,-53 5564,0 5675,0 5675,-53\"/>\n<text text-anchor=\"middle\" x=\"5619.5\" y=\"-37.8\" font-family=\"Helvetica,sans-Serif\" font-size=\"14.00\">entropy = 0.918</text>\n<text text-anchor=\"middle\" x=\"5619.5\" y=\"-22.8\" font-family=\"Helvetica,sans-Serif\" font-size=\"14.00\">samples = 18</text>\n<text text-anchor=\"middle\" x=\"5619.5\" y=\"-7.8\" font-family=\"Helvetica,sans-Serif\" font-size=\"14.00\">value = [12, 6]</text>\n</g>\n<!-- 110&#45;&gt;111 -->\n<g id=\"edge111\" class=\"edge\">\n<title>110&#45;&gt;111</title>\n<path fill=\"none\" stroke=\"black\" d=\"M5640.31,-88.95C5637.46,-80.53 5634.38,-71.45 5631.5,-62.92\"/>\n<polygon fill=\"black\" stroke=\"black\" points=\"5634.74,-61.59 5628.22,-53.24 5628.11,-63.83 5634.74,-61.59\"/>\n</g>\n<!-- 112 -->\n<g id=\"node113\" class=\"node\">\n<title>112</title>\n<polygon fill=\"none\" stroke=\"black\" points=\"5804,-53 5693,-53 5693,0 5804,0 5804,-53\"/>\n<text text-anchor=\"middle\" x=\"5748.5\" y=\"-37.8\" font-family=\"Helvetica,sans-Serif\" font-size=\"14.00\">entropy = 0.276</text>\n<text text-anchor=\"middle\" x=\"5748.5\" y=\"-22.8\" font-family=\"Helvetica,sans-Serif\" font-size=\"14.00\">samples = 21</text>\n<text text-anchor=\"middle\" x=\"5748.5\" y=\"-7.8\" font-family=\"Helvetica,sans-Serif\" font-size=\"14.00\">value = [20, 1]</text>\n</g>\n<!-- 110&#45;&gt;112 -->\n<g id=\"edge112\" class=\"edge\">\n<title>110&#45;&gt;112</title>\n<path fill=\"none\" stroke=\"black\" d=\"M5685.43,-88.95C5694.91,-79.71 5705.21,-69.67 5714.69,-60.44\"/>\n<polygon fill=\"black\" stroke=\"black\" points=\"5717.36,-62.72 5722.08,-53.24 5712.48,-57.71 5717.36,-62.72\"/>\n</g>\n<!-- 114 -->\n<g id=\"node115\" class=\"node\">\n<title>114</title>\n<polygon fill=\"none\" stroke=\"black\" points=\"6143.5,-261 5979.5,-261 5979.5,-193 6143.5,-193 6143.5,-261\"/>\n<text text-anchor=\"middle\" x=\"6061.5\" y=\"-245.8\" font-family=\"Helvetica,sans-Serif\" font-size=\"14.00\">BackupOnline_Si &lt;= 0.5</text>\n<text text-anchor=\"middle\" x=\"6061.5\" y=\"-230.8\" font-family=\"Helvetica,sans-Serif\" font-size=\"14.00\">entropy = 0.934</text>\n<text text-anchor=\"middle\" x=\"6061.5\" y=\"-215.8\" font-family=\"Helvetica,sans-Serif\" font-size=\"14.00\">samples = 343</text>\n<text text-anchor=\"middle\" x=\"6061.5\" y=\"-200.8\" font-family=\"Helvetica,sans-Serif\" font-size=\"14.00\">value = [223, 120]</text>\n</g>\n<!-- 113&#45;&gt;114 -->\n<g id=\"edge114\" class=\"edge\">\n<title>113&#45;&gt;114</title>\n<path fill=\"none\" stroke=\"black\" d=\"M6061.5,-296.88C6061.5,-288.78 6061.5,-279.98 6061.5,-271.47\"/>\n<polygon fill=\"black\" stroke=\"black\" points=\"6065,-271.3 6061.5,-261.3 6058,-271.3 6065,-271.3\"/>\n</g>\n<!-- 121 -->\n<g id=\"node122\" class=\"node\">\n<title>121</title>\n<polygon fill=\"none\" stroke=\"black\" points=\"6498,-261 6321,-261 6321,-193 6498,-193 6498,-261\"/>\n<text text-anchor=\"middle\" x=\"6409.5\" y=\"-245.8\" font-family=\"Helvetica,sans-Serif\" font-size=\"14.00\">CuentaMensual &lt;= 47.225</text>\n<text text-anchor=\"middle\" x=\"6409.5\" y=\"-230.8\" font-family=\"Helvetica,sans-Serif\" font-size=\"14.00\">entropy = 0.637</text>\n<text text-anchor=\"middle\" x=\"6409.5\" y=\"-215.8\" font-family=\"Helvetica,sans-Serif\" font-size=\"14.00\">samples = 273</text>\n<text text-anchor=\"middle\" x=\"6409.5\" y=\"-200.8\" font-family=\"Helvetica,sans-Serif\" font-size=\"14.00\">value = [229, 44]</text>\n</g>\n<!-- 113&#45;&gt;121 -->\n<g id=\"edge121\" class=\"edge\">\n<title>113&#45;&gt;121</title>\n<path fill=\"none\" stroke=\"black\" d=\"M6149.76,-304.13C6198.95,-289.71 6260.32,-271.73 6311.05,-256.85\"/>\n<polygon fill=\"black\" stroke=\"black\" points=\"6312.11,-260.19 6320.72,-254.02 6310.14,-253.47 6312.11,-260.19\"/>\n</g>\n<!-- 115 -->\n<g id=\"node116\" class=\"node\">\n<title>115</title>\n<polygon fill=\"none\" stroke=\"black\" points=\"6069,-157 5832,-157 5832,-89 6069,-89 6069,-157\"/>\n<text text-anchor=\"middle\" x=\"5950.5\" y=\"-141.8\" font-family=\"Helvetica,sans-Serif\" font-size=\"14.00\">FormaDePago_ChequePapel &lt;= 0.5</text>\n<text text-anchor=\"middle\" x=\"5950.5\" y=\"-126.8\" font-family=\"Helvetica,sans-Serif\" font-size=\"14.00\">entropy = 0.967</text>\n<text text-anchor=\"middle\" x=\"5950.5\" y=\"-111.8\" font-family=\"Helvetica,sans-Serif\" font-size=\"14.00\">samples = 292</text>\n<text text-anchor=\"middle\" x=\"5950.5\" y=\"-96.8\" font-family=\"Helvetica,sans-Serif\" font-size=\"14.00\">value = [177, 115]</text>\n</g>\n<!-- 114&#45;&gt;115 -->\n<g id=\"edge115\" class=\"edge\">\n<title>114&#45;&gt;115</title>\n<path fill=\"none\" stroke=\"black\" d=\"M6025.46,-192.88C6015.48,-183.71 6004.53,-173.65 5994.16,-164.12\"/>\n<polygon fill=\"black\" stroke=\"black\" points=\"5996.47,-161.49 5986.74,-157.3 5991.73,-166.64 5996.47,-161.49\"/>\n</g>\n<!-- 118 -->\n<g id=\"node119\" class=\"node\">\n<title>118</title>\n<polygon fill=\"none\" stroke=\"black\" points=\"6257.5,-157 6087.5,-157 6087.5,-89 6257.5,-89 6257.5,-157\"/>\n<text text-anchor=\"middle\" x=\"6172.5\" y=\"-141.8\" font-family=\"Helvetica,sans-Serif\" font-size=\"14.00\">CuentaMensual &lt;= 66.45</text>\n<text text-anchor=\"middle\" x=\"6172.5\" y=\"-126.8\" font-family=\"Helvetica,sans-Serif\" font-size=\"14.00\">entropy = 0.463</text>\n<text text-anchor=\"middle\" x=\"6172.5\" y=\"-111.8\" font-family=\"Helvetica,sans-Serif\" font-size=\"14.00\">samples = 51</text>\n<text text-anchor=\"middle\" x=\"6172.5\" y=\"-96.8\" font-family=\"Helvetica,sans-Serif\" font-size=\"14.00\">value = [46, 5]</text>\n</g>\n<!-- 114&#45;&gt;118 -->\n<g id=\"edge118\" class=\"edge\">\n<title>114&#45;&gt;118</title>\n<path fill=\"none\" stroke=\"black\" d=\"M6097.54,-192.88C6107.52,-183.71 6118.47,-173.65 6128.84,-164.12\"/>\n<polygon fill=\"black\" stroke=\"black\" points=\"6131.27,-166.64 6136.26,-157.3 6126.53,-161.49 6131.27,-166.64\"/>\n</g>\n<!-- 116 -->\n<g id=\"node117\" class=\"node\">\n<title>116</title>\n<polygon fill=\"none\" stroke=\"black\" points=\"5939,-53 5822,-53 5822,0 5939,0 5939,-53\"/>\n<text text-anchor=\"middle\" x=\"5880.5\" y=\"-37.8\" font-family=\"Helvetica,sans-Serif\" font-size=\"14.00\">entropy = 0.999</text>\n<text text-anchor=\"middle\" x=\"5880.5\" y=\"-22.8\" font-family=\"Helvetica,sans-Serif\" font-size=\"14.00\">samples = 196</text>\n<text text-anchor=\"middle\" x=\"5880.5\" y=\"-7.8\" font-family=\"Helvetica,sans-Serif\" font-size=\"14.00\">value = [102, 94]</text>\n</g>\n<!-- 115&#45;&gt;116 -->\n<g id=\"edge116\" class=\"edge\">\n<title>115&#45;&gt;116</title>\n<path fill=\"none\" stroke=\"black\" d=\"M5926.02,-88.95C5919.44,-80.07 5912.33,-70.46 5905.71,-61.54\"/>\n<polygon fill=\"black\" stroke=\"black\" points=\"5908.33,-59.19 5899.56,-53.24 5902.7,-63.36 5908.33,-59.19\"/>\n</g>\n<!-- 117 -->\n<g id=\"node118\" class=\"node\">\n<title>117</title>\n<polygon fill=\"none\" stroke=\"black\" points=\"6068,-53 5957,-53 5957,0 6068,0 6068,-53\"/>\n<text text-anchor=\"middle\" x=\"6012.5\" y=\"-37.8\" font-family=\"Helvetica,sans-Serif\" font-size=\"14.00\">entropy = 0.758</text>\n<text text-anchor=\"middle\" x=\"6012.5\" y=\"-22.8\" font-family=\"Helvetica,sans-Serif\" font-size=\"14.00\">samples = 96</text>\n<text text-anchor=\"middle\" x=\"6012.5\" y=\"-7.8\" font-family=\"Helvetica,sans-Serif\" font-size=\"14.00\">value = [75, 21]</text>\n</g>\n<!-- 115&#45;&gt;117 -->\n<g id=\"edge117\" class=\"edge\">\n<title>115&#45;&gt;117</title>\n<path fill=\"none\" stroke=\"black\" d=\"M5972.18,-88.95C5977.95,-80.17 5984.18,-70.66 5989.99,-61.82\"/>\n<polygon fill=\"black\" stroke=\"black\" points=\"5993.06,-63.52 5995.61,-53.24 5987.2,-59.68 5993.06,-63.52\"/>\n</g>\n<!-- 119 -->\n<g id=\"node120\" class=\"node\">\n<title>119</title>\n<polygon fill=\"none\" stroke=\"black\" points=\"6197,-53 6086,-53 6086,0 6197,0 6197,-53\"/>\n<text text-anchor=\"middle\" x=\"6141.5\" y=\"-37.8\" font-family=\"Helvetica,sans-Serif\" font-size=\"14.00\">entropy = 0.571</text>\n<text text-anchor=\"middle\" x=\"6141.5\" y=\"-22.8\" font-family=\"Helvetica,sans-Serif\" font-size=\"14.00\">samples = 37</text>\n<text text-anchor=\"middle\" x=\"6141.5\" y=\"-7.8\" font-family=\"Helvetica,sans-Serif\" font-size=\"14.00\">value = [32, 5]</text>\n</g>\n<!-- 118&#45;&gt;119 -->\n<g id=\"edge119\" class=\"edge\">\n<title>118&#45;&gt;119</title>\n<path fill=\"none\" stroke=\"black\" d=\"M6161.66,-88.95C6158.9,-80.53 6155.92,-71.45 6153.12,-62.92\"/>\n<polygon fill=\"black\" stroke=\"black\" points=\"6156.39,-61.65 6149.94,-53.24 6149.73,-63.83 6156.39,-61.65\"/>\n</g>\n<!-- 120 -->\n<g id=\"node121\" class=\"node\">\n<title>120</title>\n<polygon fill=\"none\" stroke=\"black\" points=\"6317.5,-53 6215.5,-53 6215.5,0 6317.5,0 6317.5,-53\"/>\n<text text-anchor=\"middle\" x=\"6266.5\" y=\"-37.8\" font-family=\"Helvetica,sans-Serif\" font-size=\"14.00\">entropy = 0.0</text>\n<text text-anchor=\"middle\" x=\"6266.5\" y=\"-22.8\" font-family=\"Helvetica,sans-Serif\" font-size=\"14.00\">samples = 14</text>\n<text text-anchor=\"middle\" x=\"6266.5\" y=\"-7.8\" font-family=\"Helvetica,sans-Serif\" font-size=\"14.00\">value = [14, 0]</text>\n</g>\n<!-- 118&#45;&gt;120 -->\n<g id=\"edge120\" class=\"edge\">\n<title>118&#45;&gt;120</title>\n<path fill=\"none\" stroke=\"black\" d=\"M6205.38,-88.95C6214.57,-79.71 6224.55,-69.67 6233.74,-60.44\"/>\n<polygon fill=\"black\" stroke=\"black\" points=\"6236.33,-62.79 6240.9,-53.24 6231.37,-57.86 6236.33,-62.79\"/>\n</g>\n<!-- 122 -->\n<g id=\"node123\" class=\"node\">\n<title>122</title>\n<polygon fill=\"none\" stroke=\"black\" points=\"6494.5,-157 6324.5,-157 6324.5,-89 6494.5,-89 6494.5,-157\"/>\n<text text-anchor=\"middle\" x=\"6409.5\" y=\"-141.8\" font-family=\"Helvetica,sans-Serif\" font-size=\"14.00\">CuentaMensual &lt;= 19.75</text>\n<text text-anchor=\"middle\" x=\"6409.5\" y=\"-126.8\" font-family=\"Helvetica,sans-Serif\" font-size=\"14.00\">entropy = 0.328</text>\n<text text-anchor=\"middle\" x=\"6409.5\" y=\"-111.8\" font-family=\"Helvetica,sans-Serif\" font-size=\"14.00\">samples = 83</text>\n<text text-anchor=\"middle\" x=\"6409.5\" y=\"-96.8\" font-family=\"Helvetica,sans-Serif\" font-size=\"14.00\">value = [78, 5]</text>\n</g>\n<!-- 121&#45;&gt;122 -->\n<g id=\"edge122\" class=\"edge\">\n<title>121&#45;&gt;122</title>\n<path fill=\"none\" stroke=\"black\" d=\"M6409.5,-192.88C6409.5,-184.78 6409.5,-175.98 6409.5,-167.47\"/>\n<polygon fill=\"black\" stroke=\"black\" points=\"6413,-167.3 6409.5,-157.3 6406,-167.3 6413,-167.3\"/>\n</g>\n<!-- 125 -->\n<g id=\"node126\" class=\"node\">\n<title>125</title>\n<polygon fill=\"none\" stroke=\"black\" points=\"6735.5,-157 6531.5,-157 6531.5,-89 6735.5,-89 6735.5,-157\"/>\n<text text-anchor=\"middle\" x=\"6633.5\" y=\"-141.8\" font-family=\"Helvetica,sans-Serif\" font-size=\"14.00\">ServicioDeInternet_DSL &lt;= 0.5</text>\n<text text-anchor=\"middle\" x=\"6633.5\" y=\"-126.8\" font-family=\"Helvetica,sans-Serif\" font-size=\"14.00\">entropy = 0.732</text>\n<text text-anchor=\"middle\" x=\"6633.5\" y=\"-111.8\" font-family=\"Helvetica,sans-Serif\" font-size=\"14.00\">samples = 190</text>\n<text text-anchor=\"middle\" x=\"6633.5\" y=\"-96.8\" font-family=\"Helvetica,sans-Serif\" font-size=\"14.00\">value = [151, 39]</text>\n</g>\n<!-- 121&#45;&gt;125 -->\n<g id=\"edge125\" class=\"edge\">\n<title>121&#45;&gt;125</title>\n<path fill=\"none\" stroke=\"black\" d=\"M6482.23,-192.88C6504.35,-182.81 6528.8,-171.67 6551.49,-161.34\"/>\n<polygon fill=\"black\" stroke=\"black\" points=\"6553.11,-164.45 6560.76,-157.12 6550.2,-158.08 6553.11,-164.45\"/>\n</g>\n<!-- 123 -->\n<g id=\"node124\" class=\"node\">\n<title>123</title>\n<polygon fill=\"none\" stroke=\"black\" points=\"6447,-53 6336,-53 6336,0 6447,0 6447,-53\"/>\n<text text-anchor=\"middle\" x=\"6391.5\" y=\"-37.8\" font-family=\"Helvetica,sans-Serif\" font-size=\"14.00\">entropy = 0.677</text>\n<text text-anchor=\"middle\" x=\"6391.5\" y=\"-22.8\" font-family=\"Helvetica,sans-Serif\" font-size=\"14.00\">samples = 28</text>\n<text text-anchor=\"middle\" x=\"6391.5\" y=\"-7.8\" font-family=\"Helvetica,sans-Serif\" font-size=\"14.00\">value = [23, 5]</text>\n</g>\n<!-- 122&#45;&gt;123 -->\n<g id=\"edge123\" class=\"edge\">\n<title>122&#45;&gt;123</title>\n<path fill=\"none\" stroke=\"black\" d=\"M6403.2,-88.95C6401.62,-80.62 6399.91,-71.65 6398.3,-63.2\"/>\n<polygon fill=\"black\" stroke=\"black\" points=\"6401.71,-62.41 6396.4,-53.24 6394.84,-63.72 6401.71,-62.41\"/>\n</g>\n<!-- 124 -->\n<g id=\"node125\" class=\"node\">\n<title>124</title>\n<polygon fill=\"none\" stroke=\"black\" points=\"6567.5,-53 6465.5,-53 6465.5,0 6567.5,0 6567.5,-53\"/>\n<text text-anchor=\"middle\" x=\"6516.5\" y=\"-37.8\" font-family=\"Helvetica,sans-Serif\" font-size=\"14.00\">entropy = 0.0</text>\n<text text-anchor=\"middle\" x=\"6516.5\" y=\"-22.8\" font-family=\"Helvetica,sans-Serif\" font-size=\"14.00\">samples = 55</text>\n<text text-anchor=\"middle\" x=\"6516.5\" y=\"-7.8\" font-family=\"Helvetica,sans-Serif\" font-size=\"14.00\">value = [55, 0]</text>\n</g>\n<!-- 122&#45;&gt;124 -->\n<g id=\"edge124\" class=\"edge\">\n<title>122&#45;&gt;124</title>\n<path fill=\"none\" stroke=\"black\" d=\"M6446.92,-88.95C6457.59,-79.53 6469.2,-69.27 6479.82,-59.89\"/>\n<polygon fill=\"black\" stroke=\"black\" points=\"6482.18,-62.48 6487.36,-53.24 6477.55,-57.23 6482.18,-62.48\"/>\n</g>\n<!-- 126 -->\n<g id=\"node127\" class=\"node\">\n<title>126</title>\n<polygon fill=\"none\" stroke=\"black\" points=\"6681.5,-53 6585.5,-53 6585.5,0 6681.5,0 6681.5,-53\"/>\n<text text-anchor=\"middle\" x=\"6633.5\" y=\"-37.8\" font-family=\"Helvetica,sans-Serif\" font-size=\"14.00\">entropy = 0.0</text>\n<text text-anchor=\"middle\" x=\"6633.5\" y=\"-22.8\" font-family=\"Helvetica,sans-Serif\" font-size=\"14.00\">samples = 6</text>\n<text text-anchor=\"middle\" x=\"6633.5\" y=\"-7.8\" font-family=\"Helvetica,sans-Serif\" font-size=\"14.00\">value = [0, 6]</text>\n</g>\n<!-- 125&#45;&gt;126 -->\n<g id=\"edge126\" class=\"edge\">\n<title>125&#45;&gt;126</title>\n<path fill=\"none\" stroke=\"black\" d=\"M6633.5,-88.95C6633.5,-80.72 6633.5,-71.85 6633.5,-63.48\"/>\n<polygon fill=\"black\" stroke=\"black\" points=\"6637,-63.24 6633.5,-53.24 6630,-63.24 6637,-63.24\"/>\n</g>\n<!-- 127 -->\n<g id=\"node128\" class=\"node\">\n<title>127</title>\n<polygon fill=\"none\" stroke=\"black\" points=\"6817,-53 6700,-53 6700,0 6817,0 6817,-53\"/>\n<text text-anchor=\"middle\" x=\"6758.5\" y=\"-37.8\" font-family=\"Helvetica,sans-Serif\" font-size=\"14.00\">entropy = 0.679</text>\n<text text-anchor=\"middle\" x=\"6758.5\" y=\"-22.8\" font-family=\"Helvetica,sans-Serif\" font-size=\"14.00\">samples = 184</text>\n<text text-anchor=\"middle\" x=\"6758.5\" y=\"-7.8\" font-family=\"Helvetica,sans-Serif\" font-size=\"14.00\">value = [151, 33]</text>\n</g>\n<!-- 125&#45;&gt;127 -->\n<g id=\"edge127\" class=\"edge\">\n<title>125&#45;&gt;127</title>\n<path fill=\"none\" stroke=\"black\" d=\"M6677.22,-88.95C6689.92,-79.34 6703.77,-68.87 6716.38,-59.34\"/>\n<polygon fill=\"black\" stroke=\"black\" points=\"6718.59,-62.06 6724.46,-53.24 6714.37,-56.48 6718.59,-62.06\"/>\n</g>\n<!-- 129 -->\n<g id=\"node130\" class=\"node\">\n<title>129</title>\n<polygon fill=\"none\" stroke=\"black\" points=\"7758,-469 7589,-469 7589,-401 7758,-401 7758,-469\"/>\n<text text-anchor=\"middle\" x=\"7673.5\" y=\"-453.8\" font-family=\"Helvetica,sans-Serif\" font-size=\"14.00\">MesesDeContrato &lt;= 1.5</text>\n<text text-anchor=\"middle\" x=\"7673.5\" y=\"-438.8\" font-family=\"Helvetica,sans-Serif\" font-size=\"14.00\">entropy = 0.58</text>\n<text text-anchor=\"middle\" x=\"7673.5\" y=\"-423.8\" font-family=\"Helvetica,sans-Serif\" font-size=\"14.00\">samples = 1685</text>\n<text text-anchor=\"middle\" x=\"7673.5\" y=\"-408.8\" font-family=\"Helvetica,sans-Serif\" font-size=\"14.00\">value = [233, 1452]</text>\n</g>\n<!-- 128&#45;&gt;129 -->\n<g id=\"edge129\" class=\"edge\">\n<title>128&#45;&gt;129</title>\n<path fill=\"none\" stroke=\"black\" d=\"M7673.5,-504.88C7673.5,-496.78 7673.5,-487.98 7673.5,-479.47\"/>\n<polygon fill=\"black\" stroke=\"black\" points=\"7677,-479.3 7673.5,-469.3 7670,-479.3 7677,-479.3\"/>\n</g>\n<!-- 158 -->\n<g id=\"node159\" class=\"node\">\n<title>158</title>\n<polygon fill=\"none\" stroke=\"black\" points=\"8846.5,-469 8674.5,-469 8674.5,-401 8846.5,-401 8846.5,-469\"/>\n<text text-anchor=\"middle\" x=\"8760.5\" y=\"-453.8\" font-family=\"Helvetica,sans-Serif\" font-size=\"14.00\">SoporteTecnico_Si &lt;= 0.5</text>\n<text text-anchor=\"middle\" x=\"8760.5\" y=\"-438.8\" font-family=\"Helvetica,sans-Serif\" font-size=\"14.00\">entropy = 0.943</text>\n<text text-anchor=\"middle\" x=\"8760.5\" y=\"-423.8\" font-family=\"Helvetica,sans-Serif\" font-size=\"14.00\">samples = 1258</text>\n<text text-anchor=\"middle\" x=\"8760.5\" y=\"-408.8\" font-family=\"Helvetica,sans-Serif\" font-size=\"14.00\">value = [453, 805]</text>\n</g>\n<!-- 128&#45;&gt;158 -->\n<g id=\"edge158\" class=\"edge\">\n<title>128&#45;&gt;158</title>\n<path fill=\"none\" stroke=\"black\" d=\"M7761.53,-529.74C7962.81,-510.85 8455.31,-464.64 8664.26,-445.03\"/>\n<polygon fill=\"black\" stroke=\"black\" points=\"8664.66,-448.51 8674.29,-444.09 8664.01,-441.54 8664.66,-448.51\"/>\n</g>\n<!-- 130 -->\n<g id=\"node131\" class=\"node\">\n<title>130</title>\n<polygon fill=\"none\" stroke=\"black\" points=\"7471.5,-365 7299.5,-365 7299.5,-297 7471.5,-297 7471.5,-365\"/>\n<text text-anchor=\"middle\" x=\"7385.5\" y=\"-349.8\" font-family=\"Helvetica,sans-Serif\" font-size=\"14.00\">SoporteTecnico_Si &lt;= 0.5</text>\n<text text-anchor=\"middle\" x=\"7385.5\" y=\"-334.8\" font-family=\"Helvetica,sans-Serif\" font-size=\"14.00\">entropy = 0.278</text>\n<text text-anchor=\"middle\" x=\"7385.5\" y=\"-319.8\" font-family=\"Helvetica,sans-Serif\" font-size=\"14.00\">samples = 458</text>\n<text text-anchor=\"middle\" x=\"7385.5\" y=\"-304.8\" font-family=\"Helvetica,sans-Serif\" font-size=\"14.00\">value = [22, 436]</text>\n</g>\n<!-- 129&#45;&gt;130 -->\n<g id=\"edge130\" class=\"edge\">\n<title>129&#45;&gt;130</title>\n<path fill=\"none\" stroke=\"black\" d=\"M7588.65,-403.95C7554.98,-392.02 7516.09,-378.25 7481.4,-365.97\"/>\n<polygon fill=\"black\" stroke=\"black\" points=\"7482.33,-362.58 7471.74,-362.54 7480,-369.18 7482.33,-362.58\"/>\n</g>\n<!-- 143 -->\n<g id=\"node144\" class=\"node\">\n<title>143</title>\n<polygon fill=\"none\" stroke=\"black\" points=\"7921.5,-365 7741.5,-365 7741.5,-297 7921.5,-297 7921.5,-365\"/>\n<text text-anchor=\"middle\" x=\"7831.5\" y=\"-349.8\" font-family=\"Helvetica,sans-Serif\" font-size=\"14.00\">SeguridadOnline_Si &lt;= 0.5</text>\n<text text-anchor=\"middle\" x=\"7831.5\" y=\"-334.8\" font-family=\"Helvetica,sans-Serif\" font-size=\"14.00\">entropy = 0.662</text>\n<text text-anchor=\"middle\" x=\"7831.5\" y=\"-319.8\" font-family=\"Helvetica,sans-Serif\" font-size=\"14.00\">samples = 1227</text>\n<text text-anchor=\"middle\" x=\"7831.5\" y=\"-304.8\" font-family=\"Helvetica,sans-Serif\" font-size=\"14.00\">value = [211, 1016]</text>\n</g>\n<!-- 129&#45;&gt;143 -->\n<g id=\"edge143\" class=\"edge\">\n<title>129&#45;&gt;143</title>\n<path fill=\"none\" stroke=\"black\" d=\"M7724.8,-400.88C7739.78,-391.21 7756.27,-380.56 7771.73,-370.59\"/>\n<polygon fill=\"black\" stroke=\"black\" points=\"7773.69,-373.49 7780.19,-365.12 7769.89,-367.61 7773.69,-373.49\"/>\n</g>\n<!-- 131 -->\n<g id=\"node132\" class=\"node\">\n<title>131</title>\n<polygon fill=\"none\" stroke=\"black\" points=\"7307,-261 7050,-261 7050,-193 7307,-193 7307,-261\"/>\n<text text-anchor=\"middle\" x=\"7178.5\" y=\"-245.8\" font-family=\"Helvetica,sans-Serif\" font-size=\"14.00\">FormaDePago_TarjetaDeCredito &lt;= 0.5</text>\n<text text-anchor=\"middle\" x=\"7178.5\" y=\"-230.8\" font-family=\"Helvetica,sans-Serif\" font-size=\"14.00\">entropy = 0.232</text>\n<text text-anchor=\"middle\" x=\"7178.5\" y=\"-215.8\" font-family=\"Helvetica,sans-Serif\" font-size=\"14.00\">samples = 451</text>\n<text text-anchor=\"middle\" x=\"7178.5\" y=\"-200.8\" font-family=\"Helvetica,sans-Serif\" font-size=\"14.00\">value = [17, 434]</text>\n</g>\n<!-- 130&#45;&gt;131 -->\n<g id=\"edge131\" class=\"edge\">\n<title>130&#45;&gt;131</title>\n<path fill=\"none\" stroke=\"black\" d=\"M7318.29,-296.88C7298.03,-286.9 7275.65,-275.87 7254.85,-265.62\"/>\n<polygon fill=\"black\" stroke=\"black\" points=\"7256.24,-262.41 7245.72,-261.12 7253.15,-268.68 7256.24,-262.41\"/>\n</g>\n<!-- 138 -->\n<g id=\"node139\" class=\"node\">\n<title>138</title>\n<polygon fill=\"none\" stroke=\"black\" points=\"7442,-261 7329,-261 7329,-193 7442,-193 7442,-261\"/>\n<text text-anchor=\"middle\" x=\"7385.5\" y=\"-245.8\" font-family=\"Helvetica,sans-Serif\" font-size=\"14.00\">Conyuge &lt;= 0.5</text>\n<text text-anchor=\"middle\" x=\"7385.5\" y=\"-230.8\" font-family=\"Helvetica,sans-Serif\" font-size=\"14.00\">entropy = 0.863</text>\n<text text-anchor=\"middle\" x=\"7385.5\" y=\"-215.8\" font-family=\"Helvetica,sans-Serif\" font-size=\"14.00\">samples = 7</text>\n<text text-anchor=\"middle\" x=\"7385.5\" y=\"-200.8\" font-family=\"Helvetica,sans-Serif\" font-size=\"14.00\">value = [5, 2]</text>\n</g>\n<!-- 130&#45;&gt;138 -->\n<g id=\"edge138\" class=\"edge\">\n<title>130&#45;&gt;138</title>\n<path fill=\"none\" stroke=\"black\" d=\"M7385.5,-296.88C7385.5,-288.78 7385.5,-279.98 7385.5,-271.47\"/>\n<polygon fill=\"black\" stroke=\"black\" points=\"7389,-271.3 7385.5,-261.3 7382,-271.3 7389,-271.3\"/>\n</g>\n<!-- 132 -->\n<g id=\"node133\" class=\"node\">\n<title>132</title>\n<polygon fill=\"none\" stroke=\"black\" points=\"7103,-157 6926,-157 6926,-89 7103,-89 7103,-157\"/>\n<text text-anchor=\"middle\" x=\"7014.5\" y=\"-141.8\" font-family=\"Helvetica,sans-Serif\" font-size=\"14.00\">CuentaMensual &lt;= 69.892</text>\n<text text-anchor=\"middle\" x=\"7014.5\" y=\"-126.8\" font-family=\"Helvetica,sans-Serif\" font-size=\"14.00\">entropy = 0.212</text>\n<text text-anchor=\"middle\" x=\"7014.5\" y=\"-111.8\" font-family=\"Helvetica,sans-Serif\" font-size=\"14.00\">samples = 446</text>\n<text text-anchor=\"middle\" x=\"7014.5\" y=\"-96.8\" font-family=\"Helvetica,sans-Serif\" font-size=\"14.00\">value = [15, 431]</text>\n</g>\n<!-- 131&#45;&gt;132 -->\n<g id=\"edge132\" class=\"edge\">\n<title>131&#45;&gt;132</title>\n<path fill=\"none\" stroke=\"black\" d=\"M7125.25,-192.88C7109.71,-183.21 7092.58,-172.56 7076.54,-162.59\"/>\n<polygon fill=\"black\" stroke=\"black\" points=\"7078.1,-159.43 7067.76,-157.12 7074.4,-165.38 7078.1,-159.43\"/>\n</g>\n<!-- 135 -->\n<g id=\"node136\" class=\"node\">\n<title>135</title>\n<polygon fill=\"none\" stroke=\"black\" points=\"7235,-157 7122,-157 7122,-89 7235,-89 7235,-157\"/>\n<text text-anchor=\"middle\" x=\"7178.5\" y=\"-141.8\" font-family=\"Helvetica,sans-Serif\" font-size=\"14.00\">Conyuge &lt;= 0.5</text>\n<text text-anchor=\"middle\" x=\"7178.5\" y=\"-126.8\" font-family=\"Helvetica,sans-Serif\" font-size=\"14.00\">entropy = 0.971</text>\n<text text-anchor=\"middle\" x=\"7178.5\" y=\"-111.8\" font-family=\"Helvetica,sans-Serif\" font-size=\"14.00\">samples = 5</text>\n<text text-anchor=\"middle\" x=\"7178.5\" y=\"-96.8\" font-family=\"Helvetica,sans-Serif\" font-size=\"14.00\">value = [2, 3]</text>\n</g>\n<!-- 131&#45;&gt;135 -->\n<g id=\"edge135\" class=\"edge\">\n<title>131&#45;&gt;135</title>\n<path fill=\"none\" stroke=\"black\" d=\"M7178.5,-192.88C7178.5,-184.78 7178.5,-175.98 7178.5,-167.47\"/>\n<polygon fill=\"black\" stroke=\"black\" points=\"7182,-167.3 7178.5,-157.3 7175,-167.3 7182,-167.3\"/>\n</g>\n<!-- 133 -->\n<g id=\"node134\" class=\"node\">\n<title>133</title>\n<polygon fill=\"none\" stroke=\"black\" points=\"6937.5,-53 6835.5,-53 6835.5,0 6937.5,0 6937.5,-53\"/>\n<text text-anchor=\"middle\" x=\"6886.5\" y=\"-37.8\" font-family=\"Helvetica,sans-Serif\" font-size=\"14.00\">entropy = 0.0</text>\n<text text-anchor=\"middle\" x=\"6886.5\" y=\"-22.8\" font-family=\"Helvetica,sans-Serif\" font-size=\"14.00\">samples = 70</text>\n<text text-anchor=\"middle\" x=\"6886.5\" y=\"-7.8\" font-family=\"Helvetica,sans-Serif\" font-size=\"14.00\">value = [0, 70]</text>\n</g>\n<!-- 132&#45;&gt;133 -->\n<g id=\"edge133\" class=\"edge\">\n<title>132&#45;&gt;133</title>\n<path fill=\"none\" stroke=\"black\" d=\"M6969.73,-88.95C6956.72,-79.34 6942.54,-68.87 6929.63,-59.34\"/>\n<polygon fill=\"black\" stroke=\"black\" points=\"6931.48,-56.36 6921.36,-53.24 6927.33,-61.99 6931.48,-56.36\"/>\n</g>\n<!-- 134 -->\n<g id=\"node135\" class=\"node\">\n<title>134</title>\n<polygon fill=\"none\" stroke=\"black\" points=\"7073,-53 6956,-53 6956,0 7073,0 7073,-53\"/>\n<text text-anchor=\"middle\" x=\"7014.5\" y=\"-37.8\" font-family=\"Helvetica,sans-Serif\" font-size=\"14.00\">entropy = 0.242</text>\n<text text-anchor=\"middle\" x=\"7014.5\" y=\"-22.8\" font-family=\"Helvetica,sans-Serif\" font-size=\"14.00\">samples = 376</text>\n<text text-anchor=\"middle\" x=\"7014.5\" y=\"-7.8\" font-family=\"Helvetica,sans-Serif\" font-size=\"14.00\">value = [15, 361]</text>\n</g>\n<!-- 132&#45;&gt;134 -->\n<g id=\"edge134\" class=\"edge\">\n<title>132&#45;&gt;134</title>\n<path fill=\"none\" stroke=\"black\" d=\"M7014.5,-88.95C7014.5,-80.72 7014.5,-71.85 7014.5,-63.48\"/>\n<polygon fill=\"black\" stroke=\"black\" points=\"7018,-63.24 7014.5,-53.24 7011,-63.24 7018,-63.24\"/>\n</g>\n<!-- 136 -->\n<g id=\"node137\" class=\"node\">\n<title>136</title>\n<polygon fill=\"none\" stroke=\"black\" points=\"7187.5,-53 7091.5,-53 7091.5,0 7187.5,0 7187.5,-53\"/>\n<text text-anchor=\"middle\" x=\"7139.5\" y=\"-37.8\" font-family=\"Helvetica,sans-Serif\" font-size=\"14.00\">entropy = 0.0</text>\n<text text-anchor=\"middle\" x=\"7139.5\" y=\"-22.8\" font-family=\"Helvetica,sans-Serif\" font-size=\"14.00\">samples = 3</text>\n<text text-anchor=\"middle\" x=\"7139.5\" y=\"-7.8\" font-family=\"Helvetica,sans-Serif\" font-size=\"14.00\">value = [0, 3]</text>\n</g>\n<!-- 135&#45;&gt;136 -->\n<g id=\"edge136\" class=\"edge\">\n<title>135&#45;&gt;136</title>\n<path fill=\"none\" stroke=\"black\" d=\"M7164.86,-88.95C7161.35,-80.44 7157.56,-71.26 7154,-62.65\"/>\n<polygon fill=\"black\" stroke=\"black\" points=\"7157.17,-61.15 7150.12,-53.24 7150.7,-63.82 7157.17,-61.15\"/>\n</g>\n<!-- 137 -->\n<g id=\"node138\" class=\"node\">\n<title>137</title>\n<polygon fill=\"none\" stroke=\"black\" points=\"7301.5,-53 7205.5,-53 7205.5,0 7301.5,0 7301.5,-53\"/>\n<text text-anchor=\"middle\" x=\"7253.5\" y=\"-37.8\" font-family=\"Helvetica,sans-Serif\" font-size=\"14.00\">entropy = 0.0</text>\n<text text-anchor=\"middle\" x=\"7253.5\" y=\"-22.8\" font-family=\"Helvetica,sans-Serif\" font-size=\"14.00\">samples = 2</text>\n<text text-anchor=\"middle\" x=\"7253.5\" y=\"-7.8\" font-family=\"Helvetica,sans-Serif\" font-size=\"14.00\">value = [2, 0]</text>\n</g>\n<!-- 135&#45;&gt;137 -->\n<g id=\"edge137\" class=\"edge\">\n<title>135&#45;&gt;137</title>\n<path fill=\"none\" stroke=\"black\" d=\"M7204.73,-88.95C7211.85,-79.98 7219.56,-70.27 7226.7,-61.26\"/>\n<polygon fill=\"black\" stroke=\"black\" points=\"7229.6,-63.25 7233.07,-53.24 7224.12,-58.89 7229.6,-63.25\"/>\n</g>\n<!-- 139 -->\n<g id=\"node140\" class=\"node\">\n<title>139</title>\n<polygon fill=\"none\" stroke=\"black\" points=\"7459.5,-157 7297.5,-157 7297.5,-89 7459.5,-89 7459.5,-157\"/>\n<text text-anchor=\"middle\" x=\"7378.5\" y=\"-141.8\" font-family=\"Helvetica,sans-Serif\" font-size=\"14.00\">CuentaMensual &lt;= 75.3</text>\n<text text-anchor=\"middle\" x=\"7378.5\" y=\"-126.8\" font-family=\"Helvetica,sans-Serif\" font-size=\"14.00\">entropy = 0.65</text>\n<text text-anchor=\"middle\" x=\"7378.5\" y=\"-111.8\" font-family=\"Helvetica,sans-Serif\" font-size=\"14.00\">samples = 6</text>\n<text text-anchor=\"middle\" x=\"7378.5\" y=\"-96.8\" font-family=\"Helvetica,sans-Serif\" font-size=\"14.00\">value = [5, 1]</text>\n</g>\n<!-- 138&#45;&gt;139 -->\n<g id=\"edge139\" class=\"edge\">\n<title>138&#45;&gt;139</title>\n<path fill=\"none\" stroke=\"black\" d=\"M7383.23,-192.88C7382.67,-184.78 7382.07,-175.98 7381.48,-167.47\"/>\n<polygon fill=\"black\" stroke=\"black\" points=\"7384.96,-167.04 7380.79,-157.3 7377.98,-167.52 7384.96,-167.04\"/>\n</g>\n<!-- 142 -->\n<g id=\"node143\" class=\"node\">\n<title>142</title>\n<polygon fill=\"none\" stroke=\"black\" points=\"7573.5,-149.5 7477.5,-149.5 7477.5,-96.5 7573.5,-96.5 7573.5,-149.5\"/>\n<text text-anchor=\"middle\" x=\"7525.5\" y=\"-134.3\" font-family=\"Helvetica,sans-Serif\" font-size=\"14.00\">entropy = 0.0</text>\n<text text-anchor=\"middle\" x=\"7525.5\" y=\"-119.3\" font-family=\"Helvetica,sans-Serif\" font-size=\"14.00\">samples = 1</text>\n<text text-anchor=\"middle\" x=\"7525.5\" y=\"-104.3\" font-family=\"Helvetica,sans-Serif\" font-size=\"14.00\">value = [0, 1]</text>\n</g>\n<!-- 138&#45;&gt;142 -->\n<g id=\"edge142\" class=\"edge\">\n<title>138&#45;&gt;142</title>\n<path fill=\"none\" stroke=\"black\" d=\"M7430.95,-192.88C7447.41,-180.9 7465.93,-167.4 7482.2,-155.55\"/>\n<polygon fill=\"black\" stroke=\"black\" points=\"7484.45,-158.24 7490.47,-149.52 7480.33,-152.58 7484.45,-158.24\"/>\n</g>\n<!-- 140 -->\n<g id=\"node141\" class=\"node\">\n<title>140</title>\n<polygon fill=\"none\" stroke=\"black\" points=\"7415.5,-53 7319.5,-53 7319.5,0 7415.5,0 7415.5,-53\"/>\n<text text-anchor=\"middle\" x=\"7367.5\" y=\"-37.8\" font-family=\"Helvetica,sans-Serif\" font-size=\"14.00\">entropy = 0.0</text>\n<text text-anchor=\"middle\" x=\"7367.5\" y=\"-22.8\" font-family=\"Helvetica,sans-Serif\" font-size=\"14.00\">samples = 3</text>\n<text text-anchor=\"middle\" x=\"7367.5\" y=\"-7.8\" font-family=\"Helvetica,sans-Serif\" font-size=\"14.00\">value = [3, 0]</text>\n</g>\n<!-- 139&#45;&gt;140 -->\n<g id=\"edge140\" class=\"edge\">\n<title>139&#45;&gt;140</title>\n<path fill=\"none\" stroke=\"black\" d=\"M7374.65,-88.95C7373.68,-80.62 7372.64,-71.65 7371.66,-63.2\"/>\n<polygon fill=\"black\" stroke=\"black\" points=\"7375.13,-62.76 7370.5,-53.24 7368.18,-63.57 7375.13,-62.76\"/>\n</g>\n<!-- 141 -->\n<g id=\"node142\" class=\"node\">\n<title>141</title>\n<polygon fill=\"none\" stroke=\"black\" points=\"7545,-53 7434,-53 7434,0 7545,0 7545,-53\"/>\n<text text-anchor=\"middle\" x=\"7489.5\" y=\"-37.8\" font-family=\"Helvetica,sans-Serif\" font-size=\"14.00\">entropy = 0.918</text>\n<text text-anchor=\"middle\" x=\"7489.5\" y=\"-22.8\" font-family=\"Helvetica,sans-Serif\" font-size=\"14.00\">samples = 3</text>\n<text text-anchor=\"middle\" x=\"7489.5\" y=\"-7.8\" font-family=\"Helvetica,sans-Serif\" font-size=\"14.00\">value = [2, 1]</text>\n</g>\n<!-- 139&#45;&gt;141 -->\n<g id=\"edge141\" class=\"edge\">\n<title>139&#45;&gt;141</title>\n<path fill=\"none\" stroke=\"black\" d=\"M7417.32,-88.95C7428.39,-79.53 7440.43,-69.27 7451.45,-59.89\"/>\n<polygon fill=\"black\" stroke=\"black\" points=\"7453.92,-62.38 7459.27,-53.24 7449.39,-57.05 7453.92,-62.38\"/>\n</g>\n<!-- 144 -->\n<g id=\"node145\" class=\"node\">\n<title>144</title>\n<polygon fill=\"none\" stroke=\"black\" points=\"7946,-261 7717,-261 7717,-193 7946,-193 7946,-261\"/>\n<text text-anchor=\"middle\" x=\"7831.5\" y=\"-245.8\" font-family=\"Helvetica,sans-Serif\" font-size=\"14.00\">VariasLineasTelefonicas_No &lt;= 0.5</text>\n<text text-anchor=\"middle\" x=\"7831.5\" y=\"-230.8\" font-family=\"Helvetica,sans-Serif\" font-size=\"14.00\">entropy = 0.613</text>\n<text text-anchor=\"middle\" x=\"7831.5\" y=\"-215.8\" font-family=\"Helvetica,sans-Serif\" font-size=\"14.00\">samples = 1144</text>\n<text text-anchor=\"middle\" x=\"7831.5\" y=\"-200.8\" font-family=\"Helvetica,sans-Serif\" font-size=\"14.00\">value = [173, 971]</text>\n</g>\n<!-- 143&#45;&gt;144 -->\n<g id=\"edge144\" class=\"edge\">\n<title>143&#45;&gt;144</title>\n<path fill=\"none\" stroke=\"black\" d=\"M7831.5,-296.88C7831.5,-288.78 7831.5,-279.98 7831.5,-271.47\"/>\n<polygon fill=\"black\" stroke=\"black\" points=\"7835,-271.3 7831.5,-261.3 7828,-271.3 7835,-271.3\"/>\n</g>\n<!-- 151 -->\n<g id=\"node152\" class=\"node\">\n<title>151</title>\n<polygon fill=\"none\" stroke=\"black\" points=\"8299,-261 8122,-261 8122,-193 8299,-193 8299,-261\"/>\n<text text-anchor=\"middle\" x=\"8210.5\" y=\"-245.8\" font-family=\"Helvetica,sans-Serif\" font-size=\"14.00\">CuentaMensual &lt;= 96.575</text>\n<text text-anchor=\"middle\" x=\"8210.5\" y=\"-230.8\" font-family=\"Helvetica,sans-Serif\" font-size=\"14.00\">entropy = 0.995</text>\n<text text-anchor=\"middle\" x=\"8210.5\" y=\"-215.8\" font-family=\"Helvetica,sans-Serif\" font-size=\"14.00\">samples = 83</text>\n<text text-anchor=\"middle\" x=\"8210.5\" y=\"-200.8\" font-family=\"Helvetica,sans-Serif\" font-size=\"14.00\">value = [38, 45]</text>\n</g>\n<!-- 143&#45;&gt;151 -->\n<g id=\"edge151\" class=\"edge\">\n<title>143&#45;&gt;151</title>\n<path fill=\"none\" stroke=\"black\" d=\"M7921.8,-305.7C7979.14,-290.26 8053.37,-270.29 8112.2,-254.46\"/>\n<polygon fill=\"black\" stroke=\"black\" points=\"8113.13,-257.83 8121.87,-251.85 8111.31,-251.07 8113.13,-257.83\"/>\n</g>\n<!-- 145 -->\n<g id=\"node146\" class=\"node\">\n<title>145</title>\n<polygon fill=\"none\" stroke=\"black\" points=\"7818.5,-157 7594.5,-157 7594.5,-89 7818.5,-89 7818.5,-157\"/>\n<text text-anchor=\"middle\" x=\"7706.5\" y=\"-141.8\" font-family=\"Helvetica,sans-Serif\" font-size=\"14.00\">VariasLineasTelefonicas_Si &lt;= 0.5</text>\n<text text-anchor=\"middle\" x=\"7706.5\" y=\"-126.8\" font-family=\"Helvetica,sans-Serif\" font-size=\"14.00\">entropy = 0.455</text>\n<text text-anchor=\"middle\" x=\"7706.5\" y=\"-111.8\" font-family=\"Helvetica,sans-Serif\" font-size=\"14.00\">samples = 679</text>\n<text text-anchor=\"middle\" x=\"7706.5\" y=\"-96.8\" font-family=\"Helvetica,sans-Serif\" font-size=\"14.00\">value = [65, 614]</text>\n</g>\n<!-- 144&#45;&gt;145 -->\n<g id=\"edge145\" class=\"edge\">\n<title>144&#45;&gt;145</title>\n<path fill=\"none\" stroke=\"black\" d=\"M7790.92,-192.88C7779.56,-183.62 7767.11,-173.45 7755.33,-163.85\"/>\n<polygon fill=\"black\" stroke=\"black\" points=\"7757.27,-160.91 7747.31,-157.3 7752.84,-166.33 7757.27,-160.91\"/>\n</g>\n<!-- 148 -->\n<g id=\"node149\" class=\"node\">\n<title>148</title>\n<polygon fill=\"none\" stroke=\"black\" points=\"8074,-157 7837,-157 7837,-89 8074,-89 8074,-157\"/>\n<text text-anchor=\"middle\" x=\"7955.5\" y=\"-141.8\" font-family=\"Helvetica,sans-Serif\" font-size=\"14.00\">FormaDePago_ChequePapel &lt;= 0.5</text>\n<text text-anchor=\"middle\" x=\"7955.5\" y=\"-126.8\" font-family=\"Helvetica,sans-Serif\" font-size=\"14.00\">entropy = 0.782</text>\n<text text-anchor=\"middle\" x=\"7955.5\" y=\"-111.8\" font-family=\"Helvetica,sans-Serif\" font-size=\"14.00\">samples = 465</text>\n<text text-anchor=\"middle\" x=\"7955.5\" y=\"-96.8\" font-family=\"Helvetica,sans-Serif\" font-size=\"14.00\">value = [108, 357]</text>\n</g>\n<!-- 144&#45;&gt;148 -->\n<g id=\"edge148\" class=\"edge\">\n<title>144&#45;&gt;148</title>\n<path fill=\"none\" stroke=\"black\" d=\"M7871.76,-192.88C7883.02,-183.62 7895.38,-173.45 7907.06,-163.85\"/>\n<polygon fill=\"black\" stroke=\"black\" points=\"7909.52,-166.36 7915.02,-157.3 7905.07,-160.95 7909.52,-166.36\"/>\n</g>\n<!-- 146 -->\n<g id=\"node147\" class=\"node\">\n<title>146</title>\n<polygon fill=\"none\" stroke=\"black\" points=\"7673.5,-53 7563.5,-53 7563.5,0 7673.5,0 7673.5,-53\"/>\n<text text-anchor=\"middle\" x=\"7618.5\" y=\"-37.8\" font-family=\"Helvetica,sans-Serif\" font-size=\"14.00\">entropy = 0.0</text>\n<text text-anchor=\"middle\" x=\"7618.5\" y=\"-22.8\" font-family=\"Helvetica,sans-Serif\" font-size=\"14.00\">samples = 115</text>\n<text text-anchor=\"middle\" x=\"7618.5\" y=\"-7.8\" font-family=\"Helvetica,sans-Serif\" font-size=\"14.00\">value = [0, 115]</text>\n</g>\n<!-- 145&#45;&gt;146 -->\n<g id=\"edge146\" class=\"edge\">\n<title>145&#45;&gt;146</title>\n<path fill=\"none\" stroke=\"black\" d=\"M7675.72,-88.95C7667.2,-79.8 7657.96,-69.87 7649.43,-60.71\"/>\n<polygon fill=\"black\" stroke=\"black\" points=\"7651.84,-58.17 7642.47,-53.24 7646.72,-62.94 7651.84,-58.17\"/>\n</g>\n<!-- 147 -->\n<g id=\"node148\" class=\"node\">\n<title>147</title>\n<polygon fill=\"none\" stroke=\"black\" points=\"7809,-53 7692,-53 7692,0 7809,0 7809,-53\"/>\n<text text-anchor=\"middle\" x=\"7750.5\" y=\"-37.8\" font-family=\"Helvetica,sans-Serif\" font-size=\"14.00\">entropy = 0.516</text>\n<text text-anchor=\"middle\" x=\"7750.5\" y=\"-22.8\" font-family=\"Helvetica,sans-Serif\" font-size=\"14.00\">samples = 564</text>\n<text text-anchor=\"middle\" x=\"7750.5\" y=\"-7.8\" font-family=\"Helvetica,sans-Serif\" font-size=\"14.00\">value = [65, 499]</text>\n</g>\n<!-- 145&#45;&gt;147 -->\n<g id=\"edge147\" class=\"edge\">\n<title>145&#45;&gt;147</title>\n<path fill=\"none\" stroke=\"black\" d=\"M7721.89,-88.95C7725.89,-80.35 7730.22,-71.06 7734.26,-62.37\"/>\n<polygon fill=\"black\" stroke=\"black\" points=\"7737.47,-63.78 7738.52,-53.24 7731.12,-60.82 7737.47,-63.78\"/>\n</g>\n<!-- 149 -->\n<g id=\"node150\" class=\"node\">\n<title>149</title>\n<polygon fill=\"none\" stroke=\"black\" points=\"7944,-53 7827,-53 7827,0 7944,0 7944,-53\"/>\n<text text-anchor=\"middle\" x=\"7885.5\" y=\"-37.8\" font-family=\"Helvetica,sans-Serif\" font-size=\"14.00\">entropy = 0.745</text>\n<text text-anchor=\"middle\" x=\"7885.5\" y=\"-22.8\" font-family=\"Helvetica,sans-Serif\" font-size=\"14.00\">samples = 430</text>\n<text text-anchor=\"middle\" x=\"7885.5\" y=\"-7.8\" font-family=\"Helvetica,sans-Serif\" font-size=\"14.00\">value = [91, 339]</text>\n</g>\n<!-- 148&#45;&gt;149 -->\n<g id=\"edge149\" class=\"edge\">\n<title>148&#45;&gt;149</title>\n<path fill=\"none\" stroke=\"black\" d=\"M7931.02,-88.95C7924.44,-80.07 7917.33,-70.46 7910.71,-61.54\"/>\n<polygon fill=\"black\" stroke=\"black\" points=\"7913.33,-59.19 7904.56,-53.24 7907.7,-63.36 7913.33,-59.19\"/>\n</g>\n<!-- 150 -->\n<g id=\"node151\" class=\"node\">\n<title>150</title>\n<polygon fill=\"none\" stroke=\"black\" points=\"8073,-53 7962,-53 7962,0 8073,0 8073,-53\"/>\n<text text-anchor=\"middle\" x=\"8017.5\" y=\"-37.8\" font-family=\"Helvetica,sans-Serif\" font-size=\"14.00\">entropy = 0.999</text>\n<text text-anchor=\"middle\" x=\"8017.5\" y=\"-22.8\" font-family=\"Helvetica,sans-Serif\" font-size=\"14.00\">samples = 35</text>\n<text text-anchor=\"middle\" x=\"8017.5\" y=\"-7.8\" font-family=\"Helvetica,sans-Serif\" font-size=\"14.00\">value = [17, 18]</text>\n</g>\n<!-- 148&#45;&gt;150 -->\n<g id=\"edge150\" class=\"edge\">\n<title>148&#45;&gt;150</title>\n<path fill=\"none\" stroke=\"black\" d=\"M7977.18,-88.95C7982.95,-80.17 7989.18,-70.66 7994.99,-61.82\"/>\n<polygon fill=\"black\" stroke=\"black\" points=\"7998.06,-63.52 8000.61,-53.24 7992.2,-59.68 7998.06,-63.52\"/>\n</g>\n<!-- 152 -->\n<g id=\"node153\" class=\"node\">\n<title>152</title>\n<polygon fill=\"none\" stroke=\"black\" points=\"8325,-157 8096,-157 8096,-89 8325,-89 8325,-157\"/>\n<text text-anchor=\"middle\" x=\"8210.5\" y=\"-141.8\" font-family=\"Helvetica,sans-Serif\" font-size=\"14.00\">VariasLineasTelefonicas_No &lt;= 0.5</text>\n<text text-anchor=\"middle\" x=\"8210.5\" y=\"-126.8\" font-family=\"Helvetica,sans-Serif\" font-size=\"14.00\">entropy = 0.953</text>\n<text text-anchor=\"middle\" x=\"8210.5\" y=\"-111.8\" font-family=\"Helvetica,sans-Serif\" font-size=\"14.00\">samples = 59</text>\n<text text-anchor=\"middle\" x=\"8210.5\" y=\"-96.8\" font-family=\"Helvetica,sans-Serif\" font-size=\"14.00\">value = [37, 22]</text>\n</g>\n<!-- 151&#45;&gt;152 -->\n<g id=\"edge152\" class=\"edge\">\n<title>151&#45;&gt;152</title>\n<path fill=\"none\" stroke=\"black\" d=\"M8210.5,-192.88C8210.5,-184.78 8210.5,-175.98 8210.5,-167.47\"/>\n<polygon fill=\"black\" stroke=\"black\" points=\"8214,-167.3 8210.5,-157.3 8207,-167.3 8214,-167.3\"/>\n</g>\n<!-- 155 -->\n<g id=\"node156\" class=\"node\">\n<title>155</title>\n<polygon fill=\"none\" stroke=\"black\" points=\"8457,-157 8344,-157 8344,-89 8457,-89 8457,-157\"/>\n<text text-anchor=\"middle\" x=\"8400.5\" y=\"-141.8\" font-family=\"Helvetica,sans-Serif\" font-size=\"14.00\">Conyuge &lt;= 0.5</text>\n<text text-anchor=\"middle\" x=\"8400.5\" y=\"-126.8\" font-family=\"Helvetica,sans-Serif\" font-size=\"14.00\">entropy = 0.25</text>\n<text text-anchor=\"middle\" x=\"8400.5\" y=\"-111.8\" font-family=\"Helvetica,sans-Serif\" font-size=\"14.00\">samples = 24</text>\n<text text-anchor=\"middle\" x=\"8400.5\" y=\"-96.8\" font-family=\"Helvetica,sans-Serif\" font-size=\"14.00\">value = [1, 23]</text>\n</g>\n<!-- 151&#45;&gt;155 -->\n<g id=\"edge155\" class=\"edge\">\n<title>151&#45;&gt;155</title>\n<path fill=\"none\" stroke=\"black\" d=\"M8272.19,-192.88C8292.29,-182.09 8314.68,-170.07 8335.05,-159.14\"/>\n<polygon fill=\"black\" stroke=\"black\" points=\"8336.79,-162.17 8343.94,-154.36 8333.48,-156.01 8336.79,-162.17\"/>\n</g>\n<!-- 153 -->\n<g id=\"node154\" class=\"node\">\n<title>153</title>\n<polygon fill=\"none\" stroke=\"black\" points=\"8202,-53 8091,-53 8091,0 8202,0 8202,-53\"/>\n<text text-anchor=\"middle\" x=\"8146.5\" y=\"-37.8\" font-family=\"Helvetica,sans-Serif\" font-size=\"14.00\">entropy = 0.702</text>\n<text text-anchor=\"middle\" x=\"8146.5\" y=\"-22.8\" font-family=\"Helvetica,sans-Serif\" font-size=\"14.00\">samples = 21</text>\n<text text-anchor=\"middle\" x=\"8146.5\" y=\"-7.8\" font-family=\"Helvetica,sans-Serif\" font-size=\"14.00\">value = [17, 4]</text>\n</g>\n<!-- 152&#45;&gt;153 -->\n<g id=\"edge153\" class=\"edge\">\n<title>152&#45;&gt;153</title>\n<path fill=\"none\" stroke=\"black\" d=\"M8188.12,-88.95C8182.11,-80.07 8175.6,-70.46 8169.55,-61.54\"/>\n<polygon fill=\"black\" stroke=\"black\" points=\"8172.44,-59.55 8163.93,-53.24 8166.64,-63.48 8172.44,-59.55\"/>\n</g>\n<!-- 154 -->\n<g id=\"node155\" class=\"node\">\n<title>154</title>\n<polygon fill=\"none\" stroke=\"black\" points=\"8331,-53 8220,-53 8220,0 8331,0 8331,-53\"/>\n<text text-anchor=\"middle\" x=\"8275.5\" y=\"-37.8\" font-family=\"Helvetica,sans-Serif\" font-size=\"14.00\">entropy = 0.998</text>\n<text text-anchor=\"middle\" x=\"8275.5\" y=\"-22.8\" font-family=\"Helvetica,sans-Serif\" font-size=\"14.00\">samples = 38</text>\n<text text-anchor=\"middle\" x=\"8275.5\" y=\"-7.8\" font-family=\"Helvetica,sans-Serif\" font-size=\"14.00\">value = [20, 18]</text>\n</g>\n<!-- 152&#45;&gt;154 -->\n<g id=\"edge154\" class=\"edge\">\n<title>152&#45;&gt;154</title>\n<path fill=\"none\" stroke=\"black\" d=\"M8233.23,-88.95C8239.34,-80.07 8245.95,-70.46 8252.09,-61.54\"/>\n<polygon fill=\"black\" stroke=\"black\" points=\"8255.01,-63.46 8257.8,-53.24 8249.25,-59.49 8255.01,-63.46\"/>\n</g>\n<!-- 156 -->\n<g id=\"node157\" class=\"node\">\n<title>156</title>\n<polygon fill=\"none\" stroke=\"black\" points=\"8451.5,-53 8349.5,-53 8349.5,0 8451.5,0 8451.5,-53\"/>\n<text text-anchor=\"middle\" x=\"8400.5\" y=\"-37.8\" font-family=\"Helvetica,sans-Serif\" font-size=\"14.00\">entropy = 0.0</text>\n<text text-anchor=\"middle\" x=\"8400.5\" y=\"-22.8\" font-family=\"Helvetica,sans-Serif\" font-size=\"14.00\">samples = 21</text>\n<text text-anchor=\"middle\" x=\"8400.5\" y=\"-7.8\" font-family=\"Helvetica,sans-Serif\" font-size=\"14.00\">value = [0, 21]</text>\n</g>\n<!-- 155&#45;&gt;156 -->\n<g id=\"edge156\" class=\"edge\">\n<title>155&#45;&gt;156</title>\n<path fill=\"none\" stroke=\"black\" d=\"M8400.5,-88.95C8400.5,-80.72 8400.5,-71.85 8400.5,-63.48\"/>\n<polygon fill=\"black\" stroke=\"black\" points=\"8404,-63.24 8400.5,-53.24 8397,-63.24 8404,-63.24\"/>\n</g>\n<!-- 157 -->\n<g id=\"node158\" class=\"node\">\n<title>157</title>\n<polygon fill=\"none\" stroke=\"black\" points=\"8581,-53 8470,-53 8470,0 8581,0 8581,-53\"/>\n<text text-anchor=\"middle\" x=\"8525.5\" y=\"-37.8\" font-family=\"Helvetica,sans-Serif\" font-size=\"14.00\">entropy = 0.918</text>\n<text text-anchor=\"middle\" x=\"8525.5\" y=\"-22.8\" font-family=\"Helvetica,sans-Serif\" font-size=\"14.00\">samples = 3</text>\n<text text-anchor=\"middle\" x=\"8525.5\" y=\"-7.8\" font-family=\"Helvetica,sans-Serif\" font-size=\"14.00\">value = [1, 2]</text>\n</g>\n<!-- 155&#45;&gt;157 -->\n<g id=\"edge157\" class=\"edge\">\n<title>155&#45;&gt;157</title>\n<path fill=\"none\" stroke=\"black\" d=\"M8444.22,-88.95C8456.92,-79.34 8470.77,-68.87 8483.38,-59.34\"/>\n<polygon fill=\"black\" stroke=\"black\" points=\"8485.59,-62.06 8491.46,-53.24 8481.37,-56.48 8485.59,-62.06\"/>\n</g>\n<!-- 159 -->\n<g id=\"node160\" class=\"node\">\n<title>159</title>\n<polygon fill=\"none\" stroke=\"black\" points=\"8849,-365 8672,-365 8672,-297 8849,-297 8849,-365\"/>\n<text text-anchor=\"middle\" x=\"8760.5\" y=\"-349.8\" font-family=\"Helvetica,sans-Serif\" font-size=\"14.00\">SoporteTecnico_No &lt;= 0.5</text>\n<text text-anchor=\"middle\" x=\"8760.5\" y=\"-334.8\" font-family=\"Helvetica,sans-Serif\" font-size=\"14.00\">entropy = 0.894</text>\n<text text-anchor=\"middle\" x=\"8760.5\" y=\"-319.8\" font-family=\"Helvetica,sans-Serif\" font-size=\"14.00\">samples = 1078</text>\n<text text-anchor=\"middle\" x=\"8760.5\" y=\"-304.8\" font-family=\"Helvetica,sans-Serif\" font-size=\"14.00\">value = [335, 743]</text>\n</g>\n<!-- 158&#45;&gt;159 -->\n<g id=\"edge159\" class=\"edge\">\n<title>158&#45;&gt;159</title>\n<path fill=\"none\" stroke=\"black\" d=\"M8760.5,-400.88C8760.5,-392.78 8760.5,-383.98 8760.5,-375.47\"/>\n<polygon fill=\"black\" stroke=\"black\" points=\"8764,-375.3 8760.5,-365.3 8757,-375.3 8764,-375.3\"/>\n</g>\n<!-- 168 -->\n<g id=\"node169\" class=\"node\">\n<title>168</title>\n<polygon fill=\"none\" stroke=\"black\" points=\"9474.5,-365 9298.5,-365 9298.5,-297 9474.5,-297 9474.5,-365\"/>\n<text text-anchor=\"middle\" x=\"9386.5\" y=\"-349.8\" font-family=\"Helvetica,sans-Serif\" font-size=\"14.00\">MesesDeContrato &lt;= 43.5</text>\n<text text-anchor=\"middle\" x=\"9386.5\" y=\"-334.8\" font-family=\"Helvetica,sans-Serif\" font-size=\"14.00\">entropy = 0.929</text>\n<text text-anchor=\"middle\" x=\"9386.5\" y=\"-319.8\" font-family=\"Helvetica,sans-Serif\" font-size=\"14.00\">samples = 180</text>\n<text text-anchor=\"middle\" x=\"9386.5\" y=\"-304.8\" font-family=\"Helvetica,sans-Serif\" font-size=\"14.00\">value = [118, 62]</text>\n</g>\n<!-- 158&#45;&gt;168 -->\n<g id=\"edge168\" class=\"edge\">\n<title>158&#45;&gt;168</title>\n<path fill=\"none\" stroke=\"black\" d=\"M8846.56,-419.98C8962.11,-401.15 9166.91,-367.78 9288.34,-347.99\"/>\n<polygon fill=\"black\" stroke=\"black\" points=\"9289.07,-351.42 9298.38,-346.36 9287.95,-344.51 9289.07,-351.42\"/>\n</g>\n<!-- 160 -->\n<g id=\"node161\" class=\"node\">\n<title>160</title>\n<polygon fill=\"none\" stroke=\"black\" points=\"8711.5,-253.5 8609.5,-253.5 8609.5,-200.5 8711.5,-200.5 8711.5,-253.5\"/>\n<text text-anchor=\"middle\" x=\"8660.5\" y=\"-238.3\" font-family=\"Helvetica,sans-Serif\" font-size=\"14.00\">entropy = 0.0</text>\n<text text-anchor=\"middle\" x=\"8660.5\" y=\"-223.3\" font-family=\"Helvetica,sans-Serif\" font-size=\"14.00\">samples = 84</text>\n<text text-anchor=\"middle\" x=\"8660.5\" y=\"-208.3\" font-family=\"Helvetica,sans-Serif\" font-size=\"14.00\">value = [0, 84]</text>\n</g>\n<!-- 159&#45;&gt;160 -->\n<g id=\"edge160\" class=\"edge\">\n<title>159&#45;&gt;160</title>\n<path fill=\"none\" stroke=\"black\" d=\"M8728.03,-296.88C8716.71,-285.34 8704.02,-272.39 8692.72,-260.86\"/>\n<polygon fill=\"black\" stroke=\"black\" points=\"8695.02,-258.21 8685.52,-253.52 8690.02,-263.11 8695.02,-258.21\"/>\n</g>\n<!-- 161 -->\n<g id=\"node162\" class=\"node\">\n<title>161</title>\n<polygon fill=\"none\" stroke=\"black\" points=\"8993,-261 8730,-261 8730,-193 8993,-193 8993,-261\"/>\n<text text-anchor=\"middle\" x=\"8861.5\" y=\"-245.8\" font-family=\"Helvetica,sans-Serif\" font-size=\"14.00\">FormaDePago_DebitoAutomatico &lt;= 0.5</text>\n<text text-anchor=\"middle\" x=\"8861.5\" y=\"-230.8\" font-family=\"Helvetica,sans-Serif\" font-size=\"14.00\">entropy = 0.922</text>\n<text text-anchor=\"middle\" x=\"8861.5\" y=\"-215.8\" font-family=\"Helvetica,sans-Serif\" font-size=\"14.00\">samples = 994</text>\n<text text-anchor=\"middle\" x=\"8861.5\" y=\"-200.8\" font-family=\"Helvetica,sans-Serif\" font-size=\"14.00\">value = [335, 659]</text>\n</g>\n<!-- 159&#45;&gt;161 -->\n<g id=\"edge161\" class=\"edge\">\n<title>159&#45;&gt;161</title>\n<path fill=\"none\" stroke=\"black\" d=\"M8793.29,-296.88C8802.2,-287.89 8811.95,-278.04 8821.22,-268.68\"/>\n<polygon fill=\"black\" stroke=\"black\" points=\"8823.98,-270.87 8828.53,-261.3 8819,-265.94 8823.98,-270.87\"/>\n</g>\n<!-- 162 -->\n<g id=\"node163\" class=\"node\">\n<title>162</title>\n<polygon fill=\"none\" stroke=\"black\" points=\"8884,-157 8627,-157 8627,-89 8884,-89 8884,-157\"/>\n<text text-anchor=\"middle\" x=\"8755.5\" y=\"-141.8\" font-family=\"Helvetica,sans-Serif\" font-size=\"14.00\">FormaDePago_TarjetaDeCredito &lt;= 0.5</text>\n<text text-anchor=\"middle\" x=\"8755.5\" y=\"-126.8\" font-family=\"Helvetica,sans-Serif\" font-size=\"14.00\">entropy = 0.875</text>\n<text text-anchor=\"middle\" x=\"8755.5\" y=\"-111.8\" font-family=\"Helvetica,sans-Serif\" font-size=\"14.00\">samples = 867</text>\n<text text-anchor=\"middle\" x=\"8755.5\" y=\"-96.8\" font-family=\"Helvetica,sans-Serif\" font-size=\"14.00\">value = [256, 611]</text>\n</g>\n<!-- 161&#45;&gt;162 -->\n<g id=\"edge162\" class=\"edge\">\n<title>161&#45;&gt;162</title>\n<path fill=\"none\" stroke=\"black\" d=\"M8827.08,-192.88C8817.64,-183.8 8807.3,-173.85 8797.48,-164.4\"/>\n<polygon fill=\"black\" stroke=\"black\" points=\"8799.74,-161.71 8790.11,-157.3 8794.88,-166.76 8799.74,-161.71\"/>\n</g>\n<!-- 165 -->\n<g id=\"node166\" class=\"node\">\n<title>165</title>\n<polygon fill=\"none\" stroke=\"black\" points=\"9033,-157 8902,-157 8902,-89 9033,-89 9033,-157\"/>\n<text text-anchor=\"middle\" x=\"8967.5\" y=\"-141.8\" font-family=\"Helvetica,sans-Serif\" font-size=\"14.00\">PagoOnline &lt;= 0.5</text>\n<text text-anchor=\"middle\" x=\"8967.5\" y=\"-126.8\" font-family=\"Helvetica,sans-Serif\" font-size=\"14.00\">entropy = 0.957</text>\n<text text-anchor=\"middle\" x=\"8967.5\" y=\"-111.8\" font-family=\"Helvetica,sans-Serif\" font-size=\"14.00\">samples = 127</text>\n<text text-anchor=\"middle\" x=\"8967.5\" y=\"-96.8\" font-family=\"Helvetica,sans-Serif\" font-size=\"14.00\">value = [79, 48]</text>\n</g>\n<!-- 161&#45;&gt;165 -->\n<g id=\"edge165\" class=\"edge\">\n<title>161&#45;&gt;165</title>\n<path fill=\"none\" stroke=\"black\" d=\"M8895.92,-192.88C8905.36,-183.8 8915.7,-173.85 8925.52,-164.4\"/>\n<polygon fill=\"black\" stroke=\"black\" points=\"8928.12,-166.76 8932.89,-157.3 8923.26,-161.71 8928.12,-166.76\"/>\n</g>\n<!-- 163 -->\n<g id=\"node164\" class=\"node\">\n<title>163</title>\n<polygon fill=\"none\" stroke=\"black\" points=\"8724,-53 8599,-53 8599,0 8724,0 8724,-53\"/>\n<text text-anchor=\"middle\" x=\"8661.5\" y=\"-37.8\" font-family=\"Helvetica,sans-Serif\" font-size=\"14.00\">entropy = 0.808</text>\n<text text-anchor=\"middle\" x=\"8661.5\" y=\"-22.8\" font-family=\"Helvetica,sans-Serif\" font-size=\"14.00\">samples = 755</text>\n<text text-anchor=\"middle\" x=\"8661.5\" y=\"-7.8\" font-family=\"Helvetica,sans-Serif\" font-size=\"14.00\">value = [187, 568]</text>\n</g>\n<!-- 162&#45;&gt;163 -->\n<g id=\"edge163\" class=\"edge\">\n<title>162&#45;&gt;163</title>\n<path fill=\"none\" stroke=\"black\" d=\"M8722.62,-88.95C8713.43,-79.71 8703.45,-69.67 8694.26,-60.44\"/>\n<polygon fill=\"black\" stroke=\"black\" points=\"8696.63,-57.86 8687.1,-53.24 8691.67,-62.79 8696.63,-57.86\"/>\n</g>\n<!-- 164 -->\n<g id=\"node165\" class=\"node\">\n<title>164</title>\n<polygon fill=\"none\" stroke=\"black\" points=\"8853,-53 8742,-53 8742,0 8853,0 8853,-53\"/>\n<text text-anchor=\"middle\" x=\"8797.5\" y=\"-37.8\" font-family=\"Helvetica,sans-Serif\" font-size=\"14.00\">entropy = 0.961</text>\n<text text-anchor=\"middle\" x=\"8797.5\" y=\"-22.8\" font-family=\"Helvetica,sans-Serif\" font-size=\"14.00\">samples = 112</text>\n<text text-anchor=\"middle\" x=\"8797.5\" y=\"-7.8\" font-family=\"Helvetica,sans-Serif\" font-size=\"14.00\">value = [69, 43]</text>\n</g>\n<!-- 162&#45;&gt;164 -->\n<g id=\"edge164\" class=\"edge\">\n<title>162&#45;&gt;164</title>\n<path fill=\"none\" stroke=\"black\" d=\"M8770.19,-88.95C8773.97,-80.44 8778.05,-71.26 8781.88,-62.65\"/>\n<polygon fill=\"black\" stroke=\"black\" points=\"8785.2,-63.8 8786.06,-53.24 8778.8,-60.95 8785.2,-63.8\"/>\n</g>\n<!-- 166 -->\n<g id=\"node167\" class=\"node\">\n<title>166</title>\n<polygon fill=\"none\" stroke=\"black\" points=\"8982,-53 8871,-53 8871,0 8982,0 8982,-53\"/>\n<text text-anchor=\"middle\" x=\"8926.5\" y=\"-37.8\" font-family=\"Helvetica,sans-Serif\" font-size=\"14.00\">entropy = 0.709</text>\n<text text-anchor=\"middle\" x=\"8926.5\" y=\"-22.8\" font-family=\"Helvetica,sans-Serif\" font-size=\"14.00\">samples = 31</text>\n<text text-anchor=\"middle\" x=\"8926.5\" y=\"-7.8\" font-family=\"Helvetica,sans-Serif\" font-size=\"14.00\">value = [25, 6]</text>\n</g>\n<!-- 165&#45;&gt;166 -->\n<g id=\"edge166\" class=\"edge\">\n<title>165&#45;&gt;166</title>\n<path fill=\"none\" stroke=\"black\" d=\"M8953.16,-88.95C8949.47,-80.44 8945.48,-71.26 8941.75,-62.65\"/>\n<polygon fill=\"black\" stroke=\"black\" points=\"8944.86,-61.02 8937.67,-53.24 8938.44,-63.8 8944.86,-61.02\"/>\n</g>\n<!-- 167 -->\n<g id=\"node168\" class=\"node\">\n<title>167</title>\n<polygon fill=\"none\" stroke=\"black\" points=\"9111,-53 9000,-53 9000,0 9111,0 9111,-53\"/>\n<text text-anchor=\"middle\" x=\"9055.5\" y=\"-37.8\" font-family=\"Helvetica,sans-Serif\" font-size=\"14.00\">entropy = 0.989</text>\n<text text-anchor=\"middle\" x=\"9055.5\" y=\"-22.8\" font-family=\"Helvetica,sans-Serif\" font-size=\"14.00\">samples = 96</text>\n<text text-anchor=\"middle\" x=\"9055.5\" y=\"-7.8\" font-family=\"Helvetica,sans-Serif\" font-size=\"14.00\">value = [54, 42]</text>\n</g>\n<!-- 165&#45;&gt;167 -->\n<g id=\"edge167\" class=\"edge\">\n<title>165&#45;&gt;167</title>\n<path fill=\"none\" stroke=\"black\" d=\"M8998.28,-88.95C9006.8,-79.8 9016.04,-69.87 9024.57,-60.71\"/>\n<polygon fill=\"black\" stroke=\"black\" points=\"9027.28,-62.94 9031.53,-53.24 9022.16,-58.17 9027.28,-62.94\"/>\n</g>\n<!-- 169 -->\n<g id=\"node170\" class=\"node\">\n<title>169</title>\n<polygon fill=\"none\" stroke=\"black\" points=\"9471.5,-261 9301.5,-261 9301.5,-193 9471.5,-193 9471.5,-261\"/>\n<text text-anchor=\"middle\" x=\"9386.5\" y=\"-245.8\" font-family=\"Helvetica,sans-Serif\" font-size=\"14.00\">CuentaMensual &lt;= 98.85</text>\n<text text-anchor=\"middle\" x=\"9386.5\" y=\"-230.8\" font-family=\"Helvetica,sans-Serif\" font-size=\"14.00\">entropy = 0.988</text>\n<text text-anchor=\"middle\" x=\"9386.5\" y=\"-215.8\" font-family=\"Helvetica,sans-Serif\" font-size=\"14.00\">samples = 124</text>\n<text text-anchor=\"middle\" x=\"9386.5\" y=\"-200.8\" font-family=\"Helvetica,sans-Serif\" font-size=\"14.00\">value = [70, 54]</text>\n</g>\n<!-- 168&#45;&gt;169 -->\n<g id=\"edge169\" class=\"edge\">\n<title>168&#45;&gt;169</title>\n<path fill=\"none\" stroke=\"black\" d=\"M9386.5,-296.88C9386.5,-288.78 9386.5,-279.98 9386.5,-271.47\"/>\n<polygon fill=\"black\" stroke=\"black\" points=\"9390,-271.3 9386.5,-261.3 9383,-271.3 9390,-271.3\"/>\n</g>\n<!-- 176 -->\n<g id=\"node177\" class=\"node\">\n<title>176</title>\n<polygon fill=\"none\" stroke=\"black\" points=\"9826,-261 9563,-261 9563,-193 9826,-193 9826,-261\"/>\n<text text-anchor=\"middle\" x=\"9694.5\" y=\"-245.8\" font-family=\"Helvetica,sans-Serif\" font-size=\"14.00\">FormaDePago_DebitoAutomatico &lt;= 0.5</text>\n<text text-anchor=\"middle\" x=\"9694.5\" y=\"-230.8\" font-family=\"Helvetica,sans-Serif\" font-size=\"14.00\">entropy = 0.592</text>\n<text text-anchor=\"middle\" x=\"9694.5\" y=\"-215.8\" font-family=\"Helvetica,sans-Serif\" font-size=\"14.00\">samples = 56</text>\n<text text-anchor=\"middle\" x=\"9694.5\" y=\"-200.8\" font-family=\"Helvetica,sans-Serif\" font-size=\"14.00\">value = [48, 8]</text>\n</g>\n<!-- 168&#45;&gt;176 -->\n<g id=\"edge176\" class=\"edge\">\n<title>168&#45;&gt;176</title>\n<path fill=\"none\" stroke=\"black\" d=\"M9474.76,-300.77C9509.19,-289.37 9549.02,-276.18 9585.23,-264.19\"/>\n<polygon fill=\"black\" stroke=\"black\" points=\"9586.46,-267.47 9594.85,-261 9584.26,-260.82 9586.46,-267.47\"/>\n</g>\n<!-- 170 -->\n<g id=\"node171\" class=\"node\">\n<title>170</title>\n<polygon fill=\"none\" stroke=\"black\" points=\"9355,-157 9242,-157 9242,-89 9355,-89 9355,-157\"/>\n<text text-anchor=\"middle\" x=\"9298.5\" y=\"-141.8\" font-family=\"Helvetica,sans-Serif\" font-size=\"14.00\">Conyuge &lt;= 0.5</text>\n<text text-anchor=\"middle\" x=\"9298.5\" y=\"-126.8\" font-family=\"Helvetica,sans-Serif\" font-size=\"14.00\">entropy = 0.887</text>\n<text text-anchor=\"middle\" x=\"9298.5\" y=\"-111.8\" font-family=\"Helvetica,sans-Serif\" font-size=\"14.00\">samples = 69</text>\n<text text-anchor=\"middle\" x=\"9298.5\" y=\"-96.8\" font-family=\"Helvetica,sans-Serif\" font-size=\"14.00\">value = [48, 21]</text>\n</g>\n<!-- 169&#45;&gt;170 -->\n<g id=\"edge170\" class=\"edge\">\n<title>169&#45;&gt;170</title>\n<path fill=\"none\" stroke=\"black\" d=\"M9357.93,-192.88C9350.24,-183.98 9341.84,-174.24 9333.84,-164.96\"/>\n<polygon fill=\"black\" stroke=\"black\" points=\"9336.41,-162.58 9327.23,-157.3 9331.11,-167.16 9336.41,-162.58\"/>\n</g>\n<!-- 173 -->\n<g id=\"node174\" class=\"node\">\n<title>173</title>\n<polygon fill=\"none\" stroke=\"black\" points=\"9537.5,-157 9373.5,-157 9373.5,-89 9537.5,-89 9537.5,-157\"/>\n<text text-anchor=\"middle\" x=\"9455.5\" y=\"-141.8\" font-family=\"Helvetica,sans-Serif\" font-size=\"14.00\">BackupOnline_Si &lt;= 0.5</text>\n<text text-anchor=\"middle\" x=\"9455.5\" y=\"-126.8\" font-family=\"Helvetica,sans-Serif\" font-size=\"14.00\">entropy = 0.971</text>\n<text text-anchor=\"middle\" x=\"9455.5\" y=\"-111.8\" font-family=\"Helvetica,sans-Serif\" font-size=\"14.00\">samples = 55</text>\n<text text-anchor=\"middle\" x=\"9455.5\" y=\"-96.8\" font-family=\"Helvetica,sans-Serif\" font-size=\"14.00\">value = [22, 33]</text>\n</g>\n<!-- 169&#45;&gt;173 -->\n<g id=\"edge173\" class=\"edge\">\n<title>169&#45;&gt;173</title>\n<path fill=\"none\" stroke=\"black\" d=\"M9408.9,-192.88C9414.75,-184.24 9421.12,-174.82 9427.23,-165.79\"/>\n<polygon fill=\"black\" stroke=\"black\" points=\"9430.27,-167.54 9432.97,-157.3 9424.47,-163.62 9430.27,-167.54\"/>\n</g>\n<!-- 171 -->\n<g id=\"node172\" class=\"node\">\n<title>171</title>\n<polygon fill=\"none\" stroke=\"black\" points=\"9240,-53 9129,-53 9129,0 9240,0 9240,-53\"/>\n<text text-anchor=\"middle\" x=\"9184.5\" y=\"-37.8\" font-family=\"Helvetica,sans-Serif\" font-size=\"14.00\">entropy = 0.984</text>\n<text text-anchor=\"middle\" x=\"9184.5\" y=\"-22.8\" font-family=\"Helvetica,sans-Serif\" font-size=\"14.00\">samples = 40</text>\n<text text-anchor=\"middle\" x=\"9184.5\" y=\"-7.8\" font-family=\"Helvetica,sans-Serif\" font-size=\"14.00\">value = [23, 17]</text>\n</g>\n<!-- 170&#45;&gt;171 -->\n<g id=\"edge171\" class=\"edge\">\n<title>170&#45;&gt;171</title>\n<path fill=\"none\" stroke=\"black\" d=\"M9258.63,-88.95C9247.26,-79.53 9234.89,-69.27 9223.57,-59.89\"/>\n<polygon fill=\"black\" stroke=\"black\" points=\"9225.48,-56.92 9215.55,-53.24 9221.01,-62.31 9225.48,-56.92\"/>\n</g>\n<!-- 172 -->\n<g id=\"node173\" class=\"node\">\n<title>172</title>\n<polygon fill=\"none\" stroke=\"black\" points=\"9369,-53 9258,-53 9258,0 9369,0 9369,-53\"/>\n<text text-anchor=\"middle\" x=\"9313.5\" y=\"-37.8\" font-family=\"Helvetica,sans-Serif\" font-size=\"14.00\">entropy = 0.579</text>\n<text text-anchor=\"middle\" x=\"9313.5\" y=\"-22.8\" font-family=\"Helvetica,sans-Serif\" font-size=\"14.00\">samples = 29</text>\n<text text-anchor=\"middle\" x=\"9313.5\" y=\"-7.8\" font-family=\"Helvetica,sans-Serif\" font-size=\"14.00\">value = [25, 4]</text>\n</g>\n<!-- 170&#45;&gt;172 -->\n<g id=\"edge172\" class=\"edge\">\n<title>170&#45;&gt;172</title>\n<path fill=\"none\" stroke=\"black\" d=\"M9303.75,-88.95C9305.07,-80.62 9306.49,-71.65 9307.83,-63.2\"/>\n<polygon fill=\"black\" stroke=\"black\" points=\"9311.3,-63.66 9309.41,-53.24 9304.39,-62.56 9311.3,-63.66\"/>\n</g>\n<!-- 174 -->\n<g id=\"node175\" class=\"node\">\n<title>174</title>\n<polygon fill=\"none\" stroke=\"black\" points=\"9491.5,-53 9387.5,-53 9387.5,0 9491.5,0 9491.5,-53\"/>\n<text text-anchor=\"middle\" x=\"9439.5\" y=\"-37.8\" font-family=\"Helvetica,sans-Serif\" font-size=\"14.00\">entropy = 0.75</text>\n<text text-anchor=\"middle\" x=\"9439.5\" y=\"-22.8\" font-family=\"Helvetica,sans-Serif\" font-size=\"14.00\">samples = 28</text>\n<text text-anchor=\"middle\" x=\"9439.5\" y=\"-7.8\" font-family=\"Helvetica,sans-Serif\" font-size=\"14.00\">value = [6, 22]</text>\n</g>\n<!-- 173&#45;&gt;174 -->\n<g id=\"edge174\" class=\"edge\">\n<title>173&#45;&gt;174</title>\n<path fill=\"none\" stroke=\"black\" d=\"M9449.9,-88.95C9448.49,-80.62 9446.98,-71.65 9445.54,-63.2\"/>\n<polygon fill=\"black\" stroke=\"black\" points=\"9448.98,-62.51 9443.86,-53.24 9442.08,-63.68 9448.98,-62.51\"/>\n</g>\n<!-- 175 -->\n<g id=\"node176\" class=\"node\">\n<title>175</title>\n<polygon fill=\"none\" stroke=\"black\" points=\"9621,-53 9510,-53 9510,0 9621,0 9621,-53\"/>\n<text text-anchor=\"middle\" x=\"9565.5\" y=\"-37.8\" font-family=\"Helvetica,sans-Serif\" font-size=\"14.00\">entropy = 0.975</text>\n<text text-anchor=\"middle\" x=\"9565.5\" y=\"-22.8\" font-family=\"Helvetica,sans-Serif\" font-size=\"14.00\">samples = 27</text>\n<text text-anchor=\"middle\" x=\"9565.5\" y=\"-7.8\" font-family=\"Helvetica,sans-Serif\" font-size=\"14.00\">value = [16, 11]</text>\n</g>\n<!-- 173&#45;&gt;175 -->\n<g id=\"edge175\" class=\"edge\">\n<title>173&#45;&gt;175</title>\n<path fill=\"none\" stroke=\"black\" d=\"M9493.97,-88.95C9504.94,-79.53 9516.88,-69.27 9527.8,-59.89\"/>\n<polygon fill=\"black\" stroke=\"black\" points=\"9530.24,-62.41 9535.54,-53.24 9525.68,-57.1 9530.24,-62.41\"/>\n</g>\n<!-- 177 -->\n<g id=\"node178\" class=\"node\">\n<title>177</title>\n<polygon fill=\"none\" stroke=\"black\" points=\"9809,-157 9580,-157 9580,-89 9809,-89 9809,-157\"/>\n<text text-anchor=\"middle\" x=\"9694.5\" y=\"-141.8\" font-family=\"Helvetica,sans-Serif\" font-size=\"14.00\">VariasLineasTelefonicas_No &lt;= 0.5</text>\n<text text-anchor=\"middle\" x=\"9694.5\" y=\"-126.8\" font-family=\"Helvetica,sans-Serif\" font-size=\"14.00\">entropy = 0.702</text>\n<text text-anchor=\"middle\" x=\"9694.5\" y=\"-111.8\" font-family=\"Helvetica,sans-Serif\" font-size=\"14.00\">samples = 42</text>\n<text text-anchor=\"middle\" x=\"9694.5\" y=\"-96.8\" font-family=\"Helvetica,sans-Serif\" font-size=\"14.00\">value = [34, 8]</text>\n</g>\n<!-- 176&#45;&gt;177 -->\n<g id=\"edge177\" class=\"edge\">\n<title>176&#45;&gt;177</title>\n<path fill=\"none\" stroke=\"black\" d=\"M9694.5,-192.88C9694.5,-184.78 9694.5,-175.98 9694.5,-167.47\"/>\n<polygon fill=\"black\" stroke=\"black\" points=\"9698,-167.3 9694.5,-157.3 9691,-167.3 9698,-167.3\"/>\n</g>\n<!-- 180 -->\n<g id=\"node181\" class=\"node\">\n<title>180</title>\n<polygon fill=\"none\" stroke=\"black\" points=\"9929.5,-149.5 9827.5,-149.5 9827.5,-96.5 9929.5,-96.5 9929.5,-149.5\"/>\n<text text-anchor=\"middle\" x=\"9878.5\" y=\"-134.3\" font-family=\"Helvetica,sans-Serif\" font-size=\"14.00\">entropy = 0.0</text>\n<text text-anchor=\"middle\" x=\"9878.5\" y=\"-119.3\" font-family=\"Helvetica,sans-Serif\" font-size=\"14.00\">samples = 14</text>\n<text text-anchor=\"middle\" x=\"9878.5\" y=\"-104.3\" font-family=\"Helvetica,sans-Serif\" font-size=\"14.00\">value = [14, 0]</text>\n</g>\n<!-- 176&#45;&gt;180 -->\n<g id=\"edge180\" class=\"edge\">\n<title>176&#45;&gt;180</title>\n<path fill=\"none\" stroke=\"black\" d=\"M9754.24,-192.88C9776.56,-180.51 9801.78,-166.53 9823.64,-154.41\"/>\n<polygon fill=\"black\" stroke=\"black\" points=\"9825.41,-157.43 9832.46,-149.52 9822.02,-151.31 9825.41,-157.43\"/>\n</g>\n<!-- 178 -->\n<g id=\"node179\" class=\"node\">\n<title>178</title>\n<polygon fill=\"none\" stroke=\"black\" points=\"9750,-53 9639,-53 9639,0 9750,0 9750,-53\"/>\n<text text-anchor=\"middle\" x=\"9694.5\" y=\"-37.8\" font-family=\"Helvetica,sans-Serif\" font-size=\"14.00\">entropy = 0.787</text>\n<text text-anchor=\"middle\" x=\"9694.5\" y=\"-22.8\" font-family=\"Helvetica,sans-Serif\" font-size=\"14.00\">samples = 34</text>\n<text text-anchor=\"middle\" x=\"9694.5\" y=\"-7.8\" font-family=\"Helvetica,sans-Serif\" font-size=\"14.00\">value = [26, 8]</text>\n</g>\n<!-- 177&#45;&gt;178 -->\n<g id=\"edge178\" class=\"edge\">\n<title>177&#45;&gt;178</title>\n<path fill=\"none\" stroke=\"black\" d=\"M9694.5,-88.95C9694.5,-80.72 9694.5,-71.85 9694.5,-63.48\"/>\n<polygon fill=\"black\" stroke=\"black\" points=\"9698,-63.24 9694.5,-53.24 9691,-63.24 9698,-63.24\"/>\n</g>\n<!-- 179 -->\n<g id=\"node180\" class=\"node\">\n<title>179</title>\n<polygon fill=\"none\" stroke=\"black\" points=\"9864.5,-53 9768.5,-53 9768.5,0 9864.5,0 9864.5,-53\"/>\n<text text-anchor=\"middle\" x=\"9816.5\" y=\"-37.8\" font-family=\"Helvetica,sans-Serif\" font-size=\"14.00\">entropy = 0.0</text>\n<text text-anchor=\"middle\" x=\"9816.5\" y=\"-22.8\" font-family=\"Helvetica,sans-Serif\" font-size=\"14.00\">samples = 8</text>\n<text text-anchor=\"middle\" x=\"9816.5\" y=\"-7.8\" font-family=\"Helvetica,sans-Serif\" font-size=\"14.00\">value = [8, 0]</text>\n</g>\n<!-- 177&#45;&gt;179 -->\n<g id=\"edge179\" class=\"edge\">\n<title>177&#45;&gt;179</title>\n<path fill=\"none\" stroke=\"black\" d=\"M9737.17,-88.95C9749.45,-79.43 9762.83,-69.07 9775.04,-59.62\"/>\n<polygon fill=\"black\" stroke=\"black\" points=\"9777.51,-62.13 9783.27,-53.24 9773.22,-56.59 9777.51,-62.13\"/>\n</g>\n</g>\n</svg>\n",
            "text/plain": [
              "<graphviz.sources.Source at 0x7bbddd3ab850>"
            ]
          },
          "metadata": {},
          "execution_count": 43
        }
      ]
    },
    {
      "cell_type": "code",
      "source": [
        "prevision_dtc = dtc.predict(X_test)"
      ],
      "metadata": {
        "id": "1jDaWoLVXqWZ"
      },
      "execution_count": 44,
      "outputs": []
    },
    {
      "cell_type": "code",
      "source": [
        "prevision_dtc"
      ],
      "metadata": {
        "colab": {
          "base_uri": "https://localhost:8080/"
        },
        "id": "8ByOZKfTXxH2",
        "outputId": "e324601f-e998-4d17-f466-0c317942ec9d"
      },
      "execution_count": 45,
      "outputs": [
        {
          "output_type": "execute_result",
          "data": {
            "text/plain": [
              "array([0, 0, 0, ..., 1, 1, 1])"
            ]
          },
          "metadata": {},
          "execution_count": 45
        }
      ]
    },
    {
      "cell_type": "markdown",
      "source": [
        "En esta aula aprendimos a:\n",
        "\n",
        "Explicar el modelo de Árbol de Decisión;\n",
        "\n",
        "Interpretar los cálculos matemáticos detrás del modelo de Árbol de Decisión;\n",
        "\n",
        "Implementar el algoritmo DecisionTreeClassifier()."
      ],
      "metadata": {
        "id": "hvPxRoJEYNpB"
      }
    },
    {
      "cell_type": "markdown",
      "source": [
        "## Aula 5"
      ],
      "metadata": {
        "id": "osnSgpP9v6jA"
      }
    },
    {
      "cell_type": "markdown",
      "source": [
        "### 5.1 Matriz de Confusión"
      ],
      "metadata": {
        "id": "9Ob2RiLLv8xp"
      }
    },
    {
      "cell_type": "markdown",
      "source": [
        "![img](https://miro.medium.com/max/799/1*XsFcyoLXNdAkbSfNGnxhEg.png)"
      ],
      "metadata": {
        "id": "7BmtcS9vxBEE"
      }
    },
    {
      "cell_type": "code",
      "source": [
        "from sklearn.metrics import confusion_matrix\n",
        "\n",
        "print(confusion_matrix(y_test, prevision_knn))"
      ],
      "metadata": {
        "id": "TncQZkafFZQm",
        "colab": {
          "base_uri": "https://localhost:8080/"
        },
        "outputId": "71408881-b9c9-444d-a9ad-425843da8d99"
      },
      "execution_count": 46,
      "outputs": [
        {
          "output_type": "stream",
          "name": "stdout",
          "text": [
            "[[1125  444]\n",
            " [ 152 1384]]\n"
          ]
        }
      ]
    },
    {
      "cell_type": "code",
      "source": [
        "print(confusion_matrix(y_test, prevision_bnb)) #matriz para bernoulli"
      ],
      "metadata": {
        "id": "1NRybdx4FZXo",
        "colab": {
          "base_uri": "https://localhost:8080/"
        },
        "outputId": "c129bd91-093e-4c24-f1a7-c2222b229757"
      },
      "execution_count": 47,
      "outputs": [
        {
          "output_type": "stream",
          "name": "stdout",
          "text": [
            "[[1075  494]\n",
            " [ 233 1303]]\n"
          ]
        }
      ]
    },
    {
      "cell_type": "code",
      "source": [
        "print(confusion_matrix(y_test, prevision_dtc)) #matriz para arbol de decision"
      ],
      "metadata": {
        "id": "oC0EBl6RFZgm",
        "colab": {
          "base_uri": "https://localhost:8080/"
        },
        "outputId": "117e9f32-5571-40c1-8748-d72d0c3ee8fa"
      },
      "execution_count": 48,
      "outputs": [
        {
          "output_type": "stream",
          "name": "stdout",
          "text": [
            "[[1262  307]\n",
            " [ 293 1243]]\n"
          ]
        }
      ]
    },
    {
      "cell_type": "markdown",
      "source": [
        "### 5.2 Exactitud\n",
        "\n",
        "> A partir del cálculo de la matriz de confusión logramos inferir otras métricas, como por ejemplo la exactitud.\n",
        "\n",
        "$exactitud$ = ${TP + TN \\over TP + FP + TN + FN}$"
      ],
      "metadata": {
        "id": "Hbmc8xQLwHqc"
      }
    },
    {
      "cell_type": "code",
      "source": [
        "from sklearn.metrics import accuracy_score\n",
        "\n",
        "\n",
        "print(accuracy_score(y_test, prevision_knn))"
      ],
      "metadata": {
        "id": "ux8F5bjpFV32",
        "colab": {
          "base_uri": "https://localhost:8080/"
        },
        "outputId": "479c7282-6364-452b-82c7-7b0a1fa2bebd"
      },
      "execution_count": 49,
      "outputs": [
        {
          "output_type": "stream",
          "name": "stdout",
          "text": [
            "0.8080515297906602\n"
          ]
        }
      ]
    },
    {
      "cell_type": "code",
      "source": [
        "print(accuracy_score(y_test, prevision_bnb))"
      ],
      "metadata": {
        "id": "pqg-BduYFV6d",
        "colab": {
          "base_uri": "https://localhost:8080/"
        },
        "outputId": "c6893ff9-7108-4374-f7af-679f35cfd751"
      },
      "execution_count": 50,
      "outputs": [
        {
          "output_type": "stream",
          "name": "stdout",
          "text": [
            "0.7658615136876007\n"
          ]
        }
      ]
    },
    {
      "cell_type": "code",
      "source": [
        "print(accuracy_score(y_test, prevision_dtc))"
      ],
      "metadata": {
        "id": "_tjEPeEKFWF7",
        "colab": {
          "base_uri": "https://localhost:8080/"
        },
        "outputId": "91800855-f5d5-40fb-ea00-f0b9772416be"
      },
      "execution_count": 51,
      "outputs": [
        {
          "output_type": "stream",
          "name": "stdout",
          "text": [
            "0.8067632850241546\n"
          ]
        }
      ]
    },
    {
      "cell_type": "markdown",
      "source": [
        "### 5.3 Precisión\n",
        "\n",
        "> Otra métrica importante es la precisión, que calcula cuántas observaciones fueron clasificadas correctamente como positivas ($TP$).\n",
        "\n",
        "$precision$ = ${TP \\over TP + FP}$"
      ],
      "metadata": {
        "id": "7i0kFprGwM_N"
      }
    },
    {
      "cell_type": "code",
      "source": [
        "from sklearn.metrics import precision_score\n",
        "\n",
        "\n",
        "print(precision_score(y_test, prevision_knn))"
      ],
      "metadata": {
        "id": "jXv54wptFTRV",
        "colab": {
          "base_uri": "https://localhost:8080/"
        },
        "outputId": "f75ac7dc-b3ef-4819-9ef1-0a9622ca04f0"
      },
      "execution_count": 52,
      "outputs": [
        {
          "output_type": "stream",
          "name": "stdout",
          "text": [
            "0.7571115973741794\n"
          ]
        }
      ]
    },
    {
      "cell_type": "code",
      "source": [
        "print(precision_score(y_test, prevision_bnb))"
      ],
      "metadata": {
        "id": "IuLFOMtqFTX-",
        "colab": {
          "base_uri": "https://localhost:8080/"
        },
        "outputId": "630d1750-2e19-464d-9251-d64497ee35ce"
      },
      "execution_count": 53,
      "outputs": [
        {
          "output_type": "stream",
          "name": "stdout",
          "text": [
            "0.7250973845297718\n"
          ]
        }
      ]
    },
    {
      "cell_type": "code",
      "source": [
        "print(precision_score(y_test, prevision_dtc))\n",
        "#el mejor modelo es el arbol de decision debido a la matriz de confusion y la disminucion del error tipo 2"
      ],
      "metadata": {
        "id": "2qw9yPObFTeT",
        "colab": {
          "base_uri": "https://localhost:8080/"
        },
        "outputId": "a5ffda36-f276-4bbe-da12-eeb8c496dad3"
      },
      "execution_count": 54,
      "outputs": [
        {
          "output_type": "stream",
          "name": "stdout",
          "text": [
            "0.8019354838709677\n"
          ]
        }
      ]
    },
    {
      "cell_type": "markdown",
      "source": [
        "### 5.4 Recall\n",
        "\n",
        "> Además, existe una métrica conocida como Recall o sensibilidad, que calcula qué tan bien el modelo clasifica correctamente un resultado positivo ($TP$).\n",
        "\n",
        "$recall$ = ${TP \\over TP + FN}$\n"
      ],
      "metadata": {
        "id": "Ey1SvcbhwR3d"
      }
    },
    {
      "cell_type": "code",
      "source": [
        "from sklearn.metrics import recall_score\n",
        "\n",
        "\n",
        "print(recall_score(y_test,prevision_knn))"
      ],
      "metadata": {
        "id": "DAiJW2xPFQ5Q",
        "colab": {
          "base_uri": "https://localhost:8080/"
        },
        "outputId": "fc324cd5-94da-49f7-ee79-4f962a4c8784"
      },
      "execution_count": 55,
      "outputs": [
        {
          "output_type": "stream",
          "name": "stdout",
          "text": [
            "0.9010416666666666\n"
          ]
        }
      ]
    },
    {
      "cell_type": "code",
      "source": [
        "print(recall_score(y_test,prevision_bnb))"
      ],
      "metadata": {
        "id": "FsJkc4DTFRHl",
        "colab": {
          "base_uri": "https://localhost:8080/"
        },
        "outputId": "2f71588d-27eb-4a5f-ded0-3dc7ce59322b"
      },
      "execution_count": 56,
      "outputs": [
        {
          "output_type": "stream",
          "name": "stdout",
          "text": [
            "0.8483072916666666\n"
          ]
        }
      ]
    },
    {
      "cell_type": "code",
      "source": [
        "print(recall_score(y_test,prevision_dtc))"
      ],
      "metadata": {
        "id": "r7w82FewFRPk",
        "colab": {
          "base_uri": "https://localhost:8080/"
        },
        "outputId": "8d56fad6-5327-42dd-b7f5-5888d3d10477"
      },
      "execution_count": 57,
      "outputs": [
        {
          "output_type": "stream",
          "name": "stdout",
          "text": [
            "0.8092447916666666\n"
          ]
        }
      ]
    },
    {
      "cell_type": "markdown",
      "source": [
        "En esta aula aprendimos a:\n",
        "\n",
        "Explicar cómo funciona la matriz de confusión;\n",
        "\n",
        "Diferenciar las principales métricas (exactitud, precisión y sensibilidad) para evaluar un modelo de clasificación;\n",
        "\n",
        "Comparar otras métricas que pueden ser usadas dependiendo del problema que involucre a los datos;\n",
        "\n",
        "Calcular cada una de estas métricas para el dataset;\n",
        "Seleccionar el mejor modelo para los datos."
      ],
      "metadata": {
        "id": "Q-9Z0uycBLE7"
      }
    }
  ]
}